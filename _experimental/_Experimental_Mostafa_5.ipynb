{
 "cells": [
  {
   "cell_type": "markdown",
   "metadata": {},
   "source": [
    "# THIS NOTEBOOK IS DEDICATED TO short GT and Sharp conditions\n"
   ]
  },
  {
   "cell_type": "code",
   "execution_count": 83,
   "metadata": {},
   "outputs": [
    {
     "data": {
      "text/html": [
       "<style>.container { width:90% !important; }</style>"
      ],
      "text/plain": [
       "<IPython.core.display.HTML object>"
      ]
     },
     "metadata": {},
     "output_type": "display_data"
    },
    {
     "name": "stdout",
     "output_type": "stream",
     "text": [
      "Done\n"
     ]
    }
   ],
   "source": [
    "import os\n",
    "import glob\n",
    "import numpy as np\n",
    "from platform import system as OS\n",
    "import pandas as pd\n",
    "import scipy.stats\n",
    "import math\n",
    "import datetime\n",
    "from copy import deepcopy\n",
    "from IPython.display import clear_output, display, HTML, Image\n",
    "import matplotlib.cm as cm\n",
    "import warnings\n",
    "import types\n",
    "warnings.filterwarnings(\"ignore\")\n",
    "import sys, time\n",
    "import pickle\n",
    "import matplotlib.pyplot as plt\n",
    "from scipy import stats\n",
    "from matplotlib import mlab\n",
    "from mpl_toolkits.mplot3d import Axes3D\n",
    "import matplotlib.animation as animation\n",
    "from pylab import *\n",
    "import matplotlib.backends.backend_pdf\n",
    "from sklearn.decomposition import KernelPCA\n",
    "\n",
    "ThisNoteBookPath=os.path.dirname(os.path.realpath(\"__file__\"))\n",
    "CommonNoteBookesPath=os.path.join(os.path.split(ThisNoteBookPath)[0],\"load_preprocess_rat\")\n",
    "CWD=os.getcwd()\n",
    "os.chdir(CommonNoteBookesPath)\n",
    "root='/data'\n",
    "%run UtilityTools.ipynb\n",
    "%run Animal_Tags.ipynb\n",
    "%run Lesion_Size.ipynb\n",
    "%run BatchRatBehavior.ipynb\n",
    "%run plotRat_documentation_3_KinematicsInvestigation.ipynb\n",
    "%run plotRat_documentation_1_GeneralBehavior.ipynb\n",
    "%run loadRat_documentation.ipynb\n",
    "%run RunBatchRat_3_CompareGroups.ipynb\n",
    "os.chdir(CWD)\n",
    "\n",
    "param={\n",
    "    \"binSize\":0.25,\n",
    "    \"trialOffset\":20., #max end of trial, in seconds (position will be cutted)\n",
    "    \"sigmaSmoothPosition\":0.1,  #smooth the position\n",
    "    #\"sigmaSmoothPosition\":0.33 for pavel dataType\n",
    "    \"sigmaSmoothSpeed\":0.3, #smooth the speed\n",
    "    \"positionDiffRange\": [2.,5.], #min and max differences allowed between two consecutive positions\n",
    "                                  #min to correct start, max to correct jumps\n",
    "    \"pawFrequencyRange\":[2.,10.],\n",
    "    \"startAnalysisParams\":[10,0.2,0.5],\n",
    "    \"cameraToTreadmillDelay\":2., #seconds, usual time between camera start and treadmill start\n",
    "    \"nbJumpMax\" : 100., #if jumps>nbJumpMax, trial is badly tracked\n",
    "    \n",
    "    \n",
    "    #parameter to detect end of trial (first position minima)\n",
    "    \"endTrial_backPos\":55,  # minima is after the animal went once to the back (after first time position>backPos)\n",
    "    \"endTrial_frontPos\":30, # minima's position is in front of treadmill (position[end]<frontPos)\n",
    "    \"endTrial_minTimeSec\":4, # minima is after minTimeSec seconds (time[end]>minTimeSec)\n",
    "    }\n",
    "Y1,Y2=(0,90)\n",
    "print('Done')"
   ]
  },
  {
   "cell_type": "code",
   "execution_count": 2,
   "metadata": {},
   "outputs": [],
   "source": [
    "class TwoTailPermTest:\n",
    "    \"\"\"\n",
    "    Permutation test as to whether there is significant difference between group one and two.\n",
    "    \n",
    "    group1, group2: Represent the data. they could be either one dimentional (several realizations)\n",
    "        or 2-D (several realizaions through out the time/space/... course)\n",
    "        EX: x.shape==(15,500) means 15 trials/samples over 500 time bins\n",
    "\n",
    "    nIterations: Number of iterations used to shuffle. max(iterN)=(len(x)+len(y))!/len(x)!len(y)!\n",
    "\n",
    "    initGlobConfInterval:\n",
    "        Initial value for the global confidence band.\n",
    "\n",
    "    sigma: the standard deviation of the gaussian kernel used for smoothing when there are multiple data points,\n",
    "        based on the Fujisawa 2008 paper, default value: 0.05\n",
    "\n",
    "    Outputs:\n",
    "        pVal: P-values\n",
    "        highBand, lowBand: AKA boundary. Represents global bands.\n",
    "        significantDiff: An array of True or False, indicating whether there is a difference.\n",
    "    \n",
    "    \"\"\"  \n",
    "    def __init__(self, group1, group2, nIterations=1000, initGlobConfInterval=5, smoothSigma=0.05):\n",
    "        self.group1, self.group2 = group1, group2\n",
    "        self.nIterations, self.smoothSigma = nIterations, smoothSigma\n",
    "        self.initGlobConfInterval = initGlobConfInterval\n",
    "\n",
    "        self.checkGroups()\n",
    "\n",
    "        # origGroupDiff is also known as D0 in the definition of permutation test.\n",
    "        self.origGroupDiff = self.computeGroupDiff(group1, group2)\n",
    "\n",
    "        # Generate surrogate groups, compute difference of mean for each group, and put in a matrix.\n",
    "        self.diffSurGroups = self.setDiffSurrGroups()\n",
    "\n",
    "        # Set statistics\n",
    "        self.pVal = self.setPVal()\n",
    "        self.highBand, self.lowBand = self.setBands()\n",
    "        self.significantDiff = self.setSignificantGroup()\n",
    "\n",
    "    def checkGroups(self):\n",
    "        # input check\n",
    "        if not isinstance(self.group1, np.ndarray) or not isinstance(self.group2, np.ndarray):\n",
    "            raise ValueError(\"In permutation test, \\\"group1\\\" and \\\"group2\\\" should be numpy arrays.\")\n",
    "\n",
    "        if self.group1.ndim > 2 or self.group2.ndim > 2:\n",
    "            raise ValueError('In permutation test, the groups must be either vectors or matrices.')\n",
    "\n",
    "        elif self.group1.ndim == 1 or self.group2.ndim == 1:\n",
    "            self.group1 = np.reshape(self.group1, (len(self.group1), 1))\n",
    "            self.group2 = np.reshape(self.group2, (len(self.group2), 1))\n",
    "\n",
    "    def computeGroupDiff(self, group1, group2):\n",
    "        meanDiff = np.nanmean(group1, axis=0) - np.nanmean(group2, axis=0)\n",
    "        \n",
    "        if len(self.group1[0]) == 1 and len(self.group2[0]) == 1:\n",
    "            return [meanDiff]\n",
    "        \n",
    "        return smooth(meanDiff, sigma=self.smoothSigma, order=0, \n",
    "                    mode='constant', cval=0, truncate=4.0)\n",
    "\n",
    "    def setDiffSurrGroups(self):\n",
    "        # shuffling the data\n",
    "        self.concatenatedData = np.concatenate((self.group1,  self.group2), axis=0)\n",
    "        \n",
    "        diffSurrGroups = np.zeros((self.nIterations, self.group1.shape[1]))\n",
    "        for iteration in range(self.nIterations):\n",
    "             # Generate surrogate groups\n",
    "            surrGroup1, surrGroup2 = self.generateSurrGroup()\n",
    "            \n",
    "            # Compute the difference between mean of surrogate groups\n",
    "            surrGroupDiff = self.computeSurrGroupDiff(surrGroup1, surrGroup2) \n",
    "            \n",
    "            # Store individual differences in a matrix.\n",
    "            diffSurrGroups[iteration, :] = surrGroupDiff\n",
    "\n",
    "        return diffSurrGroups\n",
    "\n",
    "    def generateSurrGroup(self):\n",
    "        # Shuffle every column.\n",
    "        np.random.shuffle(self.concatenatedData)  \n",
    "\n",
    "         # Return surrogate groups of same size.            \n",
    "        return self.concatenatedData[: self.group1.shape[0], :], self.concatenatedData[self.group1.shape[0]:, :]\n",
    "\n",
    "    def computeSurrGroupDiff(self, surrGroup1, surrGroup2):\n",
    "        return self.computeGroupDiff(surrGroup1, surrGroup2)\n",
    "  \n",
    "    def setPVal(self):\n",
    "        positivePVals = np.sum(1*(self.diffSurGroups > self.origGroupDiff), axis=0) / self.nIterations\n",
    "        negativePVals = np.sum(1*(self.diffSurGroups < self.origGroupDiff), axis=0) / self.nIterations\n",
    "        return np.array([np.min([1, 2*pPos, 2*pNeg]) for pPos, pNeg in zip(positivePVals, negativePVals)])\n",
    "\n",
    "    def setBands(self):\n",
    "        if len(self.origGroupDiff) < 2:  # single point comparison\n",
    "            return None, None\n",
    "        \n",
    "        alpha = 100 # Global alpha value\n",
    "        highGlobCI = self.initGlobConfInterval  # global confidance interval\n",
    "        lowGlobCI = self.initGlobConfInterval  # global confidance interval\n",
    "        while alpha >= 5:\n",
    "            highBand = np.percentile(a=self.diffSurGroups, q=100-highGlobCI, axis=0)\n",
    "            lowBand = np.percentile(a=self.diffSurGroups, q=lowGlobCI, axis=0)\n",
    "            \n",
    "            breaksPositive = np.sum(\n",
    "                [np.sum(self.diffSurGroups[i, :] > highBand) > 1 for i in range(self.nIterations)]) \n",
    "            \n",
    "            breaksNegative = np.sum(\n",
    "                [np.sum(self.diffSurGroups[i, :] < lowBand) > 1 for i in range(self.nIterations)])\n",
    "            \n",
    "            alpha = ((breaksPositive + breaksNegative) / self.nIterations) * 100\n",
    "            highGlobCI = 0.95 * highGlobCI\n",
    "            lowGlobCI = 0.95 * lowGlobCI\n",
    "        return highBand, lowBand           \n",
    "\n",
    "    def setSignificantGroup(self):\n",
    "        if len(self.origGroupDiff) < 2:  # single point comparison\n",
    "            return self.pVal <= 0.05\n",
    "\n",
    "        # finding significant bins\n",
    "        globalSig = np.logical_or(self.origGroupDiff > self.highBand, self.origGroupDiff < self.lowBand)\n",
    "        pairwiseSig = np.logical_or(self.origGroupDiff > self.setPairwiseHighBand(), self.origGroupDiff < self.setPairwiseLowBand())\n",
    "        \n",
    "        significantGroup = globalSig.copy()\n",
    "        lastIndex = 0\n",
    "        for currentIndex in range(len(pairwiseSig)):\n",
    "            if (globalSig[currentIndex] == True):\n",
    "                lastIndex = self.setNeighborsToTrue(significantGroup, pairwiseSig, currentIndex, lastIndex)\n",
    "\n",
    "        return significantGroup\n",
    "    \n",
    "    def setPairwiseHighBand(self):        \n",
    "        return np.percentile(a=self.diffSurGroups, q=100 - self.initGlobConfInterval, axis=0)\n",
    "\n",
    "    def setPairwiseLowBand(self):        \n",
    "        return np.percentile(a=self.diffSurGroups, q=self.initGlobConfInterval, axis=0)\n",
    "\n",
    "\n",
    "    def setNeighborsToTrue(self, significantGroup, pairwiseSig, currentIndex, previousIndex):\n",
    "        \"\"\"\n",
    "            While the neighbors of a global point pass the local band (consecutively), set the global band to true.\n",
    "            Returns the last index which was set to True.\n",
    "        \"\"\" \n",
    "        if (currentIndex < previousIndex):\n",
    "            return previousIndex\n",
    "        \n",
    "        for index in range(currentIndex, previousIndex, -1):\n",
    "            if (pairwiseSig[index] == True):\n",
    "                significantGroup[index] = True\n",
    "            else:\n",
    "                break\n",
    "\n",
    "        previousIndex = currentIndex\n",
    "        for index in range(currentIndex + 1, len(significantGroup)):\n",
    "            previousIndex = index\n",
    "            if (pairwiseSig[index] == True):\n",
    "                significantGroup[index] = True\n",
    "            else:\n",
    "                break\n",
    "        \n",
    "        return previousIndex\n",
    "    \n",
    "    def plotSignificant(self,ax: plt.Axes.axes,y: float,x=None,**kwargs):\n",
    "        if x is None:\n",
    "            x=np.arange(0,len(self.significantDiff))+1\n",
    "        for x0,x1,p in zip(x[:-1],x[1:],self.significantDiff):\n",
    "            if p:\n",
    "                ax.plot([x0,x1],[y,y],zorder=-2,**kwargs)\n",
    "        "
   ]
  },
  {
   "cell_type": "code",
   "execution_count": 3,
   "metadata": {},
   "outputs": [],
   "source": [
    "def plot_session_median_trajectory(data,ax, **kwargs):\n",
    "    posDict=data.position\n",
    "    maxL=np.nanmax(list(data.stopFrame.values()))\n",
    "    maxL=int(maxL)\n",
    "    position=np.ones((maxL,len(posDict.keys())))*np.nan\n",
    "    time=np.arange(-data.cameraToTreadmillDelay,\n",
    "                   (maxL-data.cameraSamplingRate)/data.cameraSamplingRate,\n",
    "                   1/data.cameraSamplingRate)\n",
    "    \n",
    "    \n",
    "    for i,trial in enumerate(posDict):\n",
    "        pos=posDict[trial][:data.stopFrame[trial]]\n",
    "        position[:len(pos),i]=pos\n",
    "    \n",
    "    #keeping data where 70% of points exist\n",
    "    nanSum=np.sum(np.isnan(position),axis=1)\n",
    "    try:\n",
    "        maxTraj=np.where(nanSum>.3*position.shape[1])[0][0]\n",
    "    except IndexError:\n",
    "        maxTraj=position.shape[1]\n",
    "    \n",
    "    \n",
    "    ax.plot(time[:maxTraj], np.nanmedian(position,axis=1)[:maxTraj], lw=.5, **kwargs)    \n",
    "\n",
    "    ax.set_ylabel(\"Position (cm)\")\n",
    "    ax.set_xlabel(\"Time (s) relative to camera start\")\n",
    "    \n",
    "    return position\n",
    "    \n",
    "\n",
    "def plot_median_trajectory(root, ax, profile, animalList, sessionIdx,colors):\n",
    "    \n",
    "    for i,animal in enumerate(animalList):\n",
    "        session=batch_get_session_list(root, animalList=[animal], profile=profile)['Sessions'][sessionIdx]\n",
    "\n",
    "        data=Data(root,session[:6],session,\n",
    "                  param=param,redoPreprocess=False, saveAsPickle=False);\n",
    "        data.position_correction()\n",
    "\n",
    "        plot_session_median_trajectory(data,ax,color=colors[i],label=animal)\n",
    "\n",
    "    ax.set_title(f'Session #{sessionIdx+1}',pad=0,fontsize='small')\n",
    "    ax.set_ylim([Y1,Y2])\n",
    "    ax.set_yticks([Y1,Y2/2,Y2])\n",
    "    ax.set_yticklabels([Y1,'',Y2])\n",
    "    ax.set_xlim([-1,8])\n",
    "    ax.set_xticks([0,7])\n",
    "    ax.spines['top'].set_visible(False)\n",
    "    ax.spines['right'].set_visible(False)\n",
    "    ax.spines['bottom'].set_bounds(0,7)\n",
    "    ax.set_xlabel('Trial time (s)')\n",
    "    ax.set_ylabel('Position (cm)')\n",
    "    ax.spines['left'].set_bounds(Y1,Y2)\n",
    "        \n",
    "    return\n",
    "def get_ordered_colors(colormap, n):\n",
    "    colors = []\n",
    "    cmap = plt.cm.get_cmap(colormap)\n",
    "    for colorVal in np.linspace(0, 1, n):\n",
    "        colors.append(cmap(colorVal))\n",
    "    return colors"
   ]
  },
  {
   "cell_type": "code",
   "execution_count": 38,
   "metadata": {},
   "outputs": [
    {
     "name": "stdout",
     "output_type": "stream",
     "text": [
      "['Rat077', 'Rat078', 'Rat084', 'Rat085', 'Rat088', 'Rat091', 'Rat095', 'Rat096', 'Rat098', 'Rat103', 'Rat104', 'Rat110', 'Rat113', 'Rat120', 'Rat137', 'Rat138', 'Rat139', 'Rat140', 'Rat149', 'Rat150', 'Rat151', 'Rat152', 'Rat161', 'Rat162', 'Rat163', 'Rat164', 'Rat165', 'Rat166', 'Rat215', 'Rat216', 'Rat217', 'Rat218', 'Rat219', 'Rat220', 'Rat221', 'Rat222', 'Rat223', 'Rat224', 'Rat225', 'Rat226', 'Rat227', 'Rat228', 'Rat229', 'Rat230', 'Rat231', 'Rat232', 'Rat246', 'Rat247', 'Rat248', 'Rat249', 'Rat250', 'Rat251', 'Rat252', 'Rat253', 'Rat254', 'Rat255', 'Rat256', 'Rat257', 'Rat258', 'Rat259', 'Rat260', 'Rat261', 'Rat262', 'Rat263', 'Rat264', 'Rat265', 'Rat297', 'Rat298', 'Rat299', 'Rat300', 'Rat305', 'Rat306', 'Rat307', 'Rat308']\n"
     ]
    }
   ],
   "source": [
    "profileC={'Type':'Good',\n",
    "         'rewardType':'Progressive',\n",
    "         'initialSpeed':['10'],\n",
    "         'Speed':'10',\n",
    "         'Tag':['Control']\n",
    "         }\n",
    "animalListC=batch_get_animal_list(root,profile)\n",
    "print(animalList)\n",
    "\n"
   ]
  },
  {
   "cell_type": "code",
   "execution_count": 39,
   "metadata": {},
   "outputs": [
    {
     "name": "stdout",
     "output_type": "stream",
     "text": [
      "['Rat077', 'Rat078', 'Rat084', 'Rat085', 'Rat088', 'Rat091', 'Rat095', 'Rat096', 'Rat098', 'Rat103', 'Rat104', 'Rat110', 'Rat113', 'Rat120', 'Rat137', 'Rat138', 'Rat139', 'Rat140', 'Rat149', 'Rat150', 'Rat151', 'Rat152', 'Rat161', 'Rat162', 'Rat163', 'Rat164', 'Rat165', 'Rat166', 'Rat215', 'Rat216', 'Rat217', 'Rat218', 'Rat219', 'Rat220', 'Rat221', 'Rat222', 'Rat223', 'Rat224', 'Rat225', 'Rat226', 'Rat227', 'Rat228', 'Rat229', 'Rat230', 'Rat231', 'Rat232', 'Rat246', 'Rat247', 'Rat248', 'Rat249', 'Rat250', 'Rat251', 'Rat252', 'Rat253', 'Rat254', 'Rat255', 'Rat256', 'Rat257', 'Rat258', 'Rat259', 'Rat260', 'Rat261', 'Rat262', 'Rat263', 'Rat264', 'Rat265', 'Rat297', 'Rat298', 'Rat299', 'Rat300', 'Rat305', 'Rat306', 'Rat307', 'Rat308']\n"
     ]
    }
   ],
   "source": [
    "profile={'Type':'Good',\n",
    "         'rewardType':'Progressive',\n",
    "         'initialSpeed':['10'],\n",
    "         'Speed':'10',\n",
    "         'Tag':['ShortGT']\n",
    "         }\n",
    "# animalList=batch_get_animal_list(root,profile)\n",
    "print(animalList)"
   ]
  },
  {
   "cell_type": "code",
   "execution_count": 40,
   "metadata": {},
   "outputs": [],
   "source": [
    "animalList=['Rat280', 'Rat281', 'Rat282', 'Rat291', 'Rat342', 'Rat346', 'Rat350']\n",
    "PERF=['standard deviation of entrance time','mean entrance time (sec)']"
   ]
  },
  {
   "cell_type": "code",
   "execution_count": 41,
   "metadata": {},
   "outputs": [
    {
     "data": {
      "text/plain": [
       "<matplotlib.legend.Legend at 0x7fcba3386048>"
      ]
     },
     "execution_count": 41,
     "metadata": {},
     "output_type": "execute_result"
    },
    {
     "data": {
      "image/png": "[encoded data removed]",
      "text/plain": [
       "<Figure size 576x576 with 1 Axes>"
      ]
     },
     "metadata": {
      "needs_background": "light"
     },
     "output_type": "display_data"
    }
   ],
   "source": [
    "sessionIdx=19\n",
    "colors=get_ordered_colors(colormap='plasma', n=len(animalList)+1)[:-1]\n",
    "\n",
    "plt.close('all')\n",
    "fig=plt.figure(figsize=(8,8))\n",
    "ax=fig.add_subplot(111)\n",
    "\n",
    "\n",
    "\n",
    "plot_median_trajectory(root,ax, profile, animalList, sessionIdx,colors)\n",
    "ax.legend()"
   ]
  },
  {
   "cell_type": "code",
   "execution_count": 87,
   "metadata": {},
   "outputs": [],
   "source": [
    "data={}\n",
    "for animal in animalList:\n",
    "    a=data_fetch(root,animal,profile,PERF, NbSession=slice(15,None))\n",
    "    a=list(a.values())\n",
    "    data[animal]=[a[0][i]/a[1][i] for i,_ in enumerate(a[0])]"
   ]
  },
  {
   "cell_type": "code",
   "execution_count": 88,
   "metadata": {},
   "outputs": [
    {
     "data": {
      "text/plain": [
       "{'Rat280': [0.2907451953025107,\n",
       "  0.24876825165742644,\n",
       "  0.3729791639253789,\n",
       "  0.2090593171077375,\n",
       "  0.28538817478823314],\n",
       " 'Rat281': [0.30156840731097906,\n",
       "  0.26898988911953403,\n",
       "  0.27340481724316484,\n",
       "  0.285373994130452,\n",
       "  0.2830816559956511],\n",
       " 'Rat282': [0.483795891174407,\n",
       "  0.4070185625796459,\n",
       "  0.3834857019023161,\n",
       "  0.38996046309918064,\n",
       "  0.37221325790661886],\n",
       " 'Rat291': [0.36119403514299575,\n",
       "  0.30019804870723005,\n",
       "  0.305784375114624,\n",
       "  0.27677175136258503,\n",
       "  0.3368633828019691],\n",
       " 'Rat342': [0.45200815616513357,\n",
       "  0.4094159819685475,\n",
       "  0.4716901375234153,\n",
       "  0.5380088240336075,\n",
       "  0.3177742889438476,\n",
       "  0.2983454153322295,\n",
       "  0.5290801596105817],\n",
       " 'Rat346': [0.4938636779474768,\n",
       "  0.36325687261105766,\n",
       "  0.4871402520290202,\n",
       "  0.58164926230887,\n",
       "  0.36868352685287903,\n",
       "  0.3136933419525059,\n",
       "  0.37815910806496533],\n",
       " 'Rat350': [0.40403985529037034,\n",
       "  0.40328115488129196,\n",
       "  0.5103986002283053,\n",
       "  0.4444559450435144,\n",
       "  0.3880922503306207,\n",
       "  0.30178267354479477,\n",
       "  0.34599168386440765]}"
      ]
     },
     "execution_count": 88,
     "metadata": {},
     "output_type": "execute_result"
    }
   ],
   "source": [
    "data"
   ]
  },
  {
   "cell_type": "code",
   "execution_count": 44,
   "metadata": {},
   "outputs": [],
   "source": [
    "dataC={}\n",
    "for animal in animalListC:\n",
    "    a=data_fetch(root,animal,profileC,PERF, NbSession=-1)\n",
    "    a=list(a.values())\n",
    "    dataC[animal]=a[0][0]/a[1][0]"
   ]
  },
  {
   "cell_type": "code",
   "execution_count": null,
   "metadata": {},
   "outputs": [],
   "source": [
    "dataC"
   ]
  },
  {
   "cell_type": "code",
   "execution_count": 46,
   "metadata": {},
   "outputs": [],
   "source": [
    "data=np.array(list(data.values()))\n",
    "dataC=np.array(list(dataC.values()))"
   ]
  },
  {
   "cell_type": "code",
   "execution_count": 48,
   "metadata": {},
   "outputs": [],
   "source": [
    "pTest=TwoTailPermTest(group1=data, group2=dataC, nIterations=1000)"
   ]
  },
  {
   "cell_type": "code",
   "execution_count": 49,
   "metadata": {},
   "outputs": [
    {
     "data": {
      "text/plain": [
       "(array([0.008]), array([ True]))"
      ]
     },
     "execution_count": 49,
     "metadata": {},
     "output_type": "execute_result"
    }
   ],
   "source": [
    "pTest.pVal,pTest.significantDiff"
   ]
  },
  {
   "cell_type": "code",
   "execution_count": 51,
   "metadata": {},
   "outputs": [
    {
     "data": {
      "image/png": "[encoded data removed]",
      "text/plain": [
       "<Figure size 432x288 with 1 Axes>"
      ]
     },
     "metadata": {
      "needs_background": "light"
     },
     "output_type": "display_data"
    }
   ],
   "source": [
    "plt.boxplot([data,dataC]);"
   ]
  },
  {
   "cell_type": "code",
   "execution_count": null,
   "metadata": {},
   "outputs": [],
   "source": []
  },
  {
   "cell_type": "code",
   "execution_count": null,
   "metadata": {},
   "outputs": [],
   "source": []
  },
  {
   "cell_type": "code",
   "execution_count": null,
   "metadata": {},
   "outputs": [],
   "source": []
  },
  {
   "cell_type": "code",
   "execution_count": null,
   "metadata": {},
   "outputs": [],
   "source": []
  },
  {
   "cell_type": "code",
   "execution_count": null,
   "metadata": {},
   "outputs": [],
   "source": []
  },
  {
   "cell_type": "code",
   "execution_count": null,
   "metadata": {},
   "outputs": [],
   "source": []
  },
  {
   "cell_type": "code",
   "execution_count": null,
   "metadata": {},
   "outputs": [],
   "source": []
  },
  {
   "cell_type": "code",
   "execution_count": null,
   "metadata": {},
   "outputs": [],
   "source": []
  },
  {
   "cell_type": "code",
   "execution_count": null,
   "metadata": {},
   "outputs": [],
   "source": []
  },
  {
   "cell_type": "code",
   "execution_count": null,
   "metadata": {},
   "outputs": [],
   "source": []
  },
  {
   "cell_type": "code",
   "execution_count": null,
   "metadata": {},
   "outputs": [],
   "source": []
  },
  {
   "cell_type": "code",
   "execution_count": null,
   "metadata": {},
   "outputs": [],
   "source": []
  },
  {
   "cell_type": "code",
   "execution_count": null,
   "metadata": {},
   "outputs": [],
   "source": []
  },
  {
   "cell_type": "code",
   "execution_count": null,
   "metadata": {},
   "outputs": [],
   "source": []
  },
  {
   "cell_type": "code",
   "execution_count": null,
   "metadata": {},
   "outputs": [],
   "source": []
  },
  {
   "cell_type": "code",
   "execution_count": null,
   "metadata": {},
   "outputs": [],
   "source": []
  },
  {
   "cell_type": "code",
   "execution_count": null,
   "metadata": {},
   "outputs": [],
   "source": []
  },
  {
   "cell_type": "code",
   "execution_count": null,
   "metadata": {},
   "outputs": [],
   "source": []
  },
  {
   "cell_type": "code",
   "execution_count": null,
   "metadata": {},
   "outputs": [],
   "source": []
  },
  {
   "cell_type": "code",
   "execution_count": null,
   "metadata": {},
   "outputs": [],
   "source": []
  },
  {
   "cell_type": "code",
   "execution_count": null,
   "metadata": {},
   "outputs": [],
   "source": []
  },
  {
   "cell_type": "markdown",
   "metadata": {},
   "source": [
    "# code from \\_exp4 notebook"
   ]
  },
  {
   "cell_type": "markdown",
   "metadata": {},
   "source": [
    "### plotting correct trajectories aligned on detector crossing"
   ]
  },
  {
   "cell_type": "code",
   "execution_count": null,
   "metadata": {},
   "outputs": [],
   "source": [
    "profile={'Type':'Good',\n",
    "         'rewardType':'Progressive',\n",
    "         'initialSpeed':['0'],\n",
    "         'Speed':'0',\n",
    "         'Tag':['ImmobileTreadmill']\n",
    "         }\n",
    "animalList=batch_get_animal_list(root,profile)\n",
    "print(animalList)\n",
    "\n",
    "NbSession=5\n",
    "Win=2\n",
    "\n",
    "treadmillRange=[10,90]"
   ]
  },
  {
   "cell_type": "code",
   "execution_count": null,
   "metadata": {},
   "outputs": [],
   "source": [
    "# def positions(data):\n",
    "#     \"\"\"\n",
    "#     return good trajectories\n",
    "#     \"\"\"\n",
    "#     posDict=data.position\n",
    "#     time=data.rawTime #align on camera\n",
    "#     pos=[]\n",
    "#     for trial in posDict:\n",
    "#         if trial not in data.goodTrials:\n",
    "#             continue\n",
    "#         pos.append(posDict[trial])\n",
    "#     return pos\n",
    "\n",
    "def posAlignEnd(data):\n",
    "    \"\"\"\n",
    "    return good trajectories\n",
    "    \"\"\"\n",
    "    posDict=data.position\n",
    "    time=data.rawTime #align on camera\n",
    "    pos=[]\n",
    "    for trial in posDict:\n",
    "        if trial not in data.goodTrials:\n",
    "            continue\n",
    "        et=data.entranceTime[trial]\n",
    "        fs=data.cameraSamplingRate\n",
    "        delay=data.cameraToTreadmillDelay\n",
    "        assert et>=7,\"Fuck!!!\"\n",
    "        th=int((et+delay)*fs)\n",
    "        pos.append(posDict[trial][th-int(Win*fs):th])\n",
    "    return pos\n",
    "\n",
    "pos={}\n",
    "for animal in animalList:\n",
    "    data=data_fetch(root,animal,profile,[posAlignEnd], NbSession=NbSession)\n",
    "    pos[animal]=[position for session in data[posAlignEnd.__name__] for position in session]"
   ]
  },
  {
   "cell_type": "code",
   "execution_count": null,
   "metadata": {},
   "outputs": [],
   "source": [
    "axes=plt.subplots(len(animalList),1,figsize=(10,50))\n",
    "\n",
    "for i,animal in enumerate(animalList):\n",
    "    data=np.array(pos[animal]).T\n",
    "    t=np.linspace(-Win,0,data.shape[0])\n",
    "    axes[1][i].plot(t,data,color='k',linewidth=1,alpha=.5)\n",
    "    histT0,bins0=np.histogram(data[0,:],20,range=(treadmillRange[0],treadmillRange[1]), density=True)\n",
    "    histT1,bins1=np.histogram(data[-1,:],20,range=(treadmillRange[0],treadmillRange[1]), density=True)\n",
    "    axes[1][i].barh(bins0[:-1],histT0*5,height=np.diff(bins0)[0],align='edge',left=-Win,color='g')\n",
    "    axes[1][i].barh(bins1[:-1],-histT1*5,height=np.diff(bins1)[0],align='edge',left=0,color='r')\n",
    "    \n",
    "    axes[1][i].set_xlim([-Win,0])\n",
    "    axes[1][i].set_title(animal)\n",
    "    Nticks=len(axes[1][i].get_xticks())\n",
    "    axes[1][i].set_xticklabels(np.linspace(-Win,0,Nticks))\n",
    "    axes[1][i].set_ylabel('Position(cm)')\n",
    "\n",
    "#     axes[1][i].spines['left'].set_position(('data',-.5))\n",
    "#     axes[1][i].spines['right'].set_position(('data',Win+.5))\n",
    "\n",
    "axes[1][i].set_xlabel('Time to cross the photodetector (s)');"
   ]
  },
  {
   "cell_type": "markdown",
   "metadata": {},
   "source": [
    "## distribution of entrance times"
   ]
  },
  {
   "cell_type": "code",
   "execution_count": null,
   "metadata": {},
   "outputs": [],
   "source": [
    "profile={'Type':'Good',\n",
    "         'rewardType':'Progressive',\n",
    "         'initialSpeed':['0'],\n",
    "         'Speed':'0',\n",
    "         'Tag':['ImmobileTreadmill']\n",
    "         }\n",
    "animalList=batch_get_animal_list(root,profile)\n",
    "print(animalList)\n",
    "\n",
    "NbSession=10\n",
    "\n",
    "Bins=range(0,62,1)"
   ]
  },
  {
   "cell_type": "code",
   "execution_count": null,
   "metadata": {},
   "outputs": [],
   "source": [
    "def entrance_time(data):\n",
    "    \"\"\"\n",
    "    \"\"\"\n",
    "    return data.entranceTime\n",
    "\n",
    "ET0={} #naive\n",
    "ET1={} #trained\n",
    "\n",
    "param=[entrance_time]\n",
    "for animal in animalList:\n",
    "    data=data_fetch(root,animal,profile, param, NbSession=abs(NbSession))\n",
    "    ET0[animal]=[time for session in data[param[0].__name__] for time in session]\n",
    "    \n",
    "    data=data_fetch(root,animal,profile, param, NbSession=-abs(NbSession))\n",
    "    ET1[animal]=[time for session in data[param[0].__name__] for time in session]"
   ]
  },
  {
   "cell_type": "code",
   "execution_count": null,
   "metadata": {},
   "outputs": [],
   "source": [
    "axes=plt.subplots(len(animalList),2,figsize=(15,30))\n",
    "globalMaxP=0\n",
    "\n",
    "for i,animal in enumerate(animalList):\n",
    "    hist0,bins0= np.histogram(ET0[animal], bins=Bins, density=True)\n",
    "    hist1,bins1= np.histogram(ET1[animal], bins=Bins, density=True)\n",
    "    globalMaxP=max([globalMaxP,*hist0,*hist1])\n",
    "    \n",
    "    axes[1][i][0].bar(x=bins0[:-1], height=hist0, width=1, align='edge')\n",
    "    axes[1][i][1].bar(x=bins1[:-1], height=hist1, width=1, align='edge')\n",
    "\n",
    "for i,animal in enumerate(animalList):\n",
    "    axes[1][i][0].set_xlim([0,20])\n",
    "    axes[1][i][1].set_xlim([0,20])\n",
    "    \n",
    "    axes[1][i][0].set_ylim([0,globalMaxP])\n",
    "    axes[1][i][1].set_ylim([0,globalMaxP])\n",
    "    \n",
    "    axes[1][i][0].axvline(7,0,.5, color='m',linewidth=3)\n",
    "    axes[1][i][1].axvline(7,0,.5, color='m',linewidth=3)\n",
    "    \n",
    "    axes[1][i][0].set_title('naive')\n",
    "    axes[1][i][1].set_title('trained')\n",
    "    \n",
    "    axes[1][i][0].set_xlabel(param[0].__name__)\n",
    "    axes[1][i][1].set_xlabel(param[0].__name__)\n",
    "    \n",
    "    axes[1][i][0].set_ylabel(f'Probability {animal}')\n",
    "    axes[1][i][1].set_ylabel('Probability')"
   ]
  },
  {
   "cell_type": "markdown",
   "metadata": {},
   "source": [
    "# run distance"
   ]
  },
  {
   "cell_type": "code",
   "execution_count": null,
   "metadata": {},
   "outputs": [],
   "source": [
    "profile={'Type':'Good',\n",
    "         'rewardType':'Progressive',\n",
    "         'initialSpeed':['0'],\n",
    "         'Speed':'0',\n",
    "         'Tag':['ImmobileTreadmill']\n",
    "         }\n",
    "animalList=batch_get_animal_list(root,profile)\n",
    "animalList=['Rat121', 'Rat122', 'Rat123', 'Rat124', 'Rat131', 'Rat132']\n",
    "print(animalList)\n",
    "\n",
    "def entrance_time(data):\n",
    "    \"\"\"\n",
    "    \"\"\"\n",
    "    data.entranceTime[data.entranceTime==data.maxTrialDuration]=0\n",
    "    return data.entranceTime\n",
    "\n",
    "def run_distance(data):\n",
    "    allTraj=get_positions_array_beginning(data,onlyGood=False,raw=False)\n",
    "    et=(data.entranceTime+data.cameraToTreadmillDelay)*data.cameraSamplingRate\n",
    "    for i,_ in enumerate(data.trials):\n",
    "        if np.isnan(et[i]):\n",
    "            th=(data.maxTrialDuration[i]+data.cameraToTreadmillDelay)*data.cameraSamplingRate\n",
    "            th=int(th)\n",
    "        else:\n",
    "            th=int(et[i])\n",
    "        allTraj[i,th-1:]=np.nan\n",
    "    treadmillStep=np.expand_dims(data.treadmillSpeed[data.trials]/data.cameraSamplingRate,1)\n",
    "    dis=np.nansum(np.absolute(np.diff(allTraj,axis=1)-treadmillStep),axis=1)\n",
    "    return dis\n",
    "\n",
    "param=[run_distance2,entrance_time]\n",
    "\n",
    "NbSession=-10\n",
    "GT=7\n",
    "distBins=np.arange(0,160, 10)\n",
    "\n",
    "print(distBins)"
   ]
  },
  {
   "cell_type": "code",
   "execution_count": null,
   "metadata": {},
   "outputs": [],
   "source": [
    "et=[]\n",
    "rd=[]\n",
    "for animal in animalList:\n",
    "    data=data_fetch(root,animal,profile, param, NbSession=NbSession)\n",
    "    et.append(data[param[1].__name__])\n",
    "    rd.append(data[param[0].__name__])\n",
    "    \n",
    "    \n",
    "corrData=dict.fromkeys(animalList,None)\n",
    "distData=dict.fromkeys(animalList,None)\n",
    "for i,animal in enumerate(animalList):\n",
    "    corrData[animal]=[]\n",
    "    distData[animal]=[]\n",
    "    for j in range(abs(NbSession)):\n",
    "        if len(et[i][j])==len(rd[i][j]):\n",
    "            corrData[animal].extend(et[i][j]>GT)\n",
    "            distData[animal].extend(rd[i][j])\n",
    "\n",
    "Panimal=np.ones((len(distBins)-1,len(animalList)))*np.nan\n",
    "animalOrder=[]\n",
    "for col,animal in enumerate(animalList):\n",
    "    animalOrder.append(animal)\n",
    "    correct =np.array(corrData[animal])\n",
    "    distance=np.array(distData[animal])\n",
    "    for i,(loBin,hiBin) in enumerate(zip(distBins[:-1],distBins[1:])):\n",
    "        signal=correct[np.logical_and(distance>=loBin,distance<hiBin)]\n",
    "        if len(signal)> 10:\n",
    "            Panimal[i,col]= sum(signal)/len(signal)\n",
    "\n",
    "Ptotal=np.ones((len(distBins)-1,len(animalList)))*np.nan\n",
    "correct=[]\n",
    "distance=[]\n",
    "for col,animal in enumerate(animalList):\n",
    "    correct.extend(corrData[animal])\n",
    "    distance.extend(distData[animal])\n",
    "correct=np.array(correct)\n",
    "distance=np.array(distance)\n",
    "for i,(loBin,hiBin) in enumerate(zip(distBins[:-1],distBins[1:])):\n",
    "    signal=correct[np.logical_and(distance>=loBin,distance<hiBin)]\n",
    "    if len(signal)> 10:\n",
    "        Ptotal[i,col]= sum(signal)/len(signal)\n",
    "\n",
    "        \n",
    "        "
   ]
  },
  {
   "cell_type": "code",
   "execution_count": null,
   "metadata": {},
   "outputs": [],
   "source": [
    "plt.plot(distBins[:-1],Panimal[:,:],'-*');\n",
    "plt.ylim([-.05,1.05])\n",
    "plt.title('$P(correct | distance)$')\n",
    "plt.xlabel('Run Distance')"
   ]
  },
  {
   "cell_type": "code",
   "execution_count": null,
   "metadata": {},
   "outputs": [],
   "source": [
    "plt.plot(distBins[:-1],Ptotal[:,:],'-*');\n",
    "plt.ylim([-.05,1.05])\n",
    "plt.title('$P(correct | distance)$')\n",
    "plt.xlabel('Run Distance')"
   ]
  },
  {
   "cell_type": "code",
   "execution_count": null,
   "metadata": {},
   "outputs": [],
   "source": []
  },
  {
   "cell_type": "code",
   "execution_count": null,
   "metadata": {},
   "outputs": [],
   "source": []
  },
  {
   "cell_type": "code",
   "execution_count": null,
   "metadata": {},
   "outputs": [],
   "source": []
  },
  {
   "cell_type": "code",
   "execution_count": null,
   "metadata": {},
   "outputs": [],
   "source": [
    "ET0={} #naive\n",
    "ET1={} #trained\n",
    "RD0={}\n",
    "RD1={}\n",
    "\n",
    "param=[\"Run Distance\",\"% good trials\"]\n",
    "for animal in animalList:\n",
    "    data=data_fetch(root,animal,profile, param, NbSession=abs(NbSession))\n",
    "    ET0[animal]=data[param[0]]\n",
    "    RD0[animal]=data[param[1]]\n",
    "    \n",
    "    data=data_fetch(root,animal,profile, param, NbSession=-abs(NbSession))\n",
    "    ET1[animal]=data[param[0]]\n",
    "    RD1[animal]=data[param[1]]\n",
    "    \n",
    "ET0=np.array(list(ET0.values()))\n",
    "ET1=np.array(list(ET1.values()))\n",
    "RD0=np.array(list(RD0.values()))\n",
    "RD1=np.array(list(RD1.values()))"
   ]
  },
  {
   "cell_type": "code",
   "execution_count": null,
   "metadata": {},
   "outputs": [],
   "source": [
    "plt.plot(ET1.flatten(),RD1.flatten(),'*')\n",
    "plt.xlabel(param[0])\n",
    "plt.ylabel(param[1])\n",
    "plt.title(f'p-val={scipy.stats.pearsonr(ET1.flatten(),RD1.flatten())[1]}')"
   ]
  },
  {
   "cell_type": "code",
   "execution_count": null,
   "metadata": {},
   "outputs": [],
   "source": [
    "scipy.stats.pearsonr(ET1.flatten(),RD1.flatten())"
   ]
  },
  {
   "cell_type": "code",
   "execution_count": null,
   "metadata": {},
   "outputs": [],
   "source": []
  },
  {
   "cell_type": "code",
   "execution_count": null,
   "metadata": {},
   "outputs": [],
   "source": []
  },
  {
   "cell_type": "code",
   "execution_count": null,
   "metadata": {},
   "outputs": [],
   "source": []
  }
 ],
 "metadata": {
  "kernelspec": {
   "display_name": "Python 3",
   "language": "python",
   "name": "python3"
  },
  "language_info": {
   "codemirror_mode": {
    "name": "ipython",
    "version": 3
   },
   "file_extension": ".py",
   "mimetype": "text/x-python",
   "name": "python",
   "nbconvert_exporter": "python",
   "pygments_lexer": "ipython3",
   "version": "3.7.1"
  }
 },
 "nbformat": 4,
 "nbformat_minor": 2
}
