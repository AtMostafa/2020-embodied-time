{
 "cells": [
  {
   "cell_type": "markdown",
   "metadata": {},
   "source": [
    "### This notebook is dedicated to classifying trajectories"
   ]
  },
  {
   "cell_type": "code",
   "execution_count": null,
   "metadata": {},
   "outputs": [],
   "source": [
    "import os\n",
    "import glob\n",
    "import numpy as np\n",
    "from platform import system as OS\n",
    "import pandas as pd\n",
    "import scipy.stats\n",
    "import math\n",
    "import datetime\n",
    "from copy import deepcopy\n",
    "from IPython.display import clear_output, display, HTML, Image\n",
    "import matplotlib.cm as cm\n",
    "import warnings\n",
    "warnings.filterwarnings(\"ignore\")\n",
    "import sys\n",
    "import pickle\n",
    "import time\n",
    "import matplotlib.pyplot as plt\n",
    "from scipy import stats\n",
    "from matplotlib import mlab\n",
    "from mpl_toolkits.mplot3d import Axes3D\n",
    "\n",
    "ThisNoteBookPath=os.path.dirname(os.path.realpath(\"__file__\"))\n",
    "CommonNoteBookesPath=os.path.join(os.path.split(ThisNoteBookPath)[0],\"load_preprocess_rat\")\n",
    "CWD=os.getcwd()\n",
    "os.chdir(CommonNoteBookesPath)\n",
    "root='/data'\n",
    "%run Animal_Tags.ipynb\n",
    "%run BatchRatBehavior.ipynb\n",
    "%run plotRat_documentation_3_KinematicsInvestigation.ipynb\n",
    "%run plotRat_documentation_1_GeneralBehavior.ipynb\n",
    "%run loadRat_documentation.ipynb\n",
    "# %run RunBatchRat_3_CompareGroups.ipynb\n",
    "%run UtilityTools.ipynb\n",
    "os.chdir(CWD)\n",
    "\n",
    "param={\n",
    "    \"binSize\":0.25,\n",
    "    \"trialOffset\":20., #max end of trial, in seconds (position will be cutted)\n",
    "    \"sigmaSmoothPosition\":0.1,  #smooth the position\n",
    "    #\"sigmaSmoothPosition\":0.33 for pavel dataType\n",
    "    \"sigmaSmoothSpeed\":0.3, #smooth the speed\n",
    "    \"positionDiffRange\": [2.,5.], #min and max differences allowed between two consecutive positions\n",
    "                                  #min to correct start, max to correct jumps\n",
    "    \"pawFrequencyRange\":[2.,10.],\n",
    "    \"startAnalysisParams\":[10,0.2,0.5],\n",
    "    \"cameraToTreadmillDelay\":2., #seconds, usual time between camera start and treadmill start\n",
    "    \"nbJumpMax\" : 100., #if jumps>nbJumpMax, trial is badly tracked\n",
    "    \n",
    "    #parameter to detect end of trial (first position minima)\n",
    "    \"endTrial_backPos\":55,  # minima is after the animal went once to the back (after first time position>backPos)\n",
    "    \"endTrial_frontPos\":30, # minima's position is in front of treadmill (position[end]<frontPos)\n",
    "    \"endTrial_minTimeSec\":4, # minima is after minTimeSec seconds (time[end]>minTimeSec)\n",
    "    }"
   ]
  },
  {
   "cell_type": "markdown",
   "metadata": {},
   "source": [
    "Plotting a matrix of all session trajectories"
   ]
  },
  {
   "cell_type": "code",
   "execution_count": null,
   "metadata": {
    "collapsed": true
   },
   "outputs": [],
   "source": [
    "def plot_batch_traj(root='/data', axes=None, columnNb=5, animal='Rat166', profile={}, stop_date=''):\n",
    "    if type(animal) != str:\n",
    "        raise(\"enter the name of a single animal\")\n",
    "        \n",
    "    sessionList=batch_get_session_list(root,animalList=[animal],profile=profile,until_date=stop_date)['Sessions'][:]\n",
    "    if sessionList:\n",
    "        rowNb=(len(sessionList)//columnNb) +1\n",
    "        if axes is None:\n",
    "            fig=plt.figure(figsize=(16,16),dpi=75,tight_layout=False)\n",
    "            fig.suptitle(animal,y=.95)\n",
    "            axes=[fig.add_subplot(rowNb,columnNb,i+1) for i,_ in enumerate(sessionList)]\n",
    "    for i,session in enumerate(sessionList):\n",
    "        data=Data(root,session[:6],session,redoPreprocess=False)\n",
    "        ax=axes[i]\n",
    "        try:\n",
    "            plot_positions(data,onlyGood=False,raw=False,vSpan=False,axis=ax,linewidth=.5)\n",
    "            ax.set_title('Session '+str(i+1))\n",
    "            ax.set_axis_off()\n",
    "        except Exception as e:\n",
    "            print(repr(e))            \n",
    "\n",
    "    return sessionList"
   ]
  },
  {
   "cell_type": "code",
   "execution_count": null,
   "metadata": {
    "scrolled": true
   },
   "outputs": [],
   "source": [
    "if \"__file__\" not in dir():\n",
    "    AnimalProfile={'Type':'Good',\n",
    "     'rewardType':'Progressive',\n",
    "     'initialSpeed':'10',\n",
    "     'Speed':'10',\n",
    "     'Tag':['Control']\n",
    "                  }\n",
    "    animal=\"Rat166\"\n",
    "    ColumnNb=5\n",
    "    _,a=plot_batch_traj(root='/data', columnNb=ColumnNb, animal=animal, profile=AnimalProfile, stop_date='')\n",
    "    a.savefig('/home/david/Mostafa/1.png')"
   ]
  },
  {
   "cell_type": "markdown",
   "metadata": {},
   "source": [
    "PCA on Trajectory"
   ]
  },
  {
   "cell_type": "code",
   "execution_count": null,
   "metadata": {},
   "outputs": [],
   "source": [
    "def position_based_trajectory(root,animalList,SESSION_LIMIT,MAX_L):\n",
    "    traj=[]\n",
    "    \n",
    "    for animal in  animalList:\n",
    "        sessionDict=batch_get_session_list(root,[animal],profile=AnimalProfile)\n",
    "        if SESSION_LIMIT >0:\n",
    "            tmp=sorted(sessionDict['Sessions'])[:SESSION_LIMIT]\n",
    "        else:\n",
    "            tmp=sorted(sessionDict['Sessions'])[SESSION_LIMIT:]\n",
    "\n",
    "        for session in tmp:\n",
    "            picklePath=os.path.join(root,animal,'Experiments',session,'Analysis','preprocesseddata_binsize250ms_.p')\n",
    "            try:\n",
    "                with open(picklePath,'rb') as f:\n",
    "                    data=pickle.load(f)\n",
    "                traj.extend([data['position'][i] for i in data['position']])\n",
    "\n",
    "            except:pass\n",
    "    Traj=np.ones((MAX_L,len(traj)))*np.nan\n",
    "\n",
    "    for i,pos in enumerate(traj):\n",
    "        Traj[:min(len(pos),MAX_L),i]=pos[:min(len(pos),MAX_L)]\n",
    "        \n",
    "    return Traj\n",
    "\n",
    "\n",
    "\n",
    "AnimalProfile={'Type':'Good',\n",
    "     'rewardType':'Progressive',\n",
    "     'initialSpeed':['10'],\n",
    "     'Speed':['10'],\n",
    "     'Tag':'Control'\n",
    "              }\n",
    "\n",
    "animalList=batch_get_animal_list(root,AnimalProfile)\n",
    "\n",
    "SESSION_LIMIT=5  #don't change the sign\n",
    "MAX_L        =200\n",
    "Traj=position_based_trajectory(root,animalList,SESSION_LIMIT,MAX_L)\n",
    "Traj=Traj.T\n",
    "print(np.max(np.sum(np.isnan(Traj),axis=1)))\n",
    "data0=mlab.PCA(Traj)\n",
    "naive1=data0.Y[:,0]\n",
    "naive2=data0.Y[:,1]\n",
    "naive3=data0.Y[:,2]\n",
    "SESSION_LIMIT=-SESSION_LIMIT\n",
    "Traj=position_based_trajectory(root,animalList,SESSION_LIMIT,MAX_L)\n",
    "Traj=Traj.T\n",
    "print(np.max(np.sum(np.isnan(Traj),axis=1)))\n",
    "data1=mlab.PCA(Traj)\n",
    "trained1=data1.Y[:,0]\n",
    "trained2=data1.Y[:,1]\n",
    "trained3=data1.Y[:,2]"
   ]
  },
  {
   "cell_type": "code",
   "execution_count": null,
   "metadata": {},
   "outputs": [],
   "source": [
    "profile={'Type':'Good',\n",
    "         'rewardType':'Progressive',\n",
    "         'initialSpeed':'10',\n",
    "         'Speed':'10',\n",
    "         'Tag':['Control']\n",
    "        }\n",
    "animalList=batch_get_animal_list(root,profile)\n",
    "print(animalList)"
   ]
  },
  {
   "cell_type": "code",
   "execution_count": null,
   "metadata": {
    "scrolled": true
   },
   "outputs": [],
   "source": [
    "obj=sample_size_control(get_rat_group_statistic,animalList,NbAnimal=5,n=30,root=root,profile=profile,parameter=param,\n",
    "                                                           redo=False,stop_dayPlot=30,TaskParamToPlot=[\"% good trials on last 40\"])"
   ]
  },
  {
   "cell_type": "code",
   "execution_count": null,
   "metadata": {},
   "outputs": [],
   "source": [
    "obj.Results[25][0]['% good trials on last 40'].keys()\n",
    "plt.plot(obj.animalRepeat,'-*')"
   ]
  },
  {
   "cell_type": "code",
   "execution_count": null,
   "metadata": {},
   "outputs": [],
   "source": [
    "#%matplotlib inline\n",
    "plt.figure()\n",
    "plt.boxplot((naive1,trained1));\n"
   ]
  },
  {
   "cell_type": "code",
   "execution_count": null,
   "metadata": {},
   "outputs": [],
   "source": [
    "#%matplotlib notebook\n",
    "fig = plt.figure()\n",
    "ax = Axes3D(fig)\n",
    "ax.scatter(naive1,naive2,naive3,c='b',marker='.',alpha=.5,label='Naive')\n",
    "ax.scatter(trained1,trained2,trained3,c='r',marker='.',alpha=.5,label='Trained')\n",
    "plt.xlabel('1')\n",
    "plt.ylabel('2')\n",
    "#plt.zlabel('3')\n",
    "#plt.xlim([7,8])\n",
    "# plt.ylim([0,90])\n",
    "plt.legend();"
   ]
  },
  {
   "cell_type": "code",
   "execution_count": null,
   "metadata": {},
   "outputs": [],
   "source": [
    "fig=plt.figure(figsize=(10,5))\n",
    "plt.subplot(1,2,1)\n",
    "plt.gca().set_ylim([-.1,.1])\n",
    "i=3\n",
    "plt.plot(data0.Wt.T[:,:i]);\n",
    "plt.subplot(1,2,2)\n",
    "plt.plot(data1.Wt.T[:,:i]);\n",
    "plt.gca().set_ylim([-.1,.1])"
   ]
  },
  {
   "cell_type": "code",
   "execution_count": null,
   "metadata": {},
   "outputs": [],
   "source": [
    "#Traj=Traj.T\n",
    "print(np.max(np.sum(np.isnan(Traj),axis=1)))\n",
    "data=mlab.PCA(Traj)\n",
    "plt.plot(data.s[:15]/np.sum(data.s[:15]),'.')"
   ]
  },
  {
   "cell_type": "markdown",
   "metadata": {},
   "source": [
    "PCA on whole data and then display only first and last sessions"
   ]
  },
  {
   "cell_type": "code",
   "execution_count": null,
   "metadata": {},
   "outputs": [],
   "source": [
    "def position_based_trajectory2(root,animalList,SESSION_LIMIT,MAX_L):\n",
    "    traj=[]\n",
    "    ID=[]\n",
    "    for animal in  animalList:\n",
    "        sessionDict=batch_get_session_list(root,[animal],profile=AnimalProfile)\n",
    "        tmp1=sorted(sessionDict['Sessions'])[:abs(SESSION_LIMIT)]\n",
    "        tmp2=sorted(sessionDict['Sessions'])[-abs(SESSION_LIMIT):]\n",
    "\n",
    "        for session in sorted(sessionDict['Sessions']):\n",
    "            picklePath=os.path.join(root,animal,'Experiments',session,'Analysis','preprocesseddata_binsize250ms_.p')\n",
    "            try:\n",
    "                with open(picklePath,'rb') as f:\n",
    "                    data=pickle.load(f)\n",
    "                traj.extend([data['position'][i] for i in data['position']])\n",
    "                if session in tmp1:\n",
    "                    ID.extend(['naive' for i in data['position']])\n",
    "                elif session in tmp2:\n",
    "                    ID.extend(['trained' for i in data['position']])\n",
    "                else:\n",
    "                    ID.extend(['blah' for i in data['position']])\n",
    "\n",
    "            except:pass\n",
    "    Traj=np.ones((MAX_L,len(traj)))*np.nan\n",
    "\n",
    "    for i,pos in enumerate(traj):\n",
    "        Traj[:min(len(pos),MAX_L),i]=pos[:min(len(pos),MAX_L)]\n",
    "        if len(pos) < MAX_L:\n",
    "            Traj[np.isnan(Traj[:,i]),i]=Traj[np.where(np.isnan(Traj[:,i]))[0][0]-1,i]\n",
    "    \n",
    "    return Traj,ID\n",
    "\n",
    "AnimalProfile={'Type':'Good',\n",
    "     'rewardType':'Progressive',\n",
    "     'initialSpeed':['10'],\n",
    "     'Speed':['10'],\n",
    "     'Tag':'Control'\n",
    "              }\n",
    "\n",
    "animalList=batch_get_animal_list(root,AnimalProfile)\n",
    "\n",
    "SESSION_LIMIT=5\n",
    "MAX_L        =375\n",
    "COMPONENT=0\n",
    "\n",
    "Traj,ID=position_based_trajectory2(root,animalList,SESSION_LIMIT,MAX_L)\n",
    "Traj=Traj.T\n",
    "print(np.max(np.sum(np.isnan(Traj),axis=1)))\n",
    "data=mlab.PCA(Traj)\n",
    "\n",
    "plt.boxplot((data.Y[np.array(ID)=='naive',COMPONENT],data.Y[np.array(ID)=='trained',COMPONENT]),labels=['naive','trianed']);\n",
    "plt.gca().set_title('components\\' evolution through learning\\ncomponent:%s'%str(COMPONENT+1));"
   ]
  },
  {
   "cell_type": "code",
   "execution_count": null,
   "metadata": {},
   "outputs": [],
   "source": [
    "COMPONENT=10\n",
    "scipy.stats.kruskal(data.Y[np.array(ID)=='naive',COMPONENT],data.Y[np.array(ID)=='trained',COMPONENT])"
   ]
  },
  {
   "cell_type": "code",
   "execution_count": null,
   "metadata": {},
   "outputs": [],
   "source": [
    "fig=plt.figure(figsize=(10,5))\n",
    "i=3\n",
    "plt.subplot(1,2,1)\n",
    "plt.plot(data.Wt.T[:,:i]);\n",
    "plt.subplot(1,2,2)\n",
    "plt.plot(data.Wt.T[:,:i]);"
   ]
  },
  {
   "cell_type": "code",
   "execution_count": null,
   "metadata": {
    "collapsed": true
   },
   "outputs": [],
   "source": []
  },
  {
   "cell_type": "code",
   "execution_count": null,
   "metadata": {
    "collapsed": true
   },
   "outputs": [],
   "source": []
  }
 ],
 "metadata": {
  "kernelspec": {
   "display_name": "Python 3",
   "language": "python",
   "name": "python3"
  },
  "language_info": {
   "codemirror_mode": {
    "name": "ipython",
    "version": 3
   },
   "file_extension": ".py",
   "mimetype": "text/x-python",
   "name": "python",
   "nbconvert_exporter": "python",
   "pygments_lexer": "ipython3",
   "version": "3.7.1"
  }
 },
 "nbformat": 4,
 "nbformat_minor": 2
}
