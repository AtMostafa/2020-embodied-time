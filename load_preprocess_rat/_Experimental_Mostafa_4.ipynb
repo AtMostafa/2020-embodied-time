{
 "cells": [
  {
   "cell_type": "markdown",
   "metadata": {},
   "source": [
    "# THIS NOTEBOOK IS DEDICATED TO IMMOBILE CONDITION\n"
   ]
  },
  {
   "cell_type": "code",
   "execution_count": 1,
   "metadata": {},
   "outputs": [
    {
     "data": {
      "text/html": [
       "<style>.container { width:90% !important; }</style>"
      ],
      "text/plain": [
       "<IPython.core.display.HTML object>"
      ]
     },
     "metadata": {},
     "output_type": "display_data"
    }
   ],
   "source": [
    "import os\n",
    "import glob\n",
    "import numpy as np\n",
    "from platform import system as OS\n",
    "import pandas as pd\n",
    "import scipy.stats\n",
    "import math\n",
    "import datetime\n",
    "from copy import deepcopy\n",
    "from IPython.display import clear_output, display, HTML, Image\n",
    "import matplotlib.cm as cm\n",
    "import warnings\n",
    "import types\n",
    "warnings.filterwarnings(\"ignore\")\n",
    "import sys, time\n",
    "import pickle\n",
    "import matplotlib.pyplot as plt\n",
    "from scipy import stats\n",
    "from matplotlib import mlab\n",
    "from mpl_toolkits.mplot3d import Axes3D\n",
    "import matplotlib.animation as animation\n",
    "from pylab import *\n",
    "import matplotlib.backends.backend_pdf\n",
    "from sklearn.decomposition import KernelPCA\n",
    "\n",
    "\n",
    "root='/data'\n",
    "%run UtilityTools.ipynb\n",
    "%run Animal_Tags.ipynb\n",
    "%run Lesion_Size.ipynb\n",
    "%run BatchRatBehavior.ipynb\n",
    "%run plotRat_documentation_3_KinematicsInvestigation.ipynb\n",
    "%run plotRat_documentation_1_GeneralBehavior.ipynb\n",
    "%run loadRat_documentation.ipynb\n",
    "%run RunBatchRat_3_CompareGroups.ipynb\n",
    "\n",
    "defaultParam={\n",
    "    \"binSize\":0.25,\n",
    "    \"trialOffset\":20., #max end of trial, in seconds (position will be cutted)\n",
    "    \"sigmaSmoothPosition\":0.1,  #smooth the position\n",
    "    #\"sigmaSmoothPosition\":0.33 for pavel dataType\n",
    "    \"sigmaSmoothSpeed\":0.3, #smooth the speed\n",
    "    \"positionDiffRange\": [2.,5.], #min and max differences allowed between two consecutive positions\n",
    "                                  #min to correct start, max to correct jumps\n",
    "    \"pawFrequencyRange\":[2.,10.],\n",
    "    \"startAnalysisParams\":[10,0.2,0.5],\n",
    "    \"cameraToTreadmillDelay\":2., #seconds, usual time between camera start and treadmill start\n",
    "    \"nbJumpMax\" : 100., #if jumps>nbJumpMax, trial is badly tracked\n",
    "    \n",
    "    \n",
    "    #parameter to detect end of trial (first position minima)\n",
    "    \"endTrial_backPos\":55,  # minima is after the animal went once to the back (after first time position>backPos)\n",
    "    \"endTrial_frontPos\":30, # minima's position is in front of treadmill (position[end]<frontPos)\n",
    "    \"endTrial_minTimeSec\":4, # minima is after minTimeSec seconds (time[end]>minTimeSec)\n",
    "    }"
   ]
  },
  {
   "cell_type": "markdown",
   "metadata": {},
   "source": [
    "### plotting correct trajectories aligned on detector crossing"
   ]
  },
  {
   "cell_type": "code",
   "execution_count": 2,
   "metadata": {},
   "outputs": [
    {
     "name": "stdout",
     "output_type": "stream",
     "text": [
      "['Rat121', 'Rat122', 'Rat123', 'Rat124', 'Rat131', 'Rat132', 'Rat344', 'Rat348', 'Rat349', 'Rat352']\n"
     ]
    }
   ],
   "source": [
    "profile={'Type':'Good',\n",
    "         'rewardType':'Progressive',\n",
    "         'initialSpeed':['0'],\n",
    "         'Speed':'0',\n",
    "         'Tag':['ImmobileTreadmill']\n",
    "         }\n",
    "animalList=batch_get_animal_list(root,profile)\n",
    "print(animalList)\n",
    "\n",
    "NbSession=5\n",
    "Win=2\n",
    "\n",
    "treadmillRange=[10,90]"
   ]
  },
  {
   "cell_type": "code",
   "execution_count": null,
   "metadata": {},
   "outputs": [],
   "source": [
    "# def positions(data):\n",
    "#     \"\"\"\n",
    "#     return good trajectories\n",
    "#     \"\"\"\n",
    "#     posDict=data.position\n",
    "#     time=data.rawTime #align on camera\n",
    "#     pos=[]\n",
    "#     for trial in posDict:\n",
    "#         if trial not in data.goodTrials:\n",
    "#             continue\n",
    "#         pos.append(posDict[trial])\n",
    "#     return pos\n",
    "\n",
    "def posAlignEnd(data):\n",
    "    \"\"\"\n",
    "    return good trajectories\n",
    "    \"\"\"\n",
    "    posDict=data.position\n",
    "    time=data.rawTime #align on camera\n",
    "    pos=[]\n",
    "    for trial in posDict:\n",
    "        if trial not in data.goodTrials:\n",
    "            continue\n",
    "        et=data.entranceTime[trial]\n",
    "        fs=data.cameraSamplingRate\n",
    "        delay=data.cameraToTreadmillDelay\n",
    "        assert et>=7,\"Fuck!!!\"\n",
    "        th=int((et+delay)*fs)\n",
    "        pos.append(posDict[trial][th-int(Win*fs):th])\n",
    "    return pos\n",
    "\n",
    "pos={}\n",
    "for animal in animalList:\n",
    "    data=data_fetch(root,animal,profile,[posAlignEnd], NbSession=NbSession)\n",
    "    pos[animal]=[position for session in data[posAlignEnd.__name__] for position in session]"
   ]
  },
  {
   "cell_type": "code",
   "execution_count": null,
   "metadata": {},
   "outputs": [],
   "source": [
    "axes=plt.subplots(len(animalList),1,figsize=(10,50))\n",
    "\n",
    "for i,animal in enumerate(animalList):\n",
    "    data=np.array(pos[animal]).T\n",
    "    t=np.linspace(-Win,0,data.shape[0])\n",
    "    axes[1][i].plot(t,data,color='k',linewidth=1,alpha=.5)\n",
    "    histT0,bins0=np.histogram(data[0,:],20,range=(treadmillRange[0],treadmillRange[1]), density=True)\n",
    "    histT1,bins1=np.histogram(data[-1,:],20,range=(treadmillRange[0],treadmillRange[1]), density=True)\n",
    "    axes[1][i].barh(bins0[:-1],histT0*5,height=np.diff(bins0)[0],align='edge',left=-Win,color='g')\n",
    "    axes[1][i].barh(bins1[:-1],-histT1*5,height=np.diff(bins1)[0],align='edge',left=0,color='r')\n",
    "    \n",
    "    axes[1][i].set_xlim([-Win,0])\n",
    "    axes[1][i].set_title(animal)\n",
    "    Nticks=len(axes[1][i].get_xticks())\n",
    "    axes[1][i].set_xticklabels(np.linspace(-Win,0,Nticks))\n",
    "    axes[1][i].set_ylabel('Position(cm)')\n",
    "\n",
    "#     axes[1][i].spines['left'].set_position(('data',-.5))\n",
    "#     axes[1][i].spines['right'].set_position(('data',Win+.5))\n",
    "\n",
    "axes[1][i].set_xlabel('Time to cross the photodetector (s)');"
   ]
  },
  {
   "cell_type": "markdown",
   "metadata": {},
   "source": [
    "## distribution of entrance times"
   ]
  },
  {
   "cell_type": "code",
   "execution_count": null,
   "metadata": {},
   "outputs": [],
   "source": [
    "profile={'Type':'Good',\n",
    "         'rewardType':'Progressive',\n",
    "         'initialSpeed':['0'],\n",
    "         'Speed':'0',\n",
    "         'Tag':['ImmobileTreadmill']\n",
    "         }\n",
    "animalList=batch_get_animal_list(root,profile)\n",
    "print(animalList)\n",
    "\n",
    "NbSession=10\n",
    "\n",
    "Bins=range(0,62,1)"
   ]
  },
  {
   "cell_type": "code",
   "execution_count": null,
   "metadata": {},
   "outputs": [],
   "source": [
    "def entrance_time(data):\n",
    "    \"\"\"\n",
    "    \"\"\"\n",
    "    return data.entranceTime\n",
    "\n",
    "ET0={} #naive\n",
    "ET1={} #trained\n",
    "\n",
    "param=[entrance_time]\n",
    "for animal in animalList:\n",
    "    data=data_fetch(root,animal,profile, param, NbSession=abs(NbSession))\n",
    "    ET0[animal]=[time for session in data[param[0].__name__] for time in session]\n",
    "    \n",
    "    data=data_fetch(root,animal,profile, param, NbSession=-abs(NbSession))\n",
    "    ET1[animal]=[time for session in data[param[0].__name__] for time in session]"
   ]
  },
  {
   "cell_type": "code",
   "execution_count": null,
   "metadata": {},
   "outputs": [],
   "source": [
    "axes=plt.subplots(len(animalList),2,figsize=(15,30))\n",
    "globalMaxP=0\n",
    "\n",
    "for i,animal in enumerate(animalList):\n",
    "    hist0,bins0= np.histogram(ET0[animal], bins=Bins, density=True)\n",
    "    hist1,bins1= np.histogram(ET1[animal], bins=Bins, density=True)\n",
    "    globalMaxP=max([globalMaxP,*hist0,*hist1])\n",
    "    \n",
    "    axes[1][i][0].bar(x=bins0[:-1], height=hist0, width=1, align='edge')\n",
    "    axes[1][i][1].bar(x=bins1[:-1], height=hist1, width=1, align='edge')\n",
    "\n",
    "for i,animal in enumerate(animalList):\n",
    "    axes[1][i][0].set_xlim([0,20])\n",
    "    axes[1][i][1].set_xlim([0,20])\n",
    "    \n",
    "    axes[1][i][0].set_ylim([0,globalMaxP])\n",
    "    axes[1][i][1].set_ylim([0,globalMaxP])\n",
    "    \n",
    "    axes[1][i][0].axvline(7,0,.5, color='m',linewidth=3)\n",
    "    axes[1][i][1].axvline(7,0,.5, color='m',linewidth=3)\n",
    "    \n",
    "    axes[1][i][0].set_title('naive')\n",
    "    axes[1][i][1].set_title('trained')\n",
    "    \n",
    "    axes[1][i][0].set_xlabel(param[0].__name__)\n",
    "    axes[1][i][1].set_xlabel(param[0].__name__)\n",
    "    \n",
    "    axes[1][i][0].set_ylabel(f'Probability {animal}')\n",
    "    axes[1][i][1].set_ylabel('Probability')"
   ]
  },
  {
   "cell_type": "markdown",
   "metadata": {},
   "source": [
    "# run distance"
   ]
  },
  {
   "cell_type": "code",
   "execution_count": 273,
   "metadata": {},
   "outputs": [
    {
     "name": "stdout",
     "output_type": "stream",
     "text": [
      "['Rat121', 'Rat122', 'Rat123', 'Rat124', 'Rat131', 'Rat132']\n",
      "[  0  10  20  30  40  50  60  70  80  90 100 110 120 130 140 150]\n"
     ]
    }
   ],
   "source": [
    "profile={'Type':'Good',\n",
    "         'rewardType':'Progressive',\n",
    "         'initialSpeed':['0'],\n",
    "         'Speed':'0',\n",
    "         'Tag':['ImmobileTreadmill']\n",
    "         }\n",
    "animalList=batch_get_animal_list(root,profile)\n",
    "animalList=['Rat121', 'Rat122', 'Rat123', 'Rat124', 'Rat131', 'Rat132']\n",
    "print(animalList)\n",
    "\n",
    "def entrance_time(data):\n",
    "    \"\"\"\n",
    "    \"\"\"\n",
    "    data.entranceTime[data.entranceTime==data.maxTrialDuration]=0\n",
    "    return data.entranceTime\n",
    "\n",
    "def run_distance2(data):    \n",
    "    allTraj=get_positions_array_beginning(data,onlyGood=False,raw=False)\n",
    "    et=(data.entranceTime+data.cameraToTreadmillDelay)*data.cameraSamplingRate\n",
    "    for i,_ in enumerate(data.trials):\n",
    "        th=int(et[i])\n",
    "        allTraj[i,th-1:]=np.nan\n",
    "    dis=np.nansum(np.absolute(np.diff(allTraj,axis=1)),axis=1)\n",
    "    return dis\n",
    "\n",
    "\n",
    "def run_distance(data):\n",
    "    allTraj=get_positions_array_beginning(data,onlyGood=False,raw=False)\n",
    "    et=(data.entranceTime+data.cameraToTreadmillDelay)*data.cameraSamplingRate\n",
    "    for i,_ in enumerate(data.trials):\n",
    "        if np.isnan(et[i]):\n",
    "            th=(data.maxTrialDuration[i]+data.cameraToTreadmillDelay)*data.cameraSamplingRate\n",
    "            th=int(th)\n",
    "        else:\n",
    "            th=int(et[i])\n",
    "        allTraj[i,th-1:]=np.nan\n",
    "    treadmillStep=np.expand_dims(data.treadmillSpeed[data.trials]/data.cameraSamplingRate,1)\n",
    "    dis=np.nansum(np.absolute(np.diff(allTraj,axis=1)-treadmillStep),axis=1)\n",
    "    return dis\n",
    "\n",
    "param=[run_distance2,entrance_time]\n",
    "\n",
    "NbSession=-10\n",
    "GT=7\n",
    "distBins=np.arange(0,160, 10)\n",
    "\n",
    "print(distBins)"
   ]
  },
  {
   "cell_type": "code",
   "execution_count": 274,
   "metadata": {},
   "outputs": [],
   "source": [
    "et=[]\n",
    "rd=[]\n",
    "for animal in animalList:\n",
    "    data=data_fetch(root,animal,profile, param, NbSession=NbSession)\n",
    "    et.append(data[param[1].__name__])\n",
    "    rd.append(data[param[0].__name__])\n",
    "    \n",
    "    \n",
    "plt.close('all')"
   ]
  },
  {
   "cell_type": "code",
   "execution_count": 275,
   "metadata": {},
   "outputs": [],
   "source": [
    "corrData=dict.fromkeys(animalList,None)\n",
    "distData=dict.fromkeys(animalList,None)\n",
    "for i,animal in enumerate(animalList):\n",
    "    corrData[animal]=[]\n",
    "    distData[animal]=[]\n",
    "    for j in range(abs(NbSession)):\n",
    "        if len(et[i][j])==len(rd[i][j]):\n",
    "            corrData[animal].extend(et[i][j]>GT)\n",
    "            distData[animal].extend(rd[i][j])\n",
    "        else:\n",
    "            print('bad')\n",
    "del et,rd"
   ]
  },
  {
   "cell_type": "code",
   "execution_count": 276,
   "metadata": {},
   "outputs": [],
   "source": [
    "P=np.ones((len(distBins)-1,len(animalList)))*np.nan\n",
    "for col,animal in enumerate(animalList):\n",
    "    correct =np.array(corrData[animal])\n",
    "    distance=np.array(distData[animal])\n",
    "    for i,(loBin,hiBin) in enumerate(zip(distBins[:-1],distBins[1:])):\n",
    "        signal=correct[np.logical_and(distance>=loBin,distance<hiBin)]\n",
    "        if len(signal)> 8:\n",
    "            P[i,col]= sum(signal)/len(signal)\n",
    "        \n",
    "        "
   ]
  },
  {
   "cell_type": "code",
   "execution_count": 277,
   "metadata": {},
   "outputs": [
    {
     "data": {
      "text/plain": [
       "Text(0.5, 0, 'Run Distance')"
      ]
     },
     "execution_count": 277,
     "metadata": {},
     "output_type": "execute_result"
    },
    {
     "data": {
      "image/png": "[encoded data removed]",
      "text/plain": [
       "<Figure size 432x288 with 1 Axes>"
      ]
     },
     "metadata": {
      "needs_background": "light"
     },
     "output_type": "display_data"
    }
   ],
   "source": [
    "plt.plot(distBins[:-1],P[:,:],'-*');\n",
    "plt.ylim([-.05,1.05])\n",
    "plt.title('$P(correct | distance)$')\n",
    "plt.xlabel('Run Distance')"
   ]
  },
  {
   "cell_type": "code",
   "execution_count": 278,
   "metadata": {},
   "outputs": [],
   "source": [
    "P=np.ones((len(distBins)-1,len(animalList)))*np.nan\n",
    "correct=[]\n",
    "distance=[]\n",
    "for col,animal in enumerate(animalList):\n",
    "    correct.extend(corrData[animal])\n",
    "    distance.extend(distData[animal])\n",
    "correct=np.array(correct)\n",
    "distance=np.array(distance)\n",
    "for i,(loBin,hiBin) in enumerate(zip(distBins[:-1],distBins[1:])):\n",
    "    signal=correct[np.logical_and(distance>=loBin,distance<hiBin)]\n",
    "    if len(signal)> 8:\n",
    "        P[i,col]= sum(signal)/len(signal)\n",
    "        \n",
    "        "
   ]
  },
  {
   "cell_type": "code",
   "execution_count": 279,
   "metadata": {},
   "outputs": [
    {
     "data": {
      "text/plain": [
       "Text(0.5, 0, 'Run Distance')"
      ]
     },
     "execution_count": 279,
     "metadata": {},
     "output_type": "execute_result"
    },
    {
     "data": {
      "image/png": "[encoded data removed]",
      "text/plain": [
       "<Figure size 432x288 with 1 Axes>"
      ]
     },
     "metadata": {
      "needs_background": "light"
     },
     "output_type": "display_data"
    }
   ],
   "source": [
    "plt.plot(distBins[:-1],P[:,:],'-*');\n",
    "plt.ylim([-.05,1.05])\n",
    "plt.title('$P(correct | distance)$')\n",
    "plt.xlabel('Run Distance')"
   ]
  },
  {
   "cell_type": "code",
   "execution_count": null,
   "metadata": {},
   "outputs": [],
   "source": []
  },
  {
   "cell_type": "code",
   "execution_count": null,
   "metadata": {},
   "outputs": [],
   "source": []
  },
  {
   "cell_type": "code",
   "execution_count": null,
   "metadata": {},
   "outputs": [],
   "source": []
  },
  {
   "cell_type": "code",
   "execution_count": 40,
   "metadata": {},
   "outputs": [],
   "source": [
    "ET0={} #naive\n",
    "ET1={} #trained\n",
    "RD0={}\n",
    "RD1={}\n",
    "\n",
    "param=[\"Run Distance\",\"% good trials\"]\n",
    "for animal in animalList:\n",
    "    data=data_fetch(root,animal,profile, param, NbSession=abs(NbSession))\n",
    "    ET0[animal]=data[param[0]]\n",
    "    RD0[animal]=data[param[1]]\n",
    "    \n",
    "    data=data_fetch(root,animal,profile, param, NbSession=-abs(NbSession))\n",
    "    ET1[animal]=data[param[0]]\n",
    "    RD1[animal]=data[param[1]]\n",
    "    \n",
    "ET0=np.array(list(ET0.values()))\n",
    "ET1=np.array(list(ET1.values()))\n",
    "RD0=np.array(list(RD0.values()))\n",
    "RD1=np.array(list(RD1.values()))"
   ]
  },
  {
   "cell_type": "code",
   "execution_count": 41,
   "metadata": {},
   "outputs": [
    {
     "data": {
      "text/plain": [
       "Text(0.5, 1.0, 'p-val=7.810112199978737e-16')"
      ]
     },
     "execution_count": 41,
     "metadata": {},
     "output_type": "execute_result"
    },
    {
     "data": {
      "image/png": "[encoded data removed]",
      "text/plain": [
       "<Figure size 432x288 with 1 Axes>"
      ]
     },
     "metadata": {
      "needs_background": "light"
     },
     "output_type": "display_data"
    }
   ],
   "source": [
    "plt.plot(ET1.flatten(),RD1.flatten(),'*')\n",
    "plt.xlabel(param[0])\n",
    "plt.ylabel(param[1])\n",
    "plt.title(f'p-val={scipy.stats.pearsonr(ET1.flatten(),RD1.flatten())[1]}')"
   ]
  },
  {
   "cell_type": "code",
   "execution_count": 42,
   "metadata": {},
   "outputs": [
    {
     "data": {
      "text/plain": [
       "(0.7236494773640383, 7.810112199978737e-16)"
      ]
     },
     "execution_count": 42,
     "metadata": {},
     "output_type": "execute_result"
    }
   ],
   "source": [
    "scipy.stats.pearsonr(ET1.flatten(),RD1.flatten())"
   ]
  },
  {
   "cell_type": "code",
   "execution_count": null,
   "metadata": {},
   "outputs": [],
   "source": []
  },
  {
   "cell_type": "code",
   "execution_count": null,
   "metadata": {},
   "outputs": [],
   "source": []
  },
  {
   "cell_type": "code",
   "execution_count": null,
   "metadata": {},
   "outputs": [],
   "source": []
  }
 ],
 "metadata": {
  "kernelspec": {
   "display_name": "Python 3",
   "language": "python",
   "name": "python3"
  },
  "language_info": {
   "codemirror_mode": {
    "name": "ipython",
    "version": 3
   },
   "file_extension": ".py",
   "mimetype": "text/x-python",
   "name": "python",
   "nbconvert_exporter": "python",
   "pygments_lexer": "ipython3",
   "version": "3.7.1"
  }
 },
 "nbformat": 4,
 "nbformat_minor": 2
}
