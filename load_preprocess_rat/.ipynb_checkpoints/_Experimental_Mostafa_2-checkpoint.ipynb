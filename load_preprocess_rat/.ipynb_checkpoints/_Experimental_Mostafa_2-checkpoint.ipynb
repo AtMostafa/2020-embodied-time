{
 "cells": [
  {
   "cell_type": "markdown",
   "metadata": {},
   "source": [
    "# This notebooks only contains the experimental codes for var-speed condition"
   ]
  },
  {
   "cell_type": "code",
   "execution_count": 1,
   "metadata": {},
   "outputs": [
    {
     "data": {
      "text/html": [
       "<style>.container { width:90% !important; }</style>"
      ],
      "text/plain": [
       "<IPython.core.display.HTML object>"
      ]
     },
     "metadata": {},
     "output_type": "display_data"
    }
   ],
   "source": [
    "import os\n",
    "import glob\n",
    "import numpy as np\n",
    "from platform import system as OS\n",
    "import pandas as pd\n",
    "import scipy.stats\n",
    "import math\n",
    "import datetime\n",
    "from copy import deepcopy\n",
    "from IPython.display import clear_output, display, HTML, Image\n",
    "import matplotlib.cm as cm\n",
    "import warnings\n",
    "warnings.filterwarnings(\"ignore\")\n",
    "import sys\n",
    "import pickle\n",
    "import matplotlib.pyplot as plt\n",
    "from scipy import stats\n",
    "from matplotlib import mlab\n",
    "from mpl_toolkits.mplot3d import Axes3D\n",
    "\n",
    "\n",
    "root='/data'\n",
    "%run Animal_Tags.ipynb\n",
    "%run BatchRatBehavior.ipynb\n",
    "%run plotRat_documentation_3_KinematicsInvestigation.ipynb\n",
    "%run plotRat_documentation_1_GeneralBehavior.ipynb\n",
    "%run loadRat_documentation.ipynb\n",
    "%run RunBatchRat_3_CompareGroups.ipynb\n",
    "%run UtilityTools.ipynb\n",
    "\n",
    "defaultParam={\n",
    "    \"binSize\":0.25,\n",
    "    \"trialOffset\":20., #max end of trial, in seconds (position will be cutted)\n",
    "    \"sigmaSmoothPosition\":0.1,  #smooth the position\n",
    "    #\"sigmaSmoothPosition\":0.33 for pavel dataType\n",
    "    \"sigmaSmoothSpeed\":0.3, #smooth the speed\n",
    "    \"positionDiffRange\": [2.,5.], #min and max differences allowed between two consecutive positions\n",
    "                                  #min to correct start, max to correct jumps\n",
    "    \"pawFrequencyRange\":[2.,10.],\n",
    "    \"startAnalysisParams\":[10,0.2,0.5],\n",
    "    \"cameraToTreadmillDelay\":2., #seconds, usual time between camera start and treadmill start\n",
    "    \"nbJumpMax\" : 100., #if jumps>nbJumpMax, trial is badly tracked\n",
    "    \n",
    "    #parameter to detect end of trial (first position minima)\n",
    "    \"endTrial_backPos\":55,  # minima is after the animal went once to the back (after first time position>backPos)\n",
    "    \"endTrial_frontPos\":30, # minima's position is in front of treadmill (position[end]<frontPos)\n",
    "    \"endTrial_minTimeSec\":4, # minima is after minTimeSec seconds (time[end]>minTimeSec)\n",
    "    }"
   ]
  },
  {
   "cell_type": "markdown",
   "metadata": {},
   "source": [
    "### trimmed mean function\n",
    "averaging after removing outliers (-+3 SDs)"
   ]
  },
  {
   "cell_type": "code",
   "execution_count": 2,
   "metadata": {
    "collapsed": true
   },
   "outputs": [],
   "source": [
    "def trimmed_mean(x):\n",
    "    if len(x)<50:\n",
    "        return np.nanmean(x)\n",
    "    SD=np.nanstd(x)\n",
    "    MEAN=np.nanmean(x)\n",
    "    out=scipy.stats.tmean(x, limits=(MEAN-3*SD,MEAN+3*SD), inclusive=(False, False), axis=None)\n",
    "    return out"
   ]
  },
  {
   "cell_type": "markdown",
   "metadata": {},
   "source": [
    "### Get the mean speed for variable speed sessions"
   ]
  },
  {
   "cell_type": "code",
   "execution_count": null,
   "metadata": {
    "collapsed": true
   },
   "outputs": [],
   "source": [
    "AnimalProfile={'Type':'Good',\n",
    "     'rewardType':'Progressive',\n",
    "     'initialSpeed':['10','var'],\n",
    "     'Speed':['var'],\n",
    "     #'Tag':'Control'\n",
    "              }\n",
    "SESSION_LIMIT=100\n"
   ]
  },
  {
   "cell_type": "code",
   "execution_count": null,
   "metadata": {
    "collapsed": true
   },
   "outputs": [],
   "source": [
    "animalList=batch_get_animal_list(root,AnimalProfile)\n",
    "try:\n",
    "    animalList.remove('Rat106')\n",
    "except:pass\n",
    "data=[]\n",
    "sessionN=0\n",
    "for animal in  animalList:\n",
    "    sessionDict=batch_get_session_list(root,[animal],profile=AnimalProfile)\n",
    "    if SESSION_LIMIT >0:\n",
    "        tmp=sorted(sessionDict['Sessions'])[:SESSION_LIMIT]\n",
    "    else:\n",
    "        tmp=sorted(sessionDict['Sessions'])[SESSION_LIMIT:]\n",
    "    for session in tmp:\n",
    "        filePath=os.path.join(root,animal,'Experiments',session,session)\n",
    "        varSpd=read_in_file(filePath,paramName=' ',extension='.variablespeed',valueType=float)\n",
    "        if isinstance(varSpd,np.ndarray):\n",
    "            if max(varSpd)>40:print(session)\n",
    "            data.extend(varSpd.tolist())\n",
    "            sessionN+=1\n",
    "\n",
    "print('good sessions:',sessionN)\n",
    "print('session limit:',SESSION_LIMIT)\n",
    "print('# of trials:',len(data))\n",
    "data=np.array(data)\n",
    "plt.boxplot(data)\n",
    "plt.ylabel('Speed (cm/s)')\n",
    "plt.title('variable speeds')\n",
    "plt.figure();\n",
    "plt.hist(data,bins=[0,5,10,15,20,25,30,max(data)],width=4.8)\n",
    "plt.show()"
   ]
  },
  {
   "cell_type": "markdown",
   "metadata": {},
   "source": [
    "### P(correct trial | slow/fast speed trial) in var speed condition"
   ]
  },
  {
   "cell_type": "code",
   "execution_count": null,
   "metadata": {
    "collapsed": true
   },
   "outputs": [],
   "source": [
    "def P_correct_given_speed(root,AnimalProfile,SESSION_LIMIT,SPEED_RANGE):\n",
    "    animalList=batch_get_animal_list(root,AnimalProfile)\n",
    "    animalList=[\"Rat148\"]\n",
    "    N=0\n",
    "    goodN=0\n",
    "    countN=0\n",
    "    countP=0\n",
    "    for animal in  animalList:\n",
    "        sessionDict=batch_get_session_list(root,[animal],profile=AnimalProfile)\n",
    "        if SESSION_LIMIT >0:\n",
    "            tmp=sorted(sessionDict['Sessions'])[:SESSION_LIMIT]\n",
    "        else:\n",
    "            tmp=sorted(sessionDict['Sessions'])[SESSION_LIMIT:]\n",
    "            tmp=[tmp[-1]]\n",
    "        for session in tmp:\n",
    "            picklePath=os.path.join(root,animal,'Experiments',session,'Analysis','preprocesseddata_binsize250ms_.p')\n",
    "            filePath=os.path.join(root,animal,'Experiments',session,session)\n",
    "            with open(picklePath,'rb') as f:\n",
    "                data=pickle.load(f)\n",
    "            try:\n",
    "                spd0=read_in_file(filePath,paramName=' ',extension='.variablespeed',valueType=float)\n",
    "                ET0=np.array(data['entranceTime'])\n",
    "            except:\n",
    "                spd0=[]\n",
    "                ET0=[0,0]\n",
    "            if len(ET0)==len(spd0):\n",
    "                goodTrial=np.logical_and(spd0 >= SPEED_RANGE[0], spd0 <SPEED_RANGE[-1])\n",
    "                N+=np.sum(goodTrial)\n",
    "                goodN+=np.sum(np.logical_and(ET0[goodTrial]>=7, ET0[goodTrial]<15))\n",
    "                countP+=len(goodTrial)\n",
    "            else:\n",
    "                countN+=1\n",
    "    print('+trial:',countP)\n",
    "    print('-trial:',countN)\n",
    "    return goodN,N    \n",
    "\n",
    "\n",
    "#%%%%%%%%%%%%%%%%%%%%%%%%%%%%%%\n",
    "\n",
    "AnimalProfile={'Type':'Good',\n",
    "     'rewardType':'Progressive',\n",
    "     #'initialSpeed':['var'],\n",
    "     'Speed':['var'],\n",
    "     'Tag':'Early-Lesion_DLS-Early-var'\n",
    "              }\n",
    "\n",
    "\n",
    "SESSION_LIMIT=10\n",
    "SPEED_RANGE        =[[5,15],[20,30]]\n",
    "plt.figure(figsize=[15,5])\n",
    "goodN0S,N0S=P_correct_given_speed(root,AnimalProfile,SESSION_LIMIT,SPEED_RANGE[0])\n",
    "goodN0F,N0F=P_correct_given_speed(root,AnimalProfile,SESSION_LIMIT,SPEED_RANGE[1])\n",
    "SESSION_LIMIT=-SESSION_LIMIT\n",
    "goodN1S,N1S=P_correct_given_speed(root,AnimalProfile,SESSION_LIMIT,SPEED_RANGE[0])\n",
    "goodN1F,N1F=P_correct_given_speed(root,AnimalProfile,SESSION_LIMIT,SPEED_RANGE[1])\n",
    "SESSION_LIMIT=-SESSION_LIMIT\n",
    "\n",
    "plt.bar([0,1],[goodN0S/N0S,goodN0F/N0F],color='b',label='Naive')\n",
    "plt.bar([3,4],[goodN1S/N1S,goodN1F/N1F],color='r',label='Trained')\n",
    "plt.xticks([0,1,3,4],['slow','fast','slow','fast'])\n",
    "plt.legend();\n",
    "plt.title('P(correct trials|slow/fast trial)');\n",
    "plt.ylabel('Probablity of correct trial');"
   ]
  },
  {
   "cell_type": "markdown",
   "metadata": {},
   "source": [
    "### DLS lesion effect on variable speed"
   ]
  },
  {
   "cell_type": "code",
   "execution_count": null,
   "metadata": {
    "collapsed": true
   },
   "outputs": [],
   "source": [
    "profile1={'Type':'Good',\n",
    "         'rewardType':'Progressive',\n",
    "         'initialSpeed':'10',\n",
    "         'Speed':'10',\n",
    "         'Tag':'Control'\n",
    "         }\n",
    "profile2={'Type':'Good',\n",
    "         'rewardType':'Progressive',\n",
    "         'initialSpeed':'10',\n",
    "         'Speed':['10'],\n",
    "         'Tag':['Early-Lesion_DLS']\n",
    "         }\n",
    "animalList1=batch_get_animal_list(root,profile1)\n",
    "animalList2=batch_get_animal_list(root,profile2)\n",
    "#del animalList2[animalList2.index('Rat081')]\n",
    "#animalList2=['Rat118', 'Rat119', 'Rat133', 'Rat134']\n",
    "animalList2= [ 'Rat097', 'Rat099', 'Rat100', 'Rat114', 'Rat116']\n",
    "groups={\n",
    "    \"group1\":(cm.Greys,\"black\",animalList1,profile1),\n",
    "    \"group2\":(cm.Reds ,\"red\"  ,animalList2,profile2),\n",
    "    }\n",
    "TaskParamToPlot=[\"% good trials\",'% good trials on last 40',\"percentile entrance time\",\n",
    "            \"Forward Speed Vs TreadmillSpeed\",\"Tortuosity\",\"standard deviation of entrance time\",\"Trajectory Correlation\"]\n",
    "TaskParamToPlot=[\"Entropy\",\"Mean Pairwise RMSE\"]\n",
    "stop_dayPlot =10\n",
    "fullLegend=False\n",
    "print(animalList1,animalList2)\n",
    "\n",
    "allResults,colors,colorGroup=plot_mean_subgroup_animal(root,groups,redo=False,stop_dayPlot=stop_dayPlot,TaskParamToPlot=TaskParamToPlot,fullLegend=fullLegend)\n"
   ]
  },
  {
   "cell_type": "code",
   "execution_count": null,
   "metadata": {
    "collapsed": true
   },
   "outputs": [],
   "source": [
    "TaskParam=\"Mean Pairwise RMSE\"\n",
    "Days=[0,1,2,3,4]\n",
    "X=[1,1.5]\n",
    "#======================================\n",
    "fig=plt.figure()\n",
    "plt.ylabel(TaskParam)\n",
    "for i,Day in enumerate(Days):\n",
    "    ax = plt.subplot(1,len(Days),i+1)\n",
    "    ax.set_yticks([])\n",
    "    if i==0:\n",
    "        ax.set_ylabel(TaskParam)\n",
    "        ax.set_yticks([0,50,100])\n",
    "        \n",
    "    G1=[]\n",
    "    G2=[]\n",
    "    for animal in allResults[TaskParam]['group1'].keys():\n",
    "        G1.append(allResults[TaskParam]['group1'][animal][Day])\n",
    "    for animal in allResults[TaskParam]['group2'].keys():\n",
    "        G2.append(allResults[TaskParam]['group2'][animal][Day])\n",
    "\n",
    "    G1=np.array(G1)\n",
    "    G2=np.array(G2)\n",
    "    res=permtest(G2,G1, iterN=10000)\n",
    "    ax.boxplot([G1[~np.isnan(G1)],G2[~np.isnan(G2)]],sym='',positions=X)\n",
    "    xdist1=np.random.normal(loc=X[0],scale=.03,size=len(G1))\n",
    "    ax.scatter(xdist1,G1,c='b',marker='o',alpha=0.4,label=profile1['Tag'][0],s=10)\n",
    "    xdist2=np.random.normal(loc=X[1],scale=.03,size=len(G2))\n",
    "    ax.scatter(xdist2,G2,c='r',marker='o',alpha=0.4,label=profile2['Tag'][0],s=10)\n",
    "    ax.title.set_text('p='+str(res.p_val[0])[:6])\n",
    "    ax.set_xticks([np.mean(X)])\n",
    "    ax.set_xticklabels(['Day'+str(i+1)])\n",
    "    ax.set_ylim([0,1])\n",
    "\n",
    "plt.legend(bbox_to_anchor=(1.05, 1), loc=2, borderaxespad=0.)\n",
    "\n",
    "#plt.savefig(filename='/home/david/Downloads/AA.pdf',format='pdf',dpi=600,transparent=True,bbox_inches='tight')\n",
    "plt.show()"
   ]
  },
  {
   "cell_type": "markdown",
   "metadata": {},
   "source": [
    "### Separating trajectories baed on speed"
   ]
  },
  {
   "cell_type": "code",
   "execution_count": 8,
   "metadata": {},
   "outputs": [],
   "source": [
    "session='Rat159_2017_09_20_14_41'\n",
    "data=Data(root,session[:6],session,redoPreprocess=False)\n",
    "a=read_in_file(data,'',extension=\".variablespeed\",exclude=None,valueType=float)\n"
   ]
  },
  {
   "cell_type": "markdown",
   "metadata": {},
   "source": [
    "### forward speed vs treadmill speed"
   ]
  },
  {
   "cell_type": "code",
   "execution_count": 20,
   "metadata": {
    "collapsed": true
   },
   "outputs": [],
   "source": [
    "def mean_forwardSpeed(data,smoothSpeed=0.3):\n",
    "    '''\n",
    "    plot mean forwardSpeed \n",
    "    '''\n",
    "    ValuesSessionRatio=[]\n",
    "    treadmillSpeed =read_in_file(data,'',extension=\".variablespeed\",exclude=None,valueType=float)\n",
    "    cs=data.cameraSamplingRate\n",
    "    ValuesSessionRatio=[]\n",
    "    for trial in data.trials:\n",
    "        tr=treadmillSpeed[trial]\n",
    "        position,_ =get_position_treadmillOn(data,trial)\n",
    "        speed= tr - np.diff(position)*cs \n",
    "        speed[speed<(-tr)]=-tr\n",
    "        speed=smooth(speed,smoothSpeed*cs)\n",
    "        MeanSpeed=np.nanmean(speed[speed>tr])\n",
    "        ValuesSessionRatio.append(MeanSpeed)\n",
    "        \n",
    "    return ValuesSessionRatio,treadmillSpeed\n",
    "\n",
    "def plot_speed_correlation(root,animalList,SESSION_LIMIT):\n",
    "    ForwardSpd=[]\n",
    "    TreadmillSpd=[]\n",
    "    for animal in  animalList:\n",
    "        sessionDict=batch_get_session_list(root,[animal],profile=AnimalProfile)\n",
    "        if SESSION_LIMIT >0:\n",
    "            tmp=sorted(sessionDict['Sessions'])[:SESSION_LIMIT]\n",
    "        else:\n",
    "            tmp=sorted(sessionDict['Sessions'])[SESSION_LIMIT:]\n",
    "\n",
    "        for session in tmp:\n",
    "            data=Data(root,session[:6],session,redoPreprocess=False)\n",
    "            forSpd,tSpd=mean_forwardSpeed(data,smoothSpeed=0.3)\n",
    "            ForwardSpd.extend(forSpd)\n",
    "            TreadmillSpd.extend(tSpd)\n",
    "    ForwardSpd=np.array(ForwardSpd)\n",
    "    TreadmillSpd=np.array(TreadmillSpd)\n",
    "    #plotting\n",
    "    plt.scatter(TreadmillSpd,ForwardSpd)\n",
    "    plt.xlabel(\"Treadmill Speed\")\n",
    "    plt.ylabel(\"Forward Overspeed\")\n",
    "    \n",
    "    binSig=np.logical_or(np.isnan(TreadmillSpd),np.isnan(ForwardSpd))\n",
    "    binSig=np.logical_not(binSig)\n",
    "#     r=np.corrcoef(TreadmillSpd[binSig],ForwardSpd[binSig])[0,1]\n",
    "#     p=scipy.stats.pearsonr(TreadmillSpd[binSig],ForwardSpd[binSig])[1]\n",
    "    plt.title('r='+str(r)+' p='+str(p))\n",
    "    return TreadmillSpd,ForwardSpd"
   ]
  },
  {
   "cell_type": "code",
   "execution_count": 21,
   "metadata": {},
   "outputs": [
    {
     "ename": "ValueError",
     "evalue": "x and y must be the same size",
     "output_type": "error",
     "traceback": [
      "\u001b[0;31m---------------------------------------------------------------------------\u001b[0m",
      "\u001b[0;31mValueError\u001b[0m                                Traceback (most recent call last)",
      "\u001b[0;32m<ipython-input-21-1597086490d1>\u001b[0m in \u001b[0;36m<module>\u001b[0;34m()\u001b[0m\n\u001b[1;32m     10\u001b[0m \u001b[0mplt\u001b[0m\u001b[0;34m.\u001b[0m\u001b[0mfigure\u001b[0m\u001b[0;34m(\u001b[0m\u001b[0mfigsize\u001b[0m\u001b[0;34m=\u001b[0m\u001b[0;34m(\u001b[0m\u001b[0;36m10\u001b[0m\u001b[0;34m,\u001b[0m\u001b[0;36m10\u001b[0m\u001b[0;34m)\u001b[0m\u001b[0;34m)\u001b[0m\u001b[0;34m\u001b[0m\u001b[0m\n\u001b[1;32m     11\u001b[0m \u001b[0;34m\u001b[0m\u001b[0m\n\u001b[0;32m---> 12\u001b[0;31m \u001b[0mTreadmillSpd\u001b[0m\u001b[0;34m,\u001b[0m\u001b[0mForwardSpd\u001b[0m\u001b[0;34m=\u001b[0m\u001b[0mplot_speed_correlation\u001b[0m\u001b[0;34m(\u001b[0m\u001b[0mroot\u001b[0m\u001b[0;34m,\u001b[0m\u001b[0manimalList\u001b[0m\u001b[0;34m,\u001b[0m\u001b[0mSESSION_LIMIT\u001b[0m\u001b[0;34m)\u001b[0m\u001b[0;34m;\u001b[0m\u001b[0;34m\u001b[0m\u001b[0m\n\u001b[0m",
      "\u001b[0;32m<ipython-input-20-1c48db838f58>\u001b[0m in \u001b[0;36mplot_speed_correlation\u001b[0;34m(root, animalList, SESSION_LIMIT)\u001b[0m\n\u001b[1;32m     36\u001b[0m     \u001b[0mTreadmillSpd\u001b[0m\u001b[0;34m=\u001b[0m\u001b[0mnp\u001b[0m\u001b[0;34m.\u001b[0m\u001b[0marray\u001b[0m\u001b[0;34m(\u001b[0m\u001b[0mTreadmillSpd\u001b[0m\u001b[0;34m)\u001b[0m\u001b[0;34m\u001b[0m\u001b[0m\n\u001b[1;32m     37\u001b[0m     \u001b[0;31m#plotting\u001b[0m\u001b[0;34m\u001b[0m\u001b[0;34m\u001b[0m\u001b[0m\n\u001b[0;32m---> 38\u001b[0;31m     \u001b[0mplt\u001b[0m\u001b[0;34m.\u001b[0m\u001b[0mscatter\u001b[0m\u001b[0;34m(\u001b[0m\u001b[0mTreadmillSpd\u001b[0m\u001b[0;34m,\u001b[0m\u001b[0mForwardSpd\u001b[0m\u001b[0;34m)\u001b[0m\u001b[0;34m\u001b[0m\u001b[0m\n\u001b[0m\u001b[1;32m     39\u001b[0m     \u001b[0mplt\u001b[0m\u001b[0;34m.\u001b[0m\u001b[0mxlabel\u001b[0m\u001b[0;34m(\u001b[0m\u001b[0;34m\"Treadmill Speed\"\u001b[0m\u001b[0;34m)\u001b[0m\u001b[0;34m\u001b[0m\u001b[0m\n\u001b[1;32m     40\u001b[0m     \u001b[0mplt\u001b[0m\u001b[0;34m.\u001b[0m\u001b[0mylabel\u001b[0m\u001b[0;34m(\u001b[0m\u001b[0;34m\"Forward Overspeed\"\u001b[0m\u001b[0;34m)\u001b[0m\u001b[0;34m\u001b[0m\u001b[0m\n",
      "\u001b[0;32m/home/david/anaconda3/lib/python3.5/site-packages/matplotlib/pyplot.py\u001b[0m in \u001b[0;36mscatter\u001b[0;34m(x, y, s, c, marker, cmap, norm, vmin, vmax, alpha, linewidths, verts, edgecolors, hold, data, **kwargs)\u001b[0m\n\u001b[1;32m   3433\u001b[0m                          \u001b[0mvmin\u001b[0m\u001b[0;34m=\u001b[0m\u001b[0mvmin\u001b[0m\u001b[0;34m,\u001b[0m \u001b[0mvmax\u001b[0m\u001b[0;34m=\u001b[0m\u001b[0mvmax\u001b[0m\u001b[0;34m,\u001b[0m \u001b[0malpha\u001b[0m\u001b[0;34m=\u001b[0m\u001b[0malpha\u001b[0m\u001b[0;34m,\u001b[0m\u001b[0;34m\u001b[0m\u001b[0m\n\u001b[1;32m   3434\u001b[0m                          \u001b[0mlinewidths\u001b[0m\u001b[0;34m=\u001b[0m\u001b[0mlinewidths\u001b[0m\u001b[0;34m,\u001b[0m \u001b[0mverts\u001b[0m\u001b[0;34m=\u001b[0m\u001b[0mverts\u001b[0m\u001b[0;34m,\u001b[0m\u001b[0;34m\u001b[0m\u001b[0m\n\u001b[0;32m-> 3435\u001b[0;31m                          edgecolors=edgecolors, data=data, **kwargs)\n\u001b[0m\u001b[1;32m   3436\u001b[0m     \u001b[0;32mfinally\u001b[0m\u001b[0;34m:\u001b[0m\u001b[0;34m\u001b[0m\u001b[0m\n\u001b[1;32m   3437\u001b[0m         \u001b[0max\u001b[0m\u001b[0;34m.\u001b[0m\u001b[0m_hold\u001b[0m \u001b[0;34m=\u001b[0m \u001b[0mwashold\u001b[0m\u001b[0;34m\u001b[0m\u001b[0m\n",
      "\u001b[0;32m/home/david/anaconda3/lib/python3.5/site-packages/matplotlib/__init__.py\u001b[0m in \u001b[0;36minner\u001b[0;34m(ax, *args, **kwargs)\u001b[0m\n\u001b[1;32m   1890\u001b[0m                     warnings.warn(msg % (label_namer, func.__name__),\n\u001b[1;32m   1891\u001b[0m                                   RuntimeWarning, stacklevel=2)\n\u001b[0;32m-> 1892\u001b[0;31m             \u001b[0;32mreturn\u001b[0m \u001b[0mfunc\u001b[0m\u001b[0;34m(\u001b[0m\u001b[0max\u001b[0m\u001b[0;34m,\u001b[0m \u001b[0;34m*\u001b[0m\u001b[0margs\u001b[0m\u001b[0;34m,\u001b[0m \u001b[0;34m**\u001b[0m\u001b[0mkwargs\u001b[0m\u001b[0;34m)\u001b[0m\u001b[0;34m\u001b[0m\u001b[0m\n\u001b[0m\u001b[1;32m   1893\u001b[0m         \u001b[0mpre_doc\u001b[0m \u001b[0;34m=\u001b[0m \u001b[0minner\u001b[0m\u001b[0;34m.\u001b[0m\u001b[0m__doc__\u001b[0m\u001b[0;34m\u001b[0m\u001b[0m\n\u001b[1;32m   1894\u001b[0m         \u001b[0;32mif\u001b[0m \u001b[0mpre_doc\u001b[0m \u001b[0;32mis\u001b[0m \u001b[0;32mNone\u001b[0m\u001b[0;34m:\u001b[0m\u001b[0;34m\u001b[0m\u001b[0m\n",
      "\u001b[0;32m/home/david/anaconda3/lib/python3.5/site-packages/matplotlib/axes/_axes.py\u001b[0m in \u001b[0;36mscatter\u001b[0;34m(self, x, y, s, c, marker, cmap, norm, vmin, vmax, alpha, linewidths, verts, edgecolors, **kwargs)\u001b[0m\n\u001b[1;32m   3956\u001b[0m         \u001b[0my\u001b[0m \u001b[0;34m=\u001b[0m \u001b[0mnp\u001b[0m\u001b[0;34m.\u001b[0m\u001b[0mma\u001b[0m\u001b[0;34m.\u001b[0m\u001b[0mravel\u001b[0m\u001b[0;34m(\u001b[0m\u001b[0my\u001b[0m\u001b[0;34m)\u001b[0m\u001b[0;34m\u001b[0m\u001b[0m\n\u001b[1;32m   3957\u001b[0m         \u001b[0;32mif\u001b[0m \u001b[0mx\u001b[0m\u001b[0;34m.\u001b[0m\u001b[0msize\u001b[0m \u001b[0;34m!=\u001b[0m \u001b[0my\u001b[0m\u001b[0;34m.\u001b[0m\u001b[0msize\u001b[0m\u001b[0;34m:\u001b[0m\u001b[0;34m\u001b[0m\u001b[0m\n\u001b[0;32m-> 3958\u001b[0;31m             \u001b[0;32mraise\u001b[0m \u001b[0mValueError\u001b[0m\u001b[0;34m(\u001b[0m\u001b[0;34m\"x and y must be the same size\"\u001b[0m\u001b[0;34m)\u001b[0m\u001b[0;34m\u001b[0m\u001b[0m\n\u001b[0m\u001b[1;32m   3959\u001b[0m \u001b[0;34m\u001b[0m\u001b[0m\n\u001b[1;32m   3960\u001b[0m         \u001b[0;32mif\u001b[0m \u001b[0ms\u001b[0m \u001b[0;32mis\u001b[0m \u001b[0;32mNone\u001b[0m\u001b[0;34m:\u001b[0m\u001b[0;34m\u001b[0m\u001b[0m\n",
      "\u001b[0;31mValueError\u001b[0m: x and y must be the same size"
     ]
    },
    {
     "data": {
      "image/png": "[encoded data removed]",
      "text/plain": [
       "<matplotlib.figure.Figure at 0x7f5dc718ee48>"
      ]
     },
     "metadata": {},
     "output_type": "display_data"
    }
   ],
   "source": [
    "AnimalProfile={'Type':'Good',\n",
    "     'rewardType':'Progressive',\n",
    "     #'initialSpeed':['10'],\n",
    "     #'Speed':['10'],\n",
    "     'Tag':'Early-Lesion_DLS-Early-var'\n",
    "              }\n",
    "animalList=batch_get_animal_list(root,AnimalProfile)\n",
    "#animalList=['Rat145']\n",
    "SESSION_LIMIT=-5\n",
    "plt.figure(figsize=(10,10))\n",
    "\n",
    "TreadmillSpd,ForwardSpd=plot_speed_correlation(root,animalList,SESSION_LIMIT);"
   ]
  },
  {
   "cell_type": "code",
   "execution_count": 35,
   "metadata": {},
   "outputs": [],
   "source": [
    "session='Rat147_2017_11_06_11_08'\n",
    "data=Data(root,session[:6],session,redoPreprocess=False)\n",
    "# treadmillSpeed =read_in_file(data,' ',extension=\".variablespeed\",exclude=None,valueType=float)\n",
    "# treadmillSpeed"
   ]
  },
  {
   "cell_type": "code",
   "execution_count": 51,
   "metadata": {},
   "outputs": [
    {
     "name": "stdout",
     "output_type": "stream",
     "text": [
      "4.368\n"
     ]
    },
    {
     "data": {
      "image/png": "[encoded data removed]",
      "text/plain": [
       "<matplotlib.figure.Figure at 0x7f5dc70437b8>"
      ]
     },
     "metadata": {},
     "output_type": "display_data"
    }
   ],
   "source": [
    "i=80\n",
    "\n",
    "plt.plot(data.timeTreadmill[i],data.position[i])\n",
    "plt.plot(data.entranceTime[i]-1,data.position[i][int(data.entranceTime[i]*25)],'r*')\n",
    "print(data.entranceTime[i])"
   ]
  }
 ],
 "metadata": {
  "kernelspec": {
   "display_name": "Python 3",
   "language": "python",
   "name": "python3"
  },
  "language_info": {
   "codemirror_mode": {
    "name": "ipython",
    "version": 3
   },
   "file_extension": ".py",
   "mimetype": "text/x-python",
   "name": "python",
   "nbconvert_exporter": "python",
   "pygments_lexer": "ipython3",
   "version": "3.6.3"
  }
 },
 "nbformat": 4,
 "nbformat_minor": 2
}
