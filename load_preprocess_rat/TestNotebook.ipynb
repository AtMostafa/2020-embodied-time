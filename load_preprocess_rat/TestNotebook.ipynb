{
 "cells": [
  {
   "cell_type": "code",
   "execution_count": null,
   "metadata": {},
   "outputs": [],
   "source": [
    "#DEV\n",
    "import os\n",
    "import glob\n",
    "import numpy as np\n",
    "from platform import system as OS\n",
    "import pandas as pd\n",
    "import tables as tb\n",
    "import h5py\n",
    "import scipy.stats\n",
    "import datetime\n",
    "from copy import deepcopy\n",
    "from IPython.display import clear_output, display, HTML, Image\n",
    "import matplotlib.cm as cm\n",
    "import warnings\n",
    "\n",
    "warnings.filterwarnings(\"ignore\")\n",
    "import sys\n",
    "import pickle\n",
    "import matplotlib.pyplot as plt\n",
    "\n",
    "if OS() == 'Linux':\n",
    "    root = \"/data\"\n",
    "elif OS() == 'Windows':\n",
    "    root = \"C:\\\\DATA\\\\\"\n",
    "else:\n",
    "    root = \"/Users/davidrobbe/Documents/Data/\"\n",
    "\n",
    "param={\n",
    "    \"goalTime\":7,#needed for pavel data only\n",
    "    \"treadmillRange\":[0,90],#pavel error conversion \"treadmillRange\":[0,80]\n",
    "    \"maxTrialDuration\":15,\n",
    "    \"interTrialDuration\":10,#None pavel\n",
    "    \"endTrial_frontPos\":30,\n",
    "    \"endTrial_backPos\":55, \n",
    "    \"endTrial_minTimeSec\":4,\n",
    "    \"cameraSamplingRate\":25, #needed for new setup    \n",
    "\n",
    "    \"sigmaSmoothPosition\":0.1,#0.33, 0.18 pavel\n",
    "    \"sigmaSmoothSpeed\":0.3,#0.3, 0.5 pavel\n",
    "    \"nbJumpMax\":100,#200 pavel\n",
    "    \"binSize\":0.25,\n",
    "    #parameters used to preprocess (will override the default parameters)\n",
    "}  \n",
    "\n",
    "%run Animal_Tags.ipynb\n",
    "%run UtilityTools.ipynb\n",
    "%run BatchRatBehavior.ipynb\n",
    "%run plotRat_documentation_3_KinematicsInvestigation.ipynb\n",
    "%run plotRat_documentation_1_GeneralBehavior.ipynb\n",
    "%run loadRat_documentation.ipynb\n"
   ]
  },
  {
   "cell_type": "code",
   "execution_count": null,
   "metadata": {},
   "outputs": [],
   "source": [
    "class forwardRunningSpeed:\n",
    "    '''\n",
    "    This class detects the running forward portion of the \n",
    "    trials and returns the forward speed\n",
    "    \n",
    "    '''\n",
    "    def __init__(self,data,minXBack=60,minXFront=40):\n",
    "        assert isinstance(data,Data), 'input data is not an instance of Data class'\n",
    "        \n",
    "        data.position_correction()\n",
    "        self.cs          =data.cameraSamplingRate\n",
    "        self.posDict     =data.position\n",
    "        self.goodTrials  =data.goodTrials\n",
    "        self.treadmillSpd=data.treadmillSpeed\n",
    "        self.et          =data.entranceTime\n",
    "        self.timeEndTrial=detect_trial_end(data)\n",
    "        self.cameraDelay =data.cameraToTreadmillDelay\n",
    "        self.xBack       =minXBack\n",
    "        self.xFront      =minXFront\n",
    "        self.session     =data.sessionPath\n",
    "        self.forwardSpeed=None\n",
    "    \n",
    "    def compute(self):\n",
    "        forwardSpeed={}\n",
    "        for trial,pos in self.posDict.items():\n",
    "            back_P = (pos >self.xBack).astype(int)\n",
    "            _backCross=back_P-np.concatenate((np.array([False]),back_P[:-1]))\n",
    "            backCrosses=np.where(_backCross==-1)[0]\n",
    "            if len(backCrosses)==0:\n",
    "                continue\n",
    "            else:\n",
    "                backCross=backCrosses[0]\n",
    "\n",
    "            front_P= (pos >self.xFront).astype(int)\n",
    "            _frontCross=front_P-np.concatenate((np.array([False]),front_P[:-1]))\n",
    "            frontCrosses=np.where(_frontCross==-1)[0]\n",
    "            #detect first front cross after a back cross\n",
    "            frontCross=frontCrosses[frontCrosses>backCross]\n",
    "            if len(frontCross)==0:\n",
    "                continue\n",
    "            else:\n",
    "                frontCross=frontCross[0]\n",
    "                            \n",
    "            if frontCross/self.cs > self.timeEndTrial[trial]+self.cameraDelay:\n",
    "                # treadmill had already stopped, so discard\n",
    "                continue\n",
    "            \n",
    "            forwardSpeed[trial]=(\n",
    "                                 abs(\n",
    "                                     (pos[backCross]-pos[frontCross])/(frontCross-backCross)\n",
    "                                    )*self.cs + self.treadmillSpd[trial]\n",
    "                                 )\n",
    "        \n",
    "        self.forwardSpeed=forwardSpeed\n",
    "\n",
    "        return self.forwardSpeed\n",
    "                \n",
    "    def conditions(self, goodOnly=False, last_n=False, sharpOnly=False):\n",
    "        \"\"\"\n",
    "        Turn any of the input arguments, in order\n",
    "        to apply that condition. Applying conditions must precede \n",
    "        running the compute() method.\n",
    "        \"\"\"\n",
    "        assert self.forwardSpeed is None, \"conditions() must be run before compute()\"\n",
    "        \n",
    "        if goodOnly:\n",
    "            self._good_only()\n",
    "        if last_n:\n",
    "            self._last_n(last_n)\n",
    "        if sharpOnly:\n",
    "            self._sharp_only(sharpOnly)\n",
    "        \n",
    "    def _good_only(self):\n",
    "        self.posDict={trial:pos \n",
    "                      for trial,pos in self.posDict.items() \n",
    "                      if trial in self.goodTrials}\n",
    "        \n",
    "    def _last_n(self,last_n):\n",
    "        if not last_n or not isinstance(last_n,int):\n",
    "            return\n",
    "        nIndex=len(self.posDict)-last_n\n",
    "        self.posDict={trial:pos \n",
    "                      for trial,pos in self.posDict.items() \n",
    "                      if trial >= nIndex}\n",
    "    \n",
    "    def _sharp_only(self,sharpOnly: tuple):\n",
    "        \"\"\"\n",
    "        sharpOnly: a tuple (a,b) where only trials with  a<ET<b are considered\n",
    "        \"\"\"\n",
    "        if not sharpOnly or not isinstance(sharpOnly,tuple):\n",
    "            return\n",
    "        self.posDict={trial:pos \n",
    "                      for trial,pos in self.posDict.items() \n",
    "                      if self.et[trial] >= sharpOnly[0] and self.et[trial] <=sharpOnly[1]}\n",
    "        "
   ]
  },
  {
   "cell_type": "code",
   "execution_count": null,
   "metadata": {},
   "outputs": [],
   "source": [
    "session='Rat327_2019_02_28_09_14'\n",
    "data=Data(root,session[:6],session,param=param,redoPreprocess=False, saveAsPickle=False);"
   ]
  },
  {
   "cell_type": "code",
   "execution_count": null,
   "metadata": {},
   "outputs": [],
   "source": [
    "t=forwardRunningSpeed(data)\n",
    "\n",
    "spd=t.compute()"
   ]
  },
  {
   "cell_type": "code",
   "execution_count": null,
   "metadata": {},
   "outputs": [],
   "source": [
    "spd"
   ]
  },
  {
   "cell_type": "code",
   "execution_count": null,
   "metadata": {},
   "outputs": [],
   "source": []
  },
  {
   "cell_type": "code",
   "execution_count": null,
   "metadata": {},
   "outputs": [],
   "source": []
  },
  {
   "cell_type": "code",
   "execution_count": null,
   "metadata": {},
   "outputs": [],
   "source": []
  },
  {
   "cell_type": "code",
   "execution_count": null,
   "metadata": {},
   "outputs": [],
   "source": []
  },
  {
   "cell_type": "code",
   "execution_count": null,
   "metadata": {},
   "outputs": [],
   "source": []
  },
  {
   "cell_type": "code",
   "execution_count": null,
   "metadata": {},
   "outputs": [],
   "source": []
  },
  {
   "cell_type": "markdown",
   "metadata": {},
   "source": [
    "linear regression"
   ]
  },
  {
   "cell_type": "code",
   "execution_count": null,
   "metadata": {},
   "outputs": [],
   "source": [
    "import numpy as np\n",
    "from sklearn.linear_model import LinearRegression\n",
    "X = np.array([[1, 1], [1, 2], [2, 2], [2, 3]])\n",
    "# y = 1 * x_0 + 2 * x_1 + 3\n",
    "y = np.dot(X, np.array([1, 2])) + 3\n"
   ]
  },
  {
   "cell_type": "code",
   "execution_count": null,
   "metadata": {},
   "outputs": [],
   "source": [
    "reg = LinearRegression().fit(X, y)"
   ]
  },
  {
   "cell_type": "code",
   "execution_count": null,
   "metadata": {},
   "outputs": [],
   "source": [
    "reg.coef_"
   ]
  },
  {
   "cell_type": "markdown",
   "metadata": {},
   "source": [
    "lasso"
   ]
  },
  {
   "cell_type": "code",
   "execution_count": null,
   "metadata": {},
   "outputs": [],
   "source": [
    "from sklearn import linear_model\n",
    "reg = linear_model.Lasso(alpha=0.1)\n",
    "reg.fit(X,y)"
   ]
  },
  {
   "cell_type": "code",
   "execution_count": null,
   "metadata": {},
   "outputs": [],
   "source": [
    "reg.coef_"
   ]
  },
  {
   "cell_type": "markdown",
   "metadata": {},
   "source": [
    "linear regression on polynomial regressors"
   ]
  },
  {
   "cell_type": "code",
   "execution_count": null,
   "metadata": {},
   "outputs": [],
   "source": [
    "from sklearn.preprocessing import PolynomialFeatures\n",
    "from sklearn.linear_model import LinearRegression\n",
    "\n",
    "poly = PolynomialFeatures(degree=2)\n",
    "X_new= poly.fit_transform(X)\n",
    "y = np.dot(X, np.array([1, 2])) + 3\n"
   ]
  },
  {
   "cell_type": "code",
   "execution_count": null,
   "metadata": {},
   "outputs": [],
   "source": [
    "reg = LinearRegression().fit(X_new, y)"
   ]
  },
  {
   "cell_type": "code",
   "execution_count": null,
   "metadata": {},
   "outputs": [],
   "source": [
    "reg.coef_"
   ]
  },
  {
   "cell_type": "code",
   "execution_count": null,
   "metadata": {},
   "outputs": [],
   "source": [
    "X_new"
   ]
  },
  {
   "cell_type": "code",
   "execution_count": null,
   "metadata": {},
   "outputs": [],
   "source": []
  },
  {
   "cell_type": "code",
   "execution_count": null,
   "metadata": {},
   "outputs": [],
   "source": []
  },
  {
   "cell_type": "code",
   "execution_count": null,
   "metadata": {},
   "outputs": [],
   "source": [
    "sys.path.append('/home/david/MasoudRepo/masoud_treadmilltask')"
   ]
  },
  {
   "cell_type": "code",
   "execution_count": null,
   "metadata": {},
   "outputs": [],
   "source": [
    "import DataAcquisition"
   ]
  },
  {
   "cell_type": "code",
   "execution_count": null,
   "metadata": {},
   "outputs": [],
   "source": [
    "DataAcquisition.Animal_Tags.clear_output()"
   ]
  },
  {
   "cell_type": "code",
   "execution_count": null,
   "metadata": {},
   "outputs": [],
   "source": [
    "class test:\n",
    "    b=0\n",
    "    def __init__(self):\n",
    "        __class__.b=4\n",
    "    @classmethod\n",
    "    def met1(cls,a):\n",
    "        print('class var:',a,cls)\n",
    "        cls.a=a\n",
    "        print(cls.__dict__)\n",
    "    "
   ]
  },
  {
   "cell_type": "code",
   "execution_count": null,
   "metadata": {},
   "outputs": [],
   "source": [
    "a=test()\n",
    "\n",
    "a.met1(12)\n",
    "\n",
    "b=test()"
   ]
  },
  {
   "cell_type": "code",
   "execution_count": null,
   "metadata": {},
   "outputs": [],
   "source": [
    "class tst(dict):\n",
    "    b=2\n",
    "    def __init__(self):\n",
    "        self.a = 1 + self.b\n",
    "A=tst()\n",
    "with open('/home/david/tst.p','wb') as f:\n",
    "    pickle.dump(A,f)"
   ]
  },
  {
   "cell_type": "code",
   "execution_count": null,
   "metadata": {},
   "outputs": [],
   "source": [
    "seed=[2018,4,9]\n",
    "np.random.seed(seed=seed)\n",
    "names=['David','Teresa','Anass','Ayse','Mostafa','Ingrid','Maryam']\n",
    "\n",
    "np.random.shuffle(names)\n",
    "print(names)"
   ]
  },
  {
   "cell_type": "code",
   "execution_count": null,
   "metadata": {},
   "outputs": [],
   "source": [
    "session='Rat242_2018_06_25_11_29'\n",
    "data=Data(root,session[:6],session,param=param,redoPreprocess=False, saveAsPickle=False);\n",
    "data.position_correction();"
   ]
  },
  {
   "cell_type": "code",
   "execution_count": null,
   "metadata": {},
   "outputs": [],
   "source": [
    "data.entranceTime[i]+data.cameraToTreadmillDelay+data.interTrialDuration[i], data.rawTime[50][-1]"
   ]
  },
  {
   "cell_type": "code",
   "execution_count": null,
   "metadata": {},
   "outputs": [],
   "source": [
    "data.timeTreadmill[i][-1]"
   ]
  },
  {
   "cell_type": "code",
   "execution_count": null,
   "metadata": {},
   "outputs": [],
   "source": [
    "i=50\n",
    "ax=plt.figure().add_subplot(111)\n",
    "ax.plot(data.rawTime[i],data.position[i],lw=3)\n",
    "ax.plot(data.rawTime[i+1]+data.rawTime[i][-1],data.position[i+1],lw=3)\n",
    "# ax.vlines(data.entranceTime[i]+1,10,80)"
   ]
  },
  {
   "cell_type": "code",
   "execution_count": null,
   "metadata": {},
   "outputs": [],
   "source": [
    "profile1={'Type':'Good',\n",
    "         'rewardType':'Progressive',\n",
    "         'initialSpeed':'10',\n",
    "         'Speed':['10'],\n",
    "         'Tag':'Early-Lesion_DMS'\n",
    "         }\n",
    "\n",
    "sessions=batch_get_session_list(root,animalList=['Rat101'],profile=profile1)['Sessions']\n",
    "a=[]\n",
    "for session in sessions:\n",
    "    data=Data(root,session[:6],session,param=param,redoPreprocess=False, saveAsPickle=False);\n",
    "    a.append(np.sum((data.entranceTime-7)**2)/len(data.entranceTime))\n",
    "plt.plot(a)"
   ]
  },
  {
   "cell_type": "code",
   "execution_count": null,
   "metadata": {},
   "outputs": [],
   "source": [
    "a=np.array([1,2,3,4,5,6])"
   ]
  },
  {
   "cell_type": "code",
   "execution_count": null,
   "metadata": {},
   "outputs": [],
   "source": [
    "a.m"
   ]
  },
  {
   "cell_type": "code",
   "execution_count": null,
   "metadata": {},
   "outputs": [],
   "source": [
    "filename='/data/Rat172/Experiments/Rat172_2018_02_25_14_36/Rat172_2018_02_25_14_36.raw.kwd'\n",
    "\n",
    "with tb.open_file(filename,\"r\") as kwd:\n",
    "    print(\"\\n\\nopenning %s\"%(filename))\n",
    "    dataLen,nchannels=kwd.get_node(\"/recordings/0/data\").read().shape\n",
    "    sampling_rate=kwd.get_node(\"/recordings/0/\")._v_attrs.__getitem__('sample_rate')\n",
    "print(dataLen,nchannels,sampling_rate)"
   ]
  },
  {
   "cell_type": "code",
   "execution_count": null,
   "metadata": {},
   "outputs": [],
   "source": [
    "f = h5py.File(filename, 'r')\n",
    "\n",
    "data = {}\n",
    "data['info'] = {Rec: f['recordings'][Rec].attrs \n",
    "                for Rec in f['recordings'].keys()}\n",
    "\n",
    "R = list(f['recordings'])[0]\n",
    "if 'channel_bit_volts' in f['recordings'][R]\\\n",
    "                           ['application_data'].keys():\n",
    "    data['channel_bit_volts'] = {Rec: f['recordings'][Rec]\\\n",
    "                                       ['application_data']\\\n",
    "                                       ['channel_bit_volts']\n",
    "                                 for Rec in f['recordings'].keys()}\n",
    "data['info']['0']['sample_rate']"
   ]
  },
  {
   "cell_type": "code",
   "execution_count": null,
   "metadata": {},
   "outputs": [],
   "source": [
    "filename=\"/data/RatTST/Experiments/RatTST_2018_02_25_14_36/RatTST_2018_02_25_14_36.kwik\"\n",
    "f= h5py.File(filename, 'r')"
   ]
  },
  {
   "cell_type": "code",
   "execution_count": null,
   "metadata": {},
   "outputs": [],
   "source": [
    "f['channel_groups']['0']['spikes']['time_samples'][:100]"
   ]
  },
  {
   "cell_type": "code",
   "execution_count": null,
   "metadata": {},
   "outputs": [],
   "source": [
    "f['channel_groups']['0']['spikes']['time_samples'].shape"
   ]
  },
  {
   "cell_type": "code",
   "execution_count": null,
   "metadata": {
    "collapsed": true
   },
   "outputs": [],
   "source": [
    "import os\n",
    "import h5py\n",
    "import tables as tb\n",
    "import numpy as np\n",
    "from matplotlib import pyplot as plt\n",
    "%matplotlib inline\n",
    "\n",
    "filetype='dat'\n",
    "#inputFile=\"/home/david/TEMP/TestData/testdata openephys/2016-11-04_11-49-24/experiment1_103.raw.kwd\"\n",
    "#inputFile=\"/data/SWI002/2/SWI002_2016_09_20_12_31/SWI002_2016_09_20_12_31.raw.kwd\"\n",
    "\n",
    "#sampling_rate=kwd['recordings']['0'].attrs['sample_rate']\n",
    "#f = h5py.File('inputFile','r')\n",
    "fnameout = inputFile[:-7] + filetype\n",
    "\n",
    "with tb.open_file(inputFile,\"r\") as f:\n",
    "    #data = f['recordings'][str(0)]['data'][:,:]\n",
    "    print((f.get_node(\"/recordings/0/data\").read().shape))\n",
    "    print((f.get_node('/recordings/0/')._v_attrs.__getitem__('sample_rate')))\n",
    "    print(f.root.recordings._v_nchildren)"
   ]
  },
  {
   "cell_type": "code",
   "execution_count": null,
   "metadata": {
    "collapsed": true
   },
   "outputs": [],
   "source": [
    "f = h5py.File(\"/data/Rat105/Experiments/Rat105_2016_12_12_16_11/Rat105_2016_12_12_16_11.kwik\",'r')\n",
    "info=f['recordings']['1']['data'].shape\n",
    "print((info))"
   ]
  },
  {
   "cell_type": "code",
   "execution_count": null,
   "metadata": {
    "collapsed": true
   },
   "outputs": [],
   "source": [
    "import KWIKphy\n",
    "from KWIKphy.session import Session\n",
    "f = \"/data/Rat105/Experiments/Rat105_2016_12_12_16_11/Rat105_2016_12_12_16_11.kwik\"\n",
    "session= Session(f)"
   ]
  },
  {
   "cell_type": "code",
   "execution_count": null,
   "metadata": {
    "collapsed": true
   },
   "outputs": [],
   "source": [
    "print (session.model._metadata)\n",
    "for shank in session.model._channel_groups:\n",
    "    session.model._channel_group=shank\n",
    "    print(shank,session.model._channel_group)"
   ]
  },
  {
   "cell_type": "code",
   "execution_count": null,
   "metadata": {
    "collapsed": true
   },
   "outputs": [],
   "source": [
    "session.model.__dict__.keys()"
   ]
  },
  {
   "cell_type": "code",
   "execution_count": null,
   "metadata": {
    "collapsed": true
   },
   "outputs": [],
   "source": [
    "#To read a kwik file using KWIKphy\n",
    "from KWIKphy.session import Session\n",
    "inputFile=\"/data/SWI002/2/SWI002_2016_09_20_12_52/SWI002_2016_09_20_12_52.kwik\"\n",
    "session= Session(inputFile)\n"
   ]
  },
  {
   "cell_type": "code",
   "execution_count": null,
   "metadata": {
    "collapsed": true
   },
   "outputs": [],
   "source": [
    "prmFile='/data/Rat107/Experiments/Rat107_2017_03_20_10_38/Rat107_2017_03_20_10_38.prm'\n",
    "def a():\n",
    "    x=1\n",
    "    def b():\n",
    "        CWD=os.getcwd()\n",
    "        os.chdir('/data/Rat107/Experiments/Rat107_2017_03_20_10_38')\n",
    "        prmName=os.path.basename(prmFile)\n",
    "        %run -i $prmName\n",
    "        os.chdir(CWD)\n",
    "        return locals()\n",
    "    return b()\n"
   ]
  },
  {
   "cell_type": "code",
   "execution_count": null,
   "metadata": {
    "collapsed": true
   },
   "outputs": [],
   "source": [
    "data=pd.read_csv(\"/data/Rat082/Rat082.tag\",delim_whitespace=True,skiprows=range(5))\n",
    "data"
   ]
  },
  {
   "cell_type": "code",
   "execution_count": null,
   "metadata": {},
   "outputs": [],
   "source": [
    "a=[1,2,3,4,5,6]\n",
    "try:\n",
    "    a.remove('3')\n",
    "except:pass\n",
    "a"
   ]
  },
  {
   "cell_type": "code",
   "execution_count": null,
   "metadata": {
    "scrolled": true
   },
   "outputs": [],
   "source": [
    "profile1={'Type':'Good',\n",
    "         #'rewardType':'Progressive',\n",
    "         #'initialSpeed':'10',\n",
    "         #'Speed':['10'],\n",
    "         'Tag':'Early-Lesion_M1-Late-Lesion_DLS'\n",
    "         }\n",
    "\n",
    "\n",
    "animalList=batch_get_animal_list(root,profile1)\n",
    "sessionProfile=batch_get_session_list('/data',animalList,profile1)\n",
    "print (animalList)\n",
    "#print(pd.DataFrame(sessionProfile))"
   ]
  },
  {
   "cell_type": "code",
   "execution_count": null,
   "metadata": {},
   "outputs": [],
   "source": [
    "picklePath='/data/Rat084/Experiments/Rat084_2016_10_06_11_28/Analysis/preprocesseddata_binsize250ms_.p'\n",
    "with open(picklePath,'rb') as f:\n",
    "    data=pickle.load(f)\n",
    "data.keys()"
   ]
  },
  {
   "cell_type": "code",
   "execution_count": null,
   "metadata": {},
   "outputs": [],
   "source": [
    "import math\n",
    "(math.factorial(23)/(math.factorial(9)*math.factorial(14)))"
   ]
  },
  {
   "cell_type": "code",
   "execution_count": null,
   "metadata": {},
   "outputs": [],
   "source": [
    "profile={'Type':'Good',\n",
    "         'rewardType':'Progressive',\n",
    "         'initialSpeed':'10',\n",
    "         'Speed':'10',\n",
    "         'Tag':['Early-Lesion_DLS-BackTo10','Early-Lesion_DLS-Late-var']\n",
    "        }\n",
    "\n",
    "a=batch_get_animal_list(root,profile)\n",
    "a"
   ]
  },
  {
   "cell_type": "code",
   "execution_count": null,
   "metadata": {},
   "outputs": [],
   "source": [
    "a=[[]]*3\n",
    "a"
   ]
  },
  {
   "cell_type": "code",
   "execution_count": null,
   "metadata": {
    "collapsed": true
   },
   "outputs": [],
   "source": []
  },
  {
   "cell_type": "code",
   "execution_count": null,
   "metadata": {},
   "outputs": [],
   "source": [
    "x=np.arange(0,10,0.01)\n",
    "y=np.sin(x)\n",
    "f=plt.figure()\n",
    "ax=plt.subplot(1,1,1)\n",
    "plt.plot(x,y)\n",
    "ax.set_xticks(range(2,8))\n",
    "ax.set_xticklabels(['a','b','c','d','e','f'])\n",
    "plt.show()"
   ]
  },
  {
   "cell_type": "code",
   "execution_count": null,
   "metadata": {},
   "outputs": [],
   "source": [
    "[ax.get_xticklabels()[i].get_text() for i in range(6)]"
   ]
  },
  {
   "cell_type": "code",
   "execution_count": null,
   "metadata": {},
   "outputs": [],
   "source": [
    "def f1 (a):\n",
    "    print(a)\n",
    "    return 1\n",
    "def f2 (a,b):\n",
    "    c=a(b)\n",
    "    print(c)\n",
    "    return c\n",
    "f2(f1,5)"
   ]
  },
  {
   "cell_type": "code",
   "execution_count": null,
   "metadata": {},
   "outputs": [],
   "source": [
    "def f(a,b=1):\n",
    "    print(type(b))\n",
    "    print(b)\n",
    "f(a=1,b=np.ones(5))"
   ]
  },
  {
   "cell_type": "code",
   "execution_count": null,
   "metadata": {},
   "outputs": [],
   "source": [
    "import inspect\n",
    "inspect.getargspec(f)"
   ]
  },
  {
   "cell_type": "code",
   "execution_count": null,
   "metadata": {},
   "outputs": [],
   "source": [
    "inspect.getargspec(update_animal_table_file)[0]"
   ]
  },
  {
   "cell_type": "code",
   "execution_count": null,
   "metadata": {},
   "outputs": [],
   "source": [
    "dic={'a':1,'b':[]}\n",
    "f(**dic)"
   ]
  },
  {
   "cell_type": "code",
   "execution_count": null,
   "metadata": {},
   "outputs": [],
   "source": [
    "import time\n",
    "print(time.perf_counter())"
   ]
  },
  {
   "cell_type": "code",
   "execution_count": null,
   "metadata": {},
   "outputs": [],
   "source": [
    "import pims"
   ]
  },
  {
   "cell_type": "code",
   "execution_count": null,
   "metadata": {},
   "outputs": [],
   "source": [
    "a=pims.NorpixSeq(\"/data/Rat106/Experiments/Rat106_2017_03_31_10_56/Rat106_2017_03_31_10_56.seq\").header_dict['compression_format']"
   ]
  }
 ],
 "metadata": {
  "anaconda-cloud": {},
  "kernelspec": {
   "display_name": "Python 3",
   "language": "python",
   "name": "python3"
  },
  "language_info": {
   "codemirror_mode": {
    "name": "ipython",
    "version": 3
   },
   "file_extension": ".py",
   "mimetype": "text/x-python",
   "name": "python",
   "nbconvert_exporter": "python",
   "pygments_lexer": "ipython3",
   "version": "3.7.1"
  }
 },
 "nbformat": 4,
 "nbformat_minor": 2
}
