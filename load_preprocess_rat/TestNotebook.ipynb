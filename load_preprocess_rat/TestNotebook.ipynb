{
 "cells": [
  {
   "cell_type": "code",
   "execution_count": 5,
   "metadata": {},
   "outputs": [
    {
     "data": {
      "text/html": [
       "<style>.container { width:90% !important; }</style>"
      ],
      "text/plain": [
       "<IPython.core.display.HTML object>"
      ]
     },
     "metadata": {},
     "output_type": "display_data"
    }
   ],
   "source": [
    "import os\n",
    "import glob\n",
    "import numpy as np\n",
    "from platform import system as OS\n",
    "import pandas as pd\n",
    "import tables as tb\n",
    "import h5py\n",
    "import scipy.stats\n",
    "import datetime\n",
    "from copy import deepcopy\n",
    "from IPython.display import clear_output, display, HTML, Image\n",
    "import matplotlib.cm as cm\n",
    "import warnings\n",
    "\n",
    "warnings.filterwarnings(\"ignore\")\n",
    "import sys\n",
    "import pickle\n",
    "import matplotlib.pyplot as plt\n",
    "\n",
    "if OS() == 'Linux':\n",
    "    root = \"/data\"\n",
    "elif OS() == 'Windows':\n",
    "    root = \"C:\\\\DATA\\\\\"\n",
    "else:\n",
    "    root = \"/Users/davidrobbe/Documents/Data/\"\n",
    "\n",
    "param={\n",
    "    \"goalTime\":7,#needed for pavel data only\n",
    "    \"treadmillRange\":[0,90],#pavel error conversion \"treadmillRange\":[0,80]\n",
    "    \"maxTrialDuration\":15,\n",
    "    \"interTrialDuration\":10,#None pavel\n",
    "    \"endTrial_frontPos\":30,\n",
    "    \"endTrial_backPos\":55, \n",
    "    \"endTrial_minTimeSec\":4,\n",
    "    \"cameraSamplingRate\":25, #needed for new setup    \n",
    "\n",
    "    \"sigmaSmoothPosition\":0.1,#0.33, 0.18 pavel\n",
    "    \"sigmaSmoothSpeed\":0.3,#0.3, 0.5 pavel\n",
    "    \"nbJumpMax\":100,#200 pavel\n",
    "    \"binSize\":0.25,\n",
    "    #parameters used to preprocess (will override the default parameters)\n",
    "}  \n",
    "\n",
    "%run Animal_Tags.ipynb\n",
    "%run BatchRatBehavior.ipynb\n",
    "%run plotRat_documentation_3_KinematicsInvestigation.ipynb\n",
    "%run plotRat_documentation_1_GeneralBehavior.ipynb\n",
    "%run loadRat_documentation.ipynb\n"
   ]
  },
  {
   "cell_type": "code",
   "execution_count": 13,
   "metadata": {},
   "outputs": [],
   "source": [
    "class tst(dict):\n",
    "    b=2\n",
    "    def __init__(self):\n",
    "        self.a = 1 + self.b\n",
    "A=tst()\n",
    "with open('/home/david/tst.p','wb') as f:\n",
    "    pickle.dump(A,f)"
   ]
  },
  {
   "cell_type": "code",
   "execution_count": 43,
   "metadata": {},
   "outputs": [
    {
     "name": "stdout",
     "output_type": "stream",
     "text": [
      "['Ayse', 'Ingrid', 'Maryam', 'David', 'Mostafa', 'Teresa', 'Anass']\n"
     ]
    }
   ],
   "source": [
    "seed=[2018,4,9]\n",
    "np.random.seed(seed=seed)\n",
    "names=['David','Teresa','Anass','Ayse','Mostafa','Ingrid','Maryam']\n",
    "\n",
    "np.random.shuffle(names)\n",
    "print(names)"
   ]
  },
  {
   "cell_type": "code",
   "execution_count": 6,
   "metadata": {},
   "outputs": [
    {
     "name": "stdout",
     "output_type": "stream",
     "text": [
      "Features and masks initialized.\u001b[K\n",
      "Initializing statistics: 100.0%.\n",
      "Statistics initialized.\u001b[K\n",
      "Initializing statistics: 100.0%.\n",
      "15:28:47 [I] Switched to channel group 1.\n",
      "Features and masks initialized.\u001b[K\n",
      "Initializing statistics: 100.0%.\n",
      "Statistics initialized.\u001b[K\n",
      "Initializing statistics: 100.0%.\n",
      "15:28:47 [I] Switched to channel group 2.\n",
      "Features and masks initialized.\u001b[K\n",
      "Initializing statistics: 100.0%.\n",
      "Statistics initialized.\u001b[K\n",
      "Initializing statistics: 100.0%.\n",
      "15:28:47 [I] Switched to channel group 3.\n",
      "Features and masks initialized.\u001b[K\n",
      "Initializing statistics: 100.0%.\n",
      "Statistics initialized.\u001b[K\n",
      "Initializing statistics: 100.0%.\n",
      "15:28:47 [I] Switched to channel group 4.\n",
      "Features and masks initialized.\u001b[K\n",
      "Initializing statistics: 100.0%.\n",
      "Statistics initialized.\u001b[K\n",
      "Initializing statistics: 100.0%.\n",
      "15:28:47 [I] Switched to channel group 5.\n",
      "Features and masks initialized.\u001b[K\n",
      "Initializing statistics: 100.0%.\n",
      "Statistics initialized.\u001b[K\n",
      "Initializing statistics: 100.0%.\n"
     ]
    }
   ],
   "source": [
    "session='Rat174_2018_05_07_14_27'\n",
    "data=Data(root,session[:6],session,param=param,redoPreprocess=True, saveAsPickle=False)\n"
   ]
  },
  {
   "cell_type": "code",
   "execution_count": 11,
   "metadata": {},
   "outputs": [
    {
     "data": {
      "text/plain": [
       "<__main__.Data at 0x7f7f1a5b8828>"
      ]
     },
     "execution_count": 11,
     "metadata": {},
     "output_type": "execute_result"
    }
   ],
   "source": [
    "data"
   ]
  },
  {
   "cell_type": "code",
   "execution_count": 2,
   "metadata": {},
   "outputs": [
    {
     "name": "stdout",
     "output_type": "stream",
     "text": [
      "\n",
      "\n",
      "openning /data/Rat172/Experiments/Rat172_2018_02_25_14_36/Rat172_2018_02_25_14_36.raw.kwd\n",
      "54310500 37 44100.0\n"
     ]
    }
   ],
   "source": [
    "filename='/data/Rat172/Experiments/Rat172_2018_02_25_14_36/Rat172_2018_02_25_14_36.raw.kwd'\n",
    "\n",
    "with tb.open_file(filename,\"r\") as kwd:\n",
    "    print(\"\\n\\nopenning %s\"%(filename))\n",
    "    dataLen,nchannels=kwd.get_node(\"/recordings/0/data\").read().shape\n",
    "    sampling_rate=kwd.get_node(\"/recordings/0/\")._v_attrs.__getitem__('sample_rate')\n",
    "print(dataLen,nchannels,sampling_rate)"
   ]
  },
  {
   "cell_type": "code",
   "execution_count": 3,
   "metadata": {},
   "outputs": [
    {
     "data": {
      "text/plain": [
       "44100.0"
      ]
     },
     "execution_count": 3,
     "metadata": {},
     "output_type": "execute_result"
    }
   ],
   "source": [
    "f = h5py.File(filename, 'r')\n",
    "\n",
    "data = {}\n",
    "data['info'] = {Rec: f['recordings'][Rec].attrs \n",
    "                for Rec in f['recordings'].keys()}\n",
    "\n",
    "R = list(f['recordings'])[0]\n",
    "if 'channel_bit_volts' in f['recordings'][R]\\\n",
    "                           ['application_data'].keys():\n",
    "    data['channel_bit_volts'] = {Rec: f['recordings'][Rec]\\\n",
    "                                       ['application_data']\\\n",
    "                                       ['channel_bit_volts']\n",
    "                                 for Rec in f['recordings'].keys()}\n",
    "data['info']['0']['sample_rate']"
   ]
  },
  {
   "cell_type": "code",
   "execution_count": 7,
   "metadata": {},
   "outputs": [],
   "source": [
    "filename=\"/data/RatTST/Experiments/RatTST_2018_02_25_14_36/RatTST_2018_02_25_14_36.kwik\"\n",
    "f= h5py.File(filename, 'r')"
   ]
  },
  {
   "cell_type": "code",
   "execution_count": 54,
   "metadata": {},
   "outputs": [
    {
     "data": {
      "text/plain": [
       "array([  465,   723,   912,  1159,  1188,  1223,  1333,  1558,  1645,\n",
       "        1823,  1845,  2058,  2538,  2671,  2696,  2929,  2959,  3131,\n",
       "        3926,  4396,  4456,  4866,  5244,  5303,  5647,  5767,  5784,\n",
       "        5934,  6217,  6463,  6626,  6686,  6869,  6948,  8245,  8435,\n",
       "        8461,  8649,  9115,  9202,  9797,  9911, 10067, 10160, 10382,\n",
       "       10571, 10790, 10939, 11300, 11497, 11964, 12928, 12960, 13301,\n",
       "       13331, 13553, 13633, 13948, 14138, 14566, 15307, 15755, 15965,\n",
       "       15997, 16361, 16429, 16956, 17017, 17095, 17193, 17194, 17195,\n",
       "       17195, 17228, 17276, 17336, 17433, 17939, 17983, 18036, 18156,\n",
       "       18221, 18336, 18382, 18416, 18416, 18497, 18497, 18498, 18535,\n",
       "       18596, 18623, 18624, 18625, 18625, 18625, 18625, 18626, 18651,\n",
       "       18657], dtype=uint64)"
      ]
     },
     "execution_count": 54,
     "metadata": {},
     "output_type": "execute_result"
    }
   ],
   "source": [
    "f['channel_groups']['0']['spikes']['time_samples'][:100]"
   ]
  },
  {
   "cell_type": "code",
   "execution_count": 38,
   "metadata": {},
   "outputs": [
    {
     "data": {
      "text/plain": [
       "(925799,)"
      ]
     },
     "execution_count": 38,
     "metadata": {},
     "output_type": "execute_result"
    }
   ],
   "source": [
    "f['channel_groups']['0']['spikes']['time_samples'].shape"
   ]
  },
  {
   "cell_type": "code",
   "execution_count": null,
   "metadata": {
    "collapsed": true
   },
   "outputs": [],
   "source": [
    "import os\n",
    "import h5py\n",
    "import tables as tb\n",
    "import numpy as np\n",
    "from matplotlib import pyplot as plt\n",
    "%matplotlib inline\n",
    "\n",
    "filetype='dat'\n",
    "#inputFile=\"/home/david/TEMP/TestData/testdata openephys/2016-11-04_11-49-24/experiment1_103.raw.kwd\"\n",
    "#inputFile=\"/data/SWI002/2/SWI002_2016_09_20_12_31/SWI002_2016_09_20_12_31.raw.kwd\"\n",
    "\n",
    "#sampling_rate=kwd['recordings']['0'].attrs['sample_rate']\n",
    "#f = h5py.File('inputFile','r')\n",
    "fnameout = inputFile[:-7] + filetype\n",
    "\n",
    "with tb.open_file(inputFile,\"r\") as f:\n",
    "    #data = f['recordings'][str(0)]['data'][:,:]\n",
    "    print((f.get_node(\"/recordings/0/data\").read().shape))\n",
    "    print((f.get_node('/recordings/0/')._v_attrs.__getitem__('sample_rate')))\n",
    "    print(f.root.recordings._v_nchildren)"
   ]
  },
  {
   "cell_type": "code",
   "execution_count": null,
   "metadata": {
    "collapsed": true
   },
   "outputs": [],
   "source": [
    "f = h5py.File(\"/data/Rat105/Experiments/Rat105_2016_12_12_16_11/Rat105_2016_12_12_16_11.kwik\",'r')\n",
    "info=f['recordings']['1']['data'].shape\n",
    "print((info))"
   ]
  },
  {
   "cell_type": "code",
   "execution_count": null,
   "metadata": {
    "collapsed": true
   },
   "outputs": [],
   "source": [
    "import KWIKphy\n",
    "from KWIKphy.session import Session\n",
    "f = \"/data/Rat105/Experiments/Rat105_2016_12_12_16_11/Rat105_2016_12_12_16_11.kwik\"\n",
    "session= Session(f)"
   ]
  },
  {
   "cell_type": "code",
   "execution_count": null,
   "metadata": {
    "collapsed": true
   },
   "outputs": [],
   "source": [
    "print (session.model._metadata)\n",
    "for shank in session.model._channel_groups:\n",
    "    session.model._channel_group=shank\n",
    "    print(shank,session.model._channel_group)"
   ]
  },
  {
   "cell_type": "code",
   "execution_count": null,
   "metadata": {
    "collapsed": true
   },
   "outputs": [],
   "source": [
    "session.model.__dict__.keys()"
   ]
  },
  {
   "cell_type": "code",
   "execution_count": null,
   "metadata": {
    "collapsed": true
   },
   "outputs": [],
   "source": [
    "#To read a kwik file using KWIKphy\n",
    "from KWIKphy.session import Session\n",
    "inputFile=\"/data/SWI002/2/SWI002_2016_09_20_12_52/SWI002_2016_09_20_12_52.kwik\"\n",
    "session= Session(inputFile)\n"
   ]
  },
  {
   "cell_type": "code",
   "execution_count": null,
   "metadata": {
    "collapsed": true
   },
   "outputs": [],
   "source": [
    "prmFile='/data/Rat107/Experiments/Rat107_2017_03_20_10_38/Rat107_2017_03_20_10_38.prm'\n",
    "def a():\n",
    "    x=1\n",
    "    def b():\n",
    "        CWD=os.getcwd()\n",
    "        os.chdir('/data/Rat107/Experiments/Rat107_2017_03_20_10_38')\n",
    "        prmName=os.path.basename(prmFile)\n",
    "        %run -i $prmName\n",
    "        os.chdir(CWD)\n",
    "        return locals()\n",
    "    return b()\n"
   ]
  },
  {
   "cell_type": "code",
   "execution_count": null,
   "metadata": {
    "collapsed": true
   },
   "outputs": [],
   "source": [
    "data=pd.read_csv(\"/data/Rat082/Rat082.tag\",delim_whitespace=True,skiprows=range(5))\n",
    "data"
   ]
  },
  {
   "cell_type": "code",
   "execution_count": 127,
   "metadata": {},
   "outputs": [
    {
     "data": {
      "text/plain": [
       "[1, 2, 3, 4, 5, 6]"
      ]
     },
     "execution_count": 127,
     "metadata": {},
     "output_type": "execute_result"
    }
   ],
   "source": [
    "a=[1,2,3,4,5,6]\n",
    "try:\n",
    "    a.remove('3')\n",
    "except:pass\n",
    "a"
   ]
  },
  {
   "cell_type": "code",
   "execution_count": 4,
   "metadata": {
    "scrolled": true
   },
   "outputs": [
    {
     "name": "stdout",
     "output_type": "stream",
     "text": [
      "['Rat041', 'Rat042', 'Rat047', 'Rat057', 'Rat059', 'Rat070', 'Rat075']\n"
     ]
    }
   ],
   "source": [
    "profile1={'Type':'Good',\n",
    "         #'rewardType':'Progressive',\n",
    "         #'initialSpeed':'10',\n",
    "         #'Speed':['10'],\n",
    "         'Tag':'Early-Lesion_M1-Late-Lesion_DLS'\n",
    "         }\n",
    "\n",
    "\n",
    "animalList=batch_get_animal_list(root,profile1)\n",
    "sessionProfile=batch_get_session_list('/data',animalList,profile1)\n",
    "print (animalList)\n",
    "#print(pd.DataFrame(sessionProfile))"
   ]
  },
  {
   "cell_type": "code",
   "execution_count": 2,
   "metadata": {},
   "outputs": [
    {
     "data": {
      "text/plain": [
       "dict_keys(['startFrame', 'xmlDict', 'treadmillRange', 'speedSmoothBin', 'rawPosition', 'timeTreadmill', 'lickTime', 'endTrial_backPos', 'realTrials', 'hasBehavior', 'parameters', 'trialOffset', 'positionDiffRange', 'position', 'medianPositionAlignEnd', 'sigmaSmoothSpeed', 'treadmillSpeed', 'deliveredReward', 'timeAlignEnd', 'indexEndTrial', 'deliveredRewardRatio', 'endTrial_frontPos', 'trialNotTracked', 'jumpFrame', 'maxTrialDuration', 'cameraStartTime', 'experiment', 'timeEndTrial', 'rawTime', 'positionAlignEnd', 'interTrialDuration', 'sigmaSmoothPosition', 'experimenter', 'cameraToTreadmillDelay', 'binSize', 'animal', 'entranceTime', 'timeBin', 'goodTrials', 'analysisPath', 'speedBin', 'fullPath', 'nTrial', 'hasEEG', 'nbJumpMax', 'treadmillStartTime', 'medianPosition', 'accelerationOnSpeedSmoothBin', 'accelerationOnSpeedBin', 'sessionPath', 'startAnalysisParams', 'emptyAnalysisFiles', 'stopFrame', 'positionBin', 'dataType', 'root', 'cameraSamplingRate', 'pawFrequencyRange', 'goalTime', 'endTrial_minTimeSec', 'trials', 'transientFrame'])"
      ]
     },
     "execution_count": 2,
     "metadata": {},
     "output_type": "execute_result"
    }
   ],
   "source": [
    "picklePath='/data/Rat084/Experiments/Rat084_2016_10_06_11_28/Analysis/preprocesseddata_binsize250ms_.p'\n",
    "with open(picklePath,'rb') as f:\n",
    "    data=pickle.load(f)\n",
    "data.keys()"
   ]
  },
  {
   "cell_type": "code",
   "execution_count": 6,
   "metadata": {},
   "outputs": [
    {
     "data": {
      "text/plain": [
       "817190.0"
      ]
     },
     "execution_count": 6,
     "metadata": {},
     "output_type": "execute_result"
    }
   ],
   "source": [
    "import math\n",
    "(math.factorial(23)/(math.factorial(9)*math.factorial(14)))"
   ]
  },
  {
   "cell_type": "code",
   "execution_count": 6,
   "metadata": {},
   "outputs": [
    {
     "data": {
      "text/plain": [
       "['Rat079',\n",
       " 'Rat081',\n",
       " 'Rat082',\n",
       " 'Rat097',\n",
       " 'Rat099',\n",
       " 'Rat100',\n",
       " 'Rat114',\n",
       " 'Rat115',\n",
       " 'Rat116',\n",
       " 'Rat136']"
      ]
     },
     "execution_count": 6,
     "metadata": {},
     "output_type": "execute_result"
    }
   ],
   "source": [
    "profile={'Type':'Good',\n",
    "         'rewardType':'Progressive',\n",
    "         'initialSpeed':'10',\n",
    "         'Speed':'10',\n",
    "         'Tag':['Early-Lesion_DLS-BackTo10','Early-Lesion_DLS-Late-var']\n",
    "        }\n",
    "\n",
    "a=batch_get_animal_list(root,profile)\n",
    "a"
   ]
  },
  {
   "cell_type": "code",
   "execution_count": 83,
   "metadata": {},
   "outputs": [
    {
     "data": {
      "text/plain": [
       "[[], [], []]"
      ]
     },
     "execution_count": 83,
     "metadata": {},
     "output_type": "execute_result"
    }
   ],
   "source": [
    "a=[[]]*3\n",
    "a"
   ]
  },
  {
   "cell_type": "code",
   "execution_count": null,
   "metadata": {
    "collapsed": true
   },
   "outputs": [],
   "source": []
  },
  {
   "cell_type": "code",
   "execution_count": 6,
   "metadata": {},
   "outputs": [
    {
     "data": {
      "image/png": "[encoded data removed]",
      "text/plain": [
       "<matplotlib.figure.Figure at 0x7ff8ee18a550>"
      ]
     },
     "metadata": {},
     "output_type": "display_data"
    }
   ],
   "source": [
    "x=np.arange(0,10,0.01)\n",
    "y=np.sin(x)\n",
    "f=plt.figure()\n",
    "ax=plt.subplot(1,1,1)\n",
    "plt.plot(x,y)\n",
    "ax.set_xticks(range(2,8))\n",
    "ax.set_xticklabels(['a','b','c','d','e','f'])\n",
    "plt.show()"
   ]
  },
  {
   "cell_type": "code",
   "execution_count": 78,
   "metadata": {},
   "outputs": [
    {
     "data": {
      "text/plain": [
       "['a', 'b', 'c', 'd', 'e', 'f']"
      ]
     },
     "execution_count": 78,
     "metadata": {},
     "output_type": "execute_result"
    }
   ],
   "source": [
    "[ax.get_xticklabels()[i].get_text() for i in range(6)]"
   ]
  },
  {
   "cell_type": "code",
   "execution_count": 6,
   "metadata": {},
   "outputs": [
    {
     "name": "stdout",
     "output_type": "stream",
     "text": [
      "5\n",
      "1\n"
     ]
    },
    {
     "data": {
      "text/plain": [
       "1"
      ]
     },
     "execution_count": 6,
     "metadata": {},
     "output_type": "execute_result"
    }
   ],
   "source": [
    "def f1 (a):\n",
    "    print(a)\n",
    "    return 1\n",
    "def f2 (a,b):\n",
    "    c=a(b)\n",
    "    print(c)\n",
    "    return c\n",
    "f2(f1,5)"
   ]
  },
  {
   "cell_type": "code",
   "execution_count": 69,
   "metadata": {},
   "outputs": [
    {
     "name": "stdout",
     "output_type": "stream",
     "text": [
      "<class 'numpy.ndarray'>\n",
      "[ 1.  1.  1.  1.  1.]\n"
     ]
    }
   ],
   "source": [
    "def f(a,b=1):\n",
    "    print(type(b))\n",
    "    print(b)\n",
    "f(a=1,b=np.ones(5))"
   ]
  },
  {
   "cell_type": "code",
   "execution_count": 71,
   "metadata": {},
   "outputs": [
    {
     "data": {
      "text/plain": [
       "ArgSpec(args=['a', 'b'], varargs=None, keywords=None, defaults=(1,))"
      ]
     },
     "execution_count": 71,
     "metadata": {},
     "output_type": "execute_result"
    }
   ],
   "source": [
    "import inspect\n",
    "inspect.getargspec(f)"
   ]
  },
  {
   "cell_type": "code",
   "execution_count": 67,
   "metadata": {},
   "outputs": [
    {
     "data": {
      "text/plain": [
       "['root', 'days_to_check']"
      ]
     },
     "execution_count": 67,
     "metadata": {},
     "output_type": "execute_result"
    }
   ],
   "source": [
    "inspect.getargspec(update_animal_table_file)[0]"
   ]
  },
  {
   "cell_type": "code",
   "execution_count": 74,
   "metadata": {},
   "outputs": [
    {
     "name": "stdout",
     "output_type": "stream",
     "text": [
      "<class 'list'>\n",
      "[]\n"
     ]
    }
   ],
   "source": [
    "dic={'a':1,'b':[]}\n",
    "f(**dic)"
   ]
  },
  {
   "cell_type": "code",
   "execution_count": 15,
   "metadata": {},
   "outputs": [
    {
     "name": "stdout",
     "output_type": "stream",
     "text": [
      "1217442.431702497\n"
     ]
    }
   ],
   "source": [
    "import time\n",
    "print(time.perf_counter())"
   ]
  }
 ],
 "metadata": {
  "anaconda-cloud": {},
  "kernelspec": {
   "display_name": "Python 3",
   "language": "python",
   "name": "python3"
  },
  "language_info": {
   "codemirror_mode": {
    "name": "ipython",
    "version": 3
   },
   "file_extension": ".py",
   "mimetype": "text/x-python",
   "name": "python",
   "nbconvert_exporter": "python",
   "pygments_lexer": "ipython3",
   "version": "3.6.6"
  }
 },
 "nbformat": 4,
 "nbformat_minor": 2
}
