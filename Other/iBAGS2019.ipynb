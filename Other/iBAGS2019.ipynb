{
 "cells": [
  {
   "cell_type": "code",
   "execution_count": 1,
   "metadata": {},
   "outputs": [
    {
     "data": {
      "text/html": [
       "<style>.container { width:90% !important; }</style>"
      ],
      "text/plain": [
       "<IPython.core.display.HTML object>"
      ]
     },
     "metadata": {},
     "output_type": "display_data"
    }
   ],
   "source": [
    "import os\n",
    "import glob\n",
    "import numpy as np\n",
    "from platform import system as OS\n",
    "import pandas as pd\n",
    "import scipy.stats\n",
    "import math\n",
    "from shutil import copy, rmtree\n",
    "import matplotlib\n",
    "import datetime\n",
    "from copy import deepcopy\n",
    "from IPython.display import clear_output, display, HTML, Image\n",
    "import matplotlib.cm as cm\n",
    "import warnings\n",
    "warnings.filterwarnings(\"ignore\")\n",
    "import sys, logging\n",
    "import pickle\n",
    "import matplotlib.pyplot as plt\n",
    "from scipy import stats\n",
    "from matplotlib import mlab\n",
    "from mpl_toolkits.mplot3d import Axes3D\n",
    "from matplotlib.ticker import FormatStrFormatter\n",
    "\n",
    "if \"__file__\" not in dir():\n",
    "\n",
    "    root='/data'\n",
    "\n",
    "    ThisNoteBookPath=os.path.dirname(os.path.realpath(\"__file__\"))\n",
    "    CommunNoteBookesPath=os.path.join(os.path.split(ThisNoteBookPath)[0],\"load_preprocess_rat\")\n",
    "    CWD=os.getcwd()\n",
    "    os.chdir(CommunNoteBookesPath)   \n",
    "    %run Animal_Tags.ipynb\n",
    "    %run UtilityTools.ipynb\n",
    "    %run BatchRatBehavior.ipynb\n",
    "    %run loadRat_documentation.ipynb\n",
    "    %run plotRat_documentation_1_GeneralBehavior.ipynb\n",
    "    %run plotRat_documentation_3_KinematicsInvestigation.ipynb\n",
    "    %run Animal_Tags.ipynb\n",
    "    %run RunBatchRat_3_CompareGroups.ipynb\n",
    "    %run Lesion_Size.ipynb\n",
    "\n",
    "    os.chdir(CWD)\n",
    "\n",
    "    defaultParam={\n",
    "        \"binSize\":0.25,\n",
    "        \"trialOffset\":20., #max end of trial, in seconds (position will be cutted)\n",
    "        \"sigmaSmoothPosition\":0.1,  #smooth the position\n",
    "        #\"sigmaSmoothPosition\":0.33 for pavel dataType\n",
    "        \"treadmillRange\":[0,90],\n",
    "        \"sigmaSmoothSpeed\":0.3, #smooth the speed\n",
    "        \"positionDiffRange\": [2.,5.], #min and max differences allowed between two consecutive positions\n",
    "                                      #min to correct start, max to correct jumps\n",
    "        \"pawFrequencyRange\":[2.,10.],\n",
    "        \"startAnalysisParams\":[10,0.2,0.5],\n",
    "        \"cameraToTreadmillDelay\":2., #seconds, usual time between camera start and treadmill start\n",
    "        \"nbJumpMax\" : 100., #if jumps>nbJumpMax, trial is badly tracked\n",
    "\n",
    "        #parameter to detect end of trial (first position minima)\n",
    "        \"endTrial_backPos\":55,  # minima is after the animal went once to the back (after first time position>backPos)\n",
    "        \"endTrial_frontPos\":30, # minima's position is in front of treadmill (position[end]<frontPos)\n",
    "        \"endTrial_minTimeSec\":4, # minima is after minTimeSec seconds (time[end]>minTimeSec)\n",
    "        }\n",
    "    font = {'family' : 'normal',\n",
    "            'weight' : 'normal',\n",
    "            'size'   : 13}"
   ]
  },
  {
   "cell_type": "markdown",
   "metadata": {},
   "source": [
    "Early"
   ]
  },
  {
   "cell_type": "code",
   "execution_count": 9,
   "metadata": {},
   "outputs": [],
   "source": [
    "def early_lesion_size_control(root,PerfParamToPlot,AnimalProfile, animalList):\n",
    "    \"\"\"\n",
    "    loads lesion size and location of animals and returns corresponding \n",
    "    behavioral measures for those animals\n",
    "    \"\"\"\n",
    "#     allFiles=HistologyExcel.read_all('/NAS02')\n",
    "\n",
    "    size=[]\n",
    "    loc=[]\n",
    "    behav=[]\n",
    "    animals=[]\n",
    "    for animal in animalList:\n",
    "        try:\n",
    "            i=HistologyExcel('/NAS02',animal)\n",
    "        except AssertionError as e:\n",
    "            logging.warning(repr(e))\n",
    "            continue\n",
    "        except Exception as e:\n",
    "            logging.error(f'{animal}: {repr(e)}')\n",
    "            continue\n",
    "        \n",
    "        res=plot_learningCurves(root,animal=animal,PerfParamToPlot=PerfParamToPlot,profile=AnimalProfile,\n",
    "                                stop_date='',redoPreprocess=False,\n",
    "                                redoStat=True,override=False,plot=False,PrintWarning=False)[PerfParamToPlot[0]][20:30]\n",
    "\n",
    "        try:\n",
    "            t1=np.nanmean(res)\n",
    "            t2=i.lesion_location()\n",
    "            t3=i.lesion_size()\n",
    "        except Exception as e:\n",
    "            logging.warning(repr(e))\n",
    "            continue\n",
    "        behav.append(t1)\n",
    "        loc.append(t2)\n",
    "        size.append(t3)\n",
    "        animals.append(animal)\n",
    "    \n",
    "    return behav, loc, size, animals    "
   ]
  },
  {
   "cell_type": "code",
   "execution_count": 10,
   "metadata": {},
   "outputs": [
    {
     "name": "stderr",
     "output_type": "stream",
     "text": [
      "WARNING:root:AssertionError('No Excel files/NAS02/Rat330/Rat330*.xls*')\n",
      "WARNING:root:AssertionError('No Excel files/NAS02/Rat332/Rat332*.xls*')\n"
     ]
    }
   ],
   "source": [
    "if \"__file__\" not in dir():\n",
    "    \n",
    "    AnimalProfile={'Type':'Good',\n",
    "#          'option': ['not used'],\n",
    "         'rewardType':'Progressive',\n",
    "         'initialSpeed':['10','0'],\n",
    "         'Speed':'10',\n",
    "         'Tag':['Early-Lesion_DS','Early-Lesion_DMS','Early-Lesion_DLS']\n",
    "                  }\n",
    "    \n",
    "    PerfParamToPlot1 =['Forward Running Speed']\n",
    "        \n",
    "    animalList=batch_get_animal_list(root,AnimalProfile)\n",
    "    \n",
    "    behav1, loc1, size1, animals1= early_lesion_size_control(root,PerfParamToPlot1,AnimalProfile, animalList)"
   ]
  },
  {
   "cell_type": "code",
   "execution_count": 11,
   "metadata": {},
   "outputs": [
    {
     "data": {
      "image/png": "[encoded data removed]",
      "text/plain": [
       "<Figure size 432x288 with 2 Axes>"
      ]
     },
     "metadata": {
      "needs_background": "light"
     },
     "output_type": "display_data"
    }
   ],
   "source": [
    "if \"__file__\" not in dir():\n",
    "    cm = plt.cm.get_cmap('viridis')\n",
    "    fig=plt.figure()\n",
    "    ax=fig.add_subplot(111)\n",
    "    sc=ax.scatter(loc1,behav1,c=size1,cmap=cm,s=100,marker='P')\n",
    "    ax.set_ylabel(\"Forward Running Speed (cm/s)\",fontdict=font)\n",
    "    ax.set_xlabel(r'DMS $\\leftarrow$ Lesion Centroid $\\rightarrow$ DLS',fontdict=font)\n",
    "#     ax.set_title('r='+str(np.corrcoef(behav,loc)[0,1])[:5]+', p='+str(scipy.stats.pearsonr(behav,loc)[1])[:5],fontdict=font);\n",
    "    ax.axvline(0,color='k');\n",
    "    ax.set_xlim([-.15,.15])\n",
    "    ax.set_xticks([ax.get_xlim()[0],0,ax.get_xlim()[1]])\n",
    "    ax.set_xticklabels(ax.get_xticks(),fontdict=font)\n",
    "    ax.set_yticklabels(ax.get_yticks(),fontdict=font)\n",
    "    cbAx=plt.colorbar(sc,ax=ax);\n",
    "    cbAx.set_label(\"Lesion Size\",fontdict=font)\n",
    "    cbAx.set_ticks(np.arange(0,1,.1))\n",
    "#     cbAx.set_ticklabels(cbAx.get_ticks())\n",
    "#     for i, txt in enumerate(animals):\n",
    "#         ax.annotate(txt[-3:], (loc[i], behav[i]))\n",
    "\n",
    "# filename='/home/david/Mostafa/PhD/InmedDays2018/earlyLesionSize.svg'\n",
    "# fig.savefig(filename,format='svg')"
   ]
  },
  {
   "cell_type": "markdown",
   "metadata": {},
   "source": [
    "### Late"
   ]
  },
  {
   "cell_type": "code",
   "execution_count": 12,
   "metadata": {},
   "outputs": [],
   "source": [
    "def late_lesion_size_control(root,PerfParamToPlot,profile1,profile2,param={}):\n",
    "    \"\"\"\n",
    "    loads lesion size and location of animals and returns corresponding \n",
    "    behavioral measures for those animals\n",
    "    use for late lesion animals\n",
    "    \"\"\"\n",
    "    animalList=event_detect(root,profile1,profile2)[1].keys()\n",
    "#     allFiles=HistologyExcel.read_all('/NAS02')\n",
    "    \n",
    "    size=[]\n",
    "    loc=[]\n",
    "    behav=[]\n",
    "    animals=[]\n",
    "    for animal in animalList:\n",
    "        try:\n",
    "            i=HistologyExcel('/NAS02',animal)\n",
    "        except Exception as e:\n",
    "            logging.error(f'{animal}: {repr(e)}')\n",
    "            continue\n",
    "        \n",
    "        res1=plot_learningCurves(root,animal=animal,PerfParamToPlot=PerfParamToPlot,profile=profile1,\n",
    "                                stop_date='',redoPreprocess=False,parameter=param,\n",
    "                                redoStat=True,override=False,plot=False,PrintWarning=False)[PerfParamToPlot[0]][-5:]\n",
    "        \n",
    "        res2=plot_learningCurves(root,animal=animal,PerfParamToPlot=PerfParamToPlot,profile=profile2,\n",
    "                                stop_date='',redoPreprocess=False,parameter=param,\n",
    "                                redoStat=True,override=False,plot=False,PrintWarning=False)[PerfParamToPlot[0]][:5]\n",
    "\n",
    "\n",
    "        try:\n",
    "            t1=np.nanmean(res2)/np.nanmean(res1)\n",
    "            t2=i.lesion_location()\n",
    "            t3=i.lesion_size()\n",
    "        except Exception as e:\n",
    "            logging.warning(repr(e))\n",
    "            continue\n",
    "        behav.append(t1)\n",
    "        loc.append(t2)\n",
    "        size.append(t3)\n",
    "        animals.append(animal)\n",
    "    \n",
    "    return behav, loc, size, animals"
   ]
  },
  {
   "cell_type": "code",
   "execution_count": 13,
   "metadata": {},
   "outputs": [],
   "source": [
    "if \"__file__\" not in dir():\n",
    "    profile1={'Type':'Good',\n",
    "             'rewardType':'Progressive',\n",
    "             'initialSpeed':['0','10'],\n",
    "             'Speed':'10',\n",
    "             'Tag':['Control','Control-AfterBreak','Control-Late-NoTimeout-BackToTimeout',\n",
    "                    'Control-NoTimeout-Control']\n",
    "             }\n",
    "    profile2={'Type':'Good',\n",
    "             'rewardType':'Progressive',\n",
    "             'initialSpeed':['0','10'],\n",
    "             'Speed':'10',\n",
    "             'Tag':['Late-Lesion_DMS','Late-Lesion_DLS','Late-Lesion_DS',\n",
    "                   'Late-Lesion_DMS-Sharp','Late-Lesion_DLS-Sharp','Late-Lesion_DS-Sharp']\n",
    "             }\n",
    "    \n",
    "    _,sessionDic=event_detect(root,profile1,profile2)\n",
    "    \n",
    "\n",
    "    PerfParamToPlot=['Forward Running Speed']\n",
    "    \n",
    "    plotFunctionList=[]\n",
    "\n",
    "    Behav, Loc, Size, Animals=late_lesion_size_control(root,PerfParamToPlot,profile1,profile2,param=defaultParam)"
   ]
  },
  {
   "cell_type": "code",
   "execution_count": 14,
   "metadata": {},
   "outputs": [
    {
     "data": {
      "image/png": "[encoded data removed]",
      "text/plain": [
       "<Figure size 432x288 with 2 Axes>"
      ]
     },
     "metadata": {
      "needs_background": "light"
     },
     "output_type": "display_data"
    }
   ],
   "source": [
    "if \"__file__\" not in dir():\n",
    "    cm = plt.cm.get_cmap('viridis')\n",
    "    fig=plt.figure()\n",
    "    ax=fig.add_subplot(111)\n",
    "    sc=ax.scatter(Loc,Behav,c=Size,cmap=cm,s=100,marker='P')\n",
    "    ax.set_ylabel(\"Normalized Forward Speed\",fontdict=font)\n",
    "    ax.set_xlabel(r'DMS $\\leftarrow$ Lesion Centroid $\\rightarrow$ DLS',fontdict=font)\n",
    "#     ax.set_title('r='+str(np.corrcoef(Behav,Loc)[0,1])[:5]+', p='+str(scipy.stats.pearsonr(Behav,Loc)[1])[:5]);\n",
    "    ax.axvline(0,color='k');\n",
    "    ax.axhline(1,color='k');\n",
    "    ax.set_xlim([-.15,.15])\n",
    "    ax.set_ylim([.35,1.3])\n",
    "    ax.set_xticks([ax.get_xlim()[0],0,ax.get_xlim()[1]])\n",
    "    ax.set_xticklabels(ax.get_xticks(),fontdict=font)\n",
    "    ax.set_yticklabels(ax.get_yticks(),fontdict=font)\n",
    "    ax.xaxis.set_major_formatter(FormatStrFormatter('%.2f'))\n",
    "    ax.yaxis.set_major_formatter(FormatStrFormatter('%.2f'))\n",
    "    cbAx=plt.colorbar(sc,ax=ax);\n",
    "    cbAx.set_label(\"Lesion Size\",fontdict=font)\n",
    "    cbAx.set_ticks(np.arange(0,1,.1))\n",
    "#     cbAx.set_ticklabels(cbAx.get_ticks())\n",
    "\n",
    "#     for i, txt in enumerate(Animals):\n",
    "#         ax.annotate(txt[-3:], (Loc[i], Behav[i]))\n",
    "\n",
    "# filename='/home/david/Mostafa/PhD/InmedDays2018/lateLesionSize.svg'\n",
    "# fig.savefig(filename,format='svg')"
   ]
  }
 ],
 "metadata": {
  "kernelspec": {
   "display_name": "Python 3",
   "language": "python",
   "name": "python3"
  },
  "language_info": {
   "codemirror_mode": {
    "name": "ipython",
    "version": 3
   },
   "file_extension": ".py",
   "mimetype": "text/x-python",
   "name": "python",
   "nbconvert_exporter": "python",
   "pygments_lexer": "ipython3",
   "version": "3.7.1"
  }
 },
 "nbformat": 4,
 "nbformat_minor": 2
}
