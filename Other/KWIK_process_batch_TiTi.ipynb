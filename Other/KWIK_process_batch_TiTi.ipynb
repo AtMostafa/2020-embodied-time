{
 "cells": [
  {
   "cell_type": "markdown",
   "metadata": {},
   "source": [
    "# Opening and processing kwik files"
   ]
  },
  {
   "cell_type": "markdown",
   "metadata": {},
   "source": [
    "Importing"
   ]
  },
  {
   "cell_type": "code",
   "execution_count": 7,
   "metadata": {
    "collapsed": true
   },
   "outputs": [],
   "source": [
    "import os\n",
    "import sys\n",
    "import glob\n",
    "import numpy as np\n",
    "import matplotlib.pyplot as plt\n",
    "import pickle\n",
    "\n",
    "if \"__file__\" not in dir():\n",
    "    root=\"C:\\\\data\"\n",
    "\n",
    "def find_file(path, extension=['.raw.kwd']):\n",
    "    \"\"\"\n",
    "    This function finds all the file types specified by 'extension' (ex: *.dat) in the 'path' directory\n",
    "    and all its subdirectories and their sub-subdirectories etc., \n",
    "    and returns a list of all dat file paths\n",
    "    'extension' is a list of desired file extensions: ['.dat','.prm']\n",
    "    \"\"\"\n",
    "    if type(extension) is str:\n",
    "        extension=extension.split()   #turning extension into a list with a single element\n",
    "    return [os.path.join(walking[0],goodfile) for walking in list(os.walk(path)) \n",
    "         for goodfile in walking[2] for ext in extension if goodfile.endswith(ext)]\n",
    "\n",
    "def prm_reader(prmFile):\n",
    "    CWD=os.getcwd()\n",
    "    try:\n",
    "        os.chdir(os.path.dirname(prmFile))\n",
    "        prmName=os.path.basename(prmFile)\n",
    "        %run $prmName\n",
    "    finally:\n",
    "        os.chdir(CWD)\n",
    "    return globals()"
   ]
  },
  {
   "cell_type": "markdown",
   "metadata": {},
   "source": [
    "## Opening the KWIK file"
   ]
  },
  {
   "cell_type": "markdown",
   "metadata": {},
   "source": [
    "Opening a KWIK file and returning the spike information"
   ]
  },
  {
   "cell_type": "code",
   "execution_count": 2,
   "metadata": {},
   "outputs": [
    {
     "name": "stdout",
     "output_type": "stream",
     "text": [
      "C:\\data\\SWI016\\Experiments\\SWI016_2017_02_03_14_03\\SWI016_2017_02_03_14_03.kwik\n",
      "KWIK file not found!\n"
     ]
    }
   ],
   "source": [
    "def read_spikes_sample_and_clu(session):\n",
    "    #cluGroup is the group of the cluster (noise, mua, good...)\n",
    "    spikeSample,clusterGroup={},{}\n",
    "    spikeIndex={}\n",
    "    channelGroupList = {}\n",
    "    first = True\n",
    "    for chgroup in session.model.channel_groups:\n",
    "        if first:\n",
    "            first = False\n",
    "        else:\n",
    "            session.change_channel_group(chgroup)\n",
    "        spikeSample[chgroup]={}\n",
    "        clusterGroup[chgroup]={}\n",
    "        spikeIndex[chgroup]={}\n",
    "        #self.channelGroupList[chgroup] = list(session.model.channel_order)\n",
    "        #default cluster group names (0: 'Noise', 1: 'MUA', 2: 'Good', 3: 'Unsorted')\n",
    "        for cluGroupName in session.model.default_cluster_groups.values():\n",
    "            clusterGroup[chgroup][cluGroupName]=[]\n",
    "            \n",
    "        #for every cluster in the channel_group\n",
    "        for clu in session.model.cluster_ids:\n",
    "            spikeSample[chgroup][clu]=session.model.spike_samples[session.model.spike_clusters==clu]  \n",
    "            #spikeIndex[chgroup][clu]=session.model.spike_ids[session.model.spike_clusters==clu]\n",
    "            cluGroupID=session.model.cluster_metadata.group(clu)\n",
    "            if isinstance(cluGroupID, np.ndarray):\n",
    "                print(\"Warning- cluster group of cluster %s is an array (%s), taking first value\"%(clu,cluGroupID))\n",
    "                cluGroupID=cluGroupID[0]\n",
    "            if isinstance(cluGroupID, bytes):\n",
    "                print(\"Warning- cluster group of cluster %s is a bytes, putting it in 'unsorted'\"%(clu))\n",
    "                cluGroupID = 3\n",
    "            # if a group was created (ID>3), put it in \"Good\"(2)\n",
    "            if cluGroupID>3:\n",
    "                cluGroupID=2\n",
    "            cluGroupName=session.model.default_cluster_groups[cluGroupID]        \n",
    "            clusterGroup[chgroup][cluGroupName].append(clu)\n",
    "    #self.spikeIndex=spikeIndex\n",
    "    return spikeSample,clusterGroup\n",
    "\n",
    "def open_kwik_file(inputFile):\n",
    "    \"\"\"\n",
    "    This function opens a kwik file using KWIKphy session package, \n",
    "    and returns spike times and types of Good and MUA clusters\n",
    "    \"\"\"\n",
    "    if not os.path.exists(inputFile):\n",
    "        print(\"%s\\nKWIK file not found!\"%(inputFile))\n",
    "        return False\n",
    "    from KWIKphy.session import Session\n",
    "        \n",
    "    try:\n",
    "        sessionInfo=Session(inputFile)\n",
    "        print(\"KWIK file loaded!\")\n",
    "    except Exception as e:\n",
    "        print(\"KWIKphy failed to open the KWIK file:\")\n",
    "        print(inputFile)\n",
    "        print(repr(e))\n",
    "        return False\n",
    "    \n",
    "    spikeSample,clusterGroup=read_spikes_sample_and_clu(sessionInfo)\n",
    "    print(\"Done!\")\n",
    "    return spikeSample,clusterGroup\n",
    "\n",
    "\n",
    "\n",
    "#----------------------------------------------------------------\n",
    "if \"__file__\" not in dir():\n",
    "   \n",
    "    inputFile=\"C:\\\\data\\\\SWI016\\\\Experiments\\\\SWI016_2017_02_03_14_03\\\\SWI016_2017_02_03_14_03.kwik\"\n",
    "    a=open_kwik_file(inputFile)\n",
    "    #print(a)"
   ]
  },
  {
   "cell_type": "markdown",
   "metadata": {},
   "source": [
    "## Processing"
   ]
  },
  {
   "cell_type": "code",
   "execution_count": 3,
   "metadata": {},
   "outputs": [
    {
     "name": "stdout",
     "output_type": "stream",
     "text": [
      "Features and masks initialized.\u001b[K\n",
      "Initializing statistics: 100.0%.\n",
      "Statistics initialized.\u001b[K\n",
      "Initializing statistics: 100.0%.\n",
      "KWIK file loaded!\n",
      "Done!\n"
     ]
    },
    {
     "data": {
      "image/png": "[encoded data removed]",
      "text/plain": [
       "<matplotlib.figure.Figure at 0x7f54bdcdf048>"
      ]
     },
     "metadata": {},
     "output_type": "display_data"
    },
    {
     "data": {
      "image/png": "[encoded data removed]",
      "text/plain": [
       "<matplotlib.figure.Figure at 0x7f55178aff98>"
      ]
     },
     "metadata": {},
     "output_type": "display_data"
    }
   ],
   "source": [
    "def compute_firing_rate(data):\n",
    "    \"\"\"\n",
    "    This functions computes firing rate of a SINGLE neuron\n",
    "    data: spike times as a np.array vector\n",
    "    output: \n",
    "    \"\"\"\n",
    "    ISI=np.diff(data) #ISI means Inter Spike Interval\n",
    "    return np.median (np.reciprocal(ISI.astype('float')))\n",
    "\n",
    "def plot_median_firing_rate(spikeSample,clusterGroup,samplingRate,\n",
    "                            cluToPlot=['Good']):\n",
    "        \n",
    "    if type(cluToPlot) is str:\n",
    "        cluToPlot=cluToPlot.split()    #turns into a list\n",
    "   \n",
    "    #max number of neurons per shank\n",
    "    maxN=0\n",
    "    for shank in spikeSample:\n",
    "        if len(spikeSample[shank].keys()) > maxN:\n",
    "            maxN=len(spikeSample[shank].keys())\n",
    "    \n",
    "    #create an empty 3D matrix with Nan values\n",
    "    neuralFiringRate=np.empty((len(cluToPlot),\n",
    "                               len(spikeSample),\n",
    "                               maxN))*np.nan\n",
    "    \n",
    "    #then fill matrix with values : neuralFiringRate=cluType*shank*cluster \n",
    "    for cluType in cluToPlot:\n",
    "        for shank in spikeSample: #1st fig for shank0 and 2nd for shank1\n",
    "            fig, ax = plt.subplots(figsize=(7,4))\n",
    "            for clu in clusterGroup[shank][cluType]:\n",
    "                tmp=compute_firing_rate(spikeSample[shank][clu]/samplingRate)\n",
    "                neuralFiringRate[cluToPlot.index(cluType),shank,clusterGroup[shank][cluType].index(clu)]=tmp\n",
    "                plt.bar(clu, tmp, ecolor='k', align='center', width=0.5, edgecolor='k', color='k')\n",
    "                plt.xlim(0,maxN+1)\n",
    "                plt.ylim(-.3,plt.ylim()[1]+1)\n",
    "                plt.title(\"Firing rate: shank\"+str(shank))\n",
    "                \n",
    "    #Plotting\n",
    "    Median={}\n",
    "    Std={}\n",
    "    for cluType in cluToPlot:\n",
    "        plt.figure()\n",
    "        Median[cluType]=[]\n",
    "        Std[cluType]=[]\n",
    "        for ID,shank in enumerate(spikeSample):\n",
    "            Median[cluType].append(np.nanmedian(neuralFiringRate[cluToPlot.index(cluType),shank,:]))\n",
    "            Std[cluType].append(np.nanstd(neuralFiringRate[cluToPlot.index(cluType),shank,:]))\n",
    "            plt.bar(left=shank,\n",
    "                    height=Median[cluType][-1],\n",
    "                    yerr=Std[cluType][-1],\n",
    "                    color='r',\n",
    "                    edgecolor='k',\n",
    "                    ecolor='k')\n",
    "        Median[cluType]=[np.nanmean(Median[cluType])]\n",
    "\n",
    "        plt.xticks([i for i in spikeSample.keys()],['shank'+str(i) for i in spikeSample.keys()])\n",
    "        plt.show()\n",
    "\n",
    "    return neuralFiringRate\n",
    "\n",
    "#---------------------------------------------------------\n",
    "if \"__file__\" not in dir():\n",
    "    path=\"/data/SWI002/2/SWI002_2016_09_20_12_31/SWI002_2016_09_20_12_31.kwik\"\n",
    "    spikeSample,clusterGroup=open_kwik_file(path)\n",
    "    a=plot_median_firing_rate(spikeSample,clusterGroup,20000,['Good'])"
   ]
  },
  {
   "cell_type": "markdown",
   "metadata": {},
   "source": [
    "### run for all the sessions of an animal"
   ]
  },
  {
   "cell_type": "code",
   "execution_count": null,
   "metadata": {
    "collapsed": true
   },
   "outputs": [],
   "source": [
    "def animal_firing_rate(root,animal,cluToPlot=['Good'],overwrite=False):\n",
    "    \n",
    "    kwikFileList=find_file(os.path.join(root,animal), extension=['.kwik'])\n",
    "    for kwikFile in kwikFileList:\n",
    "        picklePath=os.path.join(os.path.dirname(kwikFile),'FiringRate_'+str(cluToPlot)+'.p')\n",
    "        if os.path.isfile(picklePath) and not overwrite:\n",
    "            continue\n",
    "        session=os.path.basename(kwikFile).split('.')[0]\n",
    "        prmFile=os.path.join(os.path.dirname(kwikFile),session+'.prm')\n",
    "        samplingRate=prm_reader(prmFile)['sample_rate']\n",
    "        spikeSample,clusterGroup=open_kwik_file(kwikFile)\n",
    "        firingRate=plot_median_firing_rate(spikeSample,clusterGroup,samplingRate,cluToPlot=cluToPlot)\n",
    "        plt.close()\n",
    "        with open(picklePath,'wb') as f:\n",
    "            pickle.dump(firingRate,f)\n",
    "    print('pickles are ready!')\n",
    "    \n",
    "def animal_grand_average(root,animal,cluToPlot=['Good'],redoPickle=False):\n",
    "    \n",
    "    animal_firing_rate(root,animal,cluToPlot=cluToPlot,overwrite=redoPickle)\n",
    "    pickleName='FiringRate_'+str(cluToPlot)+'.p'\n",
    "    pFileList=find_file(os.path.join(root,animal), extension=['.p'])\n",
    "    results=[]\n",
    "    for pickcleFile in pFileList:\n",
    "        if pickleName not in pickleFile:\n",
    "            continue\n",
    "        with open(pickleFile,'rb') as f:\n",
    "            results.append(pickle.load(f))\n",
    "    values=[]\n",
    "    for item in results:\n",
    "        values.extend(item.flatten().tolist())\n",
    "    \n",
    "    return np.nanmedian (values)"
   ]
  },
  {
   "cell_type": "code",
   "execution_count": null,
   "metadata": {
    "collapsed": true
   },
   "outputs": [],
   "source": [
    "    for animal in animalList:\n",
    "        animalFolder=os.path.join(path,animal)\n",
    "        rawfile_list = find_file(animalFolder,['.raw.kwd'])\n",
    "        for rawfile in rawfile_list:\n",
    "            try:\n",
    "                conversion_result= convert_kwd_to_dat(rawfile,overwrite=overwrite)\n",
    "                if isinstance(conversion_result,bool):\n",
    "                    print(\".raw.kwd to .dat conversion failed:%s\"%(rawfile))\n",
    "                else:\n",
    "                    nchannels, sampling_rate=conversion_result\n",
    "                    experiment=os.path.splitext(os.path.splitext(os.path.split(rawfile)[1])[0])[0]\n",
    "                    save_prm_file(os.path.split(rawfile)[0],experiment,sampling_rate,nchannels,overwrite=True)\n",
    "                    if saveEEG:\n",
    "                        create_eeg(rawfile,downsample=int(sampling_rate/1250),\n",
    "                                   inputSamplingRate=sampling_rate)\n"
   ]
  }
 ],
 "metadata": {
  "anaconda-cloud": {},
  "kernelspec": {
   "display_name": "Python 3",
   "language": "python",
   "name": "python3"
  },
  "language_info": {
   "codemirror_mode": {
    "name": "ipython",
    "version": 3
   },
   "file_extension": ".py",
   "mimetype": "text/x-python",
   "name": "python",
   "nbconvert_exporter": "python",
   "pygments_lexer": "ipython3",
   "version": "3.6.4"
  }
 },
 "nbformat": 4,
 "nbformat_minor": 1
}
