{
 "cells": [
  {
   "cell_type": "code",
   "execution_count": null,
   "metadata": {},
   "outputs": [],
   "source": [
    "import os\n",
    "import glob\n",
    "import numpy as np\n",
    "from platform import system as OS\n",
    "import pandas as pd\n",
    "import scipy.stats\n",
    "import math\n",
    "from shutil import copy, rmtree\n",
    "import matplotlib\n",
    "import datetime\n",
    "from copy import deepcopy\n",
    "from IPython.display import clear_output, display, HTML, Image\n",
    "import matplotlib.cm as cm\n",
    "import warnings\n",
    "warnings.filterwarnings(\"ignore\")\n",
    "import sys, logging\n",
    "import pickle\n",
    "import matplotlib.pyplot as plt\n",
    "from scipy import stats\n",
    "from matplotlib import mlab\n",
    "from mpl_toolkits.mplot3d import Axes3D\n",
    "from matplotlib.ticker import FormatStrFormatter\n",
    "\n",
    "if \"__file__\" not in dir():\n",
    "\n",
    "    root='/data'\n",
    "\n",
    "    ThisNoteBookPath=os.path.dirname(os.path.realpath(\"__file__\"))\n",
    "    CommunNoteBookesPath=os.path.join(os.path.split(ThisNoteBookPath)[0],\"load_preprocess_rat\")\n",
    "    CWD=os.getcwd()\n",
    "    os.chdir(CommunNoteBookesPath)   \n",
    "    %run Animal_Tags.ipynb\n",
    "    %run UtilityTools.ipynb\n",
    "    %run BatchRatBehavior.ipynb\n",
    "    %run loadRat_documentation.ipynb\n",
    "    %run plotRat_documentation_1_GeneralBehavior.ipynb\n",
    "    %run plotRat_documentation_3_KinematicsInvestigation.ipynb\n",
    "    %run Animal_Tags.ipynb\n",
    "    %run RunBatchRat_3_CompareGroups.ipynb\n",
    "    %run Lesion_Size.ipynb\n",
    "\n",
    "    os.chdir(CWD)\n",
    "\n",
    "    defaultParam={\n",
    "        \"binSize\":0.25,\n",
    "        \"trialOffset\":20., #max end of trial, in seconds (position will be cutted)\n",
    "        \"sigmaSmoothPosition\":0.1,  #smooth the position\n",
    "        #\"sigmaSmoothPosition\":0.33 for pavel dataType\n",
    "        \"treadmillRange\":[0,90],\n",
    "        \"sigmaSmoothSpeed\":0.3, #smooth the speed\n",
    "        \"positionDiffRange\": [2.,5.], #min and max differences allowed between two consecutive positions\n",
    "                                      #min to correct start, max to correct jumps\n",
    "        \"pawFrequencyRange\":[2.,10.],\n",
    "        \"startAnalysisParams\":[10,0.2,0.5],\n",
    "        \"cameraToTreadmillDelay\":2., #seconds, usual time between camera start and treadmill start\n",
    "        \"nbJumpMax\" : 100., #if jumps>nbJumpMax, trial is badly tracked\n",
    "\n",
    "        #parameter to detect end of trial (first position minima)\n",
    "        \"endTrial_backPos\":55,  # minima is after the animal went once to the back (after first time position>backPos)\n",
    "        \"endTrial_frontPos\":30, # minima's position is in front of treadmill (position[end]<frontPos)\n",
    "        \"endTrial_minTimeSec\":4, # minima is after minTimeSec seconds (time[end]>minTimeSec)\n",
    "        }\n",
    "    font = {'family' : 'normal',\n",
    "            'weight' : 'normal',\n",
    "            'size'   : 13}"
   ]
  },
  {
   "cell_type": "markdown",
   "metadata": {},
   "source": [
    "Early"
   ]
  },
  {
   "cell_type": "code",
   "execution_count": null,
   "metadata": {},
   "outputs": [],
   "source": [
    "if \"__file__\" not in dir():\n",
    "    \n",
    "    #Define desired profile dictionary\n",
    "    AnimalProfile={'Type':'Good',\n",
    "         'rewardType':'Progressive',\n",
    "         'initialSpeed':['10'],\n",
    "         'Speed':'10',\n",
    "         'Tag':['Early-Lesion_DMS','Early-Lesion_DLS','Early-Lesion_DS']\n",
    "                  }\n",
    "\n",
    "    animalList=batch_get_animal_list(root,AnimalProfile)\n",
    "    \n",
    "    PerfParamToPlot =[\"median entrance time (sec)\",\"percentile entrance time\",\"% good trials\",'standard deviation of entrance time',\"% good trials on last 40\",\n",
    "                      \"Trajectory Correlation\",\"Mean Pairwise RMSE\",\"Forward Speed Vs TreadmillSpeed\",\"Tortuosity\",\"Run Distance\"\n",
    "                      ,\"Delivered Reward Ratio\",\"mean entrance time (sec)\"]\n",
    "\n",
    "    PerfParamToPlot =[\"Forward Speed\"]\n",
    "    \n",
    "    profile={'Type':'Good'}#AnimalProfile\n",
    "    # this is where you define a list of functions you want to run on your data (usually, don't touch!)\n",
    "    plotFunctionList=[]\n",
    "    print(\"animals that will be analyzed: %s\"%animalList)\n",
    "    \n",
    "    behav, loc, size, animals= early_lesion_size_control(root,PerfParamToPlot,AnimalProfile)\n"
   ]
  },
  {
   "cell_type": "code",
   "execution_count": 56,
   "metadata": {},
   "outputs": [
    {
     "data": {
      "image/png": "[encoded data removed]",
      "text/plain": [
       "<matplotlib.figure.Figure at 0x7f35c5bf0e10>"
      ]
     },
     "metadata": {
      "needs_background": "light"
     },
     "output_type": "display_data"
    }
   ],
   "source": [
    "if \"__file__\" not in dir():\n",
    "    cm = plt.cm.get_cmap('viridis')\n",
    "    fig=plt.figure()\n",
    "    ax=fig.add_subplot(111)\n",
    "    sc=ax.scatter(loc,behav,c=size,cmap=cm,s=100,marker='P')\n",
    "    ax.set_ylabel(\"Forward Running Speed (cm/s)\",fontdict=font)\n",
    "    ax.set_xlabel(r'DMS $\\leftarrow$ Lesion Centroid $\\rightarrow$ DLS',fontdict=font)\n",
    "#     ax.set_title('r='+str(np.corrcoef(behav,loc)[0,1])[:5]+', p='+str(scipy.stats.pearsonr(behav,loc)[1])[:5],fontdict=font);\n",
    "    ax.axvline(0,color='k');\n",
    "    ax.set_xlim([-.15,.15])\n",
    "    ax.set_xticks([ax.get_xlim()[0],0,ax.get_xlim()[1]])\n",
    "    ax.set_xticklabels(ax.get_xticks(),fontdict=font)\n",
    "    ax.set_yticklabels(ax.get_yticks(),fontdict=font)\n",
    "    cbAx=plt.colorbar(sc,ax=ax);\n",
    "    cbAx.set_label(\"Lesion Size\",fontdict=font)\n",
    "    cbAx.set_ticks(np.arange(0,1,.1))\n",
    "#     cbAx.set_ticklabels(cbAx.get_ticks())\n",
    "#     for i, txt in enumerate(animals):\n",
    "#         ax.annotate(txt[-3:], (loc[i], behav[i]))\n",
    "\n",
    "filename='/home/david/Mostafa/PhD/InmedDays2018/earlyLesionSize.svg'\n",
    "fig.savefig(filename,format='svg')"
   ]
  },
  {
   "cell_type": "markdown",
   "metadata": {},
   "source": [
    "### Late"
   ]
  },
  {
   "cell_type": "code",
   "execution_count": null,
   "metadata": {},
   "outputs": [],
   "source": [
    "if \"__file__\" not in dir():\n",
    "    profile1={'Type':'Good',\n",
    "             'rewardType':'Progressive',\n",
    "             'initialSpeed':['0','10'],\n",
    "             'Speed':'10',\n",
    "             'Tag':['Control','Control-AfterBreak','Control-Late-NoTimeout-BackToTimeout',\n",
    "                    'Control-NoTimeout-Control']\n",
    "             }\n",
    "    profile2={'Type':'Good',\n",
    "             'rewardType':'Progressive',\n",
    "             'initialSpeed':['0','10'],\n",
    "             'Speed':'10',\n",
    "             'Tag':['Late-Lesion_DMS','Late-Lesion_DLS','Late-Lesion_DS']\n",
    "             }\n",
    "    \n",
    "    _,sessionDic=event_detect(root,profile1,profile2)\n",
    "    \n",
    "    PerfParamToPlot =[\"median entrance time (sec)\",\"percentile entrance time\",\"% good trials\",\n",
    "                      'standard deviation of entrance time',\"% good trials on last 40\",\n",
    "                      \"Trajectory Correlation\",\"Mean Pairwise RMSE\",\"Forward Speed Vs TreadmillSpeed\",\n",
    "                      \"Tortuosity\",\"Run Distance\",\"Delivered Reward Ratio\",\"mean entrance time (sec)\"]\n",
    "\n",
    "    PerfParamToPlot=['Forward Speed']\n",
    "    \n",
    "    profile={'Type':'Good'}#AnimalProfile\n",
    "    # this is where you define a list of functions you want to run on your data (usually, don't touch!)\n",
    "    plotFunctionList=[]\n",
    "\n",
    "    \n",
    "    Behav, Loc, Size, Animals=late_lesion_size_control(root,PerfParamToPlot,profile1,profile2,param=defaultParam,Ndays=5)"
   ]
  },
  {
   "cell_type": "code",
   "execution_count": 57,
   "metadata": {},
   "outputs": [
    {
     "data": {
      "image/png": "[encoded data removed]",
      "text/plain": [
       "<matplotlib.figure.Figure at 0x7f35bd5d9630>"
      ]
     },
     "metadata": {
      "needs_background": "light"
     },
     "output_type": "display_data"
    }
   ],
   "source": [
    "if \"__file__\" not in dir():\n",
    "    cm = plt.cm.get_cmap('viridis')\n",
    "    fig=plt.figure()\n",
    "    ax=fig.add_subplot(111)\n",
    "    sc=ax.scatter(Loc,Behav,c=Size,cmap=cm,s=100,marker='P')\n",
    "    ax.set_ylabel(\"Normalized Forward Speed\",fontdict=font)\n",
    "    ax.set_xlabel(r'DMS $\\leftarrow$ Lesion Centroid $\\rightarrow$ DLS',fontdict=font)\n",
    "#     ax.set_title('r='+str(np.corrcoef(Behav,Loc)[0,1])[:5]+', p='+str(scipy.stats.pearsonr(Behav,Loc)[1])[:5]);\n",
    "    ax.axvline(0,color='k');\n",
    "    ax.axhline(1,color='k');\n",
    "    ax.set_xlim([-.15,.15])\n",
    "    ax.set_ylim([.35,1.3])\n",
    "    ax.set_xticks([ax.get_xlim()[0],0,ax.get_xlim()[1]])\n",
    "    ax.set_xticklabels(ax.get_xticks(),fontdict=font)\n",
    "    ax.set_yticklabels(ax.get_yticks(),fontdict=font)\n",
    "    ax.xaxis.set_major_formatter(FormatStrFormatter('%.2f'))\n",
    "    ax.yaxis.set_major_formatter(FormatStrFormatter('%.2f'))\n",
    "    cbAx=plt.colorbar(sc,ax=ax);\n",
    "    cbAx.set_label(\"Lesion Size\",fontdict=font)\n",
    "    cbAx.set_ticks(np.arange(0,1,.1))\n",
    "#     cbAx.set_ticklabels(cbAx.get_ticks())\n",
    "\n",
    "#     for i, txt in enumerate(Animals):\n",
    "#         ax.annotate(txt[-3:], (Loc[i], Behav[i]))\n",
    "\n",
    "filename='/home/david/Mostafa/PhD/InmedDays2018/lateLesionSize.svg'\n",
    "fig.savefig(filename,format='svg')"
   ]
  }
 ],
 "metadata": {
  "kernelspec": {
   "display_name": "Python 3",
   "language": "python",
   "name": "python3"
  },
  "language_info": {
   "codemirror_mode": {
    "name": "ipython",
    "version": 3
   },
   "file_extension": ".py",
   "mimetype": "text/x-python",
   "name": "python",
   "nbconvert_exporter": "python",
   "pygments_lexer": "ipython3",
   "version": "3.6.6"
  }
 },
 "nbformat": 4,
 "nbformat_minor": 2
}
