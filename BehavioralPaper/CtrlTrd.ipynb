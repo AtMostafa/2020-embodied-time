{
 "cells": [
  {
   "cell_type": "markdown",
   "metadata": {},
   "source": [
    "# Part 0:\n",
    "## import everything\n",
    "Run the cell below"
   ]
  },
  {
   "cell_type": "code",
   "execution_count": null,
   "metadata": {},
   "outputs": [],
   "source": [
    "# -*- coding: utf-8 -*-\n",
    "import os\n",
    "import glob\n",
    "import numpy as np\n",
    "from platform import system as OS\n",
    "import pandas as pd\n",
    "import scipy.stats\n",
    "import math\n",
    "import datetime\n",
    "from copy import deepcopy\n",
    "import matplotlib.cm as cm\n",
    "import warnings\n",
    "import types\n",
    "warnings.filterwarnings(\"ignore\")\n",
    "import sys, time\n",
    "import pickle\n",
    "import matplotlib.pyplot as plt\n",
    "from scipy import stats\n",
    "from matplotlib import mlab\n",
    "from mpl_toolkits.mplot3d import Axes3D\n",
    "import matplotlib.animation as animation\n",
    "import matplotlib.backends.backend_pdf\n",
    "from sklearn.decomposition import KernelPCA\n",
    "import mpl_toolkits.axes_grid1.inset_locator as inset\n",
    "from matplotlib.ticker import FormatStrFormatter\n",
    "import imageio\n",
    "\n",
    "\n",
    "\n",
    "if \"__file__\" not in dir():\n",
    "    %matplotlib inline\n",
    "    %config InlineBackend.close_figures = False\n",
    "    if OS()=='Linux':\n",
    "        root=\"/data\"\n",
    "    elif OS()=='Windows':\n",
    "        root=\"C:\\\\DATA\\\\\"\n",
    "    else:\n",
    "        root=\"/Users/davidrobbe/Documents/Data/\"\n",
    "            \n",
    "    ThisNoteBookPath=os.path.dirname(os.path.realpath(\"__file__\"))\n",
    "    CommonNoteBookesPath=os.path.join(os.path.split(ThisNoteBookPath)[0],\"load_preprocess_rat\")\n",
    "    CWD=os.getcwd()\n",
    "    os.chdir(CommonNoteBookesPath)\n",
    "    %run UtilityTools.ipynb\n",
    "    %run Animal_Tags.ipynb\n",
    "    %run loadRat_documentation.ipynb\n",
    "    %run plotRat_documentation_1_GeneralBehavior.ipynb\n",
    "    %run plotRat_documentation_3_KinematicsInvestigation.ipynb\n",
    "    %run RunBatchRat_3_CompareGroups.ipynb\n",
    "    %run BatchRatBehavior.ipynb\n",
    "    %run ../BehavioralPaper/CtrlTrd.ipynb\n",
    "    os.chdir(CWD)\n",
    "    # PARAMETERS (used if the pickles don't exist)\n",
    "    logging.getLogger().setLevel(logging.ERROR)\n",
    "    \n",
    "    param={\n",
    "        \"goalTime\":7,#needed for pavel data only\n",
    "        \"treadmillRange\":[0,90],#pavel error conversion \"treadmillRange\":[0,80]\n",
    "        \"maxTrialDuration\":15,\n",
    "        \"interTrialDuration\":10,#None pavel\n",
    "        \"endTrial_frontPos\":30,\n",
    "        \"endTrial_backPos\":55, \n",
    "        \"endTrial_minTimeSec\":4,\n",
    "        \"cameraSamplingRate\":25, #needed for new setup    \n",
    "\n",
    "        \"sigmaSmoothPosition\":0.1,#0.33, 0.18 pavel\n",
    "        \"sigmaSmoothSpeed\":0.3,#0.3, 0.5 pavel\n",
    "        \"nbJumpMax\":100,#200 pavel\n",
    "        \"binSize\":0.25,\n",
    "        #parameters used to preprocess (will override the default parameters)\n",
    "    }  \n",
    "\n",
    "    print('os:',OS(),'\\nroot:',root,'\\nImport successful!')"
   ]
  },
  {
   "cell_type": "markdown",
   "metadata": {},
   "source": [
    "---\n",
    "---\n",
    "\n",
    "\n",
    "# part 1:\n",
    "\n",
    "# DEFINITIONS\n",
    "\n",
    "### If you don't know what to do, move to part 2"
   ]
  },
  {
   "cell_type": "markdown",
   "metadata": {},
   "source": [
    "**Utility Functions**"
   ]
  },
  {
   "cell_type": "code",
   "execution_count": null,
   "metadata": {},
   "outputs": [],
   "source": [
    "def get_ordered_colors(colormap, n):\n",
    "    colors = []\n",
    "    cmap = plt.cm.get_cmap(colormap)\n",
    "    for colorVal in np.linspace(0, 1, n):\n",
    "        colors.append(cmap(colorVal))\n",
    "    return colors"
   ]
  },
  {
   "cell_type": "markdown",
   "metadata": {},
   "source": [
    "**group ET learning curve**"
   ]
  },
   "cell_type": "code",
   "execution_count": null,
   "metadata": {},
   "outputs": [],
   "source": []
  }
 ],
 "metadata": {
  "kernelspec": {
   "display_name": "Python 3",
   "language": "python",
   "name": "python3"
  },
  "language_info": {
   "codemirror_mode": {
    "name": "ipython",
    "version": 3
   },
   "file_extension": ".py",
   "mimetype": "text/x-python",
   "name": "python",
   "nbconvert_exporter": "python",
   "pygments_lexer": "ipython3",
   "version": "3.7.1"
  }
 },
 "nbformat": 4,
 "nbformat_minor": 2
}
