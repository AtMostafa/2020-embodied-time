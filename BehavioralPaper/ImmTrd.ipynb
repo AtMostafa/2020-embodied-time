{
 "cells": [
  {
   "cell_type": "markdown",
   "metadata": {},
   "source": [
    "import everything"
   ]
  },
  {
   "cell_type": "code",
   "execution_count": null,
   "metadata": {},
   "outputs": [],
   "source": [
    "import os\n",
    "import glob\n",
    "import numpy as np\n",
    "from platform import system as OS\n",
    "import pandas as pd\n",
    "import scipy.stats\n",
    "import math\n",
    "import datetime\n",
    "from copy import deepcopy\n",
    "import matplotlib.cm as cm\n",
    "import warnings\n",
    "import types\n",
    "warnings.filterwarnings(\"ignore\")\n",
    "import sys, time\n",
    "import pickle\n",
    "import matplotlib.pyplot as plt\n",
    "from scipy import stats\n",
    "from matplotlib import mlab\n",
    "from mpl_toolkits.mplot3d import Axes3D\n",
    "import matplotlib.animation as animation\n",
    "import matplotlib.backends.backend_pdf\n",
    "from sklearn.decomposition import KernelPCA\n",
    "\n",
    "\n",
    "if \"__file__\" not in dir():\n",
    "    %matplotlib inline\n",
    "    %config InlineBackend.close_figures = False\n",
    "    \n",
    "    ThisNoteBookPath=os.path.dirname(os.path.realpath(\"__file__\"))\n",
    "    CommonNoteBookesPath=os.path.join(os.path.split(ThisNoteBookPath)[0],\"load_preprocess_rat\")\n",
    "    CWD=os.getcwd()\n",
    "    os.chdir(CommonNoteBookesPath)\n",
    "    %run UtilityTools.ipynb\n",
    "    %run Animal_Tags.ipynb\n",
    "    %run loadRat_documentation.ipynb\n",
    "    %run plotRat_documentation_1_GeneralBehavior.ipynb\n",
    "    %run plotRat_documentation_3_KinematicsInvestigation.ipynb\n",
    "    os.chdir(CWD)\n",
    "\n",
    "    # PARAMETERS (used if the pickles don't exist)\n",
    "    param={\n",
    "        \"goalTime\":7,#needed for pavel data only\n",
    "        \"treadmillRange\":[0,90],#pavel error conversion \"treadmillRange\":[0,80]\n",
    "        \"maxTrialDuration\":15,\n",
    "        \"interTrialDuration\":10,#None pavel\n",
    "        \"endTrial_frontPos\":30,\n",
    "        \"endTrial_backPos\":55, \n",
    "        \"endTrial_minTimeSec\":4,\n",
    "        \"cameraSamplingRate\":25, #needed for new setup    \n",
    "\n",
    "        \"sigmaSmoothPosition\":0.1,#0.33, 0.18 pavel\n",
    "        \"sigmaSmoothSpeed\":0.3,#0.3, 0.5 pavel\n",
    "        \"nbJumpMax\":100,#200 pavel\n",
    "        \"binSize\":0.25,\n",
    "        #parameters used to preprocess (will override the default parameters)\n",
    "    }  \n",
    "\n",
    "    if OS()=='Linux':\n",
    "        root=\"/data\"\n",
    "    elif OS()=='Windows':\n",
    "        root=\"C:\\\\DATA\\\\\"\n",
    "    else:\n",
    "        root=\"/Users/davidrobbe/Documents/Data/\"\n",
    "        \n",
    "    logging.getLogger().setLevel(logging.INFO)\n",
    "\n",
    "    print('os:',OS(),'\\nroot:',root,'\\nImport successful!')"
   ]
  },
  {
   "cell_type": "markdown",
   "metadata": {},
   "source": [
    "plotting several consecutive trials"
   ]
  },
  {
   "cell_type": "code",
   "execution_count": null,
   "metadata": {},
   "outputs": [],
   "source": [
    "def plot_consecutive_trajectories(root, session, trials, ax):\n",
    "    delta=1 #last delta second of position is not recorded\n",
    "    data=Data(root,session[:6],session,param=param,redoPreprocess=False, saveAsPickle=False);\n",
    "    data.position_correction()\n",
    "    detect_trial_end(data)\n",
    "    fps=data.cameraSamplingRate\n",
    "\n",
    "    maxT=0\n",
    "    for trial in trials:\n",
    "        time=data.rawTime[trial]+maxT\n",
    "        maxT=time[-1]+delta\n",
    "        #plotting position\n",
    "        ax.plot(time,data.position[trial],'k');\n",
    "        #plotting entrance time\n",
    "        ET=data.entranceTime[trial]+data.cameraToTreadmillDelay+time[0]\n",
    "        ax.plot(ET,data.position[trial][time[time<ET].argmax()+1],'rx')\n",
    "        #plotting the goal time\n",
    "        GT=data.goalTime[trial]+data.cameraToTreadmillDelay+time[0]\n",
    "        ax.plot(GT,data.position[trial][time[time<GT].argmax()], marker='o',markeredgecolor='r', markerfacecolor='None')\n",
    "        #plotting the highlight for trials\n",
    "        x=(time[0], time[0]+data.timeEndTrial[trial]+data.cameraToTreadmillDelay)\n",
    "        y1=data.parameters['treadmillRange'][0]\n",
    "        y2=data.parameters['treadmillRange'][1]\n",
    "        c='g' if trial in data.goodTrials else 'r'\n",
    "        ax.fill_betweenx(y=(y1,y2),x1=x[0],x2=x[1], color=c, alpha=.2)\n",
    "        \n",
    "    return ax\n",
    "    "
   ]
  },
  {
   "cell_type": "code",
   "execution_count": null,
   "metadata": {},
   "outputs": [],
   "source": [
    "if \"__file__\" not in dir():\n",
    "    session='Rat123_2017_03_17_17_52'\n",
    "    # session='Rat123_2017_02_13_18_45'\n",
    "    trials=[50,51,52,53,54,55,56,57,58]\n",
    "    # trials=range(10)\n",
    "\n",
    "    plt.close('all')\n",
    "    ax=plt.figure(figsize=(20,3)).add_subplot(111);\n",
    "\n",
    "    plot_consecutive_trajectories(root, session, trials, ax)"
   ]
  }
 ],
 "metadata": {
  "kernelspec": {
   "display_name": "Python 3",
   "language": "python",
   "name": "python3"
  },
  "language_info": {
   "codemirror_mode": {
    "name": "ipython",
    "version": 3
   },
   "file_extension": ".py",
   "mimetype": "text/x-python",
   "name": "python",
   "nbconvert_exporter": "python",
   "pygments_lexer": "ipython3",
   "version": "3.7.1"
  }
 },
 "nbformat": 4,
 "nbformat_minor": 2
}
