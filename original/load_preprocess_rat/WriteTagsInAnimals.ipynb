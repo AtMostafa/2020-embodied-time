{
 "cells": [
  {
   "cell_type": "markdown",
   "metadata": {},
   "source": [
    "### Write animal tag\n",
    "#### the list of animal must be provided in ALLRat_Analysis Folder\n",
    "#### the tag of the animal is extracted from the name of the text files that contains the mice names"
   ]
  },
  {
   "cell_type": "code",
   "execution_count": 6,
   "metadata": {
    "collapsed": true
   },
   "outputs": [],
   "source": [
    "import os\n",
    "import glob\n",
    "import platform\n",
    "if platform.system()=='Linux':\n",
    "    root=\"/data\"\n",
    "else:\n",
    "    root=\"/Users/davidrobbe/Documents/Data/\"\n",
    "    "
   ]
  },
  {
   "cell_type": "code",
   "execution_count": 7,
   "metadata": {
    "collapsed": false
   },
   "outputs": [],
   "source": [
    "def WriteAnimalTag(FileName):\n",
    "\n",
    "    FileNamePath=os.path.join(root,\"ALLRAT_Analysis\",FileName)\n",
    "\n",
    "    \n",
    "    AnimalType=FileName\n",
    "\n",
    "    with open(FileNamePath) as f:\n",
    "        content = f.readlines()\n",
    "        content = [x.strip() for x in content]\n",
    "        for animal in content:\n",
    "            if len(animal)>0:\n",
    "                TagPath=os.path.join(root,animal,'Tag')\n",
    "                #print(TagPath)\n",
    "                if os.path.exists(TagPath): #Tag already exist\n",
    "                    continue\n",
    "                    \n",
    "                try:\n",
    "                    file=open(TagPath,'w')\n",
    "                    file.write(AnimalType)\n",
    "                    file.close()\n",
    "                    print(\"%s Tag created in %s\" %(AnimalType,TagPath))\n",
    "                except FileNotFoundError:\n",
    "                    continue"
   ]
  },
  {
   "cell_type": "code",
   "execution_count": 14,
   "metadata": {
    "collapsed": false
   },
   "outputs": [
    {
     "name": "stdout",
     "output_type": "stream",
     "text": [
      "['ImmobileTreadmill']\n"
     ]
    }
   ],
   "source": [
    "ListOfEarly=[os.path.basename(path) for path in sorted(glob.glob(root+\"/ALLRAT_Analysis/Imm*\"))]\n",
    "print(ListOfEarly)"
   ]
  },
  {
   "cell_type": "code",
   "execution_count": 15,
   "metadata": {
    "collapsed": false
   },
   "outputs": [
    {
     "name": "stdout",
     "output_type": "stream",
     "text": [
      "ImmobileTreadmill Tag created in /data/Rat121/Tag\n",
      "ImmobileTreadmill Tag created in /data/Rat122/Tag\n",
      "ImmobileTreadmill Tag created in /data/Rat123/Tag\n",
      "ImmobileTreadmill Tag created in /data/Rat124/Tag\n"
     ]
    }
   ],
   "source": [
    "for thislist in ListOfEarly:\n",
    "    WriteAnimalTag(thislist)"
   ]
  },
  {
   "cell_type": "code",
   "execution_count": 28,
   "metadata": {
    "collapsed": false
   },
   "outputs": [
    {
     "name": "stdout",
     "output_type": "stream",
     "text": [
      "Chat Tag created in /data/MOU028/Tag\n",
      "Chat Tag created in /data/MOU029/Tag\n",
      "Chat Tag created in /data/MOU030/Tag\n",
      "Chat Tag created in /data/MOU031/Tag\n",
      "Chat Tag created in /data/MOU032/Tag\n",
      "Chat Tag created in /data/MOU033/Tag\n",
      "Chat Tag created in /data/Tag\n"
     ]
    }
   ],
   "source": [
    "WriteAnimalTag(\"ListChatMOU.txt\")"
   ]
  }
 ],
 "metadata": {
  "kernelspec": {
   "display_name": "Python 3",
   "language": "python",
   "name": "python3"
  },
  "language_info": {
   "codemirror_mode": {
    "name": "ipython",
    "version": 3
   },
   "file_extension": ".py",
   "mimetype": "text/x-python",
   "name": "python",
   "nbconvert_exporter": "python",
   "pygments_lexer": "ipython3",
   "version": "3.4.4"
  }
 },
 "nbformat": 4,
 "nbformat_minor": 0
}
