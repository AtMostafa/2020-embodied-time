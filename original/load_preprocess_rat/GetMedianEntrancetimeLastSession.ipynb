{
 "cells": [
  {
   "cell_type": "code",
   "execution_count": 1,
   "metadata": {
    "collapsed": false
   },
   "outputs": [
    {
     "name": "stdout",
     "output_type": "stream",
     "text": [
      "path to data is /data\n",
      "\n",
      "importing done\n"
     ]
    }
   ],
   "source": [
    "# RunBatchRat-MeanEntrancetime\n",
    "# Batch: run code on multiple cluster/session/animal\n",
    "\n",
    "#modules to find path of all sessions\n",
    "import glob\n",
    "import os\n",
    "import platform\n",
    "import numpy as np\n",
    "\n",
    "from IPython.display import clear_output, display, HTML\n",
    "\n",
    "\n",
    "\n",
    "import warnings\n",
    "warnings.filterwarnings(\"ignore\")\n",
    "\n",
    "if platform.system()=='Linux':\n",
    "    root=\"/data\"\n",
    "    \n",
    "elif platform.system()==\"Windows\":\n",
    "    root=\"C:\\\\data\\\\\"\n",
    "    \n",
    "else:\n",
    "    root=\"/Users/davidrobbe/Documents/Data/\"\n",
    "    \n",
    "    \n",
    "def read_entranceTime(fullPath):\n",
    "        maxTrialDuration=read_in_file(fullPath,\"maximum trial duration\",extension=\".behav_param\",valueType=float)\n",
    "        entranceTimeStr=list(read_in_file(fullPath,\"time\",extension=\".entrancetimes\",valueType=str))\n",
    "        return entranceTimeStr\n",
    "\n",
    "    #-----------------------------------------------------------------------------------------------   \n",
    "def read_in_file(fullPath,paramName,extension=\".behav_param\",exclude=None,valueType=str):\n",
    "        '''\n",
    "        Use to read from .behav_param or .entrancetimes\n",
    "        Look for lines containing \"paramName\" and not containing \"exclude\"\n",
    "        Split them by white spaces \n",
    "        example: \"treadmill speed:     30.00\" becomes [\"treadmill\",\"speed:\",\"30.00\"])\n",
    "        Return a list of their last element, in the specified valueType (in example: \"30.00\")\n",
    "        '''\n",
    "        behav=fullPath+extension\n",
    "        if not os.path.exists(behav):\n",
    "            print(\"No file %s\"%behav)\n",
    "            return []\n",
    "        result=[]\n",
    "        with open(behav,\"r\") as f:\n",
    "            for line in f:\n",
    "                if paramName in line:\n",
    "                    if (exclude is not None) and (exclude in line):\n",
    "                        continue\n",
    "                    res=line.split()[-1]\n",
    "                    #integer or float: replace comma by dots\n",
    "                    if valueType in [int,float]:\n",
    "                        res=res.replace(\",\",\".\")                 \n",
    "                    #integer: convert first to float (\"0.00\" -> 0.00 -> 0)\n",
    "                    if valueType is int:\n",
    "                        res=int(float(res))\n",
    "                    #boolean \"TRUE\" \"FALSE\"\n",
    "                    elif valueType is bool:\n",
    "                        res=(res.lower()==\"true\")\n",
    "                    else:\n",
    "                        res=valueType(res)\n",
    "                    result.append(res)\n",
    "        result=np.asarray(result)\n",
    "        return result    \n",
    "\n",
    "    \n",
    "print(\"path to data is %s\"%root)\n",
    "print(\"\")\n",
    "print(\"importing done\")    \n",
    "\n",
    "#"
   ]
  },
  {
   "cell_type": "markdown",
   "metadata": {},
   "source": [
    "## Get animalList from text files"
   ]
  },
  {
   "cell_type": "code",
   "execution_count": 5,
   "metadata": {
    "collapsed": false
   },
   "outputs": [
    {
     "name": "stdout",
     "output_type": "stream",
     "text": [
      "['Rat121', 'Rat122', 'Rat123', 'Rat124']\n"
     ]
    }
   ],
   "source": [
    "if \"__file__\" not in dir():\n",
    "    pathListsLocation=os.path.join(root,'ALLRAT_Analysis')\n",
    "    pathListsLocation\n",
    "    ListOfList= [os.path.basename(path) for path in sorted(glob.glob(pathListsLocation+\"/Immo*\"))]\n",
    "\n",
    "\n",
    "    animalList=[]\n",
    "    for thisList in ListOfList:\n",
    "        FileName=os.path.join(pathListsLocation,thisList)\n",
    "        with open(FileName) as f:\n",
    "            content = f.readlines()\n",
    "            content = [x.strip() for x in content]\n",
    "            for animal in content:\n",
    "                if len(animal)>0:\n",
    "                    animalList.append(animal)\n",
    "\n",
    "    print(animalList)"
   ]
  },
  {
   "cell_type": "markdown",
   "metadata": {},
   "source": [
    "## return the last median entrance time per animal"
   ]
  },
  {
   "cell_type": "code",
   "execution_count": 6,
   "metadata": {
    "collapsed": false
   },
   "outputs": [
    {
     "name": "stdout",
     "output_type": "stream",
     "text": [
      "**********\n",
      "Animal Rat121  sesssion Rat121_2017_02_16_18_42\n",
      "1.644\n",
      "**********\n",
      "Animal Rat122  sesssion Rat122_2017_02_16_18_42\n",
      "1.834\n",
      "**********\n",
      "Animal Rat123  sesssion Rat123_2017_02_16_18_42\n",
      "1.992\n",
      "**********\n",
      "Animal Rat124  sesssion Rat124_2017_02_16_18_42\n",
      "1.576\n"
     ]
    }
   ],
   "source": [
    "#animalList=[\"Rat122\",\"Rat124\"]\n",
    "\n",
    "for animal in animalList:\n",
    "    #Get the list of all session\n",
    "    sessionList=[os.path.basename(expPath) for expPath in glob.glob(os.path.join(root,animal,\"Experiments\",\"Rat*\"))]\n",
    "    sessionList=sorted(sessionList)\n",
    "    LastSessionName=sessionList[-1]\n",
    "    print(\"**********\")\n",
    "    fullPath=os.path.join(root,animal,\"Experiments\",LastSessionName,LastSessionName)\n",
    "\n",
    "    listeEntrance=read_entranceTime(fullPath)\n",
    "    for i in range(len(listeEntrance)):\n",
    "        if listeEntrance[i]==\"timeout\":listeEntrance[i]=np.nan\n",
    "        else:listeEntrance[i]=float(listeEntrance[i])\n",
    "   \n",
    "    \n",
    "    print(\"Animal %s\"%animal,\" sesssion\",LastSessionName)\n",
    "    print(np.nanmedian(listeEntrance))\n"
   ]
  },
  {
   "cell_type": "markdown",
   "metadata": {},
   "source": [
    "## return the last 10 median entrance time per animal"
   ]
  },
  {
   "cell_type": "code",
   "execution_count": 7,
   "metadata": {
    "collapsed": false
   },
   "outputs": [
    {
     "name": "stdout",
     "output_type": "stream",
     "text": [
      "**********\n",
      "No file /data/Rat121/Experiments/Rat121_2017_02_07_19_04/Rat121_2017_02_07_19_04.entrancetimes\n",
      "No file /data/Rat121/Experiments/Rat121_2017_02_08_18_43/Rat121_2017_02_08_18_43.entrancetimes\n",
      "No file /data/Rat121/Experiments/Rat121_2017_02_09_18_47/Rat121_2017_02_09_18_47.entrancetimes\n",
      "No file /data/Rat121/Experiments/Rat121_2017_02_10_18_42/Rat121_2017_02_10_18_42.entrancetimes\n",
      "Animal Rat121  sesssion Rat121_2017_02_13_18_45\n",
      "1.048\n",
      "Animal Rat121  sesssion Rat121_2017_02_14_18_33\n",
      "3.316\n",
      "Animal Rat121  sesssion Rat121_2017_02_15_19_21\n",
      "2.608\n",
      "Animal Rat121  sesssion Rat121_2017_02_16_18_42\n",
      "1.644\n",
      "**********\n",
      "No file /data/Rat122/Experiments/Rat122_2017_02_07_19_04/Rat122_2017_02_07_19_04.entrancetimes\n",
      "No file /data/Rat122/Experiments/Rat122_2017_02_08_18_43/Rat122_2017_02_08_18_43.entrancetimes\n",
      "No file /data/Rat122/Experiments/Rat122_2017_02_09_18_47/Rat122_2017_02_09_18_47.entrancetimes\n",
      "No file /data/Rat122/Experiments/Rat122_2017_02_10_18_42/Rat122_2017_02_10_18_42.entrancetimes\n",
      "Animal Rat122  sesssion Rat122_2017_02_13_18_45\n",
      "1.004\n",
      "Animal Rat122  sesssion Rat122_2017_02_14_18_33\n",
      "1.504\n",
      "Animal Rat122  sesssion Rat122_2017_02_15_19_21\n",
      "1.244\n",
      "Animal Rat122  sesssion Rat122_2017_02_16_18_42\n",
      "1.834\n",
      "**********\n",
      "No file /data/Rat123/Experiments/Rat123_2017_02_07_19_04/Rat123_2017_02_07_19_04.entrancetimes\n",
      "No file /data/Rat123/Experiments/Rat123_2017_02_08_18_43/Rat123_2017_02_08_18_43.entrancetimes\n",
      "No file /data/Rat123/Experiments/Rat123_2017_02_09_18_47/Rat123_2017_02_09_18_47.entrancetimes\n",
      "Animal Rat123  sesssion Rat123_2017_02_13_18_45\n",
      "2.144\n",
      "Animal Rat123  sesssion Rat123_2017_02_14_18_33\n",
      "1.874\n",
      "Animal Rat123  sesssion Rat123_2017_02_15_19_21\n",
      "1.158\n",
      "Animal Rat123  sesssion Rat123_2017_02_16_18_42\n",
      "1.992\n",
      "**********\n",
      "No file /data/Rat124/Experiments/Rat124_2017_02_07_19_04/Rat124_2017_02_07_19_04.entrancetimes\n",
      "No file /data/Rat124/Experiments/Rat124_2017_02_08_18_43/Rat124_2017_02_08_18_43.entrancetimes\n",
      "No file /data/Rat124/Experiments/Rat124_2017_02_09_18_47/Rat124_2017_02_09_18_47.entrancetimes\n",
      "Animal Rat124  sesssion Rat124_2017_02_13_18_45\n",
      "1.004\n",
      "Animal Rat124  sesssion Rat124_2017_02_14_18_33\n",
      "1.504\n",
      "Animal Rat124  sesssion Rat124_2017_02_15_19_21\n",
      "2.654\n",
      "Animal Rat124  sesssion Rat124_2017_02_16_18_42\n",
      "1.576\n"
     ]
    }
   ],
   "source": [
    "#animalList=[\"Rat087\",\"Rat122\"]\n",
    "for animal in animalList:\n",
    "    #Get the list of all session\n",
    "    sessionList=[os.path.basename(expPath) for expPath in glob.glob(os.path.join(root,animal,\"Experiments\",\"Rat*\"))]\n",
    "    sessionList=sorted(sessionList)\n",
    "    LastSessionNames=sessionList[-10:]\n",
    "    print(\"**********\")\n",
    "    for LastSessionName in LastSessionNames:\n",
    "        \n",
    "        fullPath=os.path.join(root,animal,\"Experiments\",LastSessionName,LastSessionName)\n",
    "\n",
    "        listeEntrance=read_entranceTime(fullPath)\n",
    "        if len(listeEntrance)==0:\n",
    "            continue\n",
    "        \n",
    "        for i in range(len(listeEntrance)):\n",
    "            if listeEntrance[i]==\"timeout\":listeEntrance[i]=np.nan\n",
    "            else:listeEntrance[i]=float(listeEntrance[i])\n",
    "\n",
    "        print(\"Animal %s\"%animal,\" sesssion\",LastSessionName)\n",
    "        print(np.nanmedian(listeEntrance))"
   ]
  },
  {
   "cell_type": "code",
   "execution_count": null,
   "metadata": {
    "collapsed": true
   },
   "outputs": [],
   "source": []
  }
 ],
 "metadata": {
  "kernelspec": {
   "display_name": "Python [default]",
   "language": "python",
   "name": "python3"
  },
  "language_info": {
   "codemirror_mode": {
    "name": "ipython",
    "version": 3
   },
   "file_extension": ".py",
   "mimetype": "text/x-python",
   "name": "python",
   "nbconvert_exporter": "python",
   "pygments_lexer": "ipython3",
   "version": "3.5.2"
  }
 },
 "nbformat": 4,
 "nbformat_minor": 0
}
