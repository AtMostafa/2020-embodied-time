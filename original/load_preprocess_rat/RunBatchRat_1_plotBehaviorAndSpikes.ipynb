{
 "cells": [
  {
   "cell_type": "markdown",
   "metadata": {
    "collapsed": true
   },
   "source": [
    "# This notebook run code(s) on multiple animal/session/ for RAT Behavioral experiment\n",
    "\n",
    "### This notebook is at the core of the pipeline of data processing. Do not play with it lightly inside the master folder (load_preprocess_rat)\n",
    "\n",
    "#### 1. Only modifiy if you are sure of what you are doing and that you are solving a bug\n",
    "#### 2. If you do modify you MUST commit this modification using bitbucket\n",
    "#### 3. If you want to play whis notebook (to understand it better) copy it on a toy folder distinct from the master folder\n",
    "#### 4. If you want to modify this code (fix bug, improve, add attributes ...) it is recommanded  to first duplicate in a draft folder. Try to keep track of your change.\n",
    "#### 5. When you are ready to commit : # clear all output, clean everything between hashtag \n",
    "\n",
    "\n",
    "\n",
    "## 1. Load packages and define functions"
   ]
  },
  {
   "cell_type": "code",
   "execution_count": 14,
   "metadata": {
    "collapsed": false
   },
   "outputs": [
    {
     "ename": "UnicodeDecodeError",
     "evalue": "'ascii' codec can't decode byte 0xc2 in position 41648: ordinal not in range(128)",
     "output_type": "error",
     "traceback": [
      "\u001b[0;31m---------------------------------------------------------------------------\u001b[0m",
      "\u001b[0;31mUnicodeDecodeError\u001b[0m                        Traceback (most recent call last)",
      "\u001b[0;32m/Users/davidrobbe/anaconda/lib/python3.4/site-packages/IPython/core/interactiveshell.py\u001b[0m in \u001b[0;36mget_cells\u001b[0;34m()\u001b[0m\n\u001b[1;32m   2549\u001b[0m                 \u001b[0;32mfrom\u001b[0m \u001b[0mnbformat\u001b[0m \u001b[0;32mimport\u001b[0m \u001b[0mread\u001b[0m\u001b[0;34m\u001b[0m\u001b[0m\n\u001b[1;32m   2550\u001b[0m                 \u001b[0;32mwith\u001b[0m \u001b[0mio_open\u001b[0m\u001b[0;34m(\u001b[0m\u001b[0mfname\u001b[0m\u001b[0;34m)\u001b[0m \u001b[0;32mas\u001b[0m \u001b[0mf\u001b[0m\u001b[0;34m:\u001b[0m\u001b[0;34m\u001b[0m\u001b[0m\n\u001b[0;32m-> 2551\u001b[0;31m                     \u001b[0mnb\u001b[0m \u001b[0;34m=\u001b[0m \u001b[0mread\u001b[0m\u001b[0;34m(\u001b[0m\u001b[0mf\u001b[0m\u001b[0;34m,\u001b[0m \u001b[0mas_version\u001b[0m\u001b[0;34m=\u001b[0m\u001b[0;36m4\u001b[0m\u001b[0;34m)\u001b[0m\u001b[0;34m\u001b[0m\u001b[0m\n\u001b[0m\u001b[1;32m   2552\u001b[0m                     \u001b[0;32mif\u001b[0m \u001b[0;32mnot\u001b[0m \u001b[0mnb\u001b[0m\u001b[0;34m.\u001b[0m\u001b[0mcells\u001b[0m\u001b[0;34m:\u001b[0m\u001b[0;34m\u001b[0m\u001b[0m\n\u001b[1;32m   2553\u001b[0m                         \u001b[0;32mreturn\u001b[0m\u001b[0;34m\u001b[0m\u001b[0m\n",
      "\u001b[0;32m/Users/davidrobbe/anaconda/lib/python3.4/site-packages/nbformat/__init__.py\u001b[0m in \u001b[0;36mread\u001b[0;34m(fp, as_version, **kwargs)\u001b[0m\n\u001b[1;32m    139\u001b[0m             \u001b[0;32mreturn\u001b[0m \u001b[0mread\u001b[0m\u001b[0;34m(\u001b[0m\u001b[0mf\u001b[0m\u001b[0;34m,\u001b[0m \u001b[0mas_version\u001b[0m\u001b[0;34m,\u001b[0m \u001b[0;34m**\u001b[0m\u001b[0mkwargs\u001b[0m\u001b[0;34m)\u001b[0m\u001b[0;34m\u001b[0m\u001b[0m\n\u001b[1;32m    140\u001b[0m \u001b[0;34m\u001b[0m\u001b[0m\n\u001b[0;32m--> 141\u001b[0;31m     \u001b[0;32mreturn\u001b[0m \u001b[0mreads\u001b[0m\u001b[0;34m(\u001b[0m\u001b[0mfp\u001b[0m\u001b[0;34m.\u001b[0m\u001b[0mread\u001b[0m\u001b[0;34m(\u001b[0m\u001b[0;34m)\u001b[0m\u001b[0;34m,\u001b[0m \u001b[0mas_version\u001b[0m\u001b[0;34m,\u001b[0m \u001b[0;34m**\u001b[0m\u001b[0mkwargs\u001b[0m\u001b[0;34m)\u001b[0m\u001b[0;34m\u001b[0m\u001b[0m\n\u001b[0m\u001b[1;32m    142\u001b[0m \u001b[0;34m\u001b[0m\u001b[0m\n\u001b[1;32m    143\u001b[0m \u001b[0;34m\u001b[0m\u001b[0m\n",
      "\u001b[0;32m/Users/davidrobbe/anaconda/lib/python3.4/encodings/ascii.py\u001b[0m in \u001b[0;36mdecode\u001b[0;34m(self, input, final)\u001b[0m\n\u001b[1;32m     24\u001b[0m \u001b[0;32mclass\u001b[0m \u001b[0mIncrementalDecoder\u001b[0m\u001b[0;34m(\u001b[0m\u001b[0mcodecs\u001b[0m\u001b[0;34m.\u001b[0m\u001b[0mIncrementalDecoder\u001b[0m\u001b[0;34m)\u001b[0m\u001b[0;34m:\u001b[0m\u001b[0;34m\u001b[0m\u001b[0m\n\u001b[1;32m     25\u001b[0m     \u001b[0;32mdef\u001b[0m \u001b[0mdecode\u001b[0m\u001b[0;34m(\u001b[0m\u001b[0mself\u001b[0m\u001b[0;34m,\u001b[0m \u001b[0minput\u001b[0m\u001b[0;34m,\u001b[0m \u001b[0mfinal\u001b[0m\u001b[0;34m=\u001b[0m\u001b[0;32mFalse\u001b[0m\u001b[0;34m)\u001b[0m\u001b[0;34m:\u001b[0m\u001b[0;34m\u001b[0m\u001b[0m\n\u001b[0;32m---> 26\u001b[0;31m         \u001b[0;32mreturn\u001b[0m \u001b[0mcodecs\u001b[0m\u001b[0;34m.\u001b[0m\u001b[0mascii_decode\u001b[0m\u001b[0;34m(\u001b[0m\u001b[0minput\u001b[0m\u001b[0;34m,\u001b[0m \u001b[0mself\u001b[0m\u001b[0;34m.\u001b[0m\u001b[0merrors\u001b[0m\u001b[0;34m)\u001b[0m\u001b[0;34m[\u001b[0m\u001b[0;36m0\u001b[0m\u001b[0;34m]\u001b[0m\u001b[0;34m\u001b[0m\u001b[0m\n\u001b[0m\u001b[1;32m     27\u001b[0m \u001b[0;34m\u001b[0m\u001b[0m\n\u001b[1;32m     28\u001b[0m \u001b[0;32mclass\u001b[0m \u001b[0mStreamWriter\u001b[0m\u001b[0;34m(\u001b[0m\u001b[0mCodec\u001b[0m\u001b[0;34m,\u001b[0m\u001b[0mcodecs\u001b[0m\u001b[0;34m.\u001b[0m\u001b[0mStreamWriter\u001b[0m\u001b[0;34m)\u001b[0m\u001b[0;34m:\u001b[0m\u001b[0;34m\u001b[0m\u001b[0m\n",
      "\u001b[0;31mUnicodeDecodeError\u001b[0m: 'ascii' codec can't decode byte 0xc2 in position 41648: ordinal not in range(128)"
     ]
    },
    {
     "name": "stderr",
     "output_type": "stream",
     "text": [
      "WARNING: Unknown failure executing file: </Users/davidrobbe/Dropbox/iPythonNotebooks/load_preprocess_rat/plotRat_documentation_1_GeneralBehavior_orig.ipynb>\n"
     ]
    },
    {
     "data": {
      "text/html": [
       "<style>.container { width:90% !important; }</style>"
      ],
      "text/plain": [
       "<IPython.core.display.HTML object>"
      ]
     },
     "metadata": {},
     "output_type": "display_data"
    },
    {
     "name": "stdout",
     "output_type": "stream",
     "text": [
      "path to data is /Users/davidrobbe/Documents/Data/\n",
      "\n",
      "importing done\n"
     ]
    }
   ],
   "source": [
    "#modules to find path of all sessions\n",
    "import glob\n",
    "import os\n",
    "import numpy as np\n",
    "from IPython.display import clear_output, display, HTML\n",
    "import matplotlib.cm as cm\n",
    "import warnings\n",
    "warnings.filterwarnings(\"ignore\")\n",
    "#run other notebooks\n",
    "## The lines below allow to run required notebook from the master folder\n",
    "if \"__file__\" not in dir():\n",
    "    \n",
    "    ThisNoteBookPath=os.path.dirname(os.path.realpath(\"__file__\"))\n",
    "    CommunNoteBookesPath=os.path.join(os.path.split(ThisNoteBookPath)[0],\"load_preprocess_rat\")\n",
    "    os.chdir(CommunNoteBookesPath)   \n",
    "    %run plotRat_documentation_1_GeneralBehavior_orig.ipynb\n",
    "    %run plotRat_documentation_2_Spiking.ipynb\n",
    "    %run loadRat_documentation.ipynb\n",
    "    %run loadRawSpike_documentation.ipynb\n",
    "\n",
    "\n",
    "\n",
    "# PARAMETERS (used if the pickles don't exist)\n",
    "param={\n",
    "    \"goalTime\":7,#needed for pavel data only\n",
    "    \"treadmillRange\":[0,90],#pavel error conversion \"treadmillRange\":[0,80]\n",
    "    \"maxTrialDuration\":20,\n",
    "    \"interTrialDuration\":10,#None pavel\n",
    "    \"endTrial_frontPos\":30,\n",
    "    \"endTrial_backPos\":55, \n",
    "    \"endTrial_minTimeSec\":4,\n",
    "    \"cameraSamplingRate\":25, #needed for new setup    \n",
    "\n",
    "    \"sigmaSmoothPosition\":0.1,#0.33, 0.18 pavel\n",
    "    \"sigmaSmoothSpeed\":0.3,#0.3, 0.5 pavel\n",
    "     \"nbJumpMax\":100,#200 pavel\n",
    "    \"binSize\":0.25,\n",
    "    #parameters used to preprocess (will override the default parameters)\n",
    "}  \n",
    "\n",
    "if platform.system()=='Linux':\n",
    "    root=\"/data\"\n",
    "else:\n",
    "    root=\"/Users/davidrobbe/Documents/Data/\"\n",
    "    \n",
    "\n",
    "def has_tag(root, animal, session, tagList):\n",
    "    \"\"\" Test if the session has at least one of the tag in tagList\n",
    "    tag = empty file with a specific name, in a session folder\n",
    "    \"\"\"\n",
    "    fullPath = os.path.join(root, animal, \"Experiments\", session)\n",
    "    fileList = os.listdir(fullPath)\n",
    "    for tag in tagList:\n",
    "        if tag in fileList:\n",
    "            return True\n",
    "    return False    \n",
    "    \n",
    "    \n",
    "# below you can manual modify the root folder. Before commit or push remove anything between these line and leave 1 line blank\n",
    "\n",
    "##############################\n",
    "\n",
    "############################## \n",
    "    \n",
    "print(\"path to data is %s\"%root)\n",
    "print(\"\")\n",
    "print(\"importing done\")"
   ]
  },
  {
   "cell_type": "markdown",
   "metadata": {},
   "source": [
    "## 2. Define animalList, the function(s) you want to run in batch and redo(s)"
   ]
  },
  {
   "cell_type": "code",
   "execution_count": 6,
   "metadata": {
    "collapsed": false
   },
   "outputs": [
    {
     "ename": "NameError",
     "evalue": "name 'plot_session_behavior' is not defined",
     "output_type": "error",
     "traceback": [
      "\u001b[0;31m---------------------------------------------------------------------------\u001b[0m",
      "\u001b[0;31mNameError\u001b[0m                                 Traceback (most recent call last)",
      "\u001b[0;32m<ipython-input-6-e694be8fd9e6>\u001b[0m in \u001b[0;36m<module>\u001b[0;34m()\u001b[0m\n\u001b[1;32m     14\u001b[0m \u001b[0;34m\u001b[0m\u001b[0m\n\u001b[1;32m     15\u001b[0m \u001b[0;31m# this is where you define a list of functions you want to run on your data\u001b[0m\u001b[0;34m\u001b[0m\u001b[0;34m\u001b[0m\u001b[0m\n\u001b[0;32m---> 16\u001b[0;31m \u001b[0mplotFunctionList\u001b[0m\u001b[0;34m=\u001b[0m\u001b[0;34m[\u001b[0m\u001b[0mplot_session_behavior\u001b[0m\u001b[0;34m]\u001b[0m\u001b[0;34m\u001b[0m\u001b[0m\n\u001b[0m\u001b[1;32m     17\u001b[0m \u001b[0;31m###################\u001b[0m\u001b[0;34m\u001b[0m\u001b[0;34m\u001b[0m\u001b[0m\n\u001b[1;32m     18\u001b[0m \u001b[0;34m\u001b[0m\u001b[0m\n",
      "\u001b[0;31mNameError\u001b[0m: name 'plot_session_behavior' is not defined"
     ]
    }
   ],
   "source": [
    "#Example of animal list DO not changes the example below!!!\n",
    "\n",
    "# all Rats\n",
    "animalList=[os.path.basename(path) for path in sorted(glob.glob(root+\"/Rat*\"))]\n",
    "animalList = ['Rat101', 'Rat102', 'Rat103', 'Rat104']\n",
    "animalList = ['Rat079']\n",
    "\n",
    "#you can change animal list in between the hashtag \n",
    "###################\n",
    "\n",
    "###################\n",
    "\n",
    "#print(\"Available list of animals: %s\"%animalList)\n",
    "\n",
    "# this is where you define a list of functions you want to run on your data\n",
    "plotFunctionList=[plot_session_behavior]\n",
    "###################\n",
    "\n",
    "###################\n",
    "\n",
    "redo = False #redo basic preprocess and generate Data. Otherwise load from pickle \n",
    "###################\n",
    "\n",
    "###################\n",
    "override = False #regenerate single session png figure. Otherwise use existing\n",
    "###################\n",
    "\n",
    "###################\n",
    "replaceHtml=False #regenerate general HTML per animal. Otherwise use existing\n",
    "###################\n",
    "\n",
    "###################\n",
    "tagList=[] ## some session are tagged to be specifically analyzed\n",
    "###################\n",
    "\n",
    "###################"
   ]
  },
  {
   "cell_type": "markdown",
   "metadata": {},
   "source": [
    "## 3 - Loops through animals and session and functions"
   ]
  },
  {
   "cell_type": "code",
   "execution_count": 14,
   "metadata": {
    "collapsed": false,
    "scrolled": true
   },
   "outputs": [
    {
     "name": "stdout",
     "output_type": "stream",
     "text": [
      "Done\n"
     ]
    }
   ],
   "source": [
    "#===================================================================================\n",
    "''' Option A: Plot functions \"one plot per session\"  - BEHAVIOR'''\n",
    "#\n",
    "# one session = one folder = one experiment\n",
    "#\n",
    "# A plot is done in a \"plot function\", either defined here or in another .py file (ex: plotData.py). \n",
    "#\n",
    "# You can do several plots at once (by giving a list of \"plot function\").\n",
    "#\n",
    "# For every session, the plots are saved in *RatXXX/Experiments/RatXXX_20.../nameOfPlot.png*  \n",
    "#\n",
    "# An html page is created or updated: *RatXXX/Analysis/all_nameOfPlot.html*\n",
    "#===================================================================================\n",
    "\n",
    "#-------------list of plot functions to do on each session--------------------\n",
    "#those functions should take as arguments: data (+ optionnal keywords arguments)\n",
    "#the functions can return False (then no plot will be saved)\n",
    "\n",
    "print(\"List of animal to loop through: %s\"%animalList)\n",
    "plotFunctionList=[plot_session_behavior]\n",
    "errorSession=[]\n",
    "\n",
    "\n",
    "#---------------------------loop on animal-------------------------------------\n",
    "\n",
    "for animal in animalList:\n",
    "    print(\"Animal %s\"%animal)\n",
    "    print(\"**********\")\n",
    "    \n",
    "    #----Get the list of all session\n",
    "    sessionList=[os.path.basename(expPath) for expPath in glob.glob(root+\"/\"+animal+\"/Experiments/Rat*\")]\n",
    "    sessionList=sorted(sessionList)\n",
    "    nbSession=len(sessionList)\n",
    "    \n",
    "    \n",
    "    #----If delete the general HTML file\n",
    "    \n",
    "    if replaceHtml:\n",
    "        for plotFunction in plotFunctionList:\n",
    "            name = str(plotFunction.__name__)\n",
    "\n",
    "            #html for the animal\n",
    "            generalName = \"all_\" + name\n",
    "            AnalysisFolder = os.path.join(root, animal, \"Analysis\")\n",
    "            generalPath = os.path.join(AnalysisFolder, generalName+\".html\")\n",
    "            if os.path.exists(generalPath):\n",
    "                os.remove(generalPath)\n",
    "    \n",
    "    #----loop through sessions\n",
    "    for index,session in enumerate(sessionList):\n",
    "        #clear_output()\n",
    "        print(\"Session %s/%s: %s\"%(index+1,nbSession,session))\n",
    "        \n",
    "        #----------------------check for tag file-------------------------\n",
    "        #if tag list is not emtpy\n",
    "        if tagList:\n",
    "            #check if the session has one of the tag\n",
    "            if not has_tag(root, animal, session, tagList):\n",
    "                continue\n",
    "\n",
    "        #----load data for this session (add redoPreprocess=True to overwrite preprocess)\n",
    "        try:\n",
    "            sessionData=Data(root,animal,session,param=param,redoPreprocess=redo)\n",
    "        except Exception as e:\n",
    "            display(HTML(\"<b> An error happened, skip session. Error message: </b>\"))\n",
    "            display(HTML(\"<b>\"+e.__class__.__name__+\": \"+str(e)+\"</b>\"))\n",
    "            errorSession.append(session)\n",
    "            continue            \n",
    "        #----skip if training data or no break time\n",
    "        if (not sessionData.hasBehavior):\n",
    "            print(\"No Behavior, skipped\")\n",
    "            print(\"--------\")\n",
    "            continue  \n",
    "        #---skip if file \"NotToAnalyze\"\n",
    "        try:\n",
    "            if \"NotToAnalyze\" in sessionData.emptyAnalysisFiles:\n",
    "                print(\"Not to analyze, skipped\")\n",
    "                print(\"--------\")\n",
    "                continue \n",
    "        except:\n",
    "            continue\n",
    "        #----plot the data (add name=\"myNewName\" to change the name of the html, add override=True to redo the plots)\n",
    "        sessionData.plot_session_png_html(plotFunctionList,override=override)\n",
    "        clear_output()\n",
    "#---------------------------------------------------------------------------------------       \n",
    "print(\"Done\")\n",
    "if errorSession:\n",
    "    display(HTML(\"<b> An error happened for the following session(s):\"))\n",
    "    print(\"\\n\".join(errorSession))\n",
    "#======================================================================================="
   ]
  },
  {
   "cell_type": "code",
   "execution_count": null,
   "metadata": {
    "collapsed": false,
    "scrolled": true
   },
   "outputs": [],
   "source": [
    "\n",
    "#===================================================================================\n",
    "''' Option B: Plot functions \"one plot per cluster\"  - SPIKES'''\n",
    "#\n",
    "# A plot is done in a \"plot function\", either defined here or in another .py file (ex: plotData.py).   \n",
    "#\n",
    "# You can do several plots at once (by giving a list of \"plot function\")\n",
    "#\n",
    "# For every session, the plots are saved in *RatXXX/Experiments/RatXXX_20.../plots/shankX_clusterX_nameOfPlot.png*  \n",
    "#\n",
    "# Two html pages are created or updated: \n",
    "#  - *RatXXX/Experiments/RatXXX_20.../nameOfPlot.html*: all plots for session (\"session html\")\n",
    "#  - *RatXXX/Analysis/all_nameOfPlot.html*: links to every \"session html\" for this rat\n",
    "#\n",
    "#===================================================================================\n",
    "\n",
    "#-------------list of plot functions to do on each session--------------------\n",
    "#those functions should take as arguments: data,shank,cluster,group (+ optionnal keywords arguments)\n",
    "#the functions can return False (then no plot will be saved)\n",
    "animalList=[\"Rat025\"]\n",
    "plotFunctionList=[plot_raster_correlogram,plot_waveforms]\n",
    "\n",
    "#------------------------------loop on animal----------------------------------------------  \n",
    "for animal in animalList:\n",
    "    print(\"animal %s\"%animal)\n",
    "    print(\"**********\")\n",
    "\n",
    "    #Get the list of all session\n",
    "    sessionList=[os.path.basename(expPath) for expPath in glob.glob(root+\"/\"+animal+\"/Experiments/Rat*\")]\n",
    "    sessionList=sorted(sessionList)\n",
    "    nbSession=len(sessionList)\n",
    "\n",
    "    errorSession=[]\n",
    "    \n",
    "    #loop through sessions\n",
    "    for index,session in enumerate(sessionList):\n",
    "        print(\"Session %s/%s: %s\"%(index+1,nbSession,session))\n",
    "        #load data for this session (add redoPreprocess=True to overwrite preprocess)\n",
    "        #----------------------check for tag file-------------------------\n",
    "        isTagIn = True\n",
    "        if len(tagList)>0:\n",
    "            isTagIn = False\n",
    "            for tag in tagList:\n",
    "                    if os.path.exists(root+\"/\"+animal+'/Experiments'+'/'+session+'/Analysis/'+tag):\n",
    "                        isTagIn = True\n",
    "            if not isTagIn: \n",
    "                print(\"Tag not found, session skipped\")\n",
    "                print(\"--------\")\n",
    "                continue\n",
    "\n",
    "        #----load data for this session (add redoPreprocess=True to overwrite preprocess)\n",
    "        try:\n",
    "            sessionData=Data(root,animal,session,param=param,redoPreprocess=redo)\n",
    "        except Exception as e:\n",
    "            display(HTML(\"<b> An error happened, skip session. Error message: </b>\"))\n",
    "            display(HTML(\"<b>\"+e.__class__.__name__+\": \"+str(e)+\"</b>\"))\n",
    "            errorSession.append(session)\n",
    "            print(\"--------\")\n",
    "            continue\n",
    "            \n",
    "        #skip if training data or no break time\n",
    "        if (not sessionData.hasBehavior):\n",
    "            print(\"No behavior, skipped\")\n",
    "            print(\"--------\")\n",
    "            continue\n",
    "            \n",
    "        #skip if file \"NotToAnalyze\"\n",
    "        if \"NotToAnalyze\" in sessionData.emptyAnalysisFiles:\n",
    "            print(\"Not to analyze, skipped\")\n",
    "            print(\"--------\")\n",
    "            continue        \n",
    "            \n",
    "        if sessionData.hasSpike:\n",
    "            #plot the data (add name=\"myNewName\" to change the name of the html, add override=True to redo the plots)\n",
    "            # groupList can be \"Good\", [\"Good\",\"MUA\"],... No groupList -> do every group\n",
    "            sessionData.plot_all_clusters_png_html(plotFunctionList,override=override,groupList=\"Good\")\n",
    "        print(\"--------\")\n",
    "        #---------------------------------------------------------------------------------------            \n",
    "        print(\"Done\")\n",
    "        if errorSession:\n",
    "            display(HTML(\"<b> An error happened for the following session(s):\"))\n",
    "            print(\"\\n\".join(errorSession))\n",
    "        #======================================================================================="
   ]
  },
  {
   "cell_type": "code",
   "execution_count": null,
   "metadata": {
    "collapsed": true
   },
   "outputs": [],
   "source": []
  }
 ],
 "metadata": {
  "kernelspec": {
   "display_name": "Python 3",
   "language": "python",
   "name": "python3"
  },
  "language_info": {
   "codemirror_mode": {
    "name": "ipython",
    "version": 3
   },
   "file_extension": ".py",
   "mimetype": "text/x-python",
   "name": "python",
   "nbconvert_exporter": "python",
   "pygments_lexer": "ipython3",
   "version": "3.4.4"
  }
 },
 "nbformat": 4,
 "nbformat_minor": 0
}
