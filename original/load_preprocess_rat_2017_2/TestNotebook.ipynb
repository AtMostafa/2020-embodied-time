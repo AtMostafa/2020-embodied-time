{
 "cells": [
  {
   "cell_type": "code",
   "execution_count": 15,
   "metadata": {
    "collapsed": false
   },
   "outputs": [
    {
     "name": "stdout",
     "output_type": "stream",
     "text": [
      "parent\n"
     ]
    }
   ],
   "source": [
    "class Base:\n",
    "    def __init__(self):\n",
    "        self.data=self.Data()\n",
    "\n",
    "    def Data2(self):\n",
    "        self.test()\n",
    "    def test(self):\n",
    "        print('base')\n",
    "\n",
    "class New(Base):\n",
    "    def __init__(self):\n",
    "        pass\n",
    "    def Data(self):\n",
    "        return 22\n",
    "    def test(self):\n",
    "        print('parent')\n",
    "Son=New()\n",
    "Son.Data2()"
   ]
  },
  {
   "cell_type": "code",
   "execution_count": 7,
   "metadata": {
    "collapsed": false
   },
   "outputs": [
    {
     "name": "stdout",
     "output_type": "stream",
     "text": [
      "(261600, 16)\n",
      "30000.0\n",
      "4\n"
     ]
    }
   ],
   "source": [
    "import h5py\n",
    "import tables as tb\n",
    "import numpy as np\n",
    "from matplotlib import pyplot as plt\n",
    "%matplotlib inline\n",
    "\n",
    "filetype='dat'\n",
    "inputFile=\"/home/david/TEMP/TestData/testdata openephys/2016-11-04_11-49-24/experiment1_103.raw.kwd\"\n",
    "#inputFile=\"/data/SWI002/2/SWI002_2016_09_20_12_31/SWI002_2016_09_20_12_31.raw.kwd\"\n",
    "\n",
    "#sampling_rate=kwd['recordings']['0'].attrs['sample_rate']\n",
    "#f = h5py.File('inputFile','r')\n",
    "fnameout = inputFile[:-7] + filetype\n",
    "\n",
    "with tb.open_file(inputFile,\"r\") as f:\n",
    "    #data = f['recordings'][str(0)]['data'][:,:]\n",
    "    print((f.get_node(\"/recordings/0/data\").read().shape))\n",
    "    print((f.get_node('/recordings/0/')._v_attrs.__getitem__('sample_rate')))\n",
    "    print(f.root.recordings._v_nchildren)"
   ]
  },
  {
   "cell_type": "code",
   "execution_count": 289,
   "metadata": {
    "collapsed": false
   },
   "outputs": [
    {
     "name": "stdout",
     "output_type": "stream",
     "text": [
      "(60600, 9)\n"
     ]
    }
   ],
   "source": [
    "f = h5py.File(inputFile,'r')\n",
    "info=f['recordings']['1']['data'].shape\n",
    "print((info))"
   ]
  },
  {
   "cell_type": "code",
   "execution_count": 57,
   "metadata": {
    "collapsed": false
   },
   "outputs": [
    {
     "name": "stdout",
     "output_type": "stream",
     "text": [
      "Features and masks initialized.\u001b[K\n",
      "Initializing statistics: 1.6%.\r",
      "Initializing statistics: 3.1%.\r",
      "Initializing statistics: 4.7%.\r",
      "Initializing statistics: 6.2%.\r",
      "Initializing statistics: 7.8%.\r",
      "Initializing statistics: 9.4%.\r",
      "Initializing statistics: 10.9%.\r",
      "Initializing statistics: 12.5%.\r",
      "Initializing statistics: 14.1%.\r",
      "Initializing statistics: 15.6%.\r",
      "Initializing statistics: 17.2%.\r",
      "Initializing statistics: 18.8%.\r",
      "Initializing statistics: 20.3%.\r",
      "Initializing statistics: 21.9%.\r",
      "Initializing statistics: 23.4%.\r",
      "Initializing statistics: 25.0%.\r",
      "Initializing statistics: 26.6%.\r",
      "Initializing statistics: 28.1%.\r",
      "Initializing statistics: 29.7%.\r",
      "Initializing statistics: 31.2%.\r",
      "Initializing statistics: 32.8%.\r",
      "Initializing statistics: 34.4%.\r",
      "Initializing statistics: 35.9%.\r",
      "Initializing statistics: 37.5%.\r",
      "Initializing statistics: 39.1%.\r",
      "Initializing statistics: 40.6%.\r",
      "Initializing statistics: 42.2%.\r",
      "Initializing statistics: 43.8%.\r",
      "Initializing statistics: 45.3%.\r",
      "Initializing statistics: 46.9%.\r",
      "Initializing statistics: 48.4%.\r",
      "Initializing statistics: 50.0%.\r",
      "Initializing statistics: 51.6%.\r",
      "Initializing statistics: 53.1%.\r",
      "Initializing statistics: 54.7%.\r",
      "Initializing statistics: 56.2%.\r",
      "Initializing statistics: 57.8%.\r",
      "Initializing statistics: 59.4%.\r",
      "Initializing statistics: 60.9%.\r",
      "Initializing statistics: 62.5%.\r",
      "Initializing statistics: 64.1%.\r",
      "Initializing statistics: 65.6%.\r",
      "Initializing statistics: 67.2%.\r",
      "Initializing statistics: 68.8%.\r",
      "Initializing statistics: 70.3%.\r",
      "Initializing statistics: 71.9%.\r",
      "Initializing statistics: 73.4%.\r",
      "Initializing statistics: 75.0%.\r",
      "Initializing statistics: 76.6%.\r",
      "Initializing statistics: 78.1%.\r",
      "Initializing statistics: 79.7%.\r",
      "Initializing statistics: 81.2%.\r",
      "Initializing statistics: 82.8%.\r",
      "Initializing statistics: 84.4%.\r",
      "Initializing statistics: 85.9%.\r",
      "Initializing statistics: 87.5%.\r",
      "Initializing statistics: 89.1%.\r",
      "Initializing statistics: 90.6%.\r",
      "Initializing statistics: 92.2%.\r",
      "Initializing statistics: 93.8%.\r",
      "Initializing statistics: 95.3%.\r",
      "Initializing statistics: 96.9%.\r",
      "Initializing statistics: 98.4%.\r",
      "Initializing statistics: 100.0%.\n",
      "Statistics initialized.\u001b[K\n",
      "Initializing statistics: 100.0%.\n"
     ]
    }
   ],
   "source": [
    "#To read a kwik file using KWIKphy\n",
    "from KWIKphy.session import Session\n",
    "inputFile=\"/data/SWI002/2/SWI002_2016_09_20_12_52/SWI002_2016_09_20_12_52.kwik\"\n",
    "session= Session(inputFile)\n"
   ]
  },
  {
   "cell_type": "code",
   "execution_count": 40,
   "metadata": {
    "collapsed": false
   },
   "outputs": [],
   "source": [
    "import h5py"
   ]
  },
  {
   "cell_type": "code",
   "execution_count": 76,
   "metadata": {
    "collapsed": false
   },
   "outputs": [],
   "source": [
    "f = h5py.File(\"/data/Rat105/Experiments/Rat105_2016_12_05_17_57/Rat105_2016_12_05_17_57.kwx\")"
   ]
  },
  {
   "cell_type": "code",
   "execution_count": 103,
   "metadata": {
    "collapsed": false
   },
   "outputs": [],
   "source": [
    "a=[item for item in f['channel_groups']['1']['features_masks']]\n",
    "\n",
    "print(a)"
   ]
  },
  {
   "cell_type": "code",
   "execution_count": 3,
   "metadata": {
    "collapsed": false
   },
   "outputs": [
    {
     "data": {
      "text/plain": [
       "'Linux'"
      ]
     },
     "execution_count": 3,
     "metadata": {},
     "output_type": "execute_result"
    }
   ],
   "source": [
    "import platform\n",
    "platform.system()"
   ]
  },
  {
   "cell_type": "code",
   "execution_count": 1,
   "metadata": {
    "collapsed": false
   },
   "outputs": [
    {
     "data": {
      "text/plain": [
       "60.25"
      ]
     },
     "execution_count": 1,
     "metadata": {},
     "output_type": "execute_result"
    }
   ],
   "source": [
    "60+.25-60%.25"
   ]
  }
 ],
 "metadata": {
  "anaconda-cloud": {},
  "kernelspec": {
   "display_name": "Python [conda root]",
   "language": "python",
   "name": "conda-root-py"
  },
  "language_info": {
   "codemirror_mode": {
    "name": "ipython",
    "version": 3
   },
   "file_extension": ".py",
   "mimetype": "text/x-python",
   "name": "python",
   "nbconvert_exporter": "python",
   "pygments_lexer": "ipython3",
   "version": "3.5.2"
  }
 },
 "nbformat": 4,
 "nbformat_minor": 0
}
