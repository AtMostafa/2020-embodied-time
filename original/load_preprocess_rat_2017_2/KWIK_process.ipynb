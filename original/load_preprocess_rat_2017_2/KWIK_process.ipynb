{
 "cells": [
  {
   "cell_type": "markdown",
   "metadata": {},
   "source": [
    "# Opening and processing kwik files"
   ]
  },
  {
   "cell_type": "markdown",
   "metadata": {},
   "source": [
    "Importing"
   ]
  },
  {
   "cell_type": "code",
   "execution_count": 1,
   "metadata": {
    "collapsed": true
   },
   "outputs": [],
   "source": [
    "import os\n",
    "import sys\n",
    "import numpy as np\n",
    "import matplotlib.pyplot as plt"
   ]
  },
  {
   "cell_type": "markdown",
   "metadata": {},
   "source": [
    "## Opening the KWIK file"
   ]
  },
  {
   "cell_type": "markdown",
   "metadata": {},
   "source": [
    "Opening a KWIK file and returning the spike information"
   ]
  },
  {
   "cell_type": "code",
   "execution_count": 3,
   "metadata": {
    "collapsed": false
   },
   "outputs": [
    {
     "name": "stdout",
     "output_type": "stream",
     "text": [
      "/data/SWI00222/2/SWI002_2016_09_20_12_52/SWI002_2016_09_20_12_52.kwik\n",
      "KWIK file not found!\n"
     ]
    },
    {
     "ename": "TypeError",
     "evalue": "'bool' object is not subscriptable",
     "output_type": "error",
     "traceback": [
      "\u001b[0;31m---------------------------------------------------------------------------\u001b[0m",
      "\u001b[0;31mTypeError\u001b[0m                                 Traceback (most recent call last)",
      "\u001b[0;32m<ipython-input-3-cf0375b997a4>\u001b[0m in \u001b[0;36m<module>\u001b[0;34m()\u001b[0m\n\u001b[1;32m     68\u001b[0m     \u001b[0minputFile\u001b[0m\u001b[0;34m=\u001b[0m\u001b[0;34m\"/data/SWI00222/2/SWI002_2016_09_20_12_52/SWI002_2016_09_20_12_52.kwik\"\u001b[0m\u001b[0;34m\u001b[0m\u001b[0m\n\u001b[1;32m     69\u001b[0m     \u001b[0ma\u001b[0m\u001b[0;34m=\u001b[0m\u001b[0mopen_kwik_file\u001b[0m\u001b[0;34m(\u001b[0m\u001b[0minputFile\u001b[0m\u001b[0;34m)\u001b[0m\u001b[0;34m\u001b[0m\u001b[0m\n\u001b[0;32m---> 70\u001b[0;31m     \u001b[0mprint\u001b[0m\u001b[0;34m(\u001b[0m\u001b[0ma\u001b[0m\u001b[0;34m[\u001b[0m\u001b[0;36m1\u001b[0m\u001b[0;34m]\u001b[0m\u001b[0;34m)\u001b[0m\u001b[0;34m\u001b[0m\u001b[0m\n\u001b[0m\u001b[1;32m     71\u001b[0m \u001b[0;34m\u001b[0m\u001b[0m\n\u001b[1;32m     72\u001b[0m \u001b[0;34m\u001b[0m\u001b[0m\n",
      "\u001b[0;31mTypeError\u001b[0m: 'bool' object is not subscriptable"
     ]
    }
   ],
   "source": [
    "def read_spikes_sample_and_clu(session):\n",
    "    #chgroup is channel group (shank)\n",
    "    #cluGroup is the group of the cluster (noise, mua, good...)\n",
    "    spikeSample,clusterGroup={},{}\n",
    "    spikeIndex={}\n",
    "    channelGroupList = {}\n",
    "    first = True\n",
    "    for chgroup in session.model.channel_groups:\n",
    "        if first:\n",
    "            first = False\n",
    "        else:\n",
    "            session.change_channel_group(chgroup)\n",
    "        spikeSample[chgroup]={}\n",
    "        clusterGroup[chgroup]={}\n",
    "        spikeIndex[chgroup]={}\n",
    "        #self.channelGroupList[chgroup] = list(session.model.channel_order)\n",
    "        #default cluster group names (0: 'Noise', 1: 'MUA', 2: 'Good', 3: 'Unsorted')\n",
    "        for cluGroupName in session.model.default_cluster_groups.values():\n",
    "            clusterGroup[chgroup][cluGroupName]=[]\n",
    "            \n",
    "        #for every cluster in the channel_group\n",
    "        for clu in session.model.cluster_ids:\n",
    "            spikeSample[chgroup][clu]=session.model.spike_samples[session.model.spike_clusters==clu]  \n",
    "            #spikeIndex[chgroup][clu]=session.model.spike_ids[session.model.spike_clusters==clu]\n",
    "            cluGroupID=session.model.cluster_metadata.group(clu)\n",
    "            if isinstance(cluGroupID, np.ndarray):\n",
    "                print(\"Warning- cluster group of cluster %s is an array (%s), taking first value\"%(clu,cluGroupID))\n",
    "                cluGroupID=cluGroupID[0]\n",
    "            if isinstance(cluGroupID, bytes):\n",
    "                print(\"Warning- cluster group of cluster %s is a bytes, putting it in 'unsorted'\"%(clu))\n",
    "                cluGroupID = 3\n",
    "            # if a group was created (ID>3), put it in \"Good\"(2)\n",
    "            if cluGroupID>3:\n",
    "                cluGroupID=2\n",
    "            cluGroupName=session.model.default_cluster_groups[cluGroupID]        \n",
    "            clusterGroup[chgroup][cluGroupName].append(clu)\n",
    "    #self.spikeIndex=spikeIndex\n",
    "    return spikeSample,clusterGroup\n",
    "\n",
    "def open_kwik_file(inputFile):\n",
    "    \"\"\"\n",
    "    This function opens a kwik file using KWIKphy session package, \n",
    "    and returns spike times and types of Good and MUA clusters\n",
    "    \"\"\"\n",
    "    if not os.path.exists(inputFile):\n",
    "        print(\"%s\\nKWIK file not found!\"%(inputFile))\n",
    "        return False\n",
    "    from KWIKphy.session import Session\n",
    "        \n",
    "    try:\n",
    "        sessionInfo=Session(inputFile)\n",
    "        print(\"KWIK file loaded!\")\n",
    "    except Exception as e:\n",
    "        print(\"KWIKphy failed to open the KWIK file:\")\n",
    "        print(inputFile)\n",
    "        print(repr(e))\n",
    "        return False\n",
    "    \n",
    "    spikeSample,clusterGroup=read_spikes_sample_and_clu(sessionInfo)\n",
    "    print(\"Done!\")\n",
    "    return spikeSample,clusterGroup\n",
    "\n",
    "\n",
    "\n",
    "#----------------------------------------------------------------\n",
    "if \"__file__\" not in dir():\n",
    "   \n",
    "    inputFile=\"/data/SWI00222/2/SWI002_2016_09_20_12_52/SWI002_2016_09_20_12_52.kwik\"\n",
    "    a=open_kwik_file(inputFile)\n",
    "    print(a[1])\n",
    "\n",
    "    \n",
    "\n",
    "        \n",
    "\n"
   ]
  },
  {
   "cell_type": "markdown",
   "metadata": {},
   "source": [
    "## Peocessing"
   ]
  },
  {
   "cell_type": "markdown",
   "metadata": {},
   "source": [
    "Firing rate"
   ]
  },
  {
   "cell_type": "code",
   "execution_count": 4,
   "metadata": {
    "collapsed": false
   },
   "outputs": [
    {
     "name": "stdout",
     "output_type": "stream",
     "text": [
      "/data/SWI0022/2/SWI002_2016_09_20_12_52/SWI002_2016_09_20_12_52.kwik\n",
      "KWIK file not found!\n"
     ]
    },
    {
     "ename": "TypeError",
     "evalue": "'bool' object is not iterable",
     "output_type": "error",
     "traceback": [
      "\u001b[0;31m---------------------------------------------------------------------------\u001b[0m",
      "\u001b[0;31mTypeError\u001b[0m                                 Traceback (most recent call last)",
      "\u001b[0;32m<ipython-input-4-65c1b7cfea29>\u001b[0m in \u001b[0;36m<module>\u001b[0;34m()\u001b[0m\n\u001b[1;32m     50\u001b[0m \u001b[0;32mif\u001b[0m \u001b[0;34m\"__file__\"\u001b[0m \u001b[0;32mnot\u001b[0m \u001b[0;32min\u001b[0m \u001b[0mdir\u001b[0m\u001b[0;34m(\u001b[0m\u001b[0;34m)\u001b[0m\u001b[0;34m:\u001b[0m\u001b[0;34m\u001b[0m\u001b[0m\n\u001b[1;32m     51\u001b[0m     \u001b[0mpath\u001b[0m\u001b[0;34m=\u001b[0m\u001b[0;34m\"/data/SWI0022/2/SWI002_2016_09_20_12_52/SWI002_2016_09_20_12_52.kwik\"\u001b[0m\u001b[0;34m\u001b[0m\u001b[0m\n\u001b[0;32m---> 52\u001b[0;31m     \u001b[0mspikeSample\u001b[0m\u001b[0;34m,\u001b[0m\u001b[0mclusterGroup\u001b[0m\u001b[0;34m=\u001b[0m\u001b[0mopen_kwik_file\u001b[0m\u001b[0;34m(\u001b[0m\u001b[0mpath\u001b[0m\u001b[0;34m)\u001b[0m\u001b[0;34m\u001b[0m\u001b[0m\n\u001b[0m\u001b[1;32m     53\u001b[0m     \u001b[0mplot_median_firing_rate\u001b[0m\u001b[0;34m(\u001b[0m\u001b[0mspikeSample\u001b[0m\u001b[0;34m,\u001b[0m\u001b[0mclusterGroup\u001b[0m\u001b[0;34m,\u001b[0m\u001b[0;36m30000\u001b[0m\u001b[0;34m,\u001b[0m\u001b[0;34m'Unsorted'\u001b[0m\u001b[0;34m)\u001b[0m\u001b[0;34m\u001b[0m\u001b[0m\n",
      "\u001b[0;31mTypeError\u001b[0m: 'bool' object is not iterable"
     ]
    }
   ],
   "source": [
    "def compute_firing_rate(data):\n",
    "    \"\"\"\n",
    "    This functions computes firing rate of a SINGLE neuron\n",
    "    data: spike times as a np.array vector\n",
    "    output: \n",
    "    \"\"\"\n",
    "    ISI=np.diff(data)\n",
    "    return np.median (np.reciprocal(ISI.astype('float')))\n",
    "\n",
    "def plot_median_firing_rate(spikeSample,clusterGroup,samplingRate,\n",
    "                            cluToPlot=['Good']):\n",
    "        \n",
    "    if type(cluToPlot) is str:\n",
    "        cluToPlot=cluToPlot.split()    #turns into a list\n",
    "    \n",
    "    neuralFiringRate=np.empty((len(cluToPlot),\n",
    "                               len(spikeSample),\n",
    "                               len(spikeSample[0])))*np.nan\n",
    "    #neuralFiringRate=cluType*shank*cluster\n",
    "    \n",
    "    for cluType in cluToPlot:\n",
    "        for shank in spikeSample:\n",
    "            for clu in clusterGroup[shank][cluType]:\n",
    "                neuralFiringRate[cluToPlot.index(cluType),\n",
    "                                 shank,\n",
    "                                 clusterGroup[shank][cluType].index(clu)]\\\n",
    "                                 =compute_firing_rate(spikeSample[shank][clu]/samplingRate)\n",
    "    #Plotting\n",
    "    print('plotting...')\n",
    "    for shank in spikeSample:\n",
    "        plt.figure()\n",
    "        Median=np.empty(len(cluToPlot))*np.nan\n",
    "        Std =np.empty(len(cluToPlot))*np.nan\n",
    "        for cluType in cluToPlot:\n",
    "            Median[cluToPlot.index(cluType)]=np.nanmedian(\\\n",
    "                                                      neuralFiringRate[cluToPlot.index(cluType),\n",
    "                                                                       shank,\n",
    "                                                                       :])\n",
    "            Std[cluToPlot.index(cluType)]=np.nanstd(\\\n",
    "                                                    neuralFiringRate[cluToPlot.index(cluType),\n",
    "                                                                     shank,\n",
    "                                                                     :])\n",
    "        print(Median,Std)\n",
    "        plt.bar(left=range(len(cluToPlot)),\n",
    "                height=Median,\n",
    "                yerr=Std)\n",
    "            \n",
    "    \n",
    "       \n",
    "    \n",
    "#---------------------------------------------------------\n",
    "if \"__file__\" not in dir():\n",
    "    path=\"/data/SWI0022/2/SWI002_2016_09_20_12_52/SWI002_2016_09_20_12_52.kwik\"\n",
    "    spikeSample,clusterGroup=open_kwik_file(path)\n",
    "    plot_median_firing_rate(spikeSample,clusterGroup,30000,'Unsorted')"
   ]
  },
  {
   "cell_type": "code",
   "execution_count": 115,
   "metadata": {
    "collapsed": false
   },
   "outputs": [
    {
     "ename": "SyntaxError",
     "evalue": "invalid syntax (<ipython-input-115-2973617edcbd>, line 3)",
     "output_type": "error",
     "traceback": [
      "\u001b[0;36m  File \u001b[0;32m\"<ipython-input-115-2973617edcbd>\"\u001b[0;36m, line \u001b[0;32m3\u001b[0m\n\u001b[0;31m    height=[12]\u001b[0m\n\u001b[0m         ^\u001b[0m\n\u001b[0;31mSyntaxError\u001b[0m\u001b[0;31m:\u001b[0m invalid syntax\n"
     ]
    }
   ],
   "source": [
    "plt.gca()\n",
    "plt.bar(left=[1],\n",
    "       height=[12]\n",
    "       )"
   ]
  }
 ],
 "metadata": {
  "anaconda-cloud": {},
  "kernelspec": {
   "display_name": "Python [default]",
   "language": "python",
   "name": "python3"
  },
  "language_info": {
   "codemirror_mode": {
    "name": "ipython",
    "version": 3
   },
   "file_extension": ".py",
   "mimetype": "text/x-python",
   "name": "python",
   "nbconvert_exporter": "python",
   "pygments_lexer": "ipython3",
   "version": "3.5.2"
  }
 },
 "nbformat": 4,
 "nbformat_minor": 1
}
