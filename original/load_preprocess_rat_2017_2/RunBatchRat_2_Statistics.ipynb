{
 "cells": [
  {
   "cell_type": "markdown",
   "metadata": {},
   "source": [
    "# Batch: run code on multiple cluster/session/animal\n"
   ]
  },
  {
   "cell_type": "code",
   "execution_count": 43,
   "metadata": {
    "collapsed": false
   },
   "outputs": [],
   "source": [
    "#modules to find path of all sessions\n",
    "import glob\n",
    "import os\n",
    "import numpy as np\n",
    "from IPython.display import clear_output, display, HTML\n",
    "import matplotlib.cm as cm\n",
    "import warnings\n",
    "warnings.filterwarnings(\"ignore\")\n",
    "#run other notebooks\n",
    "%run plotRat_documentation_3_KinematicsInvestigation.ipynb\n",
    "%run plotRat_documentation_1_GeneralBehavior.ipynb\n",
    "%run loadRat_documentation.ipynb\n",
    "\n",
    "param={\n",
    "    \"goalTime\":7,#needed for pavel data only\n",
    "    \"treadmillRange\":[0,90],#pavel error conversion \"treadmillRange\":[0,80]\n",
    "    \"maxTrialDuration\":15,\n",
    "    \"interTrialDuration\":10,#None pavel\n",
    "    \"endTrial_frontPos\":30,\n",
    "    \"endTrial_backPos\":55, \n",
    "    \"endTrial_minTimeSec\":4,\n",
    "    \"cameraSamplingRate\":200, #needed for new setup    \n",
    "\n",
    "    \"sigmaSmoothPosition\":0.1,#0.33, 0.18 pavel\n",
    "    \"sigmaSmoothSpeed\":0.3,#0.3, 0.5 pavel\n",
    "     \"nbJumpMax\":100,#200 pavel\n",
    "    \"binSize\":0.25,\n",
    "}"
   ]
  },
  {
   "cell_type": "markdown",
   "metadata": {},
   "source": [
    "# 0- Functions"
   ]
  },
  {
   "cell_type": "code",
   "execution_count": 44,
   "metadata": {
    "collapsed": true
   },
   "outputs": [],
   "source": [
    "def has_tag(root, animal, session, tagList):\n",
    "    \"\"\" Test if the session has at least one of the tag in tagList\n",
    "    tag = empty file with a specific name, in a session folder\n",
    "    \"\"\"\n",
    "    fullPath = os.path.join(root, animal, \"Experiments\", session)\n",
    "    fileList = os.listdir(fullPath)\n",
    "    for tag in tagList:\n",
    "        if tag in fileList:\n",
    "            return True\n",
    "    return False"
   ]
  },
  {
   "cell_type": "code",
   "execution_count": 45,
   "metadata": {
    "collapsed": false
   },
   "outputs": [],
   "source": [
    "def compute_or_read_stats(data, saveAsPickle=True, pickleName=\"behaviorStats.p\",redo=False):\n",
    "    pathPickle=os.path.join(data.analysisPath,pickleName)\n",
    "    if os.path.exists(pathPickle) and (not redo):\n",
    "        with open(pathPickle,\"rb\") as f:\n",
    "            result=pickle.load(f)\n",
    "            return result    \n",
    "    result={}\n",
    "    \n",
    "    #percentage of good trials\n",
    "    result[\"% good trials\"]=np.round(len(data.goodTrials)/float(data.nTrial) *100)\n",
    "    \n",
    "    #percentage of good trials in the 40 last trials\n",
    "    last40GoodTrial=[trial for trial in data.goodTrials if trial>(data.nTrial-41)]\n",
    "    result[\"% good trials on last 40\"]=np.round(len(last40GoodTrial)/40.0 *100)\n",
    "    \n",
    "    #percentile entrance time\n",
    "    entranceTimeP=np.nanpercentile(data.entranceTime,[10,25,50,75,90])\n",
    "    result[\"percentile entrance time\"]=entranceTimeP\n",
    "    \n",
    "    #median and std of entrance time\n",
    "    result[\"median entrance time (sec)\"]=np.nanmedian(data.entranceTime)\n",
    "    result[\"standard deviation of entrance time\"]=np.nanstd(data.entranceTime)\n",
    "    result[\"mean entrance time (sec)\"]=np.nanmean(data.entranceTime)\n",
    "    \n",
    "    #median correlation trajectories\n",
    "    #result[\"median correlation of trajectories\"]=plot_correlation_position(data,onlyGood=True)\n",
    "    \n",
    "    #correlation entrance time\n",
    "    result[\"spearman entrance time\"]=plot_correlation_entrance_time(data)\n",
    "\n",
    "  \n",
    "    #proportion of time running forward\n",
    "    areaUnderCurve=plot_proportionTimeRunningForward_TrajEnd(data,binSize=1,minSpeed=-20,maxSpeed=120,smoothSpeed=0.3,onlyGood=False,highSpeed=None)\n",
    "    result[\"time running forward\"]=areaUnderCurve\n",
    "    \n",
    "    #proportion of time running forward for good trials\n",
    "    areaUnderCurve=plot_proportionTimeRunningForward_TrajEnd(data,binSize=1,minSpeed=-20,maxSpeed=120,smoothSpeed=0.3,onlyGood=True,highSpeed=None)\n",
    "    result[\"timerunningforwardGoodTrials\"]=areaUnderCurve\n",
    "    \n",
    "    #Forward Speed\n",
    "    result[\"Forward Speed\"]=plot_mean_forwardSpeed(data,smoothSpeed=0.3,onlyGood=False)\n",
    "    plt.close()\n",
    "    \n",
    "    #Forward Speed vs TreadmillSpeed\n",
    "    result[\"Forward Speed Vs TreadmillSpeed\"]=plot_mean_forwardSpeedVsTreadmillSpeed(data,smoothSpeed=0.3,onlyGood=False)\n",
    "    \n",
    "    #Forward Speed for good trials\n",
    "    result[\"Forward Speed good trials\"]=plot_mean_forwardSpeed(data,smoothSpeed=0.3,onlyGood=True)\n",
    "    plt.close()\n",
    "    \n",
    "    #Tortuosity\n",
    "    SessionTortuosity,SessionStraightSpeed=plot_Tortuosity(data, onlyGood=False)\n",
    "    plt.close()\n",
    "    result[\"Tortuosity\"]=SessionTortuosity\n",
    "    \n",
    "    #StraightSpeedForward\n",
    "    SessionTortuosity,SessionStraightSpeed=plot_Tortuosity(data, onlyGood=False)\n",
    "    plt.close()\n",
    "    result[\"Straight Speed Forward\"]=SessionStraightSpeed\n",
    "    \n",
    "    #Trajectory Correlation\n",
    "    SessionCorrelationTrajectory= plot_correlation_position(data,onlyGood=False,raw=False)\n",
    "    plt.close()\n",
    "    result[\"Trajectory Correlation\"]=SessionCorrelationTrajectory\n",
    "    \n",
    "    \n",
    "    #Trajectory Correlation for good trials\n",
    "    SessionCorrelationTrajectory= plot_correlation_position(data,onlyGood=True,raw=False)\n",
    "    plt.close()\n",
    "    result[\"Trajectory Correlation good trials\"]=SessionCorrelationTrajectory\n",
    "    \n",
    "    #Std from goaltime\n",
    "    result[\"Std from goaltime\"]=std_from_goaltime(data)\n",
    "    \n",
    "    #adding treadmill speed to result\n",
    "    result[\"treadmillSpeed\"]=np.nanmedian(data.treadmillSpeed)\n",
    "    #res[key].append(res_TS)\n",
    "    \n",
    "    if saveAsPickle:\n",
    "        with open(pathPickle, 'wb') as f:\n",
    "            pickle.dump(result, f)\n",
    "    return result\n",
    "\n",
    "#----------------------------------------------------------------------------------------------------------------------\n",
    "#results=compute_or_read_stats(data,redo=True)\n",
    "#for key in sorted(results):\n",
    "#    print(\"***\",key)\n",
    "#    print(results[key])"
   ]
  },
  {
   "cell_type": "code",
   "execution_count": 52,
   "metadata": {
    "collapsed": false
   },
   "outputs": [],
   "source": [
    "def rat_statistics(root,animal,mykeys,parameter={},stop_date=\"\",tagList=[],redoPreprocess=False, redoStat=False,plot=True):\n",
    "    results={}\n",
    "    days=[]\n",
    "    colo=[]\n",
    "    indexSession=[]\n",
    "    errorSession=[]\n",
    "    s=\"\"\n",
    "    for tag in tagList:\n",
    "        s=s+tag  # david: what is this s\n",
    "    \n",
    "    #Get the list of all session\n",
    "    sessionList=[os.path.basename(expPath) for expPath in glob.glob(root+\"/\"+animal+\"/Experiments/Rat*\")]\n",
    "    sessionList=sorted(sessionList)\n",
    "    #print(sessionList)\n",
    "    \n",
    "    \n",
    "    if stop_date!=\"\":\n",
    "        stop_session = [os.path.basename(expPath) for expPath in glob.glob(root+\"/\"+animal+\"/Experiments/\"+animal+stop_date+\"*\")]\n",
    "        print(stop_session)\n",
    "        indexSession= sessionList.index(stop_session[0])\n",
    "        del sessionList[indexSession:]\n",
    "    \n",
    "    \n",
    "    res_TS =[]\n",
    "    #loop through sessions\n",
    "    for session in sessionList:  \n",
    "        print(\"--------\")\n",
    "        print(session)\n",
    "        if len(tagList)>0:\n",
    "            if not has_tag(root, animal, session, tagList):\n",
    "                    continue\n",
    "        #load data for this session (add redoPreprocess=True to overwrite preprocess)\n",
    "        try:\n",
    "            sessionData=Data(root,animal,session,parameter,redoPreprocess=redoPreprocess)\n",
    "        except Exception as e:\n",
    "            display(HTML(\"<b> An error happened, skip session. Error message: </b>\"))\n",
    "            display(HTML(\"<b>\"+e.__class__.__name__+\": \"+str(e)+\"</b>\"))\n",
    "            errorSession.append(session)\n",
    "            print(\"--------\")\n",
    "            continue\n",
    "        #---skip if file \"NotToAnalyze\"\n",
    "        try:\n",
    "            if \"NotToAnalyze\" in sessionData.emptyAnalysisFiles:\n",
    "                print(\"Not to analyze, skipped\")\n",
    "                print(\"--------\")\n",
    "                continue \n",
    "        except:\n",
    "            continue\n",
    "   \n",
    "        if not sessionData.hasBehavior:\n",
    "            continue\n",
    "        try :\n",
    "            et=sessionData.entranceTime \n",
    "        except:\n",
    "            print('No entrance time, skipped')\n",
    "            print(\"--------\")\n",
    "            continue   \n",
    "        #skip if training data or no break time\n",
    "        if (not sessionData.hasBehavior):\n",
    "            print(\"No Behavior, skipped\")\n",
    "            print(\"--------\")\n",
    "            continue\n",
    "        \n",
    "        days.append(sessionData.daySinceStart)\n",
    "        if (sessionData.hasSpike) or (glob.glob(sessionData.fullPath+\".dat\")):\n",
    "            colo.append(\"red\")\n",
    "        else:\n",
    "            colo.append(\"black\")\n",
    "        \n",
    "        #add data in results\n",
    "        res=compute_or_read_stats(sessionData,redo=redoStat)\n",
    "        \n",
    "        #print(res.keys())\n",
    "        #print('oo',session,res['highSpeed/totalSpeed 9 sec trajectory'])\n",
    "        if len(mykeys)==0:\n",
    "            keys = list(res.keys())\n",
    "        else:\n",
    "            keys=mykeys\n",
    "        for key in keys:\n",
    "            #davdebug\n",
    "            print(key)\n",
    "            try:\n",
    "                results[key].append(res[key])\n",
    "            except KeyError:\n",
    "                results[key]=[res[key]]\n",
    "    clear_output()\n",
    "    # One subplot for every key in results\n",
    "    nbCol=2\n",
    "    nbLine=len(results)//nbCol+len(results)%nbCol\n",
    "    if plot:\n",
    "    \n",
    "        fig=plt.figure(figsize=(15, 3*nbLine))\n",
    "        #fig.subplots_adjust(hspace=1)\n",
    "        for index,key in enumerate(sorted(results)):\n",
    "            #print(index,key)\n",
    "            ax=plt.subplot(nbLine,nbCol,index+1)\n",
    "            if isinstance(results[key][0],(np.ndarray,list)):\n",
    "                if key==\"percentile entrance time\":\n",
    "                    med=[array[2] for array in results[key]]\n",
    "                    lowestdist=[array[1] for array in results[key]]\n",
    "                    higestdist=[array[-2] for array in results[key]]\n",
    "                    lowError=[array[2]-array[1] for array in results[key]]\n",
    "                    highError=[array[3]-array[2] for array in results[key]]\n",
    "                    ax.errorbar(days,med,yerr=np.vstack([lowError,highError]),ls=\"\")\n",
    "                    colorNonan=[c for c,res in zip(colo,med) if not np.isnan(res)]\n",
    "                    ax.scatter(days,med,c=colorNonan,zorder=10, s=5)\n",
    "                    ax.plot(days,med,color=\"lightgrey\")\n",
    "                    ymax=max(higestdist)\n",
    "                    ymin=min(lowestdist)\n",
    "                    key+=\" (25% - 50% - 75%)\"\n",
    "            else:\n",
    "\n",
    "                ax.plot(days,results[key],color=\"lightgrey\")\n",
    "                colorNonan=[c for c,res in zip(colo,results[key]) if not np.isnan(res)]\n",
    "                ax.scatter(days,results[key],c=colorNonan,zorder=10,s=5)\n",
    "                ymax=max([x for x in results[key] if not isNone(x)])\n",
    "                ymin=min([x for x in results[key] if not isNone(x)])\n",
    "               \n",
    "           \n",
    "            ax.set_title(animal+\" \"+key)\n",
    "            if key==\"median entrance time (sec)\":\n",
    "                ax.set_ylim([0,10])\n",
    "            if key==\"treadmillSpeed\":\n",
    "                ax.set_ylim([0,35])\n",
    "            if key==\"Trajectory Correlation\":\n",
    "                ax.set_ylim([0,1])\n",
    "            if key==\"% good trials\":\n",
    "                ax.set_ylim([0,100])   \n",
    "            ax.set_xlabel(\"session day\")\n",
    "            ax.xaxis.grid(which='major')  \n",
    "\n",
    "            major_ticks = np.arange(0, days[-1], 10)                                              \n",
    "            minor_ticks = np.arange(0, days[-1], 2)                                               \n",
    "            ax.set_xticks(major_ticks)                                                       \n",
    "            #ax.set_xticks(minor_ticks, minor=True)\n",
    "            ax.set_xlim([days[0]-1,days[-1]+1])\n",
    "            print(index,key)\n",
    "\n",
    "        #plt.tight_layout()            \n",
    "        plt.subplots_adjust(top=0.95)\n",
    "        plt.suptitle(animal,fontsize=16)\n",
    "\n",
    "        #save plot\n",
    "        path=os.path.join(root,animal,\"Analysis\")\n",
    "        if not os.path.exists(path):\n",
    "            os.mkdir(path)\n",
    " \n",
    "        pathFig=os.path.join(path,\"NewLearningAcrossSession\"+s+\".png\")\n",
    "        plt.savefig(pathFig)\n",
    "    \n",
    "    #save in pickle\n",
    "    results[\"days\"]=days\n",
    "    # adding treadmill speed\n",
    "    #results[\"treadmillSpeed\"]=res_TS\n",
    "    path=os.path.join(root,animal,\"Analysis\")\n",
    "    if not os.path.exists(path):\n",
    "            os.mkdir(path)\n",
    "    path=os.path.join(path,\"learningStats\"+s+\".p\")\n",
    "        \n",
    "    with open(path, 'wb') as f:\n",
    "        pickle.dump(results, f)\n",
    "    print(\"Save pickle: %s\"%path)\n",
    "\n",
    "    if errorSession:\n",
    "        display(HTML(\"<b> An error happened for the following session(s):\"))\n",
    "        print(\"\\n\".join(errorSession))\n",
    "    return results\n",
    "\n"
   ]
  },
  {
   "cell_type": "code",
   "execution_count": 47,
   "metadata": {
    "collapsed": true
   },
   "outputs": [],
   "source": [
    "def kinematic_histo_to_compare(data,data1,kinematic=\"speedSmoothBin\",binSize=1,onlyGood=False):\n",
    "    k=np.asarray([])\n",
    "    for trial in data.trials:\n",
    "        if (not onlyGood) or (trial in data.goodTrials):\n",
    "            k=np.append(k,data.__dict__[kinematic][trial])    \n",
    "    k1=np.asarray([])\n",
    "    for trial in data1.trials:\n",
    "        if (not onlyGood) or (trial in data1.goodTrials):\n",
    "            k1=np.append(k1,data.__dict__[kinematic][trial])     \n",
    "    #check that the vector is not empty\n",
    "    if len(k)==0 or len(k1)==0:\n",
    "        return np.nan   \n",
    "    #histogram between min and max speed, with binSize\n",
    "    mink=np.min([np.nanmin(k),np.nanmin(k1)])\n",
    "    maxk=np.max([np.nanmax(k),np.nanmax(k1)])\n",
    "    hist,bins=np.histogram(k,np.arange(mink,maxk+1,binSize),density=True)\n",
    "    hist1,bins=np.histogram(k1,np.arange(mink,maxk+1,binSize),density=True)\n",
    "    return hist,hist1\n",
    "\n",
    "#----------------------------------------------------------------------------------------------------------------------\n",
    "#hist,hist1=kinematic_histo_to_compare(data,data,kinematic=\"speedSmoothBin\",binSize=1,onlyGood=False)"
   ]
  },
  {
   "cell_type": "code",
   "execution_count": 48,
   "metadata": {
    "collapsed": false
   },
   "outputs": [],
   "source": [
    "def kinematic_histograms(root,animal,param={},kinematic=\"speedSmoothBin\",binSize=1, saveAsPickle=True, pickleName=\"DistributionSpeed.p\",onlyGood=False,redoPreprocess=False,redo=False):\n",
    "    pathPickle=os.path.join(root,animal,\"Analysis\",pickleName)\n",
    "    if os.path.exists(pathPickle) and (not redo):\n",
    "        with open(pathPickle,\"rb\") as f:\n",
    "            kinemahists=pickle.load(f)\n",
    "            return kinemahists   \n",
    "    sessionList=[os.path.basename(expPath) for expPath in glob.glob(root+\"/\"+animal+\"/Experiments/Rat*\")]\n",
    "    sessionList=sorted(sessionList)\n",
    "    errorSession=[]\n",
    "    kinemahists={}\n",
    "    ks = {}\n",
    "    for count, session in enumerate (sessionList):\n",
    "        \n",
    "        try:\n",
    "            data=Data(root,animal,sessionList[count],param,redoPreprocess=redoPreprocess)\n",
    "            k=[]\n",
    "            for trial in data.trials:\n",
    "                if (not onlyGood) or (trial in data.goodTrials):\n",
    "                    k=np.append(k,data.__dict__[kinematic][trial])    \n",
    "        except Exception as e:\n",
    "            display(HTML(\"<b> An error happened, skip session. Error message: </b>\"))\n",
    "            display(HTML(\"<b>\"+e.__class__.__name__+\": \"+str(e)+\"</b>\"))\n",
    "            errorSession.append(session)\n",
    "            print(\"--------\")\n",
    "            continue\n",
    "\n",
    "        #check that the vector is not empty\n",
    "        if len(k)!=0:\n",
    "            ks[count] = k\n",
    "    clear_output()\n",
    "    #return ks\n",
    "    mink=np.nanmin([np.nanmin(ks[i]) for i in ks])\n",
    "    maxk=np.nanmax([np.nanmax(ks[i]) for i in ks])\n",
    "    hists={}\n",
    "    for count in ks:\n",
    "    #histogram between min and max speed, with binSize\n",
    "        ksNoNan=ks[count]\n",
    "        ksNoNan=ksNoNan[~np.isnan(ksNoNan)]\n",
    "        hists[count],_=np.histogram(ksNoNan,np.arange(mink,maxk+1,binSize),density=True)\n",
    "    print(\"Done\")\n",
    "    if errorSession:\n",
    "        display(HTML(\"<b> An error happened for the following session(s):\"))\n",
    "        print(\"\\n\".join(errorSession))\n",
    "    bins=np.arange(mink,maxk+1,binSize)\n",
    "    kinemahists[\"mibins\"]=bins[:-1]+np.diff(bins)/2.\n",
    "    kinemahists[\"distribution\"]=hists\n",
    "    if saveAsPickle:\n",
    "        with open(pathPickle, 'wb') as f:\n",
    "                pickle.dump(kinemahists, f)\n",
    "    #plt.plot(hists[\"mibins\"],hists[0])\n",
    "    #plt.plot(hists[\"mibins\"],hists[1])\n",
    "    return kinemahists,errorSession\n",
    "\n",
    "#----------------------------------------------------------------------------------------------------------------------\n",
    "    kinemahists,errorSession=kinematic_histograms(root,\"Rat057\",kinematic=\"speedSmoothBin\", pickleName=\"DistributionSpeed.p\",binSize=1,onlyGood=False)\n",
    "    plt.plot(kinemahists[\"mibins\"],kinemahists[\"distribution\"][0])\n",
    "    plt.plot(kinemahists[\"mibins\"],kinemahists[\"distribution\"][1])"
   ]
  },
  {
   "cell_type": "markdown",
   "metadata": {},
   "source": [
    "## 1 -  Fix parameters"
   ]
  },
  {
   "cell_type": "code",
   "execution_count": 49,
   "metadata": {
    "collapsed": true
   },
   "outputs": [],
   "source": [
    "if \"__file__\" not in dir():\n",
    "    #------------------------Check Path !----------------------\n",
    "    root=\"/data\"\n",
    "    redoStat_ = False"
   ]
  },
  {
   "cell_type": "markdown",
   "metadata": {},
   "source": [
    "## 2 -  Loop through every session of several animals"
   ]
  },
  {
   "cell_type": "markdown",
   "metadata": {},
   "source": [
    "!!!! Animal in animalList should be preprocessed in Batch 1 !!!"
   ]
  },
  {
   "cell_type": "code",
   "execution_count": 54,
   "metadata": {
    "collapsed": false
   },
   "outputs": [
    {
     "name": "stdout",
     "output_type": "stream",
     "text": [
      "0 median entrance time (sec)\n",
      "1 percentile entrance time (25% - 50% - 75%)\n",
      "Save pickle: /data/Rat105/Analysis/learningStats.p\n"
     ]
    },
    {
     "data": {
      "image/png": "[encoded data removed]",
      "text/plain": [
       "<matplotlib.figure.Figure at 0x7fe779d7a908>"
      ]
     },
     "metadata": {},
     "output_type": "display_data"
    }
   ],
   "source": [
    "if \"__file__\" not in dir():\n",
    "    #one plot per rat\n",
    "    #animalList = [\"Rat043\",\"Rat044\",\"Rat045\",\"Rat046\",\"Rat051\",\"Rat056\",\"Rat058\",\"Rat060\",\"Rat063\",\"Rat066\",\"Rat065\",]\n",
    "    #mykeys =[\"treadmillSpeed\",\"% good trials\",\"median entrance time (sec)\",\"Trajectory Correlation\",\"Forward Speed Vs TreadmillSpeed\",\"spearman entrance time\"]\n",
    "    mykeys =[\"median entrance time (sec)\",\"percentile entrance time\"]\n",
    "    animalList = [\"Rat105\"]\n",
    "    stop_date = \"\"\n",
    "    errors=[]\n",
    "    tagList=[\"BeforeBreak\",\"AfterBreak\",\"AfterLesion\"]#,\"VariableSpeed\",\"ChangeSpeedPosition\"]\n",
    "    \n",
    "    tagList=[]\n",
    "    redoStat_ = True\n",
    "\n",
    "    if len(tagList)>0:\n",
    "        for tag in tagList:\n",
    "            for animal in animalList:\n",
    "            #try:\n",
    "                results = rat_statistics(root, animal,mykeys, param,stop_date,[tag], redoPreprocess=True, redoStat=redoStat_)\n",
    "    else:\n",
    "        for animal in animalList:\n",
    "            #try:\n",
    "            print(\"rat_statistics is going to be excuted\")\n",
    "            results = rat_statistics(root, animal,mykeys, param,stop_date,[], redoPreprocess=True, redoStat=True)"
   ]
  },
  {
   "cell_type": "code",
   "execution_count": 51,
   "metadata": {
    "collapsed": false
   },
   "outputs": [
    {
     "data": {
      "text/plain": [
       "[<matplotlib.lines.Line2D at 0x7fe777c45b70>]"
      ]
     },
     "execution_count": 51,
     "metadata": {},
     "output_type": "execute_result"
    },
    {
     "data": {
      "image/png": "[encoded data removed]",
      "text/plain": [
       "<matplotlib.figure.Figure at 0x7fe7866e2c50>"
      ]
     },
     "metadata": {},
     "output_type": "display_data"
    }
   ],
   "source": [
    "plt.plot(results['days'],results['median entrance time (sec)'],'-ko')"
   ]
  },
  {
   "cell_type": "markdown",
   "metadata": {},
   "source": [
    "# Investigating Evolution of kinematics distributions"
   ]
  },
  {
   "cell_type": "markdown",
   "metadata": {},
   "source": [
    "## 1. Plot evolution speed distribution across learning"
   ]
  },
  {
   "cell_type": "code",
   "execution_count": 9,
   "metadata": {
    "collapsed": false,
    "scrolled": true
   },
   "outputs": [
    {
     "name": "stdout",
     "output_type": "stream",
     "text": [
      "Done\n"
     ]
    },
    {
     "data": {
      "text/html": [
       "<b> An error happened for the following session(s):"
      ],
      "text/plain": [
       "<IPython.core.display.HTML object>"
      ]
     },
     "metadata": {},
     "output_type": "display_data"
    },
    {
     "name": "stdout",
     "output_type": "stream",
     "text": [
      "Rat077_2016_06_13_16_28\n",
      "Rat077_2016_06_14_15_38\n",
      "Rat077_2016_06_15_14_54\n",
      "Rat077_2016_06_16_14_30\n",
      "Rat077_2016_06_17_15_20\n",
      "Rat077_2016_06_20_17_33\n",
      "Rat077_2016_06_21_15_05\n",
      "Rat077_2016_06_22_15_47\n",
      "Rat077_2016_06_23_17_30\n",
      "Rat077_2016_06_24_16_40\n",
      "Rat077_2016_06_27_15_04\n",
      "Rat077_2016_06_28_16_29\n",
      "Rat077_2016_07_11_12_34\n",
      "Rat077_2016_07_12_12_00\n",
      "Rat077_2016_07_13_13_12\n",
      "Rat077_2016_07_14_12_09\n",
      "Rat077_2016_07_15_12_22\n",
      "Rat077_2016_07_18_13_55\n",
      "Rat077_2016_07_19_12_22\n",
      "Rat077_2016_07_20_12_19\n",
      "Rat077_2016_07_21_12_46\n",
      "Rat077_2016_07_22_11_51\n",
      "44\n",
      "dict_keys([22, 23, 24, 25, 26, 27, 28, 29, 30, 31, 32, 33, 34, 35, 36, 37, 38, 39, 40, 41, 42, 43, 44, 45, 46, 47, 48, 49, 50, 51, 52, 53, 54, 55, 56, 57, 58, 59, 60, 61, 62, 63, 64, 65, 66, 67, 68, 69])\n"
     ]
    },
    {
     "data": {
      "image/png": "[encoded data removed]",
      "text/plain": [
       "<matplotlib.figure.Figure at 0x7f349fa0c390>"
      ]
     },
     "metadata": {},
     "output_type": "display_data"
    }
   ],
   "source": [
    "if \"__file__\" not in dir():\n",
    "    animal =\"Rat077\"\n",
    "    \n",
    "    #Calculate nb surgery session\n",
    "    sessionList=[os.path.basename(expPath) for expPath in glob.glob(root+\"/\"+animal+\"/Experiments/Rat*\")]\n",
    "    sessionList=sorted(sessionList)\n",
    "    nbSurgerySession=[]\n",
    "    for count, session in enumerate (sessionList):\n",
    "         if sessionList[count] == \"Rat077_2016_09_28_12_24\":\n",
    "            nbSurgerySession=count\n",
    "              \n",
    "    from scipy.stats import pearsonr,ks_2samp\n",
    "    kinemahists,errorSession=kinematic_histograms(root,animal,kinematic=\"speedSmoothBin\", pickleName=\"DistributionSpeed.p\",binSize=1,onlyGood=False,redo=True)\n",
    "    if errorSession!=0:\n",
    "        nbSurgerySession=nbSurgerySession-len(errorSession)\n",
    "        print(nbSurgerySession)\n",
    "    CorrStat,pval=[],[]\n",
    "    ListKeys=sorted(list(kinemahists[\"distribution\"].keys()))\n",
    "    print(kinemahists[\"distribution\"].keys())\n",
    "    for count in ListKeys:\n",
    "            try:\n",
    "                corr,pcorr =pearsonr(kinemahists[\"distribution\"][count],kinemahists[\"distribution\"][ListKeys[nbSurgerySession]])\n",
    "                #corr,pcorr =pearsonr(kinemahists[\"distribution\"][count],kinemahists[\"distribution\"][count+1])\n",
    "            except:\n",
    "                continue\n",
    "            CorrStat.append(corr)\n",
    "            pval.append(pcorr)\n",
    "    plt.figure(figsize=(12, 4))\n",
    "    l=np.arange(len(CorrStat))\n",
    "    plt.axvline(nbSurgerySession, color=\"g\",ls=\"--\") \n",
    "    plt.ylabel(\"Speed Distribution Correlation across sessions\")\n",
    "    plt.xlabel(\"Sessions\")\n",
    "    CorrStat = np.array(CorrStat)\n",
    "    pval = np.array(pval)\n",
    "    #plot color value depending on the p value\n",
    "    plt.plot(l[pval<=0.05],CorrStat[pval<=0.05],\"ro\")\n",
    "    plt.plot(l[pval>0.05],CorrStat[pval>0.05],\"bo\") \n",
    "    plt.xlim([-1,(len(ListKeys)+1)])\n",
    "    plt.ylim([0,1.05])\n",
    "    plt.title((\"%s, lesion DLS\")%animal)\n",
    "    #save figure\n",
    "    path=os.path.join(root,animal,\"Analysis\")\n",
    "    if not os.path.exists(path):\n",
    "        os.mkdir(path)\n",
    "    pathFig=os.path.join(path,\"SpeedDistributionCorrelation.png\")\n",
    "    plt.savefig(pathFig)"
   ]
  },
  {
   "cell_type": "markdown",
   "metadata": {},
   "source": [
    "## 2. Plot evolution acceleration distribution across learning"
   ]
  },
  {
   "cell_type": "code",
   "execution_count": 10,
   "metadata": {
    "collapsed": false
   },
   "outputs": [
    {
     "name": "stdout",
     "output_type": "stream",
     "text": [
      "Done\n"
     ]
    },
    {
     "data": {
      "text/html": [
       "<b> An error happened for the following session(s):"
      ],
      "text/plain": [
       "<IPython.core.display.HTML object>"
      ]
     },
     "metadata": {},
     "output_type": "display_data"
    },
    {
     "name": "stdout",
     "output_type": "stream",
     "text": [
      "Rat077_2016_06_13_16_28\n",
      "Rat077_2016_06_14_15_38\n",
      "Rat077_2016_06_15_14_54\n",
      "Rat077_2016_06_16_14_30\n",
      "Rat077_2016_06_17_15_20\n",
      "Rat077_2016_06_20_17_33\n",
      "Rat077_2016_06_21_15_05\n",
      "Rat077_2016_06_22_15_47\n",
      "Rat077_2016_06_23_17_30\n",
      "Rat077_2016_06_24_16_40\n",
      "Rat077_2016_06_27_15_04\n",
      "Rat077_2016_06_28_16_29\n",
      "Rat077_2016_07_11_12_34\n",
      "Rat077_2016_07_12_12_00\n",
      "Rat077_2016_07_13_13_12\n",
      "Rat077_2016_07_14_12_09\n",
      "Rat077_2016_07_15_12_22\n",
      "Rat077_2016_07_18_13_55\n",
      "Rat077_2016_07_19_12_22\n",
      "Rat077_2016_07_20_12_19\n",
      "Rat077_2016_07_21_12_46\n",
      "Rat077_2016_07_22_11_51\n",
      "44\n"
     ]
    },
    {
     "data": {
      "image/png": "[encoded data removed]",
      "text/plain": [
       "<matplotlib.figure.Figure at 0x7f350b020a58>"
      ]
     },
     "metadata": {},
     "output_type": "display_data"
    }
   ],
   "source": [
    "if \"__file__\" not in dir():\n",
    "    animal = \"Rat077\"\n",
    "    \n",
    "    #Calculate nb surgery session\n",
    "    sessionList=[os.path.basename(expPath) for expPath in glob.glob(root+\"/\"+animal+\"/Experiments/Rat*\")]\n",
    "    sessionList=sorted(sessionList)\n",
    "    nbSurgerySession=[]\n",
    "    for count, session in enumerate (sessionList):\n",
    "         if sessionList[count] == \"Rat077_2016_09_28_12_24\":\n",
    "            nbSurgerySession=count\n",
    "    \n",
    "    from scipy.stats import pearsonr,ks_2samp\n",
    "    kinemahists,errorSession=kinematic_histograms(root,animal,kinematic=\"accelerationOnSpeedSmoothBin\", pickleName=\"DistributionAcceleration.p\",binSize=1,onlyGood=False,redo=True)\n",
    "    if errorSession!=0:\n",
    "        nbSurgerySession=nbSurgerySession-len(errorSession)\n",
    "        print(nbSurgerySession)\n",
    "    CorrStat,pval=[],[]\n",
    "    ListKeys=sorted(list(kinemahists[\"distribution\"].keys()))\n",
    "    for count in ListKeys:\n",
    "            try:\n",
    "                corr,pcorr =pearsonr(kinemahists[\"distribution\"][count],kinemahists[\"distribution\"][ListKeys[nbSurgerySession]])\n",
    "            except:\n",
    "                continue\n",
    "            CorrStat.append(corr)\n",
    "            pval.append(pcorr)\n",
    "  \n",
    "    plt.figure(figsize=(12, 4))\n",
    "    l=np.arange(len(CorrStat))\n",
    "    plt.axvline(nbSurgerySession, color=\"g\",ls=\"--\") \n",
    "    plt.ylabel(\"Acceleration Distribution Correlation across sessions\")\n",
    "    plt.xlabel(\"Sessions\")\n",
    "    CorrStat = np.array(CorrStat)\n",
    "    pval = np.array(pval)\n",
    "    #plot color value depending on the p value\n",
    "    plt.plot(l[pval<=0.05],CorrStat[pval<=0.05],\"ro\")\n",
    "    plt.plot(l[pval>0.05],CorrStat[pval>0.05],\"bo\") \n",
    "    plt.xlim([-1,(len(ListKeys)+1)])\n",
    "    plt.ylim([0,1.05])\n",
    "    plt.title((\"%s, lesion DLS\")%animal)\n",
    "    #save figure\n",
    "    path=os.path.join(root,animal,\"Analysis\")\n",
    "    if not os.path.exists(path):\n",
    "        os.mkdir(path)\n",
    "    pathFig=os.path.join(path,\"AccelerationDistributionCorrelation.png\")\n",
    "    plt.savefig(pathFig)"
   ]
  },
  {
   "cell_type": "code",
   "execution_count": null,
   "metadata": {
    "collapsed": true
   },
   "outputs": [],
   "source": []
  }
 ],
 "metadata": {
  "anaconda-cloud": {},
  "kernelspec": {
   "display_name": "Python [default]",
   "language": "python",
   "name": "python3"
  },
  "language_info": {
   "codemirror_mode": {
    "name": "ipython",
    "version": 3
   },
   "file_extension": ".py",
   "mimetype": "text/x-python",
   "name": "python",
   "nbconvert_exporter": "python",
   "pygments_lexer": "ipython3",
   "version": "3.5.2"
  }
 },
 "nbformat": 4,
 "nbformat_minor": 0
}
