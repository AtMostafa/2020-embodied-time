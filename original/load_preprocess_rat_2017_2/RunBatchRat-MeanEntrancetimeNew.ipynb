{
 "cells": [
  {
   "cell_type": "code",
   "execution_count": 2,
   "metadata": {
    "collapsed": false
   },
   "outputs": [],
   "source": [
    "# RunBatchRat-MeanEntrancetime\n",
    "# Batch: run code on multiple cluster/session/animal\n",
    "\n",
    "#modules to find path of all sessions\n",
    "import glob\n",
    "import os\n",
    "\n",
    "import numpy as np\n",
    "\n",
    "from IPython.display import clear_output, display, HTML\n",
    "\n",
    "import matplotlib.cm as cm\n",
    "\n",
    "import warnings\n",
    "warnings.filterwarnings(\"ignore\")\n",
    "\n",
    "#"
   ]
  },
  {
   "cell_type": "code",
   "execution_count": 3,
   "metadata": {
    "collapsed": true
   },
   "outputs": [],
   "source": [
    "def read_entranceTime(fullPath):\n",
    "        maxTrialDuration=read_in_file(fullPath,\"maximum trial duration\",extension=\".behav_param\",valueType=float)\n",
    "        entranceTimeStr=list(read_in_file(fullPath,\"time\",extension=\".entrancetimes\",valueType=str))\n",
    "        return entranceTimeStr\n",
    "\n",
    "    #-----------------------------------------------------------------------------------------------   \n",
    "def read_in_file(fullPath,paramName,extension=\".behav_param\",exclude=None,valueType=str):\n",
    "        '''\n",
    "        Use to read from .behav_param or .entrancetimes\n",
    "        Look for lines containing \"paramName\" and not containing \"exclude\"\n",
    "        Split them by white spaces \n",
    "        example: \"treadmill speed:     30.00\" becomes [\"treadmill\",\"speed:\",\"30.00\"])\n",
    "        Return a list of their last element, in the specified valueType (in example: \"30.00\")\n",
    "        '''\n",
    "        behav=fullPath+extension\n",
    "        if not os.path.exists(behav):\n",
    "            print(\"No file %s\"%behav)\n",
    "            return []\n",
    "        result=[]\n",
    "        with open(behav,\"r\") as f:\n",
    "            for line in f:\n",
    "                if paramName in line:\n",
    "                    if (exclude is not None) and (exclude in line):\n",
    "                        continue\n",
    "                    res=line.split()[-1]\n",
    "                    #integer or float: replace comma by dots\n",
    "                    if valueType in [int,float]:\n",
    "                        res=res.replace(\",\",\".\")                 \n",
    "                    #integer: convert first to float (\"0.00\" -> 0.00 -> 0)\n",
    "                    if valueType is int:\n",
    "                        res=int(float(res))\n",
    "                    #boolean \"TRUE\" \"FALSE\"\n",
    "                    elif valueType is bool:\n",
    "                        res=(res.lower()==\"true\")\n",
    "                    else:\n",
    "                        res=valueType(res)\n",
    "                    result.append(res)\n",
    "        result=np.asarray(result)\n",
    "        return result    "
   ]
  },
  {
   "cell_type": "code",
   "execution_count": 3,
   "metadata": {
    "collapsed": false
   },
   "outputs": [
    {
     "name": "stdout",
     "output_type": "stream",
     "text": [
      "**********\n",
      "Animal Rat121  sesssion Rat121_2017_02_14_18_33\n",
      "3.316\n",
      "**********\n",
      "Animal Rat122  sesssion Rat122_2017_02_14_18_33\n",
      "1.504\n",
      "**********\n",
      "Animal Rat123  sesssion Rat123_2017_02_14_18_33\n",
      "1.874\n",
      "**********\n",
      "Animal Rat124  sesssion Rat124_2017_02_14_18_33\n",
      "1.504\n"
     ]
    }
   ],
   "source": [
    "root=\"/data\"\n",
    "animalList=[\"Rat121\",\"Rat122\",\"Rat123\",\"Rat124\"]\n",
    "\n",
    "for animal in animalList:\n",
    "    #Get the list of all session\n",
    "    sessionList=[os.path.basename(expPath) for expPath in glob.glob(os.path.join(root,animal,\"Experiments\",\"Rat*\"))]\n",
    "    sessionList=sorted(sessionList)\n",
    "    LastSessionName=sessionList[-1]\n",
    "    \n",
    "    fullPath=os.path.join(root,animal,\"Experiments\",LastSessionName,LastSessionName)\n",
    "\n",
    "    listeEntrance=read_entranceTime(fullPath)\n",
    "    for i in range(len(listeEntrance)):\n",
    "        if listeEntrance[i]==\"timeout\":listeEntrance[i]=np.nan\n",
    "        else:listeEntrance[i]=float(listeEntrance[i])\n",
    "   \n",
    "    print(\"**********\")\n",
    "    print(\"Animal %s\"%animal,\" sesssion\",LastSessionName)\n",
    "    print(np.nanmedian(listeEntrance))\n"
   ]
  },
  {
   "cell_type": "code",
   "execution_count": 5,
   "metadata": {
    "collapsed": false
   },
   "outputs": [],
   "source": [
    "root=\"/data\"\n",
    "animalList=[\"Rat121\",\"Rat122\",\"Rat123\",\"Rat124\"]\n",
    "for animal in animalList:\n",
    "    #Get the list of all session\n",
    "    sessionList=[os.path.basename(expPath) for expPath in glob.glob(os.path.join(root,animal,\"Experiments\",\"Rat*\"))]\n",
    "    sessionList=sorted(sessionList)\n",
    "    LastSessionNames=sessionList[-10:]\n",
    "    \n",
    "    for LastSessionName in LastSessionNames:\n",
    "        print(\"**********\")\n",
    "        fullPath=os.path.join(root,animal,\"Experiments\",LastSessionName,LastSessionName)\n",
    "\n",
    "        listeEntrance=read_entranceTime(fullPath)\n",
    "        if len(listeEntrance)==0:\n",
    "            continue\n",
    "        \n",
    "        for i in range(len(listeEntrance)):\n",
    "            if listeEntrance[i]==\"timeout\":listeEntrance[i]=np.nan\n",
    "            else:listeEntrance[i]=float(listeEntrance[i])\n",
    "\n",
    "        print(\"Animal %s\"%animal,\" sesssion\",LastSessionName)\n",
    "        print(np.nanmedian(listeEntrance))"
   ]
  },
  {
   "cell_type": "code",
   "execution_count": 16,
   "metadata": {
    "collapsed": false
   },
   "outputs": [
    {
     "data": {
      "text/plain": [
       "'2017_02_15'"
      ]
     },
     "execution_count": 16,
     "metadata": {},
     "output_type": "execute_result"
    }
   ],
   "source": [
    "import datetime\n",
    "datetime.datetime.today().strftime('%Y_%m_%d')"
   ]
  },
  {
   "cell_type": "code",
   "execution_count": 18,
   "metadata": {
    "collapsed": false
   },
   "outputs": [],
   "source": [
    "datetime_object = datetime.datetime.strptime('2017 02 14', '%Y %m %d')"
   ]
  },
  {
   "cell_type": "code",
   "execution_count": 19,
   "metadata": {
    "collapsed": false
   },
   "outputs": [
    {
     "data": {
      "text/plain": [
       "datetime.datetime(2017, 2, 14, 0, 0)"
      ]
     },
     "execution_count": 19,
     "metadata": {},
     "output_type": "execute_result"
    }
   ],
   "source": [
    "datetime_object"
   ]
  },
  {
   "cell_type": "code",
   "execution_count": null,
   "metadata": {
    "collapsed": true
   },
   "outputs": [],
   "source": [
    "\n"
   ]
  }
 ],
 "metadata": {
  "kernelspec": {
   "display_name": "Python [default]",
   "language": "python",
   "name": "python3"
  },
  "language_info": {
   "codemirror_mode": {
    "name": "ipython",
    "version": 3
   },
   "file_extension": ".py",
   "mimetype": "text/x-python",
   "name": "python",
   "nbconvert_exporter": "python",
   "pygments_lexer": "ipython3",
   "version": "3.5.2"
  }
 },
 "nbformat": 4,
 "nbformat_minor": 0
}
