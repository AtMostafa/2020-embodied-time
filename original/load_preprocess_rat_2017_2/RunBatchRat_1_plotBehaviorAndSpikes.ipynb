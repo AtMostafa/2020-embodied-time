{
 "cells": [
  {
   "cell_type": "code",
   "execution_count": 1,
   "metadata": {
    "collapsed": true
   },
   "outputs": [],
   "source": [
    "# Batch: run code on multiple cluster/session/animal\n"
   ]
  },
  {
   "cell_type": "code",
   "execution_count": 2,
   "metadata": {
    "collapsed": false
   },
   "outputs": [],
   "source": [
    "#modules to find path of all sessions\n",
    "import glob\n",
    "import os\n",
    "import numpy as np\n",
    "from IPython.display import clear_output, display, HTML\n",
    "import matplotlib.cm as cm\n",
    "import warnings\n",
    "warnings.filterwarnings(\"ignore\")\n",
    "#run other notebooks\n",
    "%run plotRat_documentation_1_GeneralBehavior.ipynb\n",
    "%run plotRat_documentation_2_Spiking.ipynb\n",
    "%run loadRat_documentation.ipynb\n",
    "%run loadRawSpike_documentation.ipynb"
   ]
  },
  {
   "cell_type": "markdown",
   "metadata": {},
   "source": [
    "## 1 -  Fix parameters"
   ]
  },
  {
   "cell_type": "code",
   "execution_count": 3,
   "metadata": {
    "collapsed": true
   },
   "outputs": [],
   "source": [
    "# INFO: all the default parameters for preprocessing (/!\\ do not change here, it wont affect anything)\n",
    "defaultParam={\n",
    "    \"binSize\":0.25,\n",
    "    \"trialOffset\":20., #max end of trial, in seconds (position will be cutted)\n",
    "    \"sigmaSmoothPosition\":0.1,  #smooth the position\n",
    "    \"sigmaSmoothSpeed\":0.3, #smooth the speed\n",
    "    \"positionDiffRange\": [2.,5.], #min and max differences allowed between two consecutive positions\n",
    "                                  #min to correct start, max to correct jumps\n",
    "    \"pawFrequencyRange\":[2.,10.],\n",
    "    \"startAnalysisParams\":[10,0.2,0.5],\n",
    "    \"cameraToTreadmillDelay\":2., #seconds, usual time between camera start and treadmill start\n",
    "    \"nbJumpMax\" : 100., #if jumps>nbJumpMax, trial is badly tracked\n",
    "    \n",
    "    #parameter to detect end of trial (first position minima)\n",
    "    \"endTrial_backPos\":55,  # minima is after the animal went once to the back (after first time position>backPos)\n",
    "    \"endTrial_frontPos\":30, # minima's position is in front of treadmill (position[end]<frontPos)\n",
    "    \"endTrial_minTimeSec\":4, # minima is after minTimeSec seconds (time[end]>minTimeSec)\n",
    "    }"
   ]
  },
  {
   "cell_type": "code",
   "execution_count": 4,
   "metadata": {
    "collapsed": false
   },
   "outputs": [
    {
     "name": "stdout",
     "output_type": "stream",
     "text": [
      "Available list of animals: ['Rat001', 'Rat002', 'Rat004', 'Rat005', 'Rat010', 'Rat015', 'Rat017', 'Rat022', 'Rat027', 'Rat032', 'Rat039', 'Rat041', 'Rat042', 'Rat043', 'Rat044', 'Rat045', 'Rat046', 'Rat047', 'Rat048', 'Rat049', 'Rat050', 'Rat051', 'Rat053', 'Rat054', 'Rat055', 'Rat056', 'Rat060', 'Rat061', 'Rat062', 'Rat063', 'Rat064', 'Rat065', 'Rat066', 'Rat067', 'Rat068', 'Rat069', 'Rat074', 'Rat101', 'Rat103']\n"
     ]
    }
   ],
   "source": [
    "#------------------------Check Path !----------------------\n",
    "root=\"/data\"\n",
    "#---------------------------------------------------\n",
    "#list of all animals\n",
    "animalList=[os.path.basename(path) for path in sorted(glob.glob(root+\"/Rat*\"))]\n",
    "print(\"Available list of animals: %s\"%animalList)"
   ]
  },
  {
   "cell_type": "code",
   "execution_count": 5,
   "metadata": {
    "collapsed": false
   },
   "outputs": [
    {
     "name": "stdout",
     "output_type": "stream",
     "text": [
      "List of animal to loop through: ['Rat103']\n"
     ]
    }
   ],
   "source": [
    "animalList = [\"Rat070\",\"Rat071\",\"Rat072\",\"Rat074\",\"Rat075\"]#,\"Rat077\",\"Rat078\",\"Rat079\",\"Rat081\",\"Rat082\",\"Rat084\"]\n",
    "#animalList = [\"Rat085\",\"Rat086\",\"Rat087\",\"Rat088\",\"Rat089\",\"Rat091\",\"Rat092\"]\n",
    "#animalList = [\"Rat077\",\"Rat078\",\"Rat079\",\"Rat081\",\"Rat082\",\"Rat084\"]\n",
    "#animalList = [\"Rat095\",\"Rat096\",\"Rat097\",\"Rat098\",\"Rat099\",\"Rat100\"]\n",
    "animalList = [\"Rat103\"]\n",
    "#animalList = [\"Rat076\"]#,\"Rat078\",\"Rat079\",\"Rat081\",\"Rat082\",\"Rat084\",\"Rat085\",\"Rat086\",\"Rat087\",\"Rat088\",\"Rat089\",\"Rat091\",\"Rat092\"]\n",
    "tagList=[]\n",
    "print(\"List of animal to loop through: %s\"%animalList)\n",
    "redo = False\n",
    "override = False"
   ]
  },
  {
   "cell_type": "code",
   "execution_count": 6,
   "metadata": {
    "collapsed": false
   },
   "outputs": [],
   "source": [
    "#-------------------------Check data type--------------------------\n",
    "# PARAMETERS (used if the pickles don't exist)\n",
    "param={\n",
    "    \"goalTime\":7,#needed for pavel data only\n",
    "    \"treadmillRange\":[0,90],#pavel error conversion \"treadmillRange\":[0,80]\n",
    "    \"maxTrialDuration\":20,\n",
    "    \"interTrialDuration\":10,#None pavel\n",
    "    \"endTrial_frontPos\":30,\n",
    "    \"endTrial_backPos\":55, \n",
    "    \"endTrial_minTimeSec\":4,\n",
    "    \"cameraSamplingRate\":25, #needed for new setup    \n",
    "\n",
    "    \"sigmaSmoothPosition\":0.1,#0.33, 0.18 pavel\n",
    "    \"sigmaSmoothSpeed\":0.3,#0.3, 0.5 pavel\n",
    "     \"nbJumpMax\":100,#200 pavel\n",
    "    \"binSize\":0.25,\n",
    "    #parameters used to preprocess (will override the default parameters)\n",
    "}  \n",
    "#-=======================================================================================\n",
    "#                             Pavel Data Warnings\n",
    "#-=======================================================================================\n",
    "#------------------------------------\n",
    "#(\"WARNING 1: rat001 and rat004 not only in DLS\")\n",
    "#---------------------------------------------\n",
    "#(\"Warning 2: Intertrial period is not fixed in Pavel Data \\n --> it seems to be 27s for good trials and 16 for bad trials by looking at some sessions\")\n",
    "#------------------------\n",
    "#(\"WARNING 3: GoalTime change with rats!!! rat004 = 5s  !!! rat005 = 6s \\n --> change goalTime if needed\")\n",
    "#----------------------\n",
    "#param [\"goalTime\"] = 7.\n",
    "#----------------------------------------------------"
   ]
  },
  {
   "cell_type": "markdown",
   "metadata": {},
   "source": [
    "## 2 -  Loop through every session of several animals"
   ]
  },
  {
   "cell_type": "code",
   "execution_count": 7,
   "metadata": {
    "collapsed": false,
    "scrolled": true
   },
   "outputs": [
    {
     "name": "stdout",
     "output_type": "stream",
     "text": [
      "Animal Rat103\n",
      "**********\n",
      "Session 1/31: Rat103_2016_10_24_15_44\n",
      "Preprocessing behavior data...\n",
      "ready to read everything\n",
      "No file /data/Rat103/Experiments/Rat103_2016_10_24_15_44/Rat103_2016_10_24_15_44.entrancetimes\n"
     ]
    },
    {
     "data": {
      "text/html": [
       "<b> An error happened, skip session. Error message: </b>"
      ],
      "text/plain": [
       "<IPython.core.display.HTML object>"
      ]
     },
     "metadata": {},
     "output_type": "display_data"
    },
    {
     "data": {
      "text/html": [
       "<b>FileNotFoundError: [Errno 2] No such file or directory: '/data/Rat103/Experiments/Rat103_2016_10_24_15_44/Rat103_2016_10_24_15_44.entrancetimes'</b>"
      ],
      "text/plain": [
       "<IPython.core.display.HTML object>"
      ]
     },
     "metadata": {},
     "output_type": "display_data"
    },
    {
     "name": "stdout",
     "output_type": "stream",
     "text": [
      "Session 2/31: Rat103_2016_10_25_15_39\n",
      "Preprocessing behavior data...\n",
      "ready to read everything\n",
      "No file /data/Rat103/Experiments/Rat103_2016_10_25_15_39/Rat103_2016_10_25_15_39.entrancetimes\n"
     ]
    },
    {
     "data": {
      "text/html": [
       "<b> An error happened, skip session. Error message: </b>"
      ],
      "text/plain": [
       "<IPython.core.display.HTML object>"
      ]
     },
     "metadata": {},
     "output_type": "display_data"
    },
    {
     "data": {
      "text/html": [
       "<b>FileNotFoundError: [Errno 2] No such file or directory: '/data/Rat103/Experiments/Rat103_2016_10_25_15_39/Rat103_2016_10_25_15_39.entrancetimes'</b>"
      ],
      "text/plain": [
       "<IPython.core.display.HTML object>"
      ]
     },
     "metadata": {},
     "output_type": "display_data"
    },
    {
     "name": "stdout",
     "output_type": "stream",
     "text": [
      "Session 3/31: Rat103_2016_10_26_14_32\n",
      "Preprocessing behavior data...\n",
      "ready to read everything\n",
      "No file /data/Rat103/Experiments/Rat103_2016_10_26_14_32/Rat103_2016_10_26_14_32.entrancetimes\n"
     ]
    },
    {
     "data": {
      "text/html": [
       "<b> An error happened, skip session. Error message: </b>"
      ],
      "text/plain": [
       "<IPython.core.display.HTML object>"
      ]
     },
     "metadata": {},
     "output_type": "display_data"
    },
    {
     "data": {
      "text/html": [
       "<b>FileNotFoundError: [Errno 2] No such file or directory: '/data/Rat103/Experiments/Rat103_2016_10_26_14_32/Rat103_2016_10_26_14_32.entrancetimes'</b>"
      ],
      "text/plain": [
       "<IPython.core.display.HTML object>"
      ]
     },
     "metadata": {},
     "output_type": "display_data"
    },
    {
     "name": "stdout",
     "output_type": "stream",
     "text": [
      "Session 4/31: Rat103_2016_10_27_15_23\n",
      "Preprocessing behavior data...\n",
      "ready to read everything\n",
      "No file /data/Rat103/Experiments/Rat103_2016_10_27_15_23/Rat103_2016_10_27_15_23.entrancetimes\n"
     ]
    },
    {
     "data": {
      "text/html": [
       "<b> An error happened, skip session. Error message: </b>"
      ],
      "text/plain": [
       "<IPython.core.display.HTML object>"
      ]
     },
     "metadata": {},
     "output_type": "display_data"
    },
    {
     "data": {
      "text/html": [
       "<b>FileNotFoundError: [Errno 2] No such file or directory: '/data/Rat103/Experiments/Rat103_2016_10_27_15_23/Rat103_2016_10_27_15_23.entrancetimes'</b>"
      ],
      "text/plain": [
       "<IPython.core.display.HTML object>"
      ]
     },
     "metadata": {},
     "output_type": "display_data"
    },
    {
     "name": "stdout",
     "output_type": "stream",
     "text": [
      "Session 5/31: Rat103_2016_10_28_16_17\n",
      "Preprocessing behavior data...\n",
      "ready to read everything\n",
      "No file /data/Rat103/Experiments/Rat103_2016_10_28_16_17/Rat103_2016_10_28_16_17.entrancetimes\n"
     ]
    },
    {
     "data": {
      "text/html": [
       "<b> An error happened, skip session. Error message: </b>"
      ],
      "text/plain": [
       "<IPython.core.display.HTML object>"
      ]
     },
     "metadata": {},
     "output_type": "display_data"
    },
    {
     "data": {
      "text/html": [
       "<b>FileNotFoundError: [Errno 2] No such file or directory: '/data/Rat103/Experiments/Rat103_2016_10_28_16_17/Rat103_2016_10_28_16_17.entrancetimes'</b>"
      ],
      "text/plain": [
       "<IPython.core.display.HTML object>"
      ]
     },
     "metadata": {},
     "output_type": "display_data"
    },
    {
     "name": "stdout",
     "output_type": "stream",
     "text": [
      "Session 6/31: Rat103_2016_11_03_15_53\n",
      "Preprocessing behavior data...\n",
      "ready to read everything\n",
      "No file /data/Rat103/Experiments/Rat103_2016_11_03_15_53/Rat103_2016_11_03_15_53.entrancetimes\n"
     ]
    },
    {
     "data": {
      "text/html": [
       "<b> An error happened, skip session. Error message: </b>"
      ],
      "text/plain": [
       "<IPython.core.display.HTML object>"
      ]
     },
     "metadata": {},
     "output_type": "display_data"
    },
    {
     "data": {
      "text/html": [
       "<b>FileNotFoundError: [Errno 2] No such file or directory: '/data/Rat103/Experiments/Rat103_2016_11_03_15_53/Rat103_2016_11_03_15_53.entrancetimes'</b>"
      ],
      "text/plain": [
       "<IPython.core.display.HTML object>"
      ]
     },
     "metadata": {},
     "output_type": "display_data"
    },
    {
     "name": "stdout",
     "output_type": "stream",
     "text": [
      "Session 7/31: Rat103_2016_11_11_15_46\n",
      "Preprocessing behavior data...\n",
      "ready to read everything\n",
      "No file /data/Rat103/Experiments/Rat103_2016_11_11_15_46/Rat103_2016_11_11_15_46.entrancetimes\n"
     ]
    },
    {
     "data": {
      "text/html": [
       "<b> An error happened, skip session. Error message: </b>"
      ],
      "text/plain": [
       "<IPython.core.display.HTML object>"
      ]
     },
     "metadata": {},
     "output_type": "display_data"
    },
    {
     "data": {
      "text/html": [
       "<b>FileNotFoundError: [Errno 2] No such file or directory: '/data/Rat103/Experiments/Rat103_2016_11_11_15_46/Rat103_2016_11_11_15_46.entrancetimes'</b>"
      ],
      "text/plain": [
       "<IPython.core.display.HTML object>"
      ]
     },
     "metadata": {},
     "output_type": "display_data"
    },
    {
     "name": "stdout",
     "output_type": "stream",
     "text": [
      "Session 8/31: Rat103_2016_11_28_16_17\n",
      "Preprocessing behavior data...\n",
      "ready to read everything\n",
      "No file /data/Rat103/Experiments/Rat103_2016_11_28_16_17/Rat103_2016_11_28_16_17.entrancetimes\n"
     ]
    },
    {
     "data": {
      "text/html": [
       "<b> An error happened, skip session. Error message: </b>"
      ],
      "text/plain": [
       "<IPython.core.display.HTML object>"
      ]
     },
     "metadata": {},
     "output_type": "display_data"
    },
    {
     "data": {
      "text/html": [
       "<b>FileNotFoundError: [Errno 2] No such file or directory: '/data/Rat103/Experiments/Rat103_2016_11_28_16_17/Rat103_2016_11_28_16_17.entrancetimes'</b>"
      ],
      "text/plain": [
       "<IPython.core.display.HTML object>"
      ]
     },
     "metadata": {},
     "output_type": "display_data"
    },
    {
     "name": "stdout",
     "output_type": "stream",
     "text": [
      "Session 9/31: Rat103_2016_11_29_17_55\n",
      "Preprocessing behavior data...\n",
      "ready to read everything\n",
      "No file /data/Rat103/Experiments/Rat103_2016_11_29_17_55/Rat103_2016_11_29_17_55.entrancetimes\n"
     ]
    },
    {
     "data": {
      "text/html": [
       "<b> An error happened, skip session. Error message: </b>"
      ],
      "text/plain": [
       "<IPython.core.display.HTML object>"
      ]
     },
     "metadata": {},
     "output_type": "display_data"
    },
    {
     "data": {
      "text/html": [
       "<b>FileNotFoundError: [Errno 2] No such file or directory: '/data/Rat103/Experiments/Rat103_2016_11_29_17_55/Rat103_2016_11_29_17_55.entrancetimes'</b>"
      ],
      "text/plain": [
       "<IPython.core.display.HTML object>"
      ]
     },
     "metadata": {},
     "output_type": "display_data"
    },
    {
     "name": "stdout",
     "output_type": "stream",
     "text": [
      "Session 10/31: Rat103_2016_11_30_18_37\n",
      "Preprocessing behavior data...\n",
      "ready to read everything\n",
      "No file /data/Rat103/Experiments/Rat103_2016_11_30_18_37/Rat103_2016_11_30_18_37.entrancetimes\n"
     ]
    },
    {
     "data": {
      "text/html": [
       "<b> An error happened, skip session. Error message: </b>"
      ],
      "text/plain": [
       "<IPython.core.display.HTML object>"
      ]
     },
     "metadata": {},
     "output_type": "display_data"
    },
    {
     "data": {
      "text/html": [
       "<b>FileNotFoundError: [Errno 2] No such file or directory: '/data/Rat103/Experiments/Rat103_2016_11_30_18_37/Rat103_2016_11_30_18_37.entrancetimes'</b>"
      ],
      "text/plain": [
       "<IPython.core.display.HTML object>"
      ]
     },
     "metadata": {},
     "output_type": "display_data"
    },
    {
     "name": "stdout",
     "output_type": "stream",
     "text": [
      "Session 11/31: Rat103_2016_12_01_17_48\n",
      "Preprocessing behavior data...\n",
      "ready to read everything\n",
      "No file /data/Rat103/Experiments/Rat103_2016_12_01_17_48/Rat103_2016_12_01_17_48.entrancetimes\n"
     ]
    },
    {
     "data": {
      "text/html": [
       "<b> An error happened, skip session. Error message: </b>"
      ],
      "text/plain": [
       "<IPython.core.display.HTML object>"
      ]
     },
     "metadata": {},
     "output_type": "display_data"
    },
    {
     "data": {
      "text/html": [
       "<b>FileNotFoundError: [Errno 2] No such file or directory: '/data/Rat103/Experiments/Rat103_2016_12_01_17_48/Rat103_2016_12_01_17_48.entrancetimes'</b>"
      ],
      "text/plain": [
       "<IPython.core.display.HTML object>"
      ]
     },
     "metadata": {},
     "output_type": "display_data"
    },
    {
     "name": "stdout",
     "output_type": "stream",
     "text": [
      "Session 12/31: Rat103_2016_12_02_17_07\n",
      "Preprocessing behavior data...\n",
      "ready to read everything\n",
      "No file /data/Rat103/Experiments/Rat103_2016_12_02_17_07/Rat103_2016_12_02_17_07.entrancetimes\n"
     ]
    },
    {
     "data": {
      "text/html": [
       "<b> An error happened, skip session. Error message: </b>"
      ],
      "text/plain": [
       "<IPython.core.display.HTML object>"
      ]
     },
     "metadata": {},
     "output_type": "display_data"
    },
    {
     "data": {
      "text/html": [
       "<b>FileNotFoundError: [Errno 2] No such file or directory: '/data/Rat103/Experiments/Rat103_2016_12_02_17_07/Rat103_2016_12_02_17_07.entrancetimes'</b>"
      ],
      "text/plain": [
       "<IPython.core.display.HTML object>"
      ]
     },
     "metadata": {},
     "output_type": "display_data"
    },
    {
     "name": "stdout",
     "output_type": "stream",
     "text": [
      "Session 13/31: Rat103_2016_12_05_17_55\n",
      "Preprocessing behavior data...\n",
      "ready to read everything\n",
      "No file /data/Rat103/Experiments/Rat103_2016_12_05_17_55/Rat103_2016_12_05_17_55.entrancetimes\n"
     ]
    },
    {
     "data": {
      "text/html": [
       "<b> An error happened, skip session. Error message: </b>"
      ],
      "text/plain": [
       "<IPython.core.display.HTML object>"
      ]
     },
     "metadata": {},
     "output_type": "display_data"
    },
    {
     "data": {
      "text/html": [
       "<b>FileNotFoundError: [Errno 2] No such file or directory: '/data/Rat103/Experiments/Rat103_2016_12_05_17_55/Rat103_2016_12_05_17_55.entrancetimes'</b>"
      ],
      "text/plain": [
       "<IPython.core.display.HTML object>"
      ]
     },
     "metadata": {},
     "output_type": "display_data"
    },
    {
     "name": "stdout",
     "output_type": "stream",
     "text": [
      "Session 14/31: Rat103_2016_12_06_17_13\n",
      "Preprocessing behavior data...\n",
      "ready to read everything\n",
      "No file /data/Rat103/Experiments/Rat103_2016_12_06_17_13/Rat103_2016_12_06_17_13.entrancetimes\n"
     ]
    },
    {
     "data": {
      "text/html": [
       "<b> An error happened, skip session. Error message: </b>"
      ],
      "text/plain": [
       "<IPython.core.display.HTML object>"
      ]
     },
     "metadata": {},
     "output_type": "display_data"
    },
    {
     "data": {
      "text/html": [
       "<b>FileNotFoundError: [Errno 2] No such file or directory: '/data/Rat103/Experiments/Rat103_2016_12_06_17_13/Rat103_2016_12_06_17_13.entrancetimes'</b>"
      ],
      "text/plain": [
       "<IPython.core.display.HTML object>"
      ]
     },
     "metadata": {},
     "output_type": "display_data"
    },
    {
     "name": "stdout",
     "output_type": "stream",
     "text": [
      "Session 15/31: Rat103_2016_12_07_17_16\n",
      "Preprocessing behavior data...\n",
      "ready to read everything\n",
      "No file /data/Rat103/Experiments/Rat103_2016_12_07_17_16/Rat103_2016_12_07_17_16.entrancetimes\n"
     ]
    },
    {
     "data": {
      "text/html": [
       "<b> An error happened, skip session. Error message: </b>"
      ],
      "text/plain": [
       "<IPython.core.display.HTML object>"
      ]
     },
     "metadata": {},
     "output_type": "display_data"
    },
    {
     "data": {
      "text/html": [
       "<b>FileNotFoundError: [Errno 2] No such file or directory: '/data/Rat103/Experiments/Rat103_2016_12_07_17_16/Rat103_2016_12_07_17_16.entrancetimes'</b>"
      ],
      "text/plain": [
       "<IPython.core.display.HTML object>"
      ]
     },
     "metadata": {},
     "output_type": "display_data"
    },
    {
     "name": "stdout",
     "output_type": "stream",
     "text": [
      "Session 16/31: Rat103_2016_12_08_18_52\n",
      "Preprocessing behavior data...\n",
      "ready to read everything\n",
      "No file /data/Rat103/Experiments/Rat103_2016_12_08_18_52/Rat103_2016_12_08_18_52.entrancetimes\n"
     ]
    },
    {
     "data": {
      "text/html": [
       "<b> An error happened, skip session. Error message: </b>"
      ],
      "text/plain": [
       "<IPython.core.display.HTML object>"
      ]
     },
     "metadata": {},
     "output_type": "display_data"
    },
    {
     "data": {
      "text/html": [
       "<b>FileNotFoundError: [Errno 2] No such file or directory: '/data/Rat103/Experiments/Rat103_2016_12_08_18_52/Rat103_2016_12_08_18_52.entrancetimes'</b>"
      ],
      "text/plain": [
       "<IPython.core.display.HTML object>"
      ]
     },
     "metadata": {},
     "output_type": "display_data"
    },
    {
     "name": "stdout",
     "output_type": "stream",
     "text": [
      "Session 17/31: Rat103_2016_12_09_16_52\n",
      "Preprocessing behavior data...\n",
      "ready to read everything\n",
      "No file /data/Rat103/Experiments/Rat103_2016_12_09_16_52/Rat103_2016_12_09_16_52.entrancetimes\n"
     ]
    },
    {
     "data": {
      "text/html": [
       "<b> An error happened, skip session. Error message: </b>"
      ],
      "text/plain": [
       "<IPython.core.display.HTML object>"
      ]
     },
     "metadata": {},
     "output_type": "display_data"
    },
    {
     "data": {
      "text/html": [
       "<b>FileNotFoundError: [Errno 2] No such file or directory: '/data/Rat103/Experiments/Rat103_2016_12_09_16_52/Rat103_2016_12_09_16_52.entrancetimes'</b>"
      ],
      "text/plain": [
       "<IPython.core.display.HTML object>"
      ]
     },
     "metadata": {},
     "output_type": "display_data"
    },
    {
     "name": "stdout",
     "output_type": "stream",
     "text": [
      "Session 18/31: Rat103_2016_12_12_18_48\n",
      "Preprocess behavior data loaded from /data/Rat103/Experiments/Rat103_2016_12_12_18_48/Analysis/preprocesseddata_binsize250ms_.p\n",
      "No spike data\n",
      "png already exists: /data/Rat103/Experiments/Rat103_2016_12_12_18_48/plot_session_behavior.png\n",
      "Html updated: /data/Rat103/Analysis/all_plot_session_behavior.html\n",
      "--------\n",
      "Session 19/31: Rat103_2016_12_13_16_43\n",
      "Preprocess behavior data loaded from /data/Rat103/Experiments/Rat103_2016_12_13_16_43/Analysis/preprocesseddata_binsize250ms_.p\n",
      "No spike data\n",
      "png already exists: /data/Rat103/Experiments/Rat103_2016_12_13_16_43/plot_session_behavior.png\n",
      "Html updated: /data/Rat103/Analysis/all_plot_session_behavior.html\n",
      "--------\n",
      "Session 20/31: Rat103_2016_12_14_16_34\n",
      "Preprocess behavior data loaded from /data/Rat103/Experiments/Rat103_2016_12_14_16_34/Analysis/preprocesseddata_binsize250ms_.p\n",
      "No spike data\n",
      "png already exists: /data/Rat103/Experiments/Rat103_2016_12_14_16_34/plot_session_behavior.png\n",
      "Html updated: /data/Rat103/Analysis/all_plot_session_behavior.html\n",
      "--------\n",
      "Session 21/31: Rat103_2016_12_15_16_48\n",
      "Preprocess behavior data loaded from /data/Rat103/Experiments/Rat103_2016_12_15_16_48/Analysis/preprocesseddata_binsize250ms_.p\n",
      "No spike data\n",
      "png already exists: /data/Rat103/Experiments/Rat103_2016_12_15_16_48/plot_session_behavior.png\n",
      "Html updated: /data/Rat103/Analysis/all_plot_session_behavior.html\n",
      "--------\n",
      "Session 22/31: Rat103_2016_12_16_16_25\n",
      "Preprocess behavior data loaded from /data/Rat103/Experiments/Rat103_2016_12_16_16_25/Analysis/preprocesseddata_binsize250ms_.p\n",
      "No spike data\n",
      "png already exists: /data/Rat103/Experiments/Rat103_2016_12_16_16_25/plot_session_behavior.png\n",
      "Html updated: /data/Rat103/Analysis/all_plot_session_behavior.html\n",
      "--------\n",
      "Session 23/31: Rat103_2016_12_19_17_20\n",
      "Preprocess behavior data loaded from /data/Rat103/Experiments/Rat103_2016_12_19_17_20/Analysis/preprocesseddata_binsize250ms_.p\n",
      "No spike data\n",
      "png already exists: /data/Rat103/Experiments/Rat103_2016_12_19_17_20/plot_session_behavior.png\n",
      "Html updated: /data/Rat103/Analysis/all_plot_session_behavior.html\n",
      "--------\n",
      "Session 24/31: Rat103_2016_12_20_17_14\n",
      "Preprocess behavior data loaded from /data/Rat103/Experiments/Rat103_2016_12_20_17_14/Analysis/preprocesseddata_binsize250ms_.p\n",
      "No spike data\n",
      "png already exists: /data/Rat103/Experiments/Rat103_2016_12_20_17_14/plot_session_behavior.png\n",
      "Html updated: /data/Rat103/Analysis/all_plot_session_behavior.html\n",
      "--------\n",
      "Session 25/31: Rat103_2016_12_21_18_13\n",
      "Preprocess behavior data loaded from /data/Rat103/Experiments/Rat103_2016_12_21_18_13/Analysis/preprocesseddata_binsize250ms_.p\n",
      "No spike data\n",
      "png already exists: /data/Rat103/Experiments/Rat103_2016_12_21_18_13/plot_session_behavior.png\n",
      "Html updated: /data/Rat103/Analysis/all_plot_session_behavior.html\n",
      "--------\n",
      "Session 26/31: Rat103_2016_12_22_11_54\n",
      "Preprocessing behavior data...\n",
      "behavior data loaded from /data/Rat103/Experiments/Rat103_2016_12_22_11_54/Analysis/rawbehaviordata.p\n"
     ]
    },
    {
     "data": {
      "text/html": [
       "<b> An error happened, skip session. Error message: </b>"
      ],
      "text/plain": [
       "<IPython.core.display.HTML object>"
      ]
     },
     "metadata": {},
     "output_type": "display_data"
    },
    {
     "data": {
      "text/html": [
       "<b>AttributeError: 'PreprocessTreadmillOn' object has no attribute 'stopFrame'</b>"
      ],
      "text/plain": [
       "<IPython.core.display.HTML object>"
      ]
     },
     "metadata": {},
     "output_type": "display_data"
    },
    {
     "name": "stdout",
     "output_type": "stream",
     "text": [
      "Session 27/31: Rat103_2017_01_03_14_42\n",
      "Preprocessing behavior data...\n",
      "behavior data loaded from /data/Rat103/Experiments/Rat103_2017_01_03_14_42/Analysis/rawbehaviordata.p\n"
     ]
    },
    {
     "data": {
      "text/html": [
       "<b> An error happened, skip session. Error message: </b>"
      ],
      "text/plain": [
       "<IPython.core.display.HTML object>"
      ]
     },
     "metadata": {},
     "output_type": "display_data"
    },
    {
     "data": {
      "text/html": [
       "<b>AttributeError: 'PreprocessTreadmillOn' object has no attribute 'stopFrame'</b>"
      ],
      "text/plain": [
       "<IPython.core.display.HTML object>"
      ]
     },
     "metadata": {},
     "output_type": "display_data"
    },
    {
     "name": "stdout",
     "output_type": "stream",
     "text": [
      "Session 28/31: Rat103_2017_01_04_14_20\n",
      "Preprocessing behavior data...\n",
      "ready to read everything\n",
      "Lick time data successfully loaded\n",
      "Behavior data loaded from text files: new setup (.behav_param)\n",
      "Preprocessing done\n",
      "No spike data\n",
      "0.324223294204\n",
      "Html updated: /data/Rat103/Analysis/all_plot_session_behavior.html\n",
      "--------\n",
      "Session 29/31: Rat103_2017_01_05_14_09\n",
      "Preprocessing behavior data...\n",
      "ready to read everything\n",
      "Lick time data successfully loaded\n",
      "Behavior data loaded from text files: new setup (.behav_param)\n",
      "Preprocessing done\n",
      "No spike data\n",
      "0.310137410909\n",
      "Html updated: /data/Rat103/Analysis/all_plot_session_behavior.html\n",
      "--------\n",
      "Session 30/31: Rat103_2017_01_06_14_41\n",
      "Preprocessing behavior data...\n",
      "ready to read everything\n",
      "Lick time data successfully loaded\n",
      "Behavior data loaded from text files: new setup (.behav_param)\n",
      "Preprocessing done\n",
      "No spike data\n",
      "0.178832207636\n",
      "Html updated: /data/Rat103/Analysis/all_plot_session_behavior.html\n",
      "--------\n",
      "Session 31/31: Rat103_2017_01_09_14_32\n",
      "Preprocessing behavior data...\n",
      "ready to read everything\n",
      "Lick time data successfully loaded\n",
      "Behavior data loaded from text files: new setup (.behav_param)\n",
      "Preprocessing done\n",
      "No spike data\n",
      "0.226283035134\n",
      "Html updated: /data/Rat103/Analysis/all_plot_session_behavior.html\n",
      "--------\n",
      "Done\n"
     ]
    },
    {
     "data": {
      "text/html": [
       "<b> An error happened for the following session(s):"
      ],
      "text/plain": [
       "<IPython.core.display.HTML object>"
      ]
     },
     "metadata": {},
     "output_type": "display_data"
    },
    {
     "name": "stdout",
     "output_type": "stream",
     "text": [
      "Rat103_2016_10_24_15_44\n",
      "Rat103_2016_10_25_15_39\n",
      "Rat103_2016_10_26_14_32\n",
      "Rat103_2016_10_27_15_23\n",
      "Rat103_2016_10_28_16_17\n",
      "Rat103_2016_11_03_15_53\n",
      "Rat103_2016_11_11_15_46\n",
      "Rat103_2016_11_28_16_17\n",
      "Rat103_2016_11_29_17_55\n",
      "Rat103_2016_11_30_18_37\n",
      "Rat103_2016_12_01_17_48\n",
      "Rat103_2016_12_02_17_07\n",
      "Rat103_2016_12_05_17_55\n",
      "Rat103_2016_12_06_17_13\n",
      "Rat103_2016_12_07_17_16\n",
      "Rat103_2016_12_08_18_52\n",
      "Rat103_2016_12_09_16_52\n",
      "Rat103_2016_12_22_11_54\n",
      "Rat103_2017_01_03_14_42\n"
     ]
    }
   ],
   "source": [
    "#===================================================================================\n",
    "''' Option A: Plot functions \"one plot per session\"  - BEHAVIOR'''\n",
    "#\n",
    "# one session = one folder = one experiment\n",
    "#\n",
    "# A plot is done in a \"plot function\", either defined here or in another .py file (ex: plotData.py). \n",
    "#\n",
    "# You can do several plots at once (by giving a list of \"plot function\").\n",
    "#\n",
    "# For every session, the plots are saved in *RatXXX/Experiments/RatXXX_20.../nameOfPlot.png*  \n",
    "#\n",
    "# An html page is created or updated: *RatXXX/Analysis/all_nameOfPlot.html*\n",
    "#===================================================================================\n",
    "\n",
    "#-------------list of plot functions to do on each session--------------------\n",
    "#those functions should take as arguments: data (+ optionnal keywords arguments)\n",
    "#the functions can return False (then no plot will be saved)\n",
    "\n",
    "plotFunctionList=[plot_session_behavior]\n",
    "\n",
    "#---------------------------loop on animal-------------------------------------\n",
    "errorSession=[]\n",
    "for animal in animalList:\n",
    "    print(\"Animal %s\"%animal)\n",
    "    print(\"**********\")\n",
    "    #----Get the list of all session\n",
    "    sessionList=[os.path.basename(expPath) for expPath in glob.glob(root+\"/\"+animal+\"/Experiments/Rat*\")]\n",
    "    sessionList=sorted(sessionList)\n",
    "    nbSession=len(sessionList)\n",
    "    #----loop through sessions\n",
    "    for index,session in enumerate(sessionList):\n",
    "        #clear_output()\n",
    "        print(\"Session %s/%s: %s\"%(index+1,nbSession,session))\n",
    "        #----------------------check for tag file-------------------------\n",
    "        isTagIn = True\n",
    "        if len(tagList)>0:\n",
    "            isTagIn = False\n",
    "            for tag in tagList:\n",
    "                    if os.path.exists(root+\"/\"+animal+'/Experiments'+'/'+session+'/Analysis/'+tag):\n",
    "                        isTagIn = True\n",
    "            if not isTagIn: \n",
    "                print(\"Tag not found, session skipped\")\n",
    "                print(\"--------\")\n",
    "                continue\n",
    "\n",
    "        #----load data for this session (add redoPreprocess=True to overwrite preprocess)\n",
    "        try:\n",
    "            sessionData=Data(root,animal,session,param=param,redoPreprocess=redo)\n",
    "        except Exception as e:\n",
    "            display(HTML(\"<b> An error happened, skip session. Error message: </b>\"))\n",
    "            display(HTML(\"<b>\"+e.__class__.__name__+\": \"+str(e)+\"</b>\"))\n",
    "            errorSession.append(session)\n",
    "            continue            \n",
    "        #----skip if training data or no break time\n",
    "        if (not sessionData.hasBehavior):\n",
    "            print(\"No Behavior, skipped\")\n",
    "            print(\"--------\")\n",
    "            continue  \n",
    "        #---skip if file \"NotToAnalyze\"\n",
    "        try:\n",
    "            if \"NotToAnalyze\" in sessionData.emptyAnalysisFiles:\n",
    "                print(\"Not to analyze, skipped\")\n",
    "                print(\"--------\")\n",
    "                continue \n",
    "        except:\n",
    "            continue\n",
    "        #----plot the data (add name=\"myNewName\" to change the name of the html, add override=True to redo the plots)\n",
    "        sessionData.plot_session_png_html(plotFunctionList,override=override)\n",
    "        print(\"--------\")\n",
    "#---------------------------------------------------------------------------------------       \n",
    "print(\"Done\")\n",
    "if errorSession:\n",
    "    display(HTML(\"<b> An error happened for the following session(s):\"))\n",
    "    print(\"\\n\".join(errorSession))\n",
    "#======================================================================================="
   ]
  },
  {
   "cell_type": "code",
   "execution_count": null,
   "metadata": {
    "collapsed": false,
    "scrolled": true
   },
   "outputs": [],
   "source": [
    "#===================================================================================\n",
    "''' Option B: Plot functions \"one plot per cluster\"  - SPIKES'''\n",
    "#\n",
    "# A plot is done in a \"plot function\", either defined here or in another .py file (ex: plotData.py).   \n",
    "#\n",
    "# You can do several plots at once (by giving a list of \"plot function\")\n",
    "#\n",
    "# For every session, the plots are saved in *RatXXX/Experiments/RatXXX_20.../plots/shankX_clusterX_nameOfPlot.png*  \n",
    "#\n",
    "# Two html pages are created or updated: \n",
    "#  - *RatXXX/Experiments/RatXXX_20.../nameOfPlot.html*: all plots for session (\"session html\")\n",
    "#  - *RatXXX/Analysis/all_nameOfPlot.html*: links to every \"session html\" for this rat\n",
    "#\n",
    "#===================================================================================\n",
    "\n",
    "#-------------list of plot functions to do on each session--------------------\n",
    "#those functions should take as arguments: data,shank,cluster,group (+ optionnal keywords arguments)\n",
    "#the functions can return False (then no plot will be saved)\n",
    "animalList=[\"Rat025\"]\n",
    "plotFunctionList=[plot_raster_correlogram,plot_waveforms]\n",
    "\n",
    "#------------------------------loop on animal----------------------------------------------  \n",
    "for animal in animalList:\n",
    "    print(\"animal %s\"%animal)\n",
    "    print(\"**********\")\n",
    "\n",
    "    #Get the list of all session\n",
    "    sessionList=[os.path.basename(expPath) for expPath in glob.glob(root+\"/\"+animal+\"/Experiments/Rat*\")]\n",
    "    sessionList=sorted(sessionList)\n",
    "    nbSession=len(sessionList)\n",
    "\n",
    "    errorSession=[]\n",
    "    \n",
    "    #loop through sessions\n",
    "    for index,session in enumerate(sessionList):\n",
    "        print(\"Session %s/%s: %s\"%(index+1,nbSession,session))\n",
    "        #load data for this session (add redoPreprocess=True to overwrite preprocess)\n",
    "        #----------------------check for tag file-------------------------\n",
    "        isTagIn = True\n",
    "        if len(tagList)>0:\n",
    "            isTagIn = False\n",
    "            for tag in tagList:\n",
    "                    if os.path.exists(root+\"/\"+animal+'/Experiments'+'/'+session+'/Analysis/'+tag):\n",
    "                        isTagIn = True\n",
    "            if not isTagIn: \n",
    "                print(\"Tag not found, session skipped\")\n",
    "                print(\"--------\")\n",
    "                continue\n",
    "\n",
    "        #----load data for this session (add redoPreprocess=True to overwrite preprocess)\n",
    "        try:\n",
    "            sessionData=Data(root,animal,session,param=param,redoPreprocess=redo)\n",
    "        except Exception as e:\n",
    "            display(HTML(\"<b> An error happened, skip session. Error message: </b>\"))\n",
    "            display(HTML(\"<b>\"+e.__class__.__name__+\": \"+str(e)+\"</b>\"))\n",
    "            errorSession.append(session)\n",
    "            print(\"--------\")\n",
    "            continue\n",
    "            \n",
    "        #skip if training data or no break time\n",
    "        if (not sessionData.hasBehavior):\n",
    "            print(\"No behavior, skipped\")\n",
    "            print(\"--------\")\n",
    "            continue\n",
    "            \n",
    "        #skip if file \"NotToAnalyze\"\n",
    "        if \"NotToAnalyze\" in sessionData.emptyAnalysisFiles:\n",
    "            print(\"Not to analyze, skipped\")\n",
    "            print(\"--------\")\n",
    "            continue        \n",
    "            \n",
    "        if sessionData.hasSpike:\n",
    "            #plot the data (add name=\"myNewName\" to change the name of the html, add override=True to redo the plots)\n",
    "            # groupList can be \"Good\", [\"Good\",\"MUA\"],... No groupList -> do every group\n",
    "            sessionData.plot_all_clusters_png_html(plotFunctionList,override=override,groupList=\"Good\")\n",
    "        print(\"--------\")\n",
    "        #---------------------------------------------------------------------------------------            \n",
    "        print(\"Done\")\n",
    "        if errorSession:\n",
    "            display(HTML(\"<b> An error happened for the following session(s):\"))\n",
    "            print(\"\\n\".join(errorSession))\n",
    "        #======================================================================================="
   ]
  },
  {
   "cell_type": "code",
   "execution_count": null,
   "metadata": {
    "collapsed": true
   },
   "outputs": [],
   "source": []
  }
 ],
 "metadata": {
  "kernelspec": {
   "display_name": "Python 3",
   "language": "python",
   "name": "python3"
  },
  "language_info": {
   "codemirror_mode": {
    "name": "ipython",
    "version": 3
   },
   "file_extension": ".py",
   "mimetype": "text/x-python",
   "name": "python",
   "nbconvert_exporter": "python",
   "pygments_lexer": "ipython3",
   "version": "3.4.4"
  }
 },
 "nbformat": 4,
 "nbformat_minor": 0
}
