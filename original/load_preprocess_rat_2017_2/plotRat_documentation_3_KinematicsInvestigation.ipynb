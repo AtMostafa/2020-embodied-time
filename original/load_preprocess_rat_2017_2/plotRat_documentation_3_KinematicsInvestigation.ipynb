{
 "cells": [
  {
   "cell_type": "code",
   "execution_count": 2,
   "metadata": {
    "collapsed": false
   },
   "outputs": [],
   "source": [
    "import numpy as np\n",
    "import scipy\n",
    "from scipy.interpolate import interp1d\n",
    "\n",
    "import matplotlib.pyplot as plt\n",
    "import matplotlib.gridspec as gridspec\n",
    "from matplotlib import collections  as mc\n",
    "%matplotlib inline\n",
    "\n",
    "import glob\n",
    "import os\n",
    "import pickle\n",
    "import datetime\n",
    "\n",
    "\n",
    "if \"__file__\" not in dir():\n",
    "    %run loadRat_documentation.ipynb\n",
    "    %run loadRawSpike_documentation.ipynb\n",
    "    %run plotRat_documentation_1_GeneralBehavior.ipynb\n"
   ]
  },
  {
   "cell_type": "markdown",
   "metadata": {},
   "source": [
    "    \n",
    "# INFO: all the default parameters for preprocessing\n",
    "defaultParam={\n",
    "    \"binSize\":0.25,\n",
    "    \"trialOffset\":20., #max end of trial, in seconds (position will be cutted)\n",
    "    \"sigmaSmoothPosition\":0.1,  #smooth the position\n",
    "    #\"sigmaSmoothPosition\":0.33 for pavel dataType\n",
    "    \"sigmaSmoothSpeed\":0.3, #smooth the speed\n",
    "    \"positionDiffRange\": [2.,5.], #min and max differences allowed between two consecutive positions\n",
    "                                  #min to correct start, max to correct jumps\n",
    "    \"pawFrequencyRange\":[2.,10.],\n",
    "    \"startAnalysisParams\":[10,0.2,0.5],\n",
    "    \"cameraToTreadmillDelay\":2., #seconds, usual time between camera start and treadmill start\n",
    "    \"nbJumpMax\" : 100., #if jumps>nbJumpMax, trial is badly tracked\n",
    "    \n",
    "    #parameter to detect end of trial (first position minima)\n",
    "    \"endTrial_backPos\":55,  # minima is after the animal went once to the back (after first time position>backPos)\n",
    "    \"endTrial_frontPos\":30, # minima's position is in front of treadmill (position[end]<frontPos)\n",
    "    \"endTrial_minTimeSec\":4, # minima is after minTimeSec seconds (time[end]>minTimeSec)\n",
    "    }"
   ]
  },
  {
   "cell_type": "markdown",
   "metadata": {},
   "source": [
    "### Load Data\n",
    "Load the preprocess data (corrected and binned position, speed, median position, ...)\n",
    " DEFAULT: load pickle if they exist, or create them\n",
    "data=Data(root,animal,experiment,param=param)\n",
    "\n",
    " OPTION 1: do not save any new pickle file\n",
    "data=Data(root,animal,experiment,param,saveAsPickle=False)\n",
    "\n",
    " OPTION 2: redo the preprocessing with param, even if the pickle already exist\n",
    " (to be sure everything is preprocess with the same parameters)"
   ]
  },
  {
   "cell_type": "code",
   "execution_count": 45,
   "metadata": {
    "collapsed": false,
    "scrolled": true
   },
   "outputs": [
    {
     "name": "stdout",
     "output_type": "stream",
     "text": [
      "Preprocessing behavior data...\n",
      "Behavior data loaded from text files: new setup (.behav_param)\n",
      "trial 16: only 0 unique positions, skip\n",
      "trial 17: only 0 unique positions, skip\n",
      "trial 18: only 0 unique positions, skip\n",
      "trial 19: only 0 unique positions, skip\n",
      "trial 20: only 0 unique positions, skip\n",
      "trial 21: only 0 unique positions, skip\n",
      "trial 22: only 0 unique positions, skip\n",
      "trial 23: only 0 unique positions, skip\n",
      "trial 24: only 0 unique positions, skip\n",
      "trial 25: only 0 unique positions, skip\n",
      "trial 26: only 0 unique positions, skip\n",
      "trial 27: only 0 unique positions, skip\n",
      "Preprocessing done\n",
      "No spike data\n",
      "True\n",
      "Rat041_2015_08_17_10_34\n",
      "25.0\n"
     ]
    }
   ],
   "source": [
    "#run only if inside this notebook (do not execute if \"%run this_notebook\")\n",
    "if \"__file__\" not in dir():\n",
    "    root=\"/data\"\n",
    "    animal=\"Rat041\"\n",
    "    experiment=\"Rat041_2015_08_17_10_34\"\n",
    "    param={\n",
    "        \"goalTime\":7,\n",
    "        \"treadmillRange\":[0,90],\n",
    "        \"maxTrialDuration\":20,\n",
    "        \"interTrialDuration\":10,\n",
    "        \"endTrial_frontPos\":30,\n",
    "        \"endTrial_backPos\":55, \n",
    "        \"endTrial_minTimeSec\":4,\n",
    "        \"binSize\":0.25,\n",
    "    }  \n",
    "    data=Data(root,animal,experiment,param,redoPreprocess=True)\n",
    "    print(data.hasBehavior)\n",
    "    #print(data.dataType)\n",
    "    #print(data.treadmillSpeed)\n",
    "    print(data.experiment)\n",
    "    print(data.cameraSamplingRate)"
   ]
  },
  {
   "cell_type": "code",
   "execution_count": 46,
   "metadata": {
    "collapsed": false
   },
   "outputs": [
    {
     "data": {
      "image/png": "[encoded data removed]",
      "text/plain": [
       "<matplotlib.figure.Figure at 0x7f9bd1d5d0f0>"
      ]
     },
     "metadata": {},
     "output_type": "display_data"
    }
   ],
   "source": [
    "#run only if inside this notebook (do not execute if \"%run this_notebook\")\n",
    "if \"__file__\" not in dir():\n",
    "    plt.plot(data.rawTime[5],data.rawPosition[5])\n",
    "    #plt.plot(data.timeTreadmill[5],data.rawPosition[5])\n",
    "    plt.plot(data.timeTreadmill[5],data.position[5])\n",
    "    plt.plot(data.timeBin,data.positionBin[5])#centered\n",
    "    plt.ylabel(\"position(cm)\")\n",
    "    plt.xlabel(\"time(s)\")"
   ]
  },
  {
   "cell_type": "markdown",
   "metadata": {},
   "source": [
    "### Display all attributes and their type  \n",
    "Every attributes can be access with `data.attributeName`  "
   ]
  },
  {
   "cell_type": "code",
   "execution_count": 47,
   "metadata": {
    "collapsed": false,
    "scrolled": false
   },
   "outputs": [
    {
     "name": "stdout",
     "output_type": "stream",
     "text": [
      "Session: Rat041_2015_08_17_10_34\n",
      "Full Path: /data/Rat041/Experiments/Rat041_2015_08_17_10_34/Rat041_2015_08_17_10_34\n",
      "Number of trials: 28\n",
      "---------------------------------------------------------------------------------------------\n",
      "**Name**                     **Type**   **Content**                    **Extract**                   \n",
      "---------------------------------------------------------------------------------------------\n",
      "accelerationOnSpeedBin       dict       nKeys=16                       keys: [0, 1, 2, 3, 4, 5, 6,...\n",
      "accelerationOnSpeedSmoothBin dict       nKeys=16                       keys: [0, 1, 2, 3, 4, 5, 6,...\n",
      "analysisPath                 str        /data/Rat041/Experiments/Rat041_2015_08_17_10_34/Analysis                               \n",
      "animal                       str        Rat041                                                       \n",
      "binSize                      float      0.25                                                         \n",
      "cameraSamplingRate           float      25.0                                                         \n",
      "cameraStartTime              ndarray    length=28                      [50.56 97.52 144.52 188.72 ...\n",
      "cameraToTreadmillDelay       float64    1.0                                                          \n",
      "dataType                     str        behav_param                                                  \n",
      "date                         datetime   2015-08-17 10:34:00                                          \n",
      "daySinceStart                int        7                                                            \n",
      "emptyAnalysisFiles           list       length=1                       [NotToAnalyze]                \n",
      "endTrial_backPos             int        55                                                           \n",
      "endTrial_frontPos            int        30                                                           \n",
      "endTrial_minTimeSec          int        4                                                            \n",
      "entranceTime                 ndarray    length=28                      [2.00 2.00 2.93 2.00 2.00 2...\n",
      "experiment                   str        Rat041_2015_08_17_10_34                                      \n",
      "experimenter                 str        unknown                                                      \n",
      "fullPath                     str        /data/Rat041/Experiments/Rat041_2015_08_17_10_34/Rat041_2015_08_17_10_34                               \n",
      "goalTime                     ndarray    length=28                      [7.00 7.00 7.00 7.00 7.00 7...\n",
      "goodTrials                   list       length=0                       []                            \n",
      "hasBehavior                  bool       True                                                         \n",
      "hasEEG                       bool       False                                                        \n",
      "hasSpike                     bool       False                                                        \n",
      "indexEndTrial                list       length=28                      [None None 127 563 None 494...\n",
      "interTrialDuration           ndarray    length=28                      [25.00 25.00 25.00 25.00 25...\n",
      "jumpFrame                    dict       nKeys=16                       keys: [0, 1, 2, 3, 4, 5, 6,...\n",
      "maxTrialDuration             ndarray    length=28                      [20.00 20.00 20.00 20.00 20...\n",
      "medianPosition               ndarray    length=78                      [13.14 12.93 13.16 13.85 13...\n",
      "medianPositionAlignEnd       ndarray    length=40                      [19.84 34.06 41.01 47.44 51...\n",
      "nTrial                       int        28                                                           \n",
      "nbJumpMax                    float      100.0                                                        \n",
      "parameters                   dict       nKeys=8                        keys: ['treadmillRange', 'g...\n",
      "pawFrequencyRange            list       length=2                       [2.00 10.00]                  \n",
      "position                     dict       nKeys=16                       keys: [0, 1, 2, 3, 4, 5, 6,...\n",
      "positionAlignEnd             dict       nKeys=8                        keys: [2, 3, 5, 6, 7, 9, 14...\n",
      "positionBin                  dict       nKeys=16                       keys: [0, 1, 2, 3, 4, 5, 6,...\n",
      "positionDiffRange            list       length=2                       [2.00 5.00]                   \n",
      "rawPosition                  dict       nKeys=28                       keys: [0, 1, 2, 3, 4, 5, 6,...\n",
      "rawTime                      dict       nKeys=28                       keys: [0, 1, 2, 3, 4, 5, 6,...\n",
      "realTrials                   list       length=16                      [1 2 3 4 5 6 7 8 9 10 11 12...\n",
      "root                         str        /data                                                        \n",
      "sessionPath                  str        /data/Rat041/Experiments/Rat041_2015_08_17_10_34                               \n",
      "sigmaSmoothPosition          float      0.1                                                          \n",
      "sigmaSmoothSpeed             float      0.3                                                          \n",
      "speedBin                     dict       nKeys=16                       keys: [0, 1, 2, 3, 4, 5, 6,...\n",
      "speedSmoothBin               dict       nKeys=16                       keys: [0, 1, 2, 3, 4, 5, 6,...\n",
      "startAnalysisParams          list       length=3                       [10 0.20 0.50]                \n",
      "startFrame                   list       length=28                      [25 25 25 25 25 25 25 25 25...\n",
      "stopFrame                    dict       nKeys=28                       keys: [0, 1, 2, 3, 4, 5, 6,...\n",
      "timeAlignEnd                 ndarray    length=40                      [-5.00 -4.75 -4.50 -4.25 -4...\n",
      "timeBin                      ndarray    length=78                      [0.38 0.62 0.88 1.12 1.38 1...\n",
      "timeEndTrial                 list       length=28                      [None None 4.08 21.52 None ...\n",
      "timeTreadmill                dict       nKeys=28                       keys: [0, 1, 2, 3, 4, 5, 6,...\n",
      "transientFrame               dict       nKeys=16                       keys: [0, 1, 2, 3, 4, 5, 6,...\n",
      "treadmillRange               list       length=2                       [0 90]                        \n",
      "treadmillSpeed               ndarray    length=28                      [25.00 25.00 25.00 25.00 25...\n",
      "treadmillStartTime           ndarray    length=28                      [51.56 98.52 145.52 189.72 ...\n",
      "trialNotTracked              list       length=12                      [16 17 18 19 20 21 22 23 24...\n",
      "trialOffset                  float64    20.0                                                         \n",
      "trials                       list       length=16                      [0 1 2 3 4 5 6 7 8 9 10 11 ...\n",
      "xmlDict                      dict       nKeys=0                        keys: []                      \n",
      "['NotToAnalyze']\n"
     ]
    }
   ],
   "source": [
    "#run only if inside this notebook (do not execute if \"%run this_notebook\")\n",
    "if \"__file__\" not in dir():\n",
    "    data.describe()\n",
    "    print(data.emptyAnalysisFiles)"
   ]
  },
  {
   "cell_type": "markdown",
   "metadata": {},
   "source": [
    "# Speed investigation"
   ]
  },
  {
   "cell_type": "code",
   "execution_count": 48,
   "metadata": {
    "collapsed": false
   },
   "outputs": [
    {
     "name": "stdout",
     "output_type": "stream",
     "text": [
      "0.531535343386\n"
     ]
    },
    {
     "data": {
      "image/png": "[encoded data removed]",
      "text/plain": [
       "<matplotlib.figure.Figure at 0x7f9bd1d19160>"
      ]
     },
     "metadata": {},
     "output_type": "display_data"
    }
   ],
   "source": [
    "def plot_proportionTimeRunningForward_TrajEnd(data,binSize=1,minSpeed=-20,maxSpeed=120,smoothSpeed=0.3,onlyGood=False,highSpeed=None):\n",
    "    '''\n",
    "    Position aligned on detected end\n",
    "    Speed= treadmill speed - difference(position) * camera sampling rate\n",
    "    Histograms are computed trial by trial then averaged\n",
    "    Plot histogram of speeds\n",
    "    Returns the cumulative of high speed occurencies (speed > treadmillspeed *2 )\n",
    "    '''\n",
    "    bins = np.arange(minSpeed,maxSpeed,binSize)\n",
    "    if onlyGood==True:\n",
    "        Hist = np.zeros((len(data.goodTrials),len(bins)-1))\n",
    "    else:        \n",
    "        Hist = np.zeros((len(data.trials),len(bins)-1))\n",
    "    k = 0\n",
    "    for trial in data.trials:\n",
    "        if (not onlyGood) or (trial in data.goodTrials):\n",
    "            s,t=get_speed_treadmillON(data,trial,sigmaSpeed=smoothSpeed)\n",
    "            sNoNan=s\n",
    "            sNoNan=sNoNan[~np.isnan(sNoNan)]\n",
    "            n,_= np.histogram(sNoNan,bins,density=True)   \n",
    "            Hist[k,:] = n\n",
    "            k+=1\n",
    "    avgHist = np.mean(Hist,axis=0)\n",
    "    stdHist = np.std(Hist,axis=0)\n",
    "    #check that the vector is not empty\n",
    "    if np.sum(avgHist)==0:\n",
    "        return np.nan   \n",
    "    centers=(bins[:-1]+bins[1:])/2.0\n",
    "    \n",
    "    #area under curve\n",
    "    if highSpeed==None:\n",
    "        treadmillSpeed = np.nanmean(data.treadmillSpeed)\n",
    "    indexList = np.where(centers > (treadmillSpeed))[0]\n",
    "    index = indexList[0] #first index where speed = treadmillspeed\n",
    "    areaUnderCurve =  np.sum(avgHist[index:]) * binSize\n",
    "    print (areaUnderCurve)\n",
    "    #plot\n",
    "    plt.plot(centers,avgHist,\"k-\")\n",
    "    plt.plot(centers,avgHist+stdHist,\"k--\")\n",
    "    plt.plot(centers,avgHist-stdHist,\"k--\")\n",
    "    plt.axvline(0,color=\"r\",ls=\"--\")\n",
    "    plt.axvline(treadmillSpeed, color=\"r\",ls=\"--\")\n",
    "    plt.ylim([-0.05,0.35])\n",
    "    plt.ylabel(\"Mean Density over Trials\")\n",
    "    plt.xlabel(\"Speed(cm/s)\")\n",
    "    plt.fill_between(centers[index:],0*avgHist[index:], avgHist[index:], facecolor='green', interpolate=True)\n",
    "    title=\"%.2f proportion time running forward\"%(areaUnderCurve)\n",
    "    if onlyGood:\n",
    "        title+=\" - %s good trials\"%(len(data.goodTrials))\n",
    "    plt.title(title)\n",
    "    return areaUnderCurve \n",
    "\n",
    "#----------------------------------------------------------------------------------------------------------------------\n",
    "if \"__file__\" not in dir():\n",
    "    plot_proportionTimeRunningForward_TrajEnd(data,binSize=1,smoothSpeed=0.3, onlyGood=False)\n",
    "    #save figure\n",
    "    #path=os.path.join(root,\"Analysis\")\n",
    "    #pathFig=os.path.join(path,\"Borrar_Rat081_last_time.svg\")\n",
    "    #plt.savefig(pathFig,format=\"svg\")\n"
   ]
  },
  {
   "cell_type": "code",
   "execution_count": 49,
   "metadata": {
    "collapsed": false,
    "scrolled": true
   },
   "outputs": [
    {
     "name": "stdout",
     "output_type": "stream",
     "text": [
      "25.0\n",
      "30.7392997935\n"
     ]
    },
    {
     "data": {
      "image/png": "[encoded data removed]",
      "text/plain": [
       "<matplotlib.figure.Figure at 0x7f9bd1dafb38>"
      ]
     },
     "metadata": {},
     "output_type": "display_data"
    }
   ],
   "source": [
    "def plot_mean_forwardSpeed(data,smoothSpeed=0.3, onlyGood=True):\n",
    "    '''\n",
    "    plot mean forwardSpeed \n",
    "    '''\n",
    "    ValuesSessionRatio=[]\n",
    "    treadmillSpeed = np.nanmean(data.treadmillSpeed)\n",
    "    print(treadmillSpeed)\n",
    "    for trial in data.trials:\n",
    "        if (not onlyGood) or (trial in data.goodTrials):\n",
    "            speed,time=get_speed_treadmillON(data,trial,sigmaSpeed=smoothSpeed)\n",
    "            MeanSpeed=np.nanmean(speed[speed>treadmillSpeed])\n",
    "            ValuesSessionRatio.append(MeanSpeed)\n",
    "\n",
    "    SessionRatio=np.nanmean(ValuesSessionRatio)\n",
    "    print(SessionRatio)\n",
    "    #plot\n",
    "    plt.plot(ValuesSessionRatio,\"ko\")\n",
    "    plt.ylabel(\"Forward Speed\")\n",
    "    plt.xlabel(\"trials over session\")\n",
    "    plt.ylim([1,60])\n",
    "    \n",
    "    \n",
    "    return SessionRatio\n",
    "\n",
    "#----------------------------------------------------------------------------------------------------------------------\n",
    "if \"__file__\" not in dir():\n",
    "    x = plot_mean_forwardSpeed(data,smoothSpeed=0.3,onlyGood=False)\n",
    "    #plt.close()"
   ]
  },
  {
   "cell_type": "code",
   "execution_count": 50,
   "metadata": {
    "collapsed": false
   },
   "outputs": [
    {
     "name": "stdout",
     "output_type": "stream",
     "text": [
      "25.0\n",
      "1.22957199174\n"
     ]
    },
    {
     "data": {
      "image/png": "[encoded data removed]",
      "text/plain": [
       "<matplotlib.figure.Figure at 0x7f9bd1da0a58>"
      ]
     },
     "metadata": {},
     "output_type": "display_data"
    }
   ],
   "source": [
    "def plot_mean_forwardSpeedVsTreadmillSpeed(data,smoothSpeed=0.3, onlyGood=True):\n",
    "    '''\n",
    "    plot mean forwardSpeed related to treadmill speed\n",
    "    '''\n",
    "    ValuesSessionRatio=[]\n",
    "    treadmillSpeed = np.nanmean(data.treadmillSpeed)\n",
    "    print(treadmillSpeed)\n",
    "    for trial in data.trials:\n",
    "        if (not onlyGood) or (trial in data.goodTrials):\n",
    "            speed,time=get_speed_treadmillON(data,trial,sigmaSpeed=smoothSpeed)\n",
    "            MeanSpeed=np.nanmean(speed[speed>treadmillSpeed])\n",
    "            ratio=MeanSpeed/treadmillSpeed\n",
    "            ValuesSessionRatio.append(ratio)\n",
    "\n",
    "    SessionRatio=np.nanmean(ValuesSessionRatio)\n",
    "    print(SessionRatio)\n",
    "    #plot\n",
    "    plt.plot(ValuesSessionRatio,\"ko\")\n",
    "    plt.ylabel(\"Forward Speed Vs TreadmillSpeed\")\n",
    "    plt.xlabel(\"trials over session\")\n",
    "    plt.ylim([0,7])\n",
    "    \n",
    "    \n",
    "    return SessionRatio\n",
    "\n",
    "#----------------------------------------------------------------------------------------------------------------------\n",
    "if \"__file__\" not in dir():\n",
    "    x = plot_mean_forwardSpeedVsTreadmillSpeed(data,smoothSpeed=0.3,onlyGood=False)\n",
    "    #plt.close()"
   ]
  },
  {
   "cell_type": "code",
   "execution_count": 6,
   "metadata": {
    "collapsed": false
   },
   "outputs": [
    {
     "name": "stdout",
     "output_type": "stream",
     "text": [
      "Preprocess behavior data loaded from /data/Rat105/Experiments/Rat105_2016_12_13_10_39/Analysis/preprocesseddata_binsize250ms_.p\n",
      "No spike data\n",
      "nan\n",
      "nan\n"
     ]
    },
    {
     "name": "stderr",
     "output_type": "stream",
     "text": [
      "/home/david/anaconda3/lib/python3.5/site-packages/numpy/lib/nanfunctions.py:703: RuntimeWarning: Mean of empty slice\n",
      "  warnings.warn(\"Mean of empty slice\", RuntimeWarning)\n",
      "/home/david/anaconda3/lib/python3.5/site-packages/numpy/lib/nanfunctions.py:703: RuntimeWarning: Mean of empty slice\n",
      "  warnings.warn(\"Mean of empty slice\", RuntimeWarning)\n"
     ]
    },
    {
     "data": {
      "image/png": "[encoded data removed]",
      "text/plain": [
       "<matplotlib.figure.Figure at 0x7f853f1981d0>"
      ]
     },
     "metadata": {},
     "output_type": "display_data"
    },
    {
     "data": {
      "image/png": "[encoded data removed]",
      "text/plain": [
       "<matplotlib.figure.Figure at 0x7f853f212da0>"
      ]
     },
     "metadata": {},
     "output_type": "display_data"
    }
   ],
   "source": [
    "def plot_Tortuosity(data, onlyGood=True):\n",
    "    \n",
    "    \n",
    "    cs=data.cameraSamplingRate\n",
    "    ValuesSessionTortuosity=[]\n",
    "    ValuesSessionStraightSpeed=[]\n",
    "    \n",
    "\n",
    "    for trial in data.position:\n",
    "        end=data.timeEndTrial[trial]\n",
    "        stop=data.stopFrame[trial]\n",
    "        start=data.startFrame[trial]#+data.cameraToTreadmillDelay*data.cameraSamplingRate\n",
    "        indexStart=np.argmax(data.position[trial])\n",
    "        indexEnd=data.indexEndTrial[trial]\n",
    "        if isNone(end):\n",
    "            continue\n",
    "        PositionStart=data.position[trial][indexStart] \n",
    "        PositionEnd=data.position[trial][indexEnd]\n",
    "        PositionPath=data.position[trial][indexStart:indexEnd]\n",
    "        RunDistance=np.sum(np.abs(data.treadmillSpeed[trial]*data.binSize-np.diff(PositionPath)))\n",
    "        straightDistance=np.abs(PositionStart-PositionEnd)\n",
    "        tortuosity=RunDistance/straightDistance\n",
    "        straightSpeed=np.abs(straightDistance/((indexStart-indexEnd)/cs))\n",
    "        #if trial==1:\n",
    "            #print(straightDistance)\n",
    "            #print(indexStart)\n",
    "            #print(indexEnd)\n",
    "            #plt.plot(data.position[trial][indexStart:indexEnd])\n",
    "        ValuesSessionTortuosity.append(tortuosity)\n",
    "        ValuesSessionStraightSpeed.append(straightSpeed)\n",
    "        \n",
    "    SessionTortuosity=np.nanmean(ValuesSessionTortuosity)\n",
    "    SessionStraightSpeed=np.nanmean(ValuesSessionStraightSpeed)\n",
    "    print(SessionTortuosity)\n",
    "    \n",
    "    plt.figure(figsize=(15,5))\n",
    "    \n",
    "    plt.subplot(121)\n",
    "    plt.plot(ValuesSessionTortuosity,\"ko\")\n",
    "    plt.ylabel(\"Tortuosity\")\n",
    "    plt.xlabel(\"trials over session\")\n",
    "    plt.ylim([0,10])\n",
    "    \n",
    "    print(SessionStraightSpeed)\n",
    "    #plot\n",
    "    plt.subplot(122)\n",
    "    plt.plot(ValuesSessionStraightSpeed,\"ko\")\n",
    "    plt.ylabel(\"Straight Speed (cm/sec)\")\n",
    "    plt.xlabel(\"trials over session\")\n",
    "    plt.ylim([0,50])\n",
    "    return SessionTortuosity,SessionStraightSpeed\n",
    "\n",
    "#----------------------------------------------------------------------------------------------------------------------\n",
    "\n",
    "if \"__file__\" not in dir():\n",
    "    plt.figure(figsize=(15,5))\n",
    "    plt.subplot(121)\n",
    "    #plot_position_align_end(data,onlyGood=False)\n",
    "    #plot_position_align_end_StereotypedTrials(data,onlyGood=False)\n",
    "    root=\"/data\"\n",
    "    session='Rat105_2016_12_13_10_39'\n",
    "    animal= 'Rat105'\n",
    "   \n",
    "    data=Data(root,animal,session,param,redoPreprocess=False)\n",
    "    x,_ = plot_Tortuosity(data,onlyGood=False)\n",
    "    \n",
    "    #plt.xlim([0,25]),plt.ylim([0,25])\n"
   ]
  },
  {
   "cell_type": "code",
   "execution_count": null,
   "metadata": {
    "collapsed": true
   },
   "outputs": [],
   "source": []
  }
 ],
 "metadata": {
  "anaconda-cloud": {},
  "kernelspec": {
   "display_name": "Python [default]",
   "language": "python",
   "name": "python3"
  },
  "language_info": {
   "codemirror_mode": {
    "name": "ipython",
    "version": 3
   },
   "file_extension": ".py",
   "mimetype": "text/x-python",
   "name": "python",
   "nbconvert_exporter": "python",
   "pygments_lexer": "ipython3",
   "version": "3.5.2"
  }
 },
 "nbformat": 4,
 "nbformat_minor": 0
}
