{
 "cells": [
  {
   "cell_type": "code",
   "execution_count": 13,
   "metadata": {
    "collapsed": false
   },
   "outputs": [
    {
     "data": {
      "text/html": [
       "<style>.container { width:90% !important; }</style>"
      ],
      "text/plain": [
       "<IPython.core.display.HTML object>"
      ]
     },
     "metadata": {},
     "output_type": "display_data"
    },
    {
     "data": {
      "text/html": [
       "<style>.container { width:90% !important; }</style>"
      ],
      "text/plain": [
       "<IPython.core.display.HTML object>"
      ]
     },
     "metadata": {},
     "output_type": "display_data"
    }
   ],
   "source": [
    "import numpy as np\n",
    "import scipy\n",
    "from scipy.interpolate import interp1d\n",
    "\n",
    "import matplotlib.pyplot as plt\n",
    "import matplotlib.gridspec as gridspec\n",
    "from matplotlib import collections  as mc\n",
    "%matplotlib inline\n",
    "\n",
    "import glob\n",
    "import os\n",
    "import pickle\n",
    "import datetime\n",
    "\n",
    "\n",
    "if \"__file__\" not in dir():\n",
    "    %run loadRat_documentation.ipynb\n",
    "    %run plotRat_documentation_1_GeneralBehavior.ipynb\n"
   ]
  },
  {
   "cell_type": "markdown",
   "metadata": {},
   "source": [
    "    \n",
    "# INFO: all the default parameters for preprocessing\n",
    "defaultParam={\n",
    "    \"binSize\":0.25,\n",
    "    \"trialOffset\":20., #max end of trial, in seconds (position will be cutted)\n",
    "    \"sigmaSmoothPosition\":0.1,  #smooth the position\n",
    "    #\"sigmaSmoothPosition\":0.33 for pavel dataType\n",
    "    \"sigmaSmoothSpeed\":0.3, #smooth the speed\n",
    "    \"positionDiffRange\": [2.,5.], #min and max differences allowed between two consecutive positions\n",
    "                                  #min to correct start, max to correct jumps\n",
    "    \"pawFrequencyRange\":[2.,10.],\n",
    "    \"startAnalysisParams\":[10,0.2,0.5],\n",
    "    \"cameraToTreadmillDelay\":2., #seconds, usual time between camera start and treadmill start\n",
    "    \"nbJumpMax\" : 100., #if jumps>nbJumpMax, trial is badly tracked\n",
    "    \n",
    "    #parameter to detect end of trial (first position minima)\n",
    "    \"endTrial_backPos\":55,  # minima is after the animal went once to the back (after first time position>backPos)\n",
    "    \"endTrial_frontPos\":30, # minima's position is in front of treadmill (position[end]<frontPos)\n",
    "    \"endTrial_minTimeSec\":4, # minima is after minTimeSec seconds (time[end]>minTimeSec)\n",
    "    }"
   ]
  },
  {
   "cell_type": "markdown",
   "metadata": {},
   "source": [
    "### Load Data\n",
    "Load the preprocess data (corrected and binned position, speed, median position, ...)\n",
    " DEFAULT: load pickle if they exist, or create them\n",
    "data=Data(root,animal,experiment,param=param)\n",
    "\n",
    " OPTION 1: do not save any new pickle file\n",
    "data=Data(root,animal,experiment,param,saveAsPickle=False)\n",
    "\n",
    " OPTION 2: redo the preprocessing with param, even if the pickle already exist\n",
    " (to be sure everything is preprocess with the same parameters)"
   ]
  },
  {
   "cell_type": "code",
   "execution_count": 14,
   "metadata": {
    "collapsed": false,
    "scrolled": true
   },
   "outputs": [
    {
     "name": "stdout",
     "output_type": "stream",
     "text": [
      "trial 116: only 2 unique positions, skip\n",
      "True\n",
      "Rat121_2017_02_22_18_24\n",
      "25.0\n"
     ]
    }
   ],
   "source": [
    "#run only if inside this notebook (do not execute if \"%run this_notebook\")\n",
    "if \"__file__\" not in dir():\n",
    "    root=\"/data\"\n",
    "    animal=\"Rat121\"\n",
    "    experiment=\"Rat121_2017_02_22_18_24\"\n",
    "    param={\n",
    "        \"goalTime\":7,\n",
    "        \"treadmillRange\":[0,90],\n",
    "        \"maxTrialDuration\":15,\n",
    "        \"interTrialDuration\":10,\n",
    "        \"endTrial_frontPos\":30,\n",
    "        \"endTrial_backPos\":55, \n",
    "        \"endTrial_minTimeSec\":4,\n",
    "        \"binSize\":0.25,\n",
    "    }  \n",
    "    data=Data(root,animal,experiment,param,redoPreprocess=True)\n",
    "    print(data.hasBehavior)\n",
    "    #print(data.dataType)\n",
    "    #print(data.treadmillSpeed)\n",
    "    print(data.experiment)\n",
    "    print(data.cameraSamplingRate)"
   ]
  },
  {
   "cell_type": "code",
   "execution_count": 7,
   "metadata": {
    "collapsed": false
   },
   "outputs": [
    {
     "data": {
      "image/png": "[encoded data removed]",
      "text/plain": [
       "<matplotlib.figure.Figure at 0x7f5793606a58>"
      ]
     },
     "metadata": {},
     "output_type": "display_data"
    }
   ],
   "source": [
    "#run only if inside this notebook (do not execute if \"%run this_notebook\")\n",
    "if \"__file__\" not in dir():\n",
    "    plt.plot(data.rawTime[10],data.rawPosition[10])\n",
    "    #plt.plot(data.timeTreadmill[5],data.rawPosition[5])\n",
    "    #plt.plot(data.timeTreadmill[5],data.position[5])\n",
    "    #plt.plot(data.timeBin,data.positionBin[5])#centered\n",
    "    plt.ylabel(\"position(cm)\")\n",
    "    plt.xlabel(\"time(s)\")"
   ]
  },
  {
   "cell_type": "markdown",
   "metadata": {},
   "source": [
    "### Display all attributes and their type  \n",
    "Every attributes can be access with `data.attributeName`  "
   ]
  },
  {
   "cell_type": "code",
   "execution_count": 8,
   "metadata": {
    "collapsed": false,
    "scrolled": false
   },
   "outputs": [
    {
     "name": "stdout",
     "output_type": "stream",
     "text": [
      "Session: Rat105_2016_12_12_16_11\n",
      "Full Path: /data/Rat105/Experiments/Rat105_2016_12_12_16_11/Rat105_2016_12_12_16_11\n",
      "Number of trials: 150\n",
      "---------------------------------------------------------------------------------------------\n",
      "**Name**                     **Type**   **Content**                    **Extract**                   \n",
      "---------------------------------------------------------------------------------------------\n",
      "Tag                          str        M1-electrophy \n",
      "                                              \n",
      "accelerationOnSpeedBin       dict       nKeys=149                      keys: [0, 1, 2, 3, 4, 5, 6,...\n",
      "accelerationOnSpeedSmoothBin dict       nKeys=149                      keys: [0, 1, 2, 3, 4, 5, 6,...\n",
      "analysisPath                 str        /data/Rat105/Experiments/Rat105_2016_12_12_16_11/Analysis                               \n",
      "animal                       str        Rat105                                                       \n",
      "binSize                      float      0.25                                                         \n",
      "cameraSamplingRate           float64    199.920247581                                                \n",
      "cameraStartTime              ndarray    length=150                     [1481555509.59 1481555531.3...\n",
      "cameraToTreadmillDelay       float64    1.0                                                          \n",
      "dataType                     str        ViewPoint                                                    \n",
      "date                         datetime   2016-12-12 16:11:00                                          \n",
      "daySinceStart                int        8                                                            \n",
      "emptyAnalysisFiles           list       length=1                       [Rat105_2016_12_12_16_11.po...\n",
      "endTrial_backPos             int        55                                                           \n",
      "endTrial_frontPos            int        30                                                           \n",
      "endTrial_minTimeSec          int        4                                                            \n",
      "entranceTime                 ndarray    length=150                     [10.81 3.26 6.21 9.47 1.50 ...\n",
      "experiment                   str        Rat105_2016_12_12_16_11                                      \n",
      "experimenter                 str        unknown                                                      \n",
      "fullPath                     str        /data/Rat105/Experiments/Rat105_2016_12_12_16_11/Rat105_2016_12_12_16_11                               \n",
      "goalTime                     ndarray    length=150                     [7.00 7.00 7.00 7.00 7.00 7...\n",
      "goodTrials                   list       length=7                       [0 3 10 12 17 20 33]          \n",
      "hasBehavior                  bool       True                                                         \n",
      "hasEEG                       bool       False                                                        \n",
      "hasSpike                     bool       False                                                        \n",
      "indexEndTrial                list       length=150                     [None None 1466 None None 1...\n",
      "interTrialDuration           ndarray    length=150                     [10.00 10.00 10.00 10.00 10...\n",
      "jumpFrame                    dict       nKeys=149                      keys: [0, 1, 2, 3, 4, 5, 6,...\n",
      "lickTime                     ndarray    length=150                     [[  0.264   0.416   0.568  ...\n",
      "maxTrialDuration             ndarray    length=150                     [15.00 15.00 15.00 15.00 15...\n",
      "medianPosition               ndarray    length=58                      [19.52 20.68 20.82 20.02 20...\n",
      "medianPositionAlignEnd       ndarray    length=40                      [52.65 44.03 41.84 42.63 45...\n",
      "nTrial                       int        150                                                          \n",
      "nbJumpMax                    float      100.0                                                        \n",
      "parameters                   dict       nKeys=8                        keys: ['endTrial_backPos', ...\n",
      "pawFrequencyRange            list       length=2                       [2.00 10.00]                  \n",
      "position                     dict       nKeys=149                      keys: [0, 1, 2, 3, 4, 5, 6,...\n",
      "positionAlignEnd             dict       nKeys=21                       keys: [128, 33, 2, 5, 6, 81...\n",
      "positionBin                  dict       nKeys=149                      keys: [0, 1, 2, 3, 4, 5, 6,...\n",
      "positionDiffRange            list       length=2                       [2.00 5.00]                   \n",
      "rawMarkerPosition            dict       nKeys=3                        keys: ['ForeLimb', 'HindLim...\n",
      "rawPosition                  dict       nKeys=150                      keys: [0, 1, 2, 3, 4, 5, 6,...\n",
      "rawTime                      dict       nKeys=150                      keys: [0, 1, 2, 3, 4, 5, 6,...\n",
      "realTrials                   list       length=149                     [1 2 3 4 5 6 7 8 9 10 11 12...\n",
      "root                         str        /data                                                        \n",
      "sessionPath                  str        /data/Rat105/Experiments/Rat105_2016_12_12_16_11                               \n",
      "sigmaSmoothPosition          float      0.1                                                          \n",
      "sigmaSmoothSpeed             float      0.3                                                          \n",
      "speedBin                     dict       nKeys=149                      keys: [0, 1, 2, 3, 4, 5, 6,...\n",
      "speedSmoothBin               dict       nKeys=149                      keys: [0, 1, 2, 3, 4, 5, 6,...\n",
      "startAnalysisParams          list       length=3                       [10 0.20 0.50]                \n",
      "startFrame                   list       length=150                     [199 199 199 199 199 199 19...\n",
      "stopFrame                    dict       nKeys=150                      keys: [0, 1, 2, 3, 4, 5, 6,...\n",
      "timeAlignEnd                 ndarray    length=40                      [-5.00 -4.75 -4.50 -4.25 -4...\n",
      "timeBin                      ndarray    length=58                      [0.38 0.62 0.88 1.12 1.38 1...\n",
      "timeEndTrial                 list       length=150                     [None None 6.33 None None 4...\n",
      "timeTreadmill                dict       nKeys=150                      keys: [0, 1, 2, 3, 4, 5, 6,...\n",
      "transientFrame               dict       nKeys=149                      keys: [0, 1, 2, 3, 4, 5, 6,...\n",
      "treadmillRange               list       length=2                       [0 90]                        \n",
      "treadmillSpeed               ndarray    length=150                     [10.00 10.00 10.00 10.00 10...\n",
      "treadmillStartTime           ndarray    length=150                     [1481555510.59 1481555532.3...\n",
      "trialNotTracked              list       length=1                       [71.00]                       \n",
      "trialOffset                  float64    15.0                                                         \n",
      "trials                       list       length=149                     [0 1 2 3 4 5 6 7 8 9 10 11 ...\n",
      "xmlDict                      dict       nKeys=0                        keys: []                      \n",
      "['Rat105_2016_12_12_16_11.position']\n"
     ]
    }
   ],
   "source": [
    "#run only if inside this notebook (do not execute if \"%run this_notebook\")\n",
    "if \"__file__\" not in dir():\n",
    "    data.describe()\n",
    "    print(data.emptyAnalysisFiles)"
   ]
  },
  {
   "cell_type": "markdown",
   "metadata": {},
   "source": [
    "# Speed investigation"
   ]
  },
  {
   "cell_type": "code",
   "execution_count": 27,
   "metadata": {
    "collapsed": false
   },
   "outputs": [
    {
     "data": {
      "image/png": "[encoded data removed]",
      "text/plain": [
       "<matplotlib.figure.Figure at 0x7f5e298146d8>"
      ]
     },
     "metadata": {},
     "output_type": "display_data"
    }
   ],
   "source": [
    "def plot_proportionTimeRunningForward_TrajEnd(data,binSize=1,minSpeed=-20,maxSpeed=120,smoothSpeed=0.3,onlyGood=False,highSpeed=None):\n",
    "    '''\n",
    "    Position aligned on detected end\n",
    "    Speed= treadmill speed - difference(position) * camera sampling rate\n",
    "    Histograms are computed trial by trial then averaged\n",
    "    Plot histogram of speeds\n",
    "    Returns the cumulative of high speed occurencies (speed > treadmillspeed *2 )\n",
    "    '''\n",
    "    bins = np.arange(minSpeed,maxSpeed,binSize)\n",
    "    if onlyGood==True:\n",
    "        Hist = np.zeros((len(data.goodTrials),len(bins)-1))\n",
    "    else:        \n",
    "        Hist = np.zeros((len(data.trials),len(bins)-1))\n",
    "    k = 0\n",
    "    for trial in data.trials:\n",
    "        if (not onlyGood) or (trial in data.goodTrials):\n",
    "            s,t=get_speed_treadmillON(data,trial,sigmaSpeed=smoothSpeed)\n",
    "            n,_= np.histogram(s,bins,density=True)   \n",
    "            Hist[k,:] = n\n",
    "            k+=1\n",
    "    avgHist = np.mean(Hist,axis=0)\n",
    "    stdHist = np.std(Hist,axis=0)\n",
    "    #check that the vector is not empty\n",
    "    if np.sum(avgHist)==0:\n",
    "        return np.nan   \n",
    "    centers=(bins[:-1]+bins[1:])/2.0\n",
    "    \n",
    "    #area under curve\n",
    "    if highSpeed==None:\n",
    "        treadmillSpeed = np.nanmean(data.treadmillSpeed)\n",
    "    indexList = np.where(centers > (treadmillSpeed))[0]\n",
    "    index = indexList[0] #first index where speed = treadmillspeed\n",
    "    areaUnderCurve =  np.sum(avgHist[index:]) * binSize\n",
    "    #print (areaUnderCurve)\n",
    "    #plot\n",
    "    plt.plot(centers,avgHist,\"k-\")\n",
    "    plt.plot(centers,avgHist+stdHist,\"k--\")\n",
    "    plt.plot(centers,avgHist-stdHist,\"k--\")\n",
    "    plt.axvline(0,color=\"r\",ls=\"--\")\n",
    "    plt.axvline(treadmillSpeed, color=\"r\",ls=\"--\")\n",
    "    plt.ylabel(\"Mean Density over Trials\")\n",
    "    plt.xlabel(\"Speed(cm/s)\")\n",
    "    plt.fill_between(centers[index:],0*avgHist[index:], avgHist[index:], facecolor='green', interpolate=True)\n",
    "    title=\"%.2f proportion time running forward\"%(areaUnderCurve)\n",
    "    if onlyGood:\n",
    "        title+=\" - %s good trials\"%(len(data.goodTrials))\n",
    "    plt.title(title)\n",
    "    return areaUnderCurve \n",
    "\n",
    "#----------------------------------------------------------------------------------------------------------------------\n",
    "if \"__file__\" not in dir():\n",
    "    plot_proportionTimeRunningForward_TrajEnd(data,binSize=1,smoothSpeed=0.3, onlyGood=False)\n",
    "    #save figure\n",
    "    #path=os.path.join(root,\"Analysis\")\n",
    "    #pathFig=os.path.join(path,\"Borrar_Rat081_last_time.svg\")\n",
    "    #plt.savefig(pathFig,format=\"svg\")\n"
   ]
  },
  {
   "cell_type": "code",
   "execution_count": 26,
   "metadata": {
    "collapsed": false,
    "scrolled": true
   },
   "outputs": [
    {
     "data": {
      "image/png": "[encoded data removed]",
      "text/plain": [
       "<matplotlib.figure.Figure at 0x7f5e243c0048>"
      ]
     },
     "metadata": {},
     "output_type": "display_data"
    }
   ],
   "source": [
    "def plot_mean_forwardSpeed(data,smoothSpeed=0.3, onlyGood=True):\n",
    "    '''\n",
    "    plot mean forwardSpeed \n",
    "    '''\n",
    "    ValuesSessionRatio=[]\n",
    "    treadmillSpeed = np.nanmean(data.treadmillSpeed)\n",
    "    #print(treadmillSpeed)\n",
    "    for trial in data.trials:\n",
    "        if (not onlyGood) or (trial in data.goodTrials):\n",
    "            speed,time=get_speed_treadmillON(data,trial,sigmaSpeed=smoothSpeed)\n",
    "            MeanSpeed=np.nanmean(speed[speed>treadmillSpeed])\n",
    "            ValuesSessionRatio.append(MeanSpeed)\n",
    "\n",
    "    SessionRatio=np.nanmean(ValuesSessionRatio)\n",
    "    #print(SessionRatio)\n",
    "    #plot\n",
    "    plt.plot(ValuesSessionRatio,\"ko\")\n",
    "    plt.ylabel(\"Forward Speed\")\n",
    "    plt.xlabel(\"trials over session\")\n",
    "    \n",
    "    \n",
    "    return SessionRatio\n",
    "\n",
    "#----------------------------------------------------------------------------------------------------------------------\n",
    "if \"__file__\" not in dir():\n",
    "    x = plot_mean_forwardSpeed(data,smoothSpeed=0.3,onlyGood=False)\n",
    "    #plt.close()"
   ]
  },
  {
   "cell_type": "code",
   "execution_count": 25,
   "metadata": {
    "collapsed": false
   },
   "outputs": [
    {
     "name": "stderr",
     "output_type": "stream",
     "text": [
      "/home/david/anaconda3/lib/python3.5/site-packages/numpy/lib/nanfunctions.py:703: RuntimeWarning: Mean of empty slice\n",
      "  warnings.warn(\"Mean of empty slice\", RuntimeWarning)\n",
      "/home/david/anaconda3/lib/python3.5/site-packages/numpy/lib/nanfunctions.py:703: RuntimeWarning: Mean of empty slice\n",
      "  warnings.warn(\"Mean of empty slice\", RuntimeWarning)\n",
      "/home/david/anaconda3/lib/python3.5/site-packages/numpy/lib/nanfunctions.py:703: RuntimeWarning: Mean of empty slice\n",
      "  warnings.warn(\"Mean of empty slice\", RuntimeWarning)\n",
      "/home/david/anaconda3/lib/python3.5/site-packages/numpy/lib/nanfunctions.py:703: RuntimeWarning: Mean of empty slice\n",
      "  warnings.warn(\"Mean of empty slice\", RuntimeWarning)\n"
     ]
    },
    {
     "data": {
      "image/png": "[encoded data removed]",
      "text/plain": [
       "<matplotlib.figure.Figure at 0x7f5df5936da0>"
      ]
     },
     "metadata": {},
     "output_type": "display_data"
    }
   ],
   "source": [
    "def plot_mean_forwardSpeedVsTreadmillSpeed(data,smoothSpeed=0.3, onlyGood=True):\n",
    "    '''\n",
    "    plot mean forwardSpeed related to treadmill speed\n",
    "    '''\n",
    "    ValuesSessionRatio=[]\n",
    "    treadmillSpeed = np.nanmean(data.treadmillSpeed)\n",
    "    if np.isclose(treadmillSpeed,0):\n",
    "        treadmillSpeed=1;        \n",
    "    #print(treadmillSpeed)\n",
    "    for trial in data.trials:\n",
    "        if (not onlyGood) or (trial in data.goodTrials):\n",
    "            speed,time=get_speed_treadmillON(data,trial,sigmaSpeed=smoothSpeed)\n",
    "            MeanSpeed=np.nanmean(speed[speed>treadmillSpeed])\n",
    "            ratio=MeanSpeed/treadmillSpeed\n",
    "            ValuesSessionRatio.append(ratio)\n",
    "\n",
    "    SessionRatio=np.nanmean(ValuesSessionRatio)\n",
    "    #print(SessionRatio)\n",
    "    #plot\n",
    "    plt.plot(ValuesSessionRatio,\"ko\")\n",
    "    plt.ylabel(\"Forward Speed Vs TreadmillSpeed\")\n",
    "    plt.xlabel(\"trials over session\")\n",
    "    \n",
    "    return SessionRatio\n",
    "\n",
    "#----------------------------------------------------------------------------------------------------------------------\n",
    "if \"__file__\" not in dir():\n",
    "    x = plot_mean_forwardSpeedVsTreadmillSpeed(data,smoothSpeed=0.3,onlyGood=False)\n",
    "    #plt.close()"
   ]
  },
  {
   "cell_type": "code",
   "execution_count": 28,
   "metadata": {
    "collapsed": false
   },
   "outputs": [
    {
     "data": {
      "text/plain": [
       "<matplotlib.figure.Figure at 0x7f5e2928a320>"
      ]
     },
     "metadata": {},
     "output_type": "display_data"
    },
    {
     "data": {
      "image/png": "[encoded data removed]",
      "text/plain": [
       "<matplotlib.figure.Figure at 0x7f5e29807208>"
      ]
     },
     "metadata": {},
     "output_type": "display_data"
    }
   ],
   "source": [
    "def plot_Tortuosity(data, onlyGood=True):\n",
    "    \n",
    "    \n",
    "    cs=data.cameraSamplingRate\n",
    "    ValuesSessionTortuosity=[]\n",
    "    ValuesSessionStraightSpeed=[]\n",
    "    \n",
    "\n",
    "    for trial in data.position:\n",
    "        end=data.timeEndTrial[trial]\n",
    "        stop=data.stopFrame[trial]\n",
    "        start=data.startFrame[trial]#+data.cameraToTreadmillDelay*data.cameraSamplingRate\n",
    "        indexStart=np.argmax(data.position[trial])\n",
    "        indexEnd=data.indexEndTrial[trial]\n",
    "        if isNone(end):\n",
    "            continue\n",
    "        PositionStart=data.position[trial][indexStart] \n",
    "        PositionEnd=data.position[trial][indexEnd]\n",
    "        PositionPath=data.position[trial][indexStart:indexEnd]\n",
    "        RunDistance=np.sum(np.abs(data.treadmillSpeed[trial]*data.binSize-np.diff(PositionPath)))\n",
    "        straightDistance=np.abs(PositionStart-PositionEnd)\n",
    "        tortuosity=RunDistance/straightDistance\n",
    "        straightSpeed=np.abs(straightDistance/((indexStart-indexEnd)/cs))\n",
    "        #if trial==1:\n",
    "            #print(straightDistance)\n",
    "            #print(indexStart)\n",
    "            #print(indexEnd)\n",
    "            #plt.plot(data.position[trial][indexStart:indexEnd])\n",
    "        ValuesSessionTortuosity.append(tortuosity)\n",
    "        ValuesSessionStraightSpeed.append(straightSpeed)\n",
    "        \n",
    "    SessionTortuosity=np.nanmean(ValuesSessionTortuosity)\n",
    "    SessionStraightSpeed=np.nanmean(ValuesSessionStraightSpeed)\n",
    "    \n",
    "    plt.figure(figsize=(15,5))\n",
    "    \n",
    "    plt.subplot(121)\n",
    "    plt.plot(ValuesSessionTortuosity,\"ko\")\n",
    "    plt.ylabel(\"Tortuosity\")\n",
    "    plt.xlabel(\"trials over session\")    \n",
    "    #print(SessionStraightSpeed)\n",
    "    #plot\n",
    "    plt.subplot(122)\n",
    "    plt.plot(ValuesSessionStraightSpeed,\"ko\")\n",
    "    plt.ylabel(\"Straight Speed (cm/sec)\")\n",
    "    plt.xlabel(\"trials over session\")\n",
    "    if len(ValuesSessionStraightSpeed)>0:\n",
    "        yRange=[min(ValuesSessionStraightSpeed),max(ValuesSessionStraightSpeed)]\n",
    "        yRange=[yRange[0]-abs(0.1*yRange[0]),yRange[1]+abs(0.1*yRange[1])]\n",
    "    else:\n",
    "        yRange=[2,7]\n",
    "    plt.ylim(yRange)\n",
    "    return SessionTortuosity,SessionStraightSpeed\n",
    "\n",
    "#----------------------------------------------------------------------------------------------------------------------\n",
    "\n",
    "if \"__file__\" not in dir():\n",
    "    plt.figure(figsize=(15,5))\n",
    "    #plt.subplot(121)\n",
    "    #plot_position_align_end(data,onlyGood=False)\n",
    "    #plot_position_align_end_StereotypedTrials(data,onlyGood=False)\n",
    "    \n",
    "    x = plot_Tortuosity(data,onlyGood=False)\n",
    "    \n",
    "    #plt.xlim([0,25]),plt.ylim([0,25])\n"
   ]
  }
 ],
 "metadata": {
  "kernelspec": {
   "display_name": "Python [default]",
   "language": "python",
   "name": "python3"
  },
  "language_info": {
   "codemirror_mode": {
    "name": "ipython",
    "version": 3
   },
   "file_extension": ".py",
   "mimetype": "text/x-python",
   "name": "python",
   "nbconvert_exporter": "python",
   "pygments_lexer": "ipython3",
   "version": "3.5.2"
  }
 },
 "nbformat": 4,
 "nbformat_minor": 0
}
